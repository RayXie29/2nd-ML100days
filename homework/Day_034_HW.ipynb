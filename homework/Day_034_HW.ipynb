{
 "cells": [
  {
   "cell_type": "markdown",
   "metadata": {},
   "source": [
    "# 教學目標]\n",
    "學習使用 sklearn 中的 train_test_split 等套件，進行資料的切分 <br />\n",
    "<br />\n",
    "## [範例重點]\n",
    "了解函數中各個參數的意義 <br />\n",
    "<br />\n",
    "引入我們需要的套件 <br />\n",
    "<br />\n",
    "# 用 numpy 生成隨機資料\n",
    "<br />\n",
    "# 使用 train_test_split 函數進行切分\n",
    "請參考 train_test_split 函數的說明，了解函數裡的參數意義 <br />\n",
    "<br />\n",
    "test_size 一定只能小於 1 嗎？ <br />\n",
    "random_state 不設置會怎麼樣呢？<br />\n",
    "<br />\n",
    "<br />\n",
    "# 使用 K-fold Cross-validation 來切分資料<br />\n",
    "請參考 kf 函數的說明，了解參數中的意義。K 可根據資料大小自行決定，K=5 是蠻常用的大小<br />\n",
    "<br />\n",
    "如果使用 shuffle=True 會怎麼樣?<br />"
   ]
  },
  {
   "cell_type": "code",
   "execution_count": 1,
   "metadata": {},
   "outputs": [
    {
     "name": "stdout",
     "output_type": "stream",
     "text": [
      "Shape of X :  (10, 5)\n",
      "[[ 0  1  2  3  4]\n",
      " [ 5  6  7  8  9]\n",
      " [10 11 12 13 14]\n",
      " [15 16 17 18 19]\n",
      " [20 21 22 23 24]\n",
      " [25 26 27 28 29]\n",
      " [30 31 32 33 34]\n",
      " [35 36 37 38 39]\n",
      " [40 41 42 43 44]\n",
      " [45 46 47 48 49]]\n",
      "--------------------\n",
      "Shape of Y :  (10,)\n",
      "[1. 1. 1. 1. 1. 0. 0. 0. 0. 0.]\n",
      "--------------------\n",
      "[[35 36 37 38 39]\n",
      " [10 11 12 13 14]\n",
      " [45 46 47 48 49]\n",
      " [20 21 22 23 24]\n",
      " [15 16 17 18 19]\n",
      " [30 31 32 33 34]]\n",
      "[0. 1. 0. 1. 1. 0.]\n",
      "--------------------\n",
      "[[45 46 47 48 49]\n",
      " [15 16 17 18 19]\n",
      " [25 26 27 28 29]\n",
      " [35 36 37 38 39]\n",
      " [30 31 32 33 34]\n",
      " [ 5  6  7  8  9]]\n",
      "[0. 1. 0. 0. 0. 1.]\n",
      "--------------------\n",
      "FOLD 1 : \n",
      "train_index :  [0 1 2 3 4 5 8 9]\n",
      "test_index :  [6 7]\n",
      "x_test :  [[30 31 32 33 34]\n",
      " [35 36 37 38 39]]\n",
      "y_test :  [0. 0.]\n",
      "------------------------------\n",
      "FOLD 2 : \n",
      "train_index :  [0 2 4 5 6 7 8 9]\n",
      "test_index :  [1 3]\n",
      "x_test :  [[ 5  6  7  8  9]\n",
      " [15 16 17 18 19]]\n",
      "y_test :  [1. 1.]\n",
      "------------------------------\n",
      "FOLD 3 : \n",
      "train_index :  [0 1 3 4 5 6 7 8]\n",
      "test_index :  [2 9]\n",
      "x_test :  [[10 11 12 13 14]\n",
      " [45 46 47 48 49]]\n",
      "y_test :  [1. 0.]\n",
      "------------------------------\n",
      "FOLD 4 : \n",
      "train_index :  [1 2 3 5 6 7 8 9]\n",
      "test_index :  [0 4]\n",
      "x_test :  [[ 0  1  2  3  4]\n",
      " [20 21 22 23 24]]\n",
      "y_test :  [1. 1.]\n",
      "------------------------------\n",
      "FOLD 5 : \n",
      "train_index :  [0 1 2 3 4 6 7 9]\n",
      "test_index :  [5 8]\n",
      "x_test :  [[25 26 27 28 29]\n",
      " [40 41 42 43 44]]\n",
      "y_test :  [0. 0.]\n",
      "------------------------------\n"
     ]
    }
   ],
   "source": [
    "import numpy as np\n",
    "from sklearn.model_selection import train_test_split, KFold\n",
    "\n",
    "x = np.arange(50).reshape(10,5)\n",
    "y = np.zeros(10)\n",
    "\n",
    "y[:5] = 1\n",
    "print(\"Shape of X : \",x.shape)\n",
    "print(x)\n",
    "print('-' * 20)\n",
    "print(\"Shape of Y : \",y.shape)\n",
    "print(y)\n",
    "print('-' * 20)\n",
    "\n",
    "train_x,test_x,train_y,test_y = train_test_split(x,y,test_size = 0.33, random_state = 42)\n",
    "print(train_x)\n",
    "print(train_y)\n",
    "print('-'*20)\n",
    "train_x,test_x,train_y,test_y = train_test_split(x,y,test_size = 0.33)\n",
    "print(train_x)\n",
    "print(train_y)\n",
    "print('-'*20)\n",
    "\n",
    "#If we didnt set the random state, then the splited out data will have large change that different every time.\n",
    "\n",
    "kf = KFold(n_splits=5,shuffle = True)\n",
    "i = 0\n",
    "\n",
    "for train_index,test_index in kf.split(x):\n",
    "    i += 1\n",
    "    train_x,test_x = x[train_index],x[test_index]\n",
    "    train_y,test_y = y[train_index],y[test_index]\n",
    "    print(\"FOLD {} : \" .format(i))\n",
    "    print(\"train_index : \",train_index)\n",
    "    print(\"test_index : \",test_index)\n",
    "    print(\"x_test : \",test_x)\n",
    "    print(\"y_test : \",test_y)\n",
    "    print('-' * 30)\n",
    "    \n",
    "#If we turn on the shuffle in KFold, the output index will not follow the ascending order\n",
    "#But every fold in data will still be trained and tested"
   ]
  },
  {
   "cell_type": "markdown",
   "metadata": {},
   "source": [
    "# [作業重點]\n",
    "觀察函數說明，要如何切出固定大小的測試集? <br />\n",
    "<br />\n",
    "# 作業\n",
    "假設我們資料中類別的數量並不均衡，在評估準確率時可能會有所偏頗，試著切分出 y_test 中，0 類別與 1 類別的數量是一樣的 (亦即 y_test 的類別是均衡的)<br />"
   ]
  },
  {
   "cell_type": "code",
   "execution_count": 2,
   "metadata": {},
   "outputs": [
    {
     "name": "stdout",
     "output_type": "stream",
     "text": [
      "[1. 1. 1. 1. 1. 1. 1. 1. 1. 1. 1. 1. 1. 1. 1. 1. 1. 1. 1. 1. 1. 1. 1. 1.\n",
      " 1. 1. 1. 1. 1. 1. 1. 1. 1. 1. 1. 1. 1. 1. 1. 1. 0. 0. 0. 0. 0. 0. 0. 0.\n",
      " 0. 0. 0. 0. 0. 0. 0. 0. 0. 0. 0. 0. 0. 0. 0. 0. 0. 0. 0. 0. 0. 0. 0. 0.\n",
      " 0. 0. 0. 0. 0. 0. 0. 0. 0. 0. 0. 0. 0. 0. 0. 0. 0. 0. 0. 0. 0. 0. 0. 0.\n",
      " 0. 0. 0. 0. 0. 0. 0. 0. 0. 0. 0. 0. 0. 0. 0. 0. 0. 0. 0. 0. 0. 0. 0. 0.\n",
      " 0. 0. 0. 0. 0. 0. 0. 0. 0. 0. 0. 0. 0. 0. 0. 0. 0. 0. 0. 0. 0. 0. 0. 0.\n",
      " 0. 0. 0. 0. 0. 0. 0. 0. 0. 0. 0. 0. 0. 0. 0. 0. 0. 0. 0. 0. 0. 0. 0. 0.\n",
      " 0. 0. 0. 0. 0. 0. 0. 0. 0. 0. 0. 0. 0. 0. 0. 0. 0. 0. 0. 0. 0. 0. 0. 0.\n",
      " 0. 0. 0. 0. 0. 0. 0. 0.]\n"
     ]
    }
   ],
   "source": [
    "x = np.arange(1000).reshape(200,5)\n",
    "y = np.zeros(200)\n",
    "y[:40] = 1\n",
    "print(y)\n"
   ]
  },
  {
   "cell_type": "code",
   "execution_count": 7,
   "metadata": {},
   "outputs": [
    {
     "data": {
      "text/plain": [
       "array([1., 1., 1., 1., 1., 1., 1., 1., 1., 1., 0., 0., 0., 0., 0., 0., 0.,\n",
       "       0., 0., 0.])"
      ]
     },
     "execution_count": 7,
     "metadata": {},
     "output_type": "execute_result"
    }
   ],
   "source": [
    "train_x_0,test_x_0,train_y_0,test_y_0 = train_test_split(x[:40],y[:40],test_size = 10)\n",
    "train_x_1,test_x_1,train_y_1,test_y_1 = train_test_split(x[40:],y[40:],test_size = 10)\n",
    "\n",
    "train_x = np.concatenate((train_x_0,train_x_1), axis = 0)\n",
    "train_y = np.concatenate((train_y_0,train_y_1), axis = 0)\n",
    "test_x = np.concatenate((test_x_0,test_x_1), axis = 0)\n",
    "test_y = np.concatenate((test_y_0,test_y_1), axis = 0)\n",
    "\n",
    "test_y"
   ]
  },
  {
   "cell_type": "code",
   "execution_count": 9,
   "metadata": {},
   "outputs": [
    {
     "data": {
      "text/plain": [
       "array([1., 1., 1., 1., 1., 1., 1., 1., 1., 1., 1., 1., 1., 1., 1., 1., 1.,\n",
       "       1., 1., 1., 1., 1., 1., 1., 1., 1., 1., 1., 1., 1., 0., 0., 0., 0.,\n",
       "       0., 0., 0., 0., 0., 0., 0., 0., 0., 0., 0., 0., 0., 0., 0., 0., 0.,\n",
       "       0., 0., 0., 0., 0., 0., 0., 0., 0., 0., 0., 0., 0., 0., 0., 0., 0.,\n",
       "       0., 0., 0., 0., 0., 0., 0., 0., 0., 0., 0., 0., 0., 0., 0., 0., 0.,\n",
       "       0., 0., 0., 0., 0., 0., 0., 0., 0., 0., 0., 0., 0., 0., 0., 0., 0.,\n",
       "       0., 0., 0., 0., 0., 0., 0., 0., 0., 0., 0., 0., 0., 0., 0., 0., 0.,\n",
       "       0., 0., 0., 0., 0., 0., 0., 0., 0., 0., 0., 0., 0., 0., 0., 0., 0.,\n",
       "       0., 0., 0., 0., 0., 0., 0., 0., 0., 0., 0., 0., 0., 0., 0., 0., 0.,\n",
       "       0., 0., 0., 0., 0., 0., 0., 0., 0., 0., 0., 0., 0., 0., 0., 0., 0.,\n",
       "       0., 0., 0., 0., 0., 0., 0., 0., 0., 0.])"
      ]
     },
     "execution_count": 9,
     "metadata": {},
     "output_type": "execute_result"
    }
   ],
   "source": [
    "train_y"
   ]
  },
  {
   "cell_type": "code",
   "execution_count": null,
   "metadata": {},
   "outputs": [],
   "source": []
  }
 ],
 "metadata": {
  "kernelspec": {
   "display_name": "Python 3",
   "language": "python",
   "name": "python3"
  },
  "language_info": {
   "codemirror_mode": {
    "name": "ipython",
    "version": 3
   },
   "file_extension": ".py",
   "mimetype": "text/x-python",
   "name": "python",
   "nbconvert_exporter": "python",
   "pygments_lexer": "ipython3",
   "version": "3.7.3"
  }
 },
 "nbformat": 4,
 "nbformat_minor": 2
}
