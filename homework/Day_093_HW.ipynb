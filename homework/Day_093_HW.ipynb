{
 "cells": [
  {
   "cell_type": "markdown",
   "metadata": {},
   "source": [
    "# 目標:\n",
    "運用 Keras 模組建構CNN, 了解 CNN 的架構\n",
    "# 範例重點\n",
    "CNN 模型必要的: Convolution, Pooling, Flatten, Fully connection, Output, "
   ]
  },
  {
   "cell_type": "code",
   "execution_count": 4,
   "metadata": {},
   "outputs": [
    {
     "name": "stdout",
     "output_type": "stream",
     "text": [
      "2.2.4\n"
     ]
    }
   ],
   "source": [
    "import keras\n",
    "from keras import layers\n",
    "from keras import models\n",
    "from keras.layers import Dense, Activation, MaxPooling2D, Conv2D, Flatten\n",
    "\n",
    "print(keras.__version__)"
   ]
  },
  {
   "cell_type": "code",
   "execution_count": 5,
   "metadata": {},
   "outputs": [
    {
     "name": "stdout",
     "output_type": "stream",
     "text": [
      "_________________________________________________________________\n",
      "Layer (type)                 Output Shape              Param #   \n",
      "=================================================================\n",
      "input_2 (InputLayer)         (None, 28, 28, 1)         0         \n",
      "_________________________________________________________________\n",
      "conv2d_3 (Conv2D)            (None, 26, 26, 32)        320       \n",
      "_________________________________________________________________\n",
      "max_pooling2d_3 (MaxPooling2 (None, 13, 13, 32)        0         \n",
      "_________________________________________________________________\n",
      "conv2d_4 (Conv2D)            (None, 11, 11, 25)        7225      \n",
      "_________________________________________________________________\n",
      "max_pooling2d_4 (MaxPooling2 (None, 5, 5, 25)          0         \n",
      "_________________________________________________________________\n",
      "flatten_1 (Flatten)          (None, 625)               0         \n",
      "_________________________________________________________________\n",
      "dense_1 (Dense)              (None, 100)               62600     \n",
      "_________________________________________________________________\n",
      "activation_1 (Activation)    (None, 100)               0         \n",
      "_________________________________________________________________\n",
      "dense_2 (Dense)              (None, 10)                1010      \n",
      "_________________________________________________________________\n",
      "activation_2 (Activation)    (None, 10)                0         \n",
      "=================================================================\n",
      "Total params: 71,155\n",
      "Trainable params: 71,155\n",
      "Non-trainable params: 0\n",
      "_________________________________________________________________\n"
     ]
    }
   ],
   "source": [
    "input_shape = (28,28,1)\n",
    "input_layer = layers.Input(input_shape)\n",
    "x = Conv2D(filters = 32, kernel_size = (3,3)) (input_layer)\n",
    "x = MaxPooling2D(pool_size = (2,2))(x)\n",
    "x = Conv2D(filters = 25, kernel_size = (3,3))(x)\n",
    "x = MaxPooling2D(pool_size = (2,2))(x)\n",
    "x = Flatten()(x)\n",
    "x = Dense(units = 100)(x)\n",
    "x = Activation('relu')(x)\n",
    "x = Dense(units = 10)(x)\n",
    "output_layer = Activation('softmax')(x)\n",
    "\n",
    "model = models.Model(inputs = [input_layer], outputs = [output_layer])\n",
    "model.summary()"
   ]
  },
  {
   "cell_type": "markdown",
   "metadata": {},
   "source": [
    "# 作業目標:\n",
    "運用 Keras 模組建構CNN, 了解 CNN 的架構 <br />\n",
    "\n",
    "# 作業重點\n",
    "(1)嘗試比對 Dense 與 layers.Conv2D 架構NN 的差異<br />\n",
    "<br />\n",
    "(2) 有沒有Pooling layer, 對於參數量的差異<br />\n",
    "<br />\n",
    "注意: input_shape 請勿修改"
   ]
  },
  {
   "cell_type": "code",
   "execution_count": 10,
   "metadata": {},
   "outputs": [
    {
     "name": "stdout",
     "output_type": "stream",
     "text": [
      "_________________________________________________________________\n",
      "Layer (type)                 Output Shape              Param #   \n",
      "=================================================================\n",
      "input_6 (InputLayer)         (None, 784, 1)            0         \n",
      "_________________________________________________________________\n",
      "dense_15 (Dense)             (None, 784, 32)           64        \n",
      "_________________________________________________________________\n",
      "dense_16 (Dense)             (None, 784, 25)           825       \n",
      "_________________________________________________________________\n",
      "dense_17 (Dense)             (None, 784, 100)          2600      \n",
      "_________________________________________________________________\n",
      "activation_9 (Activation)    (None, 784, 100)          0         \n",
      "_________________________________________________________________\n",
      "dense_18 (Dense)             (None, 784, 10)           1010      \n",
      "_________________________________________________________________\n",
      "activation_10 (Activation)   (None, 784, 10)           0         \n",
      "=================================================================\n",
      "Total params: 4,499\n",
      "Trainable params: 4,499\n",
      "Non-trainable params: 0\n",
      "_________________________________________________________________\n"
     ]
    }
   ],
   "source": [
    "# Dense NN\n",
    "input_shape2 = (784,1)\n",
    "input_layer2 =  layers.Input(input_shape2)\n",
    "x = Dense(units = 32)(input_layer2)\n",
    "x = Dense(units = 25)(x)\n",
    "x = Dense(units = 100)(x)\n",
    "x = Activation('relu')(x)\n",
    "x = Dense(units = 10)(x)\n",
    "output_layer2 = Activation('softmax')(x)\n",
    "\n",
    "model2 = models.Model(inputs = [input_layer2], outputs = [output_layer2])\n",
    "model2.summary()"
   ]
  },
  {
   "cell_type": "code",
   "execution_count": 11,
   "metadata": {},
   "outputs": [
    {
     "name": "stdout",
     "output_type": "stream",
     "text": [
      "_________________________________________________________________\n",
      "Layer (type)                 Output Shape              Param #   \n",
      "=================================================================\n",
      "input_7 (InputLayer)         (None, 28, 28, 1)         0         \n",
      "_________________________________________________________________\n",
      "conv2d_5 (Conv2D)            (None, 26, 26, 32)        320       \n",
      "_________________________________________________________________\n",
      "conv2d_6 (Conv2D)            (None, 24, 24, 25)        7225      \n",
      "_________________________________________________________________\n",
      "flatten_2 (Flatten)          (None, 14400)             0         \n",
      "_________________________________________________________________\n",
      "dense_19 (Dense)             (None, 100)               1440100   \n",
      "_________________________________________________________________\n",
      "activation_11 (Activation)   (None, 100)               0         \n",
      "_________________________________________________________________\n",
      "dense_20 (Dense)             (None, 10)                1010      \n",
      "_________________________________________________________________\n",
      "activation_12 (Activation)   (None, 10)                0         \n",
      "=================================================================\n",
      "Total params: 1,448,655\n",
      "Trainable params: 1,448,655\n",
      "Non-trainable params: 0\n",
      "_________________________________________________________________\n"
     ]
    }
   ],
   "source": [
    "#CNN without maxpooling\n",
    "input_shape3 = (28,28,1)\n",
    "input_layer3 = layers.Input(input_shape3)\n",
    "x = Conv2D(filters = 32, kernel_size = (3,3)) (input_layer3)\n",
    "x = Conv2D(filters = 25, kernel_size = (3,3))(x)\n",
    "x = Flatten()(x)\n",
    "x = Dense(units = 100)(x)\n",
    "x = Activation('relu')(x)\n",
    "x = Dense(units = 10)(x)\n",
    "output_layer3 = Activation('softmax')(x)\n",
    "\n",
    "model = models.Model(inputs = [input_layer3], outputs = [output_layer3])\n",
    "model.summary()"
   ]
  },
  {
   "cell_type": "code",
   "execution_count": null,
   "metadata": {},
   "outputs": [],
   "source": []
  }
 ],
 "metadata": {
  "kernelspec": {
   "display_name": "Python 3",
   "language": "python",
   "name": "python3"
  },
  "language_info": {
   "codemirror_mode": {
    "name": "ipython",
    "version": 3
   },
   "file_extension": ".py",
   "mimetype": "text/x-python",
   "name": "python",
   "nbconvert_exporter": "python",
   "pygments_lexer": "ipython3",
   "version": "3.7.3"
  }
 },
 "nbformat": 4,
 "nbformat_minor": 2
}
