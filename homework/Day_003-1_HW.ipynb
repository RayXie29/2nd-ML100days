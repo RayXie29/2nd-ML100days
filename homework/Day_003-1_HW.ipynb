{
 "cells": [
  {
   "cell_type": "code",
   "execution_count": 1,
   "metadata": {},
   "outputs": [],
   "source": [
    "import numpy as np\n",
    "import pandas as pd"
   ]
  },
  {
   "cell_type": "code",
   "execution_count": null,
   "metadata": {},
   "outputs": [],
   "source": []
  },
  {
   "cell_type": "code",
   "execution_count": 2,
   "metadata": {},
   "outputs": [
    {
     "name": "stdout",
     "output_type": "stream",
     "text": [
      "countries:  ['China' 'Koera' 'Taiwan' 'American' 'Thailand' 'Canada' 'Japan']\n",
      "population:  [ 36581853 100242647   3320066 113793502  10177942  73078558  14686523]\n"
     ]
    }
   ],
   "source": [
    "country_list = np.array(['Taiwan','American','Japan','China','Thailand','Canada','Koera'],dtype = str)\n",
    "np.random.shuffle(country_list)\n",
    "population_list = np.random.randint(130000000,size = len(country_list))\n",
    "print('countries: ', country_list)\n",
    "print('population: ', population_list)"
   ]
  },
  {
   "cell_type": "code",
   "execution_count": 3,
   "metadata": {},
   "outputs": [],
   "source": [
    "dataDict = {'country':country_list,'population':population_list}"
   ]
  },
  {
   "cell_type": "code",
   "execution_count": 4,
   "metadata": {},
   "outputs": [],
   "source": [
    "df = pd.DataFrame(dataDict)"
   ]
  },
  {
   "cell_type": "code",
   "execution_count": 5,
   "metadata": {},
   "outputs": [
    {
     "name": "stdout",
     "output_type": "stream",
     "text": [
      "    country  population\n",
      "0     China    36581853\n",
      "1     Koera   100242647\n",
      "2    Taiwan     3320066\n",
      "3  American   113793502\n",
      "4  Thailand    10177942\n",
      "5    Canada    73078558\n",
      "6     Japan    14686523\n"
     ]
    }
   ],
   "source": [
    "print(df)"
   ]
  },
  {
   "cell_type": "code",
   "execution_count": 13,
   "metadata": {},
   "outputs": [
    {
     "name": "stdout",
     "output_type": "stream",
     "text": [
      "largest population country: American\n",
      "population: 113793502\n"
     ]
    }
   ],
   "source": [
    "print(\"largest population country:\", df.country.iloc[df.population.idxmax()])\n",
    "print(\"population:\",df.population.max())\n"
   ]
  },
  {
   "cell_type": "code",
   "execution_count": null,
   "metadata": {},
   "outputs": [],
   "source": []
  }
 ],
 "metadata": {
  "kernelspec": {
   "display_name": "Python 3",
   "language": "python",
   "name": "python3"
  },
  "language_info": {
   "codemirror_mode": {
    "name": "ipython",
    "version": 3
   },
   "file_extension": ".py",
   "mimetype": "text/x-python",
   "name": "python",
   "nbconvert_exporter": "python",
   "pygments_lexer": "ipython3",
   "version": "3.7.3"
  }
 },
 "nbformat": 4,
 "nbformat_minor": 2
}
