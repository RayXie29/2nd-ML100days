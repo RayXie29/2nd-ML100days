{
 "cells": [
  {
   "cell_type": "markdown",
   "metadata": {},
   "source": [
    "# 課程目標:\n",
    "了解反向傳播的原理與在神經網路推倒過程中的作用 <br />\n",
    "# 範例重點:\n",
    "(1)自定義神經網路架構 <br />\n",
    "<br />\n",
    "(2) 初始值設定<br />\n",
    "<br />\n",
    "(3) 使用範例"
   ]
  },
  {
   "cell_type": "code",
   "execution_count": 1,
   "metadata": {},
   "outputs": [],
   "source": [
    "class mul_layer():\n",
    "    def _init_(self):\n",
    "        self.x = None\n",
    "        self.y = None\n",
    "    def forward(self, x, y):\n",
    "        self.x = x \n",
    "        self.y = y\n",
    "        return x*y\n",
    "    def backward(self, dout):\n",
    "        dx = dout * self.y\n",
    "        dy = dout * self.x\n",
    "        \n",
    "        return dx, dy"
   ]
  },
  {
   "cell_type": "code",
   "execution_count": 2,
   "metadata": {},
   "outputs": [],
   "source": [
    "#setting initial values\n",
    "n_x = 2\n",
    "price_y = 100\n",
    "b_tax = 1.1\n",
    "\n",
    "#build the network\n",
    "mul_fruit_layer = mul_layer()\n",
    "mul_tax_layer = mul_layer()"
   ]
  },
  {
   "cell_type": "markdown",
   "metadata": {},
   "source": [
    "# 以購買水果為例:\n",
    "付費總價格是根據水果價格, 稅金變動而受影響 <br />\n",
    "<br />\n",
    "水果價格是根據購買數量與單品價格而變動<br />\n",
    "<br />\n",
    "可以利用每一個cell (cell - 1: 水果價格; cell - 2: 付費總價格), 推導微分的結果"
   ]
  },
  {
   "cell_type": "code",
   "execution_count": 4,
   "metadata": {},
   "outputs": [],
   "source": [
    "fruit_price = mul_fruit_layer.forward(n_x, price_y)\n",
    "total_price = mul_tax_layer.forward(fruit_price, b_tax)\n",
    "\n",
    "#backward\n",
    "dtotal_price = 1\n",
    "d_fruit_price, d_b_tax = mul_tax_layer.backward(dtotal_price)\n",
    "d_price_y, d_n_x = mul_fruit_layer.backward(d_fruit_price)"
   ]
  },
  {
   "cell_type": "code",
   "execution_count": 5,
   "metadata": {},
   "outputs": [
    {
     "name": "stdout",
     "output_type": "stream",
     "text": [
      "fruit price: 200\n",
      "針對所有水果價格微分, 得到 TAX: 1.100000\n"
     ]
    }
   ],
   "source": [
    "#result\n",
    "print(\"fruit price: %i\"%fruit_price)\n",
    "print(\"針對所有水果價格微分, 得到 TAX: %2f\" %d_fruit_price)"
   ]
  },
  {
   "cell_type": "markdown",
   "metadata": {},
   "source": [
    "# BP 演算法訓練的神經網路\n",
    "目標: 嘗試著用輸入去預測輸出, 了解權重的更新 <br />\n",
    "<br />\n",
    "考慮以上情形： 給定三列輸入，試著去預測對應的一列輸出。<br />\n",
    "<br />\n",
    "我們可以通過簡單測量輸入與輸出值的資料來解決這一問題。<br />\n",
    "<br />\n",
    "最左邊的一列輸入值和輸出值是完美匹配/完全相關的。<br />\n",
    "<br />\n",
    "反向傳播演算法便是通過這種方式來衡量資料間統計關係進而得到模型的。<br />\n",
    "<br />\n",
    "# 參數定義\n",
    "X 輸入資料集，形式為矩陣，每 1 行代表 1 個訓練樣本。<br />\n",
    "<br />\n",
    "y 輸出資料集，形式為矩陣，每 1 行代表 1 個訓練樣本。<br />\n",
    "<br />\n",
    "l0 網路第 1 層，即網路輸入層。<br />\n",
    "<br />\n",
    "l1 網路第 2 層，常稱作隱藏層。<br />\n",
    "<br />\n",
    "syn0 第一層權值，突觸 0 ，連接 l0 層與 l1 層。<br />\n",
    "<br />\n",
    "逐元素相乘，故兩等長向量相乘等同於其對等元素分別相乘，結果為同等長度的向量。<br />\n",
    "– 元素相減，故兩等長向量相減等同於其對等元素分別相減，結果為同等長度的向量。<br />\n",
    "<br />\n",
    "x.dot(y) 若 x 和 y 為向量，則進行點積操作；若均為矩陣，則進行矩陣相乘操作；若其中之一為矩陣，則進行向量與矩陣相乘操作。<br />"
   ]
  },
  {
   "cell_type": "code",
   "execution_count": 126,
   "metadata": {},
   "outputs": [],
   "source": [
    "import numpy as np\n",
    "\n",
    "def sigmoid(x, deriv = False):\n",
    "    if deriv == True:\n",
    "        return np.exp(-x) / (1 + np.exp(-x)) ** 2\n",
    "    return 1 / (1 + np.exp(-x))\n",
    "\n",
    "#input data\n",
    "#3 input nodes, 4 training examples\n",
    "x = np.array([  [0,0,1],\n",
    "                     [0,1,1],\n",
    "                     [1,0,1],\n",
    "                     [1,1,1]  ])\n",
    "\n",
    "#define output dataset\n",
    "y = np.array([[0,0,1,1]]).T\n",
    "\n",
    "np.random.seed(1)\n",
    "\n",
    "#initialize weights randomly with mean 0\n",
    "syn0 = 2 * np.random.random((3,1)) - 1\n",
    "iteration = 0\n",
    "syn0_history = [syn0]"
   ]
  },
  {
   "cell_type": "markdown",
   "metadata": {},
   "source": [
    "# 神經網路訓練\n",
    "for 迴圈反覆運算式地多次執行訓練代碼，使得我們的網路能更好地擬合訓練集"
   ]
  },
  {
   "cell_type": "code",
   "execution_count": 21,
   "metadata": {},
   "outputs": [
    {
     "name": "stdout",
     "output_type": "stream",
     "text": [
      "output after training:\n",
      "\n",
      "\n",
      "[[0.00966449]\n",
      " [0.00786506]\n",
      " [0.99358898]\n",
      " [0.99211957]]\n"
     ]
    }
   ],
   "source": [
    "for iteration in range(10000):\n",
    "    # forward propagation\n",
    "    l0 = x # 4 * 3 array\n",
    "    l1 = sigmoid(np.dot(l0, syn0)) # sigmoid( 4*3 dot 3 * 1 = 4 * 1 array), calculate the sigmoid output of l0 inputs with weighting\n",
    "    \n",
    "    \n",
    "    # how much did we miss\n",
    "    l1_error  = y - l1\n",
    "    \n",
    "    #multiply how much we missed by the\n",
    "    #slope of the sigmoid at the values in l1\n",
    "    \n",
    "    l1_delta = l1_error * sigmoid(l1, True)\n",
    "    \n",
    "    #update weights\n",
    "    syn0 += np.dot(l0.T,l1_delta)\n",
    "\n",
    "    \n",
    "\n",
    "print(\"output after training:\")\n",
    "print(\"\\n\")\n",
    "print(l1)"
   ]
  },
  {
   "cell_type": "code",
   "execution_count": 22,
   "metadata": {},
   "outputs": [
    {
     "data": {
      "image/png": "[encoded data removed]",
      "text/plain": [
       "<Figure size 432x288 with 1 Axes>"
      ]
     },
     "metadata": {
      "needs_background": "light"
     },
     "output_type": "display_data"
    }
   ],
   "source": [
    "import matplotlib.pyplot as plt\n",
    "%matplotlib inline\n",
    "\n",
    "plt.plot(syn0_history[0], ms=3, lw=1.5, color = 'b')\n",
    "plt.xlabel('l1', fontsize = 16)\n",
    "plt.show()"
   ]
  },
  {
   "cell_type": "code",
   "execution_count": 23,
   "metadata": {},
   "outputs": [
    {
     "data": {
      "text/plain": [
       "array([[ 9.67299303],\n",
       "       [-0.2078435 ],\n",
       "       [-4.62963669]])"
      ]
     },
     "execution_count": 23,
     "metadata": {},
     "output_type": "execute_result"
    }
   ],
   "source": [
    "syn0_history[0]"
   ]
  },
  {
   "cell_type": "markdown",
   "metadata": {},
   "source": [
    "# 作業目標:\n",
    "通過建立多層的神經網路, 了解權值矩陣更新 <br />\n",
    "# 作業重點:\n",
    "3 層神經網路<br />\n",
    "<br />\n",
    "通過增加更多的中間層，以對更多關係的組合進行建模<br />\n",
    "<br />\n",
    "syn1 權值矩陣將隱層的組合輸出映射到最終結果，<br />\n",
    "<br />\n",
    "而在更新 syn1 的同時，還需要更新 syn0 權值矩陣，<br />\n",
    "<br />\n",
    "以從輸入資料中更好地產生這些組合"
   ]
  },
  {
   "cell_type": "code",
   "execution_count": 130,
   "metadata": {},
   "outputs": [],
   "source": [
    "\n",
    "x = np.array([  [0,0,1],\n",
    "                     [0,1,1],\n",
    "                     [1,0,1],\n",
    "                     [1,1,1]  ])\n",
    "\n",
    "y = np.array( [[0,0,1,1]]).T\n",
    "\n",
    "iterations = 0\n",
    "syn0 = 2 * np.random.random((3,2)) - 1\n",
    "syn1 = 2 * np.random.random((2,1)) - 1\n"
   ]
  },
  {
   "cell_type": "code",
   "execution_count": 131,
   "metadata": {},
   "outputs": [
    {
     "name": "stdout",
     "output_type": "stream",
     "text": [
      "Output After Training:\n",
      "[[0.1815507  0.89214247]\n",
      " [0.16816358 0.91041467]\n",
      " [0.92511875 0.04263467]\n",
      " [0.91842942 0.05187628]]\n",
      "\n",
      "\n",
      "\n",
      "[[0.00563846]\n",
      " [0.00458601]\n",
      " [0.99452722]\n",
      " [0.99392776]]\n"
     ]
    }
   ],
   "source": [
    "for iteration in range(10000):\n",
    "    \n",
    "    #Forward pass\n",
    "    \n",
    "    # np.dot(l0, syn0) = z (ex: w1x1+w2x2+w3x3 = z1[0], w4x1+w5x2+w6x3 = z1[1])\n",
    "    # sigmoid(z1)  -> activation function\n",
    "    # assume sigmoid(z) = a(z)\n",
    "    # np.dot(a1,syn1) = z2 (ex: a(z1)*w7 + a(z2)*w8 = z2)\n",
    "    # a(z2) = sigmoid(z2) = output\n",
    "    l0 = x\n",
    "    z1 = np.dot(l0, syn0)\n",
    "    a1 = sigmoid(z1)\n",
    "    z2 = np.dot(a1,syn1)\n",
    "    a2 = sigmoid(z2)\n",
    "    \n",
    "    #l2_loss = dC/dy (C->cost function)\n",
    "    l2_loss = y - a2\n",
    "    #l2_delta = dC/dz2 =  dC/dy * dy/dz2 = dC/dy * da2/dz2 = dC/dy * dsigmoid(z2)\n",
    "    l2_delta = l2_loss * sigmoid(z2,True)\n",
    "\n",
    "    #l1_delta = dC/dz1 = dC/da1 * da1/dz1 = dC/da1 * dsigmoid(z1)\n",
    "    #dC/da = l1_loss = dC/dz2 * dz2/da1 = l2_delta * syn1(weighting 1)\n",
    "    \n",
    "    l1_loss = np.dot(l2_delta,syn1.T)\n",
    "\n",
    "    l1_delta = l1_loss *sigmoid(z1,True)\n",
    "    \n",
    "    #weighting 1 = weighting 1 - dC/dweighting 1 \n",
    "   #dC/dweighting 1 = dC/dsyn1 = dC/dz2 * dz2/dsyn1 = l2_delta * a2\n",
    "    \n",
    "    syn1 += np.dot(a1.T, l2_delta)\n",
    "    syn0 += np.dot(l0.T, l1_delta)\n",
    "                   \n",
    "    \n",
    "print(\"Output After Training:\")\n",
    "print(a1)\n",
    "print(\"\\n\\n\")\n",
    "print(a2)"
   ]
  },
  {
   "cell_type": "code",
   "execution_count": null,
   "metadata": {},
   "outputs": [],
   "source": []
  }
 ],
 "metadata": {
  "kernelspec": {
   "display_name": "Python 3",
   "language": "python",
   "name": "python3"
  },
  "language_info": {
   "codemirror_mode": {
    "name": "ipython",
    "version": 3
   },
   "file_extension": ".py",
   "mimetype": "text/x-python",
   "name": "python",
   "nbconvert_exporter": "python",
   "pygments_lexer": "ipython3",
   "version": "3.7.3"
  }
 },
 "nbformat": 4,
 "nbformat_minor": 2
}
