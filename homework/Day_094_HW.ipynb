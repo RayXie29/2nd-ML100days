{
  "nbformat": 4,
  "nbformat_minor": 0,
  "metadata": {
    "kernelspec": {
      "display_name": "Python 3",
      "language": "python",
      "name": "python3"
    },
    "language_info": {
      "codemirror_mode": {
        "name": "ipython",
        "version": 3
      },
      "file_extension": ".py",
      "mimetype": "text/x-python",
      "name": "python",
      "nbconvert_exporter": "python",
      "pygments_lexer": "ipython3",
      "version": "3.7.3"
    },
    "colab": {
      "name": "Day_094_HW.ipynb",
      "version": "0.3.2",
      "provenance": [],
      "collapsed_sections": []
    }
  },
  "cells": [
    {
      "cell_type": "markdown",
      "metadata": {
        "id": "e0YeM2mNYIa-",
        "colab_type": "text"
      },
      "source": [
        "# 教學目標:\n",
        "了解 Convolution 卷積的組成 <br />\n",
        "\n",
        "# 範例內容:\n",
        "定義單步的卷積 <br />\n",
        "<br />\n",
        "輸出卷積的計算值<br />"
      ]
    },
    {
      "cell_type": "code",
      "metadata": {
        "id": "xWjkUqfCYIbB",
        "colab_type": "code",
        "colab": {}
      },
      "source": [
        "import numpy as np"
      ],
      "execution_count": 0,
      "outputs": []
    },
    {
      "cell_type": "code",
      "metadata": {
        "id": "jT8jNm_8YIbM",
        "colab_type": "code",
        "colab": {}
      },
      "source": [
        "#graded function : conv_single_step\n",
        "\n",
        "def conv_single_step(a_slice_prev, w, b):\n",
        "    \"\"\"\n",
        "    a_slice_prev : input data dimension\n",
        "    w : weights \n",
        "    b : bias\n",
        "    \n",
        "    return z : the convolution result of sliding window (w,b) on prev feature map\n",
        "    \"\"\"\n",
        "    \n",
        "    s = a_slice_prev * w\n",
        "    z = np.sum(s)\n",
        "    z = float(z + b)\n",
        "    \n",
        "    return z"
      ],
      "execution_count": 0,
      "outputs": []
    },
    {
      "cell_type": "code",
      "metadata": {
        "id": "u3GCyu9oYIbS",
        "colab_type": "code",
        "outputId": "1d5cfcaf-3bbf-4289-e65e-fa01d551ddb6",
        "colab": {
          "base_uri": "https://localhost:8080/",
          "height": 76
        }
      },
      "source": [
        "'''\n",
        "seed( ) 用於指定隨機數生成時所用算法開始的整數值，\n",
        "如果使用相同的seed( )值，則每次生成的隨即數都相同，\n",
        "如果不設置這個值，則係統根據時間來自己選擇這個值，\n",
        "此時每次生成的隨機數因時間差異而不同。\n",
        "'''\n",
        "\n",
        "np.random.seed(1)\n",
        "#define a 4x4x3 feature map\n",
        "a_slice_prev = np.random.randn(4,4,3)\n",
        "w = np.random.randn(4,4,3)\n",
        "b = np.random.randn(1,1,1)\n",
        "\n",
        "\n",
        "z = conv_single_step(a_slice_prev, w, b)\n",
        "print(f' z = {z}')"
      ],
      "execution_count": 5,
      "outputs": [
        {
          "output_type": "stream",
          "text": [
            " z = -6.999089450680221\n"
          ],
          "name": "stdout"
        }
      ]
    },
    {
      "cell_type": "markdown",
      "metadata": {
        "id": "bnucQbScum0p",
        "colab_type": "text"
      },
      "source": [
        "# 作業目標:\n",
        "了解 Convolution 卷積的組成 <br />\n",
        "# 作業重點:\n",
        "修改 a_slice_prev, 檢查 Z 的輸出<br />"
      ]
    },
    {
      "cell_type": "code",
      "metadata": {
        "id": "KM3SUIeJYIbb",
        "colab_type": "code",
        "colab": {}
      },
      "source": [
        "#Assume the image is square\n",
        "def conv_single_filter(a_slice_prev, kernel, b):\n",
        "  \n",
        "    feature_map_size = a_slice_prev.shape[0] - kernel.shape[0] + 1\n",
        "    feature_map = np.zeros(feature_map_size ** 2)\n",
        "    \n",
        "    kernel_size = kernel.shape[0]\n",
        "    image_size = a_slice_prev.shape[0]\n",
        "    feature_idx = 0\n",
        "    for i in range(image_size - kernel_size + 1):\n",
        "      for j in range(image_size- kernel_size + 1):\n",
        "        part_img = a_slice_prev[i:kernel_size+i, j:kernel_size+j]\n",
        "        s = part_img * kernel\n",
        "        feature_map[feature_idx] = np.sum(s)\n",
        "        feature_map[feature_idx] = float(feature_map[feature_idx] + b)\n",
        "        feature_idx += 1\n",
        "\n",
        "    return feature_map.reshape(feature_map_size, feature_map_size)\n",
        "  \n",
        "  \n",
        "  \n",
        "  \n",
        "  \n",
        "  \n",
        "  "
      ],
      "execution_count": 0,
      "outputs": []
    },
    {
      "cell_type": "code",
      "metadata": {
        "id": "rUCCbnIZwvUT",
        "colab_type": "code",
        "colab": {
          "base_uri": "https://localhost:8080/",
          "height": 375
        },
        "outputId": "6115d80f-2dcf-4e55-9317-3a2c4671c663"
      },
      "source": [
        "np.random.seed(1)\n",
        "a_slice_prev = np.random.randn(6,6,1)\n",
        "kernel = np.ones((3,3,1), dtype = int)\n",
        "b = np.random.randn(1,1,1)\n",
        "\n",
        "feature_map = conv_single_filter(a_slice_prev, kernel, b)\n",
        "\n",
        "print(\"Image:\")\n",
        "print(a_slice_prev.reshape(6,6))\n",
        "print(\"-\"*10)\n",
        "print(\"kernel:\")\n",
        "print(kernel.reshape(3,3))\n",
        "print(\"-\"*10)\n",
        "print(\"Convolution result:\")\n",
        "print(feature_map)"
      ],
      "execution_count": 36,
      "outputs": [
        {
          "output_type": "stream",
          "text": [
            "Image:\n",
            "[[ 1.62434536 -0.61175641 -0.52817175 -1.07296862  0.86540763 -2.3015387 ]\n",
            " [ 1.74481176 -0.7612069   0.3190391  -0.24937038  1.46210794 -2.06014071]\n",
            " [-0.3224172  -0.38405435  1.13376944 -1.09989127 -0.17242821 -0.87785842]\n",
            " [ 0.04221375  0.58281521 -1.10061918  1.14472371  0.90159072  0.50249434]\n",
            " [ 0.90085595 -0.68372786 -0.12289023 -0.93576943 -0.26788808  0.53035547]\n",
            " [-0.69166075 -0.39675353 -0.6871727  -0.84520564 -0.67124613 -0.0126646 ]]\n",
            "----------\n",
            "kernel:\n",
            "[[1 1 1]\n",
            " [1 1 1]\n",
            " [1 1 1]]\n",
            "----------\n",
            "Convolution result:\n",
            "[[ 1.09704869 -4.3719215  -0.45981647 -6.62399108]\n",
            " [ 0.13704128 -1.53210496  1.22161153 -1.56608262]\n",
            " [-1.07136482 -2.5829543  -1.63671287 -1.39198152]\n",
            " [-3.27424968 -4.16190999 -3.70178731 -0.77092   ]]\n"
          ],
          "name": "stdout"
        }
      ]
    },
    {
      "cell_type": "code",
      "metadata": {
        "id": "nGkBE9GQ0WKz",
        "colab_type": "code",
        "colab": {}
      },
      "source": [
        ""
      ],
      "execution_count": 0,
      "outputs": []
    }
  ]
}