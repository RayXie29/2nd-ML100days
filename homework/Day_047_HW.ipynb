{
 "cells": [
  {
   "cell_type": "markdown",
   "metadata": {},
   "source": [
    "# [範例重點]\n",
    "了解 sklearn 中，GridSearchCV 的使用方法與原理"
   ]
  },
  {
   "cell_type": "code",
   "execution_count": 30,
   "metadata": {},
   "outputs": [],
   "source": [
    "import numpy as np\n",
    "from sklearn import datasets, metrics\n",
    "from sklearn.ensemble import GradientBoostingRegressor\n",
    "from sklearn.model_selection import train_test_split, KFold, GridSearchCV\n",
    "import warnings \n",
    "\n",
    "warnings.filterwarnings('ignore')"
   ]
  },
  {
   "cell_type": "code",
   "execution_count": 31,
   "metadata": {},
   "outputs": [
    {
     "name": "stdout",
     "output_type": "stream",
     "text": [
      " score : 8.927816260948038 \n"
     ]
    }
   ],
   "source": [
    "boston = datasets.load_boston()\n",
    "x_train, x_test, y_train, y_test = train_test_split(boston.data, boston.target, test_size = 0.25, random_state = 42)\n",
    "\n",
    "clf = GradientBoostingRegressor()\n",
    "clf.fit(x_train,y_train)\n",
    "pred = clf.predict(x_test)\n",
    "\n",
    "print(f' score : {metrics.mean_squared_error(pred, y_test)} ')"
   ]
  },
  {
   "cell_type": "code",
   "execution_count": 34,
   "metadata": {},
   "outputs": [
    {
     "name": "stdout",
     "output_type": "stream",
     "text": [
      " best score : 12.562401404013583 , best param : {'max_depth': 3, 'n_estimators': 200} \n"
     ]
    }
   ],
   "source": [
    "n_estimators = [100,200,300]\n",
    "max_depth = [1,3,5]\n",
    "param_grid = dict(n_estimators = n_estimators, max_depth = max_depth)\n",
    "\n",
    "gs = GridSearchCV(clf,param_grid, scoring = 'neg_mean_squared_error', n_jobs = -1, verbose = 0)\n",
    "gs_result = gs.fit(x_train,y_train)\n",
    "\n",
    "print(f' best score : {-1*gs_result.best_score_} , best param : {gs_result.best_params_} ' )"
   ]
  },
  {
   "cell_type": "code",
   "execution_count": 35,
   "metadata": {},
   "outputs": [
    {
     "name": "stdout",
     "output_type": "stream",
     "text": [
      " score after parameter tuning : 8.930458085862195 \n"
     ]
    }
   ],
   "source": [
    "clf = GradientBoostingRegressor(**gs_result.best_params_)\n",
    "clf.fit(x_train,y_train)\n",
    "pred = clf.predict(x_test)\n",
    "\n",
    "print(f' score after parameter tuning : {metrics.mean_squared_error(pred, y_test)} ')"
   ]
  },
  {
   "cell_type": "markdown",
   "metadata": {},
   "source": [
    "# [作業重點]\n",
    "了解如何使用 Sklearn 中的 hyper-parameter search 找出最佳的超參數\n",
    "\n",
    "# 作業\n",
    "請使用不同的資料集，並使用 hyper-parameter search 的方式，看能不能找出最佳的超參數組合"
   ]
  },
  {
   "cell_type": "code",
   "execution_count": 36,
   "metadata": {},
   "outputs": [
    {
     "name": "stdout",
     "output_type": "stream",
     "text": [
      "   alcohol  malic_acid   ash  alcalinity_of_ash  magnesium  total_phenols  \\\n",
      "0    14.23        1.71  2.43               15.6      127.0           2.80   \n",
      "1    13.20        1.78  2.14               11.2      100.0           2.65   \n",
      "2    13.16        2.36  2.67               18.6      101.0           2.80   \n",
      "3    14.37        1.95  2.50               16.8      113.0           3.85   \n",
      "4    13.24        2.59  2.87               21.0      118.0           2.80   \n",
      "\n",
      "   flavanoids  nonflavanoid_phenols  proanthocyanins  color_intensity   hue  \\\n",
      "0        3.06                  0.28             2.29             5.64  1.04   \n",
      "1        2.76                  0.26             1.28             4.38  1.05   \n",
      "2        3.24                  0.30             2.81             5.68  1.03   \n",
      "3        3.49                  0.24             2.18             7.80  0.86   \n",
      "4        2.69                  0.39             1.82             4.32  1.04   \n",
      "\n",
      "   od280/od315_of_diluted_wines  proline  \n",
      "0                          3.92   1065.0  \n",
      "1                          3.40   1050.0  \n",
      "2                          3.17   1185.0  \n",
      "3                          3.45   1480.0  \n",
      "4                          2.93    735.0  \n",
      "   0\n",
      "0  0\n",
      "1  0\n",
      "2  0\n",
      "3  0\n",
      "4  0\n"
     ]
    }
   ],
   "source": [
    "#import the random hyperparameter search method to compare with grid hyperparameter search\n",
    "from sklearn.model_selection import RandomizedSearchCV \n",
    "from sklearn.ensemble import GradientBoostingClassifier\n",
    "import pandas as pd\n",
    "\n",
    "wine = datasets.load_wine()\n",
    "\n",
    "train_df = pd.DataFrame(wine.data, columns = wine.feature_names)\n",
    "train_label = pd.DataFrame(wine.target)\n",
    "\n",
    "print(train_df.head(5))\n",
    "print(train_label.head(5))"
   ]
  },
  {
   "cell_type": "code",
   "execution_count": 37,
   "metadata": {},
   "outputs": [
    {
     "name": "stdout",
     "output_type": "stream",
     "text": [
      " Accuracy : 0.9333333333333333 \n"
     ]
    }
   ],
   "source": [
    "train_x, test_x, train_y, test_y = train_test_split(train_df,train_label, test_size = 0.25, random_state = 2019)\n",
    "clf = GradientBoostingClassifier()\n",
    "clf.fit(train_x, train_y)\n",
    "pred = clf.predict(test_x)\n",
    "\n",
    "print(f' Accuracy : {metrics.accuracy_score(pred,test_y)} ')"
   ]
  },
  {
   "cell_type": "code",
   "execution_count": 38,
   "metadata": {},
   "outputs": [
    {
     "name": "stdout",
     "output_type": "stream",
     "text": [
      " Best accuracy : 0.9699248120300752 , Best params : {'max_depth': 5, 'n_estimators': 100} \n"
     ]
    }
   ],
   "source": [
    "params = dict(n_estimators = [100,300,500], max_depth = [3,5,7])\n",
    "GridSearch = GridSearchCV(clf,params, scoring = 'accuracy', n_jobs = -1, verbose = 0)\n",
    "gsResult = GridSearch.fit(train_x, train_y)\n",
    "\n",
    "print(f' Best accuracy : {gsResult.best_score_} , Best params : {gsResult.best_params_} ')"
   ]
  },
  {
   "cell_type": "code",
   "execution_count": 39,
   "metadata": {},
   "outputs": [
    {
     "name": "stdout",
     "output_type": "stream",
     "text": [
      " Accuracy after tuned parameters : 0.9333333333333333 \n"
     ]
    }
   ],
   "source": [
    "clf = GradientBoostingClassifier(**gsResult.best_params_)\n",
    "clf.fit(train_x,train_y)\n",
    "pred  = clf.predict(test_x)\n",
    "print(f' Accuracy after tuned parameters : {metrics.accuracy_score(pred,test_y)} ')"
   ]
  },
  {
   "cell_type": "code",
   "execution_count": 40,
   "metadata": {},
   "outputs": [
    {
     "name": "stdout",
     "output_type": "stream",
     "text": [
      " Best Score : 0.9699248120300752 , Best Param : {'n_estimators': 250, 'max_depth': 5} \n"
     ]
    }
   ],
   "source": [
    "n_estimators = np.arange(50,550,100)\n",
    "max_depth = np.arange(3,11,2)\n",
    "random_params = dict(n_estimators = n_estimators, max_depth = max_depth)\n",
    "rs = RandomizedSearchCV(clf, random_params, scoring = 'accuracy', n_jobs = -1, verbose = 0)\n",
    "rsResult = rs.fit(train_x,train_y)\n",
    "\n",
    "print(f' Best Score : {rsResult.best_score_} , Best Param : {rsResult.best_params_} ')"
   ]
  },
  {
   "cell_type": "code",
   "execution_count": 41,
   "metadata": {},
   "outputs": [
    {
     "name": "stdout",
     "output_type": "stream",
     "text": [
      " Accuracy after tuned parameters : 0.9333333333333333 \n"
     ]
    }
   ],
   "source": [
    "clf = GradientBoostingClassifier(**rsResult.best_params_)\n",
    "clf.fit(train_x,train_y)\n",
    "pred = clf.predict(test_x)\n",
    "print(f' Accuracy after tuned parameters : {metrics.accuracy_score(pred,test_y)} ')"
   ]
  },
  {
   "cell_type": "code",
   "execution_count": null,
   "metadata": {},
   "outputs": [],
   "source": []
  }
 ],
 "metadata": {
  "kernelspec": {
   "display_name": "Python 3",
   "language": "python",
   "name": "python3"
  },
  "language_info": {
   "codemirror_mode": {
    "name": "ipython",
    "version": 3
   },
   "file_extension": ".py",
   "mimetype": "text/x-python",
   "name": "python",
   "nbconvert_exporter": "python",
   "pygments_lexer": "ipython3",
   "version": "3.7.3"
  }
 },
 "nbformat": 4,
 "nbformat_minor": 2
}
