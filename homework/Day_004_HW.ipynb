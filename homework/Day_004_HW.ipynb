{
 "cells": [
  {
   "cell_type": "code",
   "execution_count": 1,
   "metadata": {},
   "outputs": [],
   "source": [
    "import pandas as pd\n",
    "from sklearn.preprocessing import LabelEncoder\n",
    "import os"
   ]
  },
  {
   "cell_type": "code",
   "execution_count": 9,
   "metadata": {},
   "outputs": [],
   "source": [
    "dir_data = '/users/xiejialun/desktop/'\n",
    "f_app = os.path.join(dir_data,'application_train.csv')\n",
    "df = pd.read_csv(f_app)"
   ]
  },
  {
   "cell_type": "code",
   "execution_count": 12,
   "metadata": {},
   "outputs": [
    {
     "name": "stdout",
     "output_type": "stream",
     "text": [
      "NAME_CONTRACT_TYPE             2\n",
      "CODE_GENDER                    3\n",
      "FLAG_OWN_CAR                   2\n",
      "FLAG_OWN_REALTY                2\n",
      "NAME_TYPE_SUITE                7\n",
      "NAME_INCOME_TYPE               8\n",
      "NAME_EDUCATION_TYPE            5\n",
      "NAME_FAMILY_STATUS             6\n",
      "NAME_HOUSING_TYPE              6\n",
      "OCCUPATION_TYPE               18\n",
      "WEEKDAY_APPR_PROCESS_START     7\n",
      "ORGANIZATION_TYPE             58\n",
      "FONDKAPREMONT_MODE             4\n",
      "HOUSETYPE_MODE                 3\n",
      "WALLSMATERIAL_MODE             7\n",
      "EMERGENCYSTATE_MODE            2\n",
      "dtype: int64\n"
     ]
    }
   ],
   "source": [
    "object_columns = [col for col in df.columns if df[col].dtype == 'object']\n",
    "object_df = df[object_columns]\n",
    "print(object_df.apply(pd.Series.nunique, axis = 0))"
   ]
  },
  {
   "cell_type": "markdown",
   "metadata": {},
   "source": [
    "**Label encoding**"
   ]
  },
  {
   "cell_type": "code",
   "execution_count": 13,
   "metadata": {},
   "outputs": [
    {
     "name": "stderr",
     "output_type": "stream",
     "text": [
      "/Users/xiejialun/anaconda3/lib/python3.7/site-packages/ipykernel_launcher.py:7: UserWarning: Pandas doesn't allow columns to be created via a new attribute name - see https://pandas.pydata.org/pandas-docs/stable/indexing.html#attribute-access\n",
      "  import sys\n"
     ]
    },
    {
     "name": "stdout",
     "output_type": "stream",
     "text": [
      "NAME_CONTRACT_TYPE encoding classes:  ['Cash loans' 'Revolving loans']\n",
      "FLAG_OWN_CAR encoding classes:  ['N' 'Y']\n",
      "FLAG_OWN_REALTY encoding classes:  ['N' 'Y']\n",
      "3 columns were label encoded.\n"
     ]
    }
   ],
   "source": [
    "le = LabelEncoder()\n",
    "le_count = 0\n",
    "\n",
    "lecols = []\n",
    "for col in object_df.columns:\n",
    "    if len(object_df[col].unique()) <= 2:\n",
    "        object_df.col = le.fit_transform(object_df[col])\n",
    "        print(col + ' encoding classes: ', le.classes_)\n",
    "        le_count += 1\n",
    "        lecols.append(col)\n",
    "\n",
    "print('%d columns were label encoded.' %le_count)"
   ]
  },
  {
   "cell_type": "code",
   "execution_count": 15,
   "metadata": {},
   "outputs": [
    {
     "name": "stdout",
     "output_type": "stream",
     "text": [
      "0    0\n",
      "1    1\n",
      "2    0\n",
      "3    1\n",
      "4    0\n",
      "Name: CODE_GENDER_F, dtype: uint8\n",
      "0    1\n",
      "1    0\n",
      "2    1\n",
      "3    0\n",
      "4    1\n",
      "Name: CODE_GENDER_M, dtype: uint8\n"
     ]
    }
   ],
   "source": [
    "df_onehotencoded = pd.get_dummies(df)\n",
    "print(df_onehotencoded['CODE_GENDER_F'].head(5))\n",
    "print(df_onehotencoded['CODE_GENDER_M'].head(5))"
   ]
  },
  {
   "cell_type": "markdown",
   "metadata": {},
   "source": [
    "**作業** <br />\n",
    "將下列部分資料片段 sub_train 使用 One Hot encoding, 並觀察轉換前後的欄位數量 (使用 shape) 與欄位名稱 (使用 head) 變化"
   ]
  },
  {
   "cell_type": "code",
   "execution_count": 20,
   "metadata": {},
   "outputs": [
    {
     "name": "stdout",
     "output_type": "stream",
     "text": [
      "columns before one hot encoding\n",
      ":  Index(['WEEKDAY_APPR_PROCESS_START'], dtype='object')\n",
      "data shape before one hot encoding:  (307511, 1)\n",
      "  WEEKDAY_APPR_PROCESS_START\n",
      "0                  WEDNESDAY\n",
      "1                     MONDAY\n",
      "2                     MONDAY\n",
      "3                  WEDNESDAY\n",
      "4                   THURSDAY\n",
      "----------------------------------------------------------------------------------------------------\n",
      "columns after one hot encoding\n",
      ":  Index(['WEEKDAY_APPR_PROCESS_START_FRIDAY',\n",
      "       'WEEKDAY_APPR_PROCESS_START_MONDAY',\n",
      "       'WEEKDAY_APPR_PROCESS_START_SATURDAY',\n",
      "       'WEEKDAY_APPR_PROCESS_START_SUNDAY',\n",
      "       'WEEKDAY_APPR_PROCESS_START_THURSDAY',\n",
      "       'WEEKDAY_APPR_PROCESS_START_TUESDAY',\n",
      "       'WEEKDAY_APPR_PROCESS_START_WEDNESDAY'],\n",
      "      dtype='object')\n",
      "data shape after one hot encoding:  (307511, 7)\n",
      "   WEEKDAY_APPR_PROCESS_START_FRIDAY  WEEKDAY_APPR_PROCESS_START_MONDAY  \\\n",
      "0                                  0                                  0   \n",
      "1                                  0                                  1   \n",
      "2                                  0                                  1   \n",
      "3                                  0                                  0   \n",
      "4                                  0                                  0   \n",
      "\n",
      "   WEEKDAY_APPR_PROCESS_START_SATURDAY  WEEKDAY_APPR_PROCESS_START_SUNDAY  \\\n",
      "0                                    0                                  0   \n",
      "1                                    0                                  0   \n",
      "2                                    0                                  0   \n",
      "3                                    0                                  0   \n",
      "4                                    0                                  0   \n",
      "\n",
      "   WEEKDAY_APPR_PROCESS_START_THURSDAY  WEEKDAY_APPR_PROCESS_START_TUESDAY  \\\n",
      "0                                    0                                   0   \n",
      "1                                    0                                   0   \n",
      "2                                    0                                   0   \n",
      "3                                    0                                   0   \n",
      "4                                    1                                   0   \n",
      "\n",
      "   WEEKDAY_APPR_PROCESS_START_WEDNESDAY  \n",
      "0                                     1  \n",
      "1                                     0  \n",
      "2                                     0  \n",
      "3                                     1  \n",
      "4                                     0  \n"
     ]
    }
   ],
   "source": [
    "sub_train = pd.DataFrame(df['WEEKDAY_APPR_PROCESS_START'])\n",
    "print('columns before one hot encoding\\n: ',sub_train.columns)\n",
    "print('data shape before one hot encoding: ',sub_train.shape)\n",
    "print(sub_train.head(5))\n",
    "print('-'*100)\n",
    "sub_train = pd.get_dummies(sub_train)\n",
    "print('columns after one hot encoding\\n: ',sub_train.columns)\n",
    "print('data shape after one hot encoding: ',sub_train.shape)\n",
    "print(sub_train.head(5))"
   ]
  },
  {
   "cell_type": "code",
   "execution_count": null,
   "metadata": {},
   "outputs": [],
   "source": []
  }
 ],
 "metadata": {
  "kernelspec": {
   "display_name": "Python 3",
   "language": "python",
   "name": "python3"
  },
  "language_info": {
   "codemirror_mode": {
    "name": "ipython",
    "version": 3
   },
   "file_extension": ".py",
   "mimetype": "text/x-python",
   "name": "python",
   "nbconvert_exporter": "python",
   "pygments_lexer": "ipython3",
   "version": "3.7.3"
  }
 },
 "nbformat": 4,
 "nbformat_minor": 2
}
