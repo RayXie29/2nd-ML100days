{
 "cells": [
  {
   "cell_type": "code",
   "execution_count": 3,
   "metadata": {},
   "outputs": [],
   "source": [
    "import numpy as np\n",
    "import matplotlib\n",
    "import matplotlib.pyplot as plt\n",
    "import matplotlib.cm as cm\n",
    "from sklearn.cluster import KMeans\n",
    "from sklearn import datasets\n",
    "from sklearn.metrics import silhouette_samples, silhouette_score\n",
    "\n",
    "np.random.seed(5)\n",
    "%matplotlib inline"
   ]
  },
  {
   "cell_type": "code",
   "execution_count": 4,
   "metadata": {},
   "outputs": [],
   "source": [
    "#import iris dataset\n",
    "iris = datasets.load_iris()\n",
    "x = iris.data\n",
    "y = iris.target\n",
    "\n",
    "range_n_clusters = [ 2, 3, 4, 5, 6, 7, 8]"
   ]
  },
  {
   "cell_type": "code",
   "execution_count": null,
   "metadata": {},
   "outputs": [],
   "source": [
    "from n_clusters in range_n_clusters:\n",
    "    # 1 row , 2 columns\n",
    "    fig, (ax1, ax2) = plt.subplot(1,2)\n",
    "    fig.set_size_inches(18,7)\n",
    "    \n",
    "    ax1.set_xlim([-0.1, 1])\n",
    "    ax1.set_ylim([0, len(x) + (n_clusters + 1) * 10])\n",
    "    \n",
    "    estimator = KMeans(n_clusters = n_clusters, random_state = 10)\n",
    "    cluster_labels = estimator.fit_predict(x)\n",
    "    \n",
    "    #calculate the mean silhouette values of all points\n",
    "    silhouette_avg = silhouette_score(x, cluster_labels)\n",
    "    print(f' For n_clusters = {n_clusters} , The average silhouette_score = {silhouette_avg}')\n",
    "    \n",
    "    #calculate the silhouette score of every single point\n",
    "    sample_silhouette_vals = silhouette_samples(x, cluster_labels)\n",
    "    \n",
    "    y_lower = 10\n",
    "    for i in range(n_clusters):\n",
    "        ith_cluster_silhouette_vals = sample_silhouette_vals[cluster_labels == i]\n",
    "        ith_cluster_silhouette_vals.sort()\n",
    "        \n",
    "        size_cluster_i = len(ith_cluster_silhouette_vals)\n",
    "        y_upper = y_lower + size_cluster_i\n",
    "        \n",
    "        color = cm.nipy_spectral(float(i) / n_clusters)\n",
    "        ax1.fill_betweenx(np.arange(y_lower, y_upper), 0 ,\n",
    "                         ith_cluster_silhouette_vals, facecolor = color,\n",
    "                         edgecolor = color , alpha = 0.7)\n",
    "        \n",
    "        #label every i value on each cluster\n",
    "        ax1.text(-0.05, y_lower + 0.5 * size_cluster_i, str(i))\n",
    "        \n",
    "        #for next y_lower\n",
    "        y_lower += 10\n",
    "    \n",
    "    ax1.set_title(\"The silhouette\")"
   ]
  }
 ],
 "metadata": {
  "kernelspec": {
   "display_name": "Python 3",
   "language": "python",
   "name": "python3"
  },
  "language_info": {
   "codemirror_mode": {
    "name": "ipython",
    "version": 3
   },
   "file_extension": ".py",
   "mimetype": "text/x-python",
   "name": "python",
   "nbconvert_exporter": "python",
   "pygments_lexer": "ipython3",
   "version": "3.7.3"
  }
 },
 "nbformat": 4,
 "nbformat_minor": 2
}
