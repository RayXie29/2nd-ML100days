{
  "nbformat": 4,
  "nbformat_minor": 0,
  "metadata": {
    "colab": {
      "name": "Day_089_HW",
      "version": "0.3.2",
      "provenance": [],
      "collapsed_sections": []
    },
    "kernelspec": {
      "name": "python3",
      "display_name": "Python 3"
    },
    "accelerator": "GPU"
  },
  "cells": [
    {
      "cell_type": "markdown",
      "metadata": {
        "id": "pzU23mCe49ec",
        "colab_type": "text"
      },
      "source": [
        "# 範例重點\n",
        "學習如何在 keras 中撰寫自定義的 loss function <br />\n",
        "知道如何在訓練時使用自定義的 loss function"
      ]
    },
    {
      "cell_type": "code",
      "metadata": {
        "id": "PaRQIoGD45y2",
        "colab_type": "code",
        "outputId": "2afe489a-adc1-409d-de45-746a9609cc11",
        "colab": {
          "base_uri": "https://localhost:8080/",
          "height": 375
        }
      },
      "source": [
        "from keras.layers import Dense, Conv2D, Activation, BatchNormalization, Dropout, Flatten, MaxPooling2D, Input\n",
        "import keras\n",
        "import matplotlib.pyplot as plt\n",
        "\n",
        "!nvidia-smi"
      ],
      "execution_count": 1,
      "outputs": [
        {
          "output_type": "stream",
          "text": [
            "Using TensorFlow backend.\n"
          ],
          "name": "stderr"
        },
        {
          "output_type": "stream",
          "text": [
            "Thu Jul 25 23:40:40 2019       \n",
            "+-----------------------------------------------------------------------------+\n",
            "| NVIDIA-SMI 418.67       Driver Version: 410.79       CUDA Version: 10.0     |\n",
            "|-------------------------------+----------------------+----------------------+\n",
            "| GPU  Name        Persistence-M| Bus-Id        Disp.A | Volatile Uncorr. ECC |\n",
            "| Fan  Temp  Perf  Pwr:Usage/Cap|         Memory-Usage | GPU-Util  Compute M. |\n",
            "|===============================+======================+======================|\n",
            "|   0  Tesla K80           Off  | 00000000:00:04.0 Off |                    0 |\n",
            "| N/A   50C    P8    30W / 149W |      0MiB / 11441MiB |      0%      Default |\n",
            "+-------------------------------+----------------------+----------------------+\n",
            "                                                                               \n",
            "+-----------------------------------------------------------------------------+\n",
            "| Processes:                                                       GPU Memory |\n",
            "|  GPU       PID   Type   Process name                             Usage      |\n",
            "|=============================================================================|\n",
            "|  No running processes found                                                 |\n",
            "+-----------------------------------------------------------------------------+\n"
          ],
          "name": "stdout"
        }
      ]
    },
    {
      "cell_type": "code",
      "metadata": {
        "id": "2xh13GFJ5bJj",
        "colab_type": "code",
        "colab": {
          "base_uri": "https://localhost:8080/",
          "height": 336
        },
        "outputId": "f1e6920a-813f-42c4-918a-b324639736eb"
      },
      "source": [
        "(train_x, train_y), (test_x, test_y) = keras.datasets.cifar10.load_data()"
      ],
      "execution_count": 2,
      "outputs": [
        {
          "output_type": "stream",
          "text": [
            "Downloading data from https://www.cs.toronto.edu/~kriz/cifar-10-python.tar.gz\n",
            "170500096/170498071 [==============================] - 6s 0us/step\n"
          ],
          "name": "stdout"
        }
      ]
    },
    {
      "cell_type": "code",
      "metadata": {
        "id": "wHgeC9Hi5oVs",
        "colab_type": "code",
        "colab": {}
      },
      "source": [
        "def preproc_x(x, flatten = True):\n",
        "  x = x / 255.0\n",
        "  if flatten :\n",
        "    x = x.reshape((len(x), -1))\n",
        "  return x\n",
        "\n",
        "def preproc_y(y, num_classes = 10):\n",
        "  \n",
        "  if y.shape[-1] == 1:\n",
        "    y = keras.utils.to_categorical(y, num_classes)\n",
        "  return y"
      ],
      "execution_count": 0,
      "outputs": []
    },
    {
      "cell_type": "code",
      "metadata": {
        "id": "DHzezNgG5zn0",
        "colab_type": "code",
        "colab": {}
      },
      "source": [
        "train_x = preproc_x(train_x)\n",
        "train_y = preproc_y(train_y)\n",
        "\n",
        "test_x = preproc_x(test_x)\n",
        "test_y = preproc_y(test_y)"
      ],
      "execution_count": 0,
      "outputs": []
    },
    {
      "cell_type": "code",
      "metadata": {
        "id": "AO_XVnos6Dms",
        "colab_type": "code",
        "colab": {}
      },
      "source": [
        "def build_mlp(input_shape, output_units = 10, num_neurons = [512, 256, 128]):\n",
        "  \n",
        "  input_layer = Input(input_shape, name = \"main_input\")\n",
        "  \n",
        "  for i, n_neuron in enumerate(num_neurons):\n",
        "    if i == 0 :\n",
        "      x = Dense(units = n_neuron, name = \"Hidden_layer_\" + str(i+1))(input_layer)\n",
        "      x = BatchNormalization()(x)\n",
        "      x = Activation('relu')(x)\n",
        "    else :\n",
        "      x = Dense(units = n_neuron, name = \"Hidden_layer_\" + str(i+1))(x)\n",
        "      x = BatchNormalization()(x)\n",
        "      x = Activation('relu')(x)\n",
        "      \n",
        "  output_layer = Dense(units = output_units, activation = 'softmax', name = \"main_output\") (x)\n",
        "  \n",
        "  model = keras.models.Model(inputs = [input_layer], outputs = [output_layer])\n",
        "  return model  "
      ],
      "execution_count": 0,
      "outputs": []
    },
    {
      "cell_type": "code",
      "metadata": {
        "id": "pTqPO0mr7WuR",
        "colab_type": "code",
        "colab": {}
      },
      "source": [
        "lr = 1e-3\n",
        "momentum = 0.95\n",
        "#Large batch size will overfit easily\n",
        "batch_size = 1024\n",
        "epochs = 50"
      ],
      "execution_count": 0,
      "outputs": []
    },
    {
      "cell_type": "code",
      "metadata": {
        "id": "7WG2g4PT7iEG",
        "colab_type": "code",
        "colab": {}
      },
      "source": [
        "import tensorflow as tf\n",
        "import keras.backend as k\n",
        "\n",
        "def focal_loss(gamma=2., alpha = 4.):\n",
        "  gamma = float(gamma)\n",
        "  alpha = float(alpha)\n",
        "  \n",
        "  def focal_loss_fixed(y_true, y_pred):\n",
        "    #Focal loss for multi-classification\n",
        "    #FL(pt) = - alpha(1-pt)^(gamma) * ln(pt)\n",
        "    \n",
        "    epsilon = 1e-8\n",
        "    y_true = tf.convert_to_tensor(y_true, tf.float32)\n",
        "    y_pred = tf.convert_to_tensor(y_pred, tf.float32)\n",
        "    \n",
        "    model_out = tf.add(y_pred, epsilon)\n",
        "    #crossentropy\n",
        "    #ce = sum( -yi_true * log2(yi_pred) )\n",
        "    ce = tf.multiply(y_true, -tf.log(model_out))\n",
        "    weight = tf.multiply(y_true, tf.pow(tf.subtract(1.0, model_out) , gamma))\n",
        "    f1 = tf.multiply(alpha, tf.multiply(weight, ce))\n",
        "    \n",
        "    #get the maximum value in tensor\n",
        "    reduced_f1 = tf.reduce_max(f1, axis = 1)\n",
        "    return tf.reduce_mean(reduced_f1)\n",
        "  \n",
        "  return focal_loss_fixed"
      ],
      "execution_count": 0,
      "outputs": []
    },
    {
      "cell_type": "code",
      "metadata": {
        "id": "yCNtYvMX78EB",
        "colab_type": "code",
        "outputId": "e7258b2b-eaf6-4989-d66a-ec29b3268672",
        "colab": {
          "base_uri": "https://localhost:8080/",
          "height": 1000
        }
      },
      "source": [
        "model = build_mlp(train_x.shape[1:], 10)\n",
        "optimizer = keras.optimizers.SGD(lr = lr, momentum = momentum, nesterov = True)\n",
        "model.compile(optimizer = optimizer, loss = focal_loss() , metrics = [\"accuracy\"])\n",
        "model.summary()\n",
        "\n",
        "history = model.fit(train_x, train_y, epochs = epochs, batch_size = batch_size, shuffle = True, validation_data = [test_x, test_y])"
      ],
      "execution_count": 15,
      "outputs": [
        {
          "output_type": "stream",
          "text": [
            "_________________________________________________________________\n",
            "Layer (type)                 Output Shape              Param #   \n",
            "=================================================================\n",
            "main_input (InputLayer)      (None, 3072)              0         \n",
            "_________________________________________________________________\n",
            "Hidden_layer_1 (Dense)       (None, 512)               1573376   \n",
            "_________________________________________________________________\n",
            "batch_normalization_10 (Batc (None, 512)               2048      \n",
            "_________________________________________________________________\n",
            "activation_10 (Activation)   (None, 512)               0         \n",
            "_________________________________________________________________\n",
            "Hidden_layer_2 (Dense)       (None, 256)               131328    \n",
            "_________________________________________________________________\n",
            "batch_normalization_11 (Batc (None, 256)               1024      \n",
            "_________________________________________________________________\n",
            "activation_11 (Activation)   (None, 256)               0         \n",
            "_________________________________________________________________\n",
            "Hidden_layer_3 (Dense)       (None, 128)               32896     \n",
            "_________________________________________________________________\n",
            "batch_normalization_12 (Batc (None, 128)               512       \n",
            "_________________________________________________________________\n",
            "activation_12 (Activation)   (None, 128)               0         \n",
            "_________________________________________________________________\n",
            "main_output (Dense)          (None, 10)                1290      \n",
            "=================================================================\n",
            "Total params: 1,742,474\n",
            "Trainable params: 1,740,682\n",
            "Non-trainable params: 1,792\n",
            "_________________________________________________________________\n",
            "Train on 50000 samples, validate on 10000 samples\n",
            "Epoch 1/50\n",
            "50000/50000 [==============================] - 3s 54us/step - loss: 6.0083 - acc: 0.3143 - val_loss: 5.6769 - val_acc: 0.3528\n",
            "Epoch 2/50\n",
            "50000/50000 [==============================] - 2s 36us/step - loss: 4.4078 - acc: 0.4427 - val_loss: 4.7120 - val_acc: 0.4132\n",
            "Epoch 3/50\n",
            "50000/50000 [==============================] - 2s 36us/step - loss: 3.9452 - acc: 0.4890 - val_loss: 4.4660 - val_acc: 0.4327\n",
            "Epoch 4/50\n",
            "50000/50000 [==============================] - 2s 37us/step - loss: 3.6351 - acc: 0.5207 - val_loss: 4.2799 - val_acc: 0.4589\n",
            "Epoch 5/50\n",
            "50000/50000 [==============================] - 2s 36us/step - loss: 3.3682 - acc: 0.5486 - val_loss: 4.1549 - val_acc: 0.4587\n",
            "Epoch 6/50\n",
            "50000/50000 [==============================] - 2s 36us/step - loss: 3.1335 - acc: 0.5727 - val_loss: 4.0149 - val_acc: 0.4760\n",
            "Epoch 7/50\n",
            "50000/50000 [==============================] - 2s 36us/step - loss: 2.9225 - acc: 0.5994 - val_loss: 4.0797 - val_acc: 0.4691\n",
            "Epoch 8/50\n",
            "50000/50000 [==============================] - 2s 36us/step - loss: 2.7161 - acc: 0.6217 - val_loss: 3.9757 - val_acc: 0.4763\n",
            "Epoch 9/50\n",
            "50000/50000 [==============================] - 2s 36us/step - loss: 2.5273 - acc: 0.6419 - val_loss: 4.0002 - val_acc: 0.4776\n",
            "Epoch 10/50\n",
            "50000/50000 [==============================] - 2s 37us/step - loss: 2.3432 - acc: 0.6641 - val_loss: 3.9183 - val_acc: 0.4822\n",
            "Epoch 11/50\n",
            "50000/50000 [==============================] - 2s 36us/step - loss: 2.1682 - acc: 0.6863 - val_loss: 3.9324 - val_acc: 0.4865\n",
            "Epoch 12/50\n",
            "50000/50000 [==============================] - 2s 37us/step - loss: 1.9988 - acc: 0.7089 - val_loss: 3.9518 - val_acc: 0.4914\n",
            "Epoch 13/50\n",
            "50000/50000 [==============================] - 2s 37us/step - loss: 1.8336 - acc: 0.7269 - val_loss: 4.0454 - val_acc: 0.4849\n",
            "Epoch 14/50\n",
            "50000/50000 [==============================] - 2s 37us/step - loss: 1.6775 - acc: 0.7482 - val_loss: 4.1512 - val_acc: 0.4787\n",
            "Epoch 15/50\n",
            "50000/50000 [==============================] - 2s 37us/step - loss: 1.5261 - acc: 0.7697 - val_loss: 4.0584 - val_acc: 0.4900\n",
            "Epoch 16/50\n",
            "50000/50000 [==============================] - 2s 37us/step - loss: 1.3830 - acc: 0.7882 - val_loss: 4.1467 - val_acc: 0.4818\n",
            "Epoch 17/50\n",
            "50000/50000 [==============================] - 2s 37us/step - loss: 1.2517 - acc: 0.8093 - val_loss: 4.1816 - val_acc: 0.4870\n",
            "Epoch 18/50\n",
            "50000/50000 [==============================] - 2s 37us/step - loss: 1.1183 - acc: 0.8269 - val_loss: 4.3284 - val_acc: 0.4827\n",
            "Epoch 19/50\n",
            "50000/50000 [==============================] - 2s 36us/step - loss: 0.9929 - acc: 0.8487 - val_loss: 4.3623 - val_acc: 0.4749\n",
            "Epoch 20/50\n",
            "50000/50000 [==============================] - 2s 37us/step - loss: 0.8817 - acc: 0.8651 - val_loss: 4.4890 - val_acc: 0.4719\n",
            "Epoch 21/50\n",
            "50000/50000 [==============================] - 2s 37us/step - loss: 0.7806 - acc: 0.8820 - val_loss: 4.5352 - val_acc: 0.4827\n",
            "Epoch 22/50\n",
            "50000/50000 [==============================] - 2s 37us/step - loss: 0.6912 - acc: 0.8953 - val_loss: 4.6264 - val_acc: 0.4841\n",
            "Epoch 23/50\n",
            "50000/50000 [==============================] - 2s 38us/step - loss: 0.5989 - acc: 0.9119 - val_loss: 4.6721 - val_acc: 0.4910\n",
            "Epoch 24/50\n",
            "50000/50000 [==============================] - 2s 38us/step - loss: 0.5240 - acc: 0.9246 - val_loss: 4.7950 - val_acc: 0.4819\n",
            "Epoch 25/50\n",
            "50000/50000 [==============================] - 2s 38us/step - loss: 0.4563 - acc: 0.9364 - val_loss: 4.8683 - val_acc: 0.4902\n",
            "Epoch 26/50\n",
            "50000/50000 [==============================] - 2s 37us/step - loss: 0.3940 - acc: 0.9490 - val_loss: 5.2165 - val_acc: 0.4600\n",
            "Epoch 27/50\n",
            "50000/50000 [==============================] - 2s 38us/step - loss: 0.3449 - acc: 0.9569 - val_loss: 5.0637 - val_acc: 0.4803\n",
            "Epoch 28/50\n",
            "50000/50000 [==============================] - 2s 37us/step - loss: 0.2952 - acc: 0.9659 - val_loss: 5.0536 - val_acc: 0.4838\n",
            "Epoch 29/50\n",
            "50000/50000 [==============================] - 2s 36us/step - loss: 0.2582 - acc: 0.9719 - val_loss: 5.2407 - val_acc: 0.4757\n",
            "Epoch 30/50\n",
            "50000/50000 [==============================] - 2s 37us/step - loss: 0.2239 - acc: 0.9783 - val_loss: 5.3201 - val_acc: 0.4781\n",
            "Epoch 31/50\n",
            "50000/50000 [==============================] - 2s 36us/step - loss: 0.1926 - acc: 0.9833 - val_loss: 5.3405 - val_acc: 0.4829\n",
            "Epoch 32/50\n",
            "50000/50000 [==============================] - 2s 36us/step - loss: 0.1721 - acc: 0.9857 - val_loss: 5.3843 - val_acc: 0.4827\n",
            "Epoch 33/50\n",
            "50000/50000 [==============================] - 2s 37us/step - loss: 0.1460 - acc: 0.9896 - val_loss: 5.4000 - val_acc: 0.4774\n",
            "Epoch 34/50\n",
            "50000/50000 [==============================] - 2s 37us/step - loss: 0.1284 - acc: 0.9924 - val_loss: 5.5829 - val_acc: 0.4829\n",
            "Epoch 35/50\n",
            "50000/50000 [==============================] - 2s 37us/step - loss: 0.1142 - acc: 0.9938 - val_loss: 5.5898 - val_acc: 0.4855\n",
            "Epoch 36/50\n",
            "50000/50000 [==============================] - 2s 37us/step - loss: 0.1011 - acc: 0.9947 - val_loss: 5.6313 - val_acc: 0.4832\n",
            "Epoch 37/50\n",
            "50000/50000 [==============================] - 2s 36us/step - loss: 0.0903 - acc: 0.9958 - val_loss: 5.7511 - val_acc: 0.4820\n",
            "Epoch 38/50\n",
            "50000/50000 [==============================] - 2s 36us/step - loss: 0.0819 - acc: 0.9966 - val_loss: 5.7312 - val_acc: 0.4879\n",
            "Epoch 39/50\n",
            "50000/50000 [==============================] - 2s 36us/step - loss: 0.0713 - acc: 0.9975 - val_loss: 5.8866 - val_acc: 0.4788\n",
            "Epoch 40/50\n",
            "50000/50000 [==============================] - 2s 37us/step - loss: 0.0636 - acc: 0.9982 - val_loss: 5.8189 - val_acc: 0.4869\n",
            "Epoch 41/50\n",
            "50000/50000 [==============================] - 2s 37us/step - loss: 0.0580 - acc: 0.9986 - val_loss: 5.8604 - val_acc: 0.4819\n",
            "Epoch 42/50\n",
            "50000/50000 [==============================] - 2s 37us/step - loss: 0.0535 - acc: 0.9989 - val_loss: 5.9481 - val_acc: 0.4793\n",
            "Epoch 43/50\n",
            "50000/50000 [==============================] - 2s 36us/step - loss: 0.0495 - acc: 0.9989 - val_loss: 6.0232 - val_acc: 0.4857\n",
            "Epoch 44/50\n",
            "50000/50000 [==============================] - 2s 37us/step - loss: 0.0446 - acc: 0.9992 - val_loss: 6.0918 - val_acc: 0.4804\n",
            "Epoch 45/50\n",
            "50000/50000 [==============================] - 2s 36us/step - loss: 0.0413 - acc: 0.9993 - val_loss: 6.0585 - val_acc: 0.4838\n",
            "Epoch 46/50\n",
            "50000/50000 [==============================] - 2s 37us/step - loss: 0.0383 - acc: 0.9995 - val_loss: 6.0467 - val_acc: 0.4868\n",
            "Epoch 47/50\n",
            "50000/50000 [==============================] - 2s 37us/step - loss: 0.0360 - acc: 0.9994 - val_loss: 6.0925 - val_acc: 0.4867\n",
            "Epoch 48/50\n",
            "50000/50000 [==============================] - 2s 36us/step - loss: 0.0336 - acc: 0.9996 - val_loss: 6.1005 - val_acc: 0.4857\n",
            "Epoch 49/50\n",
            "50000/50000 [==============================] - 2s 36us/step - loss: 0.0308 - acc: 0.9998 - val_loss: 6.0725 - val_acc: 0.4922\n",
            "Epoch 50/50\n",
            "50000/50000 [==============================] - 2s 37us/step - loss: 0.0290 - acc: 0.9998 - val_loss: 6.2383 - val_acc: 0.4808\n"
          ],
          "name": "stdout"
        }
      ]
    },
    {
      "cell_type": "code",
      "metadata": {
        "id": "l6WBHw__7_We",
        "colab_type": "code",
        "outputId": "a4fe913d-c57b-4f13-f50c-74a4e1f5bf8c",
        "colab": {
          "base_uri": "https://localhost:8080/",
          "height": 810
        }
      },
      "source": [
        "plt.figure(figsize = (8,6))\n",
        "plt.plot(history.history['acc'],'-', label = \"train\", color = 'g')\n",
        "plt.plot(history.history['val_acc'],'--', label = 'valid', color = 'r')\n",
        "plt.xlabel('epochs')\n",
        "plt.ylabel('Accuracy')\n",
        "plt.title(\"Training & Validation accuracy\")\n",
        "plt.legend()\n",
        "plt.show()\n",
        "\n",
        "plt.figure(figsize = (8,6))\n",
        "plt.plot(history.history['loss'],'-', label = \"train\", color = 'g')\n",
        "plt.plot(history.history['val_loss'],'--', label = \"valid\", color = 'r')\n",
        "plt.xlabel('epochs')\n",
        "plt.ylabel('Loss')\n",
        "plt.title(\"Training & Validation loss\")\n",
        "plt.legend()\n",
        "plt.show()"
      ],
      "execution_count": 16,
      "outputs": [
        {
          "output_type": "display_data",
          "data": {
            "image/png": "[encoded data removed]",
            "text/plain": [
              "<Figure size 576x432 with 1 Axes>"
            ]
          },
          "metadata": {
            "tags": []
          }
        },
        {
          "output_type": "display_data",
          "data": {
            "image/png": "[encoded data removed]",
            "text/plain": [
              "<Figure size 576x432 with 1 Axes>"
            ]
          },
          "metadata": {
            "tags": []
          }
        }
      ]
    },
    {
      "cell_type": "markdown",
      "metadata": {
        "id": "90WEIklu96LZ",
        "colab_type": "text"
      },
      "source": [
        "# Work\n",
        "請自行定義一個 loss function, 為 0.3 * focal loss + 0.7 cross-entropy，訓練並比較結果"
      ]
    },
    {
      "cell_type": "code",
      "metadata": {
        "id": "KUFRA7es9QYR",
        "colab_type": "code",
        "colab": {}
      },
      "source": [
        "def mylossfn(focal_w = 0.3, ce_w = 0.7, gamma = 2., alpha = 4.):\n",
        "  \n",
        "  def focal_crossentropy_loss(y_true, y_pred):\n",
        "    \n",
        "    epsilon = 1e-8\n",
        "    y_true = tf.convert_to_tensor(y_true, tf.float32)\n",
        "    y_pred = tf.convert_to_tensor(y_pred, tf.float32)\n",
        "    \n",
        "    #add epsilon avoid 0 val in y_pred\n",
        "    y_pred = tf.add(y_pred, epsilon)\n",
        "    #crossentropy\n",
        "    ce = tf.multiply(y_true, -tf.log(y_pred))\n",
        "    \n",
        "    weight = tf.multiply(y_true, tf.pow(tf.subtract(1.0, y_pred), gamma))\n",
        "    fl = tf.multiply(alpha , tf.multiply(weight, ce))\n",
        "    reduced_fl = tf.reduce_max(fl, axis = 1)\n",
        "    reduced_ce = tf.reduce_max(ce, axis = 1)\n",
        "    \n",
        "    mean_fl = tf.reduce_mean(reduced_fl)\n",
        "    mean_ce = tf.reduce_mean(reduced_ce)\n",
        "    \n",
        "    return focal_w * mean_fl + ce_w*mean_ce\n",
        "  \n",
        "  return focal_crossentropy_loss"
      ],
      "execution_count": 0,
      "outputs": []
    },
    {
      "cell_type": "code",
      "metadata": {
        "id": "QVQk7KFOA0e2",
        "colab_type": "code",
        "outputId": "5c5190d1-9163-4c72-b47f-4fcd12512610",
        "colab": {
          "base_uri": "https://localhost:8080/",
          "height": 1000
        }
      },
      "source": [
        "model = build_mlp(train_x.shape[1:])\n",
        "model.compile(optimizer = optimizer, loss = mylossfn() , metrics = ['accuracy'])\n",
        "model.summary()\n",
        "\n",
        "history = model.fit(train_x, train_y, epochs = epochs, batch_size = batch_size, shuffle = True, validation_data = [test_x, test_y])"
      ],
      "execution_count": 26,
      "outputs": [
        {
          "output_type": "stream",
          "text": [
            "_________________________________________________________________\n",
            "Layer (type)                 Output Shape              Param #   \n",
            "=================================================================\n",
            "main_input (InputLayer)      (None, 3072)              0         \n",
            "_________________________________________________________________\n",
            "Hidden_layer_1 (Dense)       (None, 512)               1573376   \n",
            "_________________________________________________________________\n",
            "batch_normalization_25 (Batc (None, 512)               2048      \n",
            "_________________________________________________________________\n",
            "activation_25 (Activation)   (None, 512)               0         \n",
            "_________________________________________________________________\n",
            "Hidden_layer_2 (Dense)       (None, 256)               131328    \n",
            "_________________________________________________________________\n",
            "batch_normalization_26 (Batc (None, 256)               1024      \n",
            "_________________________________________________________________\n",
            "activation_26 (Activation)   (None, 256)               0         \n",
            "_________________________________________________________________\n",
            "Hidden_layer_3 (Dense)       (None, 128)               32896     \n",
            "_________________________________________________________________\n",
            "batch_normalization_27 (Batc (None, 128)               512       \n",
            "_________________________________________________________________\n",
            "activation_27 (Activation)   (None, 128)               0         \n",
            "_________________________________________________________________\n",
            "main_output (Dense)          (None, 10)                1290      \n",
            "=================================================================\n",
            "Total params: 1,742,474\n",
            "Trainable params: 1,740,682\n",
            "Non-trainable params: 1,792\n",
            "_________________________________________________________________\n",
            "Train on 50000 samples, validate on 10000 samples\n",
            "Epoch 1/50\n",
            "50000/50000 [==============================] - 4s 72us/step - loss: 3.3904 - acc: 0.2820 - val_loss: 3.3555 - val_acc: 0.3121\n",
            "Epoch 2/50\n",
            "50000/50000 [==============================] - 2s 37us/step - loss: 2.6034 - acc: 0.4154 - val_loss: 2.6845 - val_acc: 0.3968\n",
            "Epoch 3/50\n",
            "50000/50000 [==============================] - 2s 38us/step - loss: 2.3875 - acc: 0.4569 - val_loss: 2.5379 - val_acc: 0.4220\n",
            "Epoch 4/50\n",
            "50000/50000 [==============================] - 2s 37us/step - loss: 2.2500 - acc: 0.4852 - val_loss: 2.4637 - val_acc: 0.4355\n",
            "Epoch 5/50\n",
            "50000/50000 [==============================] - 2s 37us/step - loss: 2.1448 - acc: 0.5064 - val_loss: 2.3706 - val_acc: 0.4523\n",
            "Epoch 6/50\n",
            "50000/50000 [==============================] - 2s 37us/step - loss: 2.0532 - acc: 0.5258 - val_loss: 2.3609 - val_acc: 0.4517\n",
            "Epoch 7/50\n",
            "50000/50000 [==============================] - 2s 37us/step - loss: 1.9731 - acc: 0.5432 - val_loss: 2.2933 - val_acc: 0.4658\n",
            "Epoch 8/50\n",
            "50000/50000 [==============================] - 2s 37us/step - loss: 1.8988 - acc: 0.5597 - val_loss: 2.2648 - val_acc: 0.4709\n",
            "Epoch 9/50\n",
            "50000/50000 [==============================] - 2s 38us/step - loss: 1.8305 - acc: 0.5759 - val_loss: 2.2314 - val_acc: 0.4802\n",
            "Epoch 10/50\n",
            "50000/50000 [==============================] - 2s 38us/step - loss: 1.7644 - acc: 0.5896 - val_loss: 2.2041 - val_acc: 0.4828\n",
            "Epoch 11/50\n",
            "50000/50000 [==============================] - 2s 38us/step - loss: 1.7039 - acc: 0.6042 - val_loss: 2.1830 - val_acc: 0.4870\n",
            "Epoch 12/50\n",
            "50000/50000 [==============================] - 2s 39us/step - loss: 1.6440 - acc: 0.6186 - val_loss: 2.1785 - val_acc: 0.4870\n",
            "Epoch 13/50\n",
            "50000/50000 [==============================] - 2s 36us/step - loss: 1.5825 - acc: 0.6333 - val_loss: 2.2029 - val_acc: 0.4846\n",
            "Epoch 14/50\n",
            "50000/50000 [==============================] - 2s 38us/step - loss: 1.5247 - acc: 0.6458 - val_loss: 2.2000 - val_acc: 0.4833\n",
            "Epoch 15/50\n",
            "50000/50000 [==============================] - 2s 37us/step - loss: 1.4671 - acc: 0.6606 - val_loss: 2.1723 - val_acc: 0.4910\n",
            "Epoch 16/50\n",
            "50000/50000 [==============================] - 2s 37us/step - loss: 1.4117 - acc: 0.6733 - val_loss: 2.1670 - val_acc: 0.4915\n",
            "Epoch 17/50\n",
            "50000/50000 [==============================] - 2s 37us/step - loss: 1.3593 - acc: 0.6859 - val_loss: 2.2075 - val_acc: 0.4863\n",
            "Epoch 18/50\n",
            "50000/50000 [==============================] - 2s 37us/step - loss: 1.3057 - acc: 0.6983 - val_loss: 2.1887 - val_acc: 0.4946\n",
            "Epoch 19/50\n",
            "50000/50000 [==============================] - 2s 37us/step - loss: 1.2517 - acc: 0.7107 - val_loss: 2.1662 - val_acc: 0.4970\n",
            "Epoch 20/50\n",
            "50000/50000 [==============================] - 2s 37us/step - loss: 1.1987 - acc: 0.7240 - val_loss: 2.1905 - val_acc: 0.4944\n",
            "Epoch 21/50\n",
            "50000/50000 [==============================] - 2s 37us/step - loss: 1.1470 - acc: 0.7375 - val_loss: 2.1967 - val_acc: 0.4924\n",
            "Epoch 22/50\n",
            "50000/50000 [==============================] - 2s 36us/step - loss: 1.0976 - acc: 0.7499 - val_loss: 2.2569 - val_acc: 0.4803\n",
            "Epoch 23/50\n",
            "50000/50000 [==============================] - 2s 37us/step - loss: 1.0491 - acc: 0.7625 - val_loss: 2.2343 - val_acc: 0.4971\n",
            "Epoch 24/50\n",
            "50000/50000 [==============================] - 2s 37us/step - loss: 0.9991 - acc: 0.7748 - val_loss: 2.2782 - val_acc: 0.4886\n",
            "Epoch 25/50\n",
            "50000/50000 [==============================] - 2s 37us/step - loss: 0.9517 - acc: 0.7879 - val_loss: 2.2738 - val_acc: 0.4925\n",
            "Epoch 26/50\n",
            "50000/50000 [==============================] - 2s 37us/step - loss: 0.9063 - acc: 0.8014 - val_loss: 2.2996 - val_acc: 0.4894\n",
            "Epoch 27/50\n",
            "50000/50000 [==============================] - 2s 37us/step - loss: 0.8597 - acc: 0.8117 - val_loss: 2.2989 - val_acc: 0.4902\n",
            "Epoch 28/50\n",
            "50000/50000 [==============================] - 2s 37us/step - loss: 0.8147 - acc: 0.8242 - val_loss: 2.3128 - val_acc: 0.4948\n",
            "Epoch 29/50\n",
            "50000/50000 [==============================] - 2s 37us/step - loss: 0.7718 - acc: 0.8362 - val_loss: 2.3635 - val_acc: 0.4886\n",
            "Epoch 30/50\n",
            "50000/50000 [==============================] - 2s 37us/step - loss: 0.7294 - acc: 0.8502 - val_loss: 2.3569 - val_acc: 0.4921\n",
            "Epoch 31/50\n",
            "50000/50000 [==============================] - 2s 37us/step - loss: 0.6893 - acc: 0.8586 - val_loss: 2.4297 - val_acc: 0.4867\n",
            "Epoch 32/50\n",
            "50000/50000 [==============================] - 2s 37us/step - loss: 0.6521 - acc: 0.8691 - val_loss: 2.4402 - val_acc: 0.4889\n",
            "Epoch 33/50\n",
            "50000/50000 [==============================] - 2s 37us/step - loss: 0.6131 - acc: 0.8800 - val_loss: 2.4483 - val_acc: 0.4933\n",
            "Epoch 34/50\n",
            "50000/50000 [==============================] - 2s 37us/step - loss: 0.5736 - acc: 0.8927 - val_loss: 2.5123 - val_acc: 0.4891\n",
            "Epoch 35/50\n",
            "50000/50000 [==============================] - 2s 37us/step - loss: 0.5415 - acc: 0.9004 - val_loss: 2.6699 - val_acc: 0.4805\n",
            "Epoch 36/50\n",
            "50000/50000 [==============================] - 2s 37us/step - loss: 0.5097 - acc: 0.9083 - val_loss: 2.5571 - val_acc: 0.4819\n",
            "Epoch 37/50\n",
            "50000/50000 [==============================] - 2s 37us/step - loss: 0.4775 - acc: 0.9184 - val_loss: 2.6254 - val_acc: 0.4817\n",
            "Epoch 38/50\n",
            "50000/50000 [==============================] - 2s 37us/step - loss: 0.4481 - acc: 0.9259 - val_loss: 2.6165 - val_acc: 0.4826\n",
            "Epoch 39/50\n",
            "50000/50000 [==============================] - 2s 37us/step - loss: 0.4200 - acc: 0.9347 - val_loss: 2.6364 - val_acc: 0.4876\n",
            "Epoch 40/50\n",
            "50000/50000 [==============================] - 2s 37us/step - loss: 0.3916 - acc: 0.9420 - val_loss: 2.7163 - val_acc: 0.4783\n",
            "Epoch 41/50\n",
            "50000/50000 [==============================] - 2s 37us/step - loss: 0.3678 - acc: 0.9472 - val_loss: 2.7210 - val_acc: 0.4866\n",
            "Epoch 42/50\n",
            "50000/50000 [==============================] - 2s 37us/step - loss: 0.3440 - acc: 0.9540 - val_loss: 2.7510 - val_acc: 0.4836\n",
            "Epoch 43/50\n",
            "50000/50000 [==============================] - 2s 37us/step - loss: 0.3247 - acc: 0.9583 - val_loss: 2.7725 - val_acc: 0.4890\n",
            "Epoch 44/50\n",
            "50000/50000 [==============================] - 2s 37us/step - loss: 0.3017 - acc: 0.9645 - val_loss: 2.8117 - val_acc: 0.4861\n",
            "Epoch 45/50\n",
            "50000/50000 [==============================] - 2s 37us/step - loss: 0.2835 - acc: 0.9684 - val_loss: 2.8242 - val_acc: 0.4857\n",
            "Epoch 46/50\n",
            "50000/50000 [==============================] - 2s 37us/step - loss: 0.2636 - acc: 0.9737 - val_loss: 2.8415 - val_acc: 0.4860\n",
            "Epoch 47/50\n",
            "50000/50000 [==============================] - 2s 37us/step - loss: 0.2481 - acc: 0.9762 - val_loss: 2.9260 - val_acc: 0.4847\n",
            "Epoch 48/50\n",
            "50000/50000 [==============================] - 2s 37us/step - loss: 0.2323 - acc: 0.9795 - val_loss: 2.8899 - val_acc: 0.4851\n",
            "Epoch 49/50\n",
            "50000/50000 [==============================] - 2s 37us/step - loss: 0.2185 - acc: 0.9826 - val_loss: 2.9180 - val_acc: 0.4926\n",
            "Epoch 50/50\n",
            "50000/50000 [==============================] - 2s 37us/step - loss: 0.2043 - acc: 0.9855 - val_loss: 3.0021 - val_acc: 0.4824\n"
          ],
          "name": "stdout"
        }
      ]
    },
    {
      "cell_type": "code",
      "metadata": {
        "id": "up_67dCp_ZP2",
        "colab_type": "code",
        "outputId": "b05b7f77-107f-47ae-89e2-a2ebedb92c61",
        "colab": {
          "base_uri": "https://localhost:8080/",
          "height": 810
        }
      },
      "source": [
        "plt.figure(figsize = (8,6))\n",
        "plt.plot(history.history['acc'],'-', label = \"train\", color = 'g')\n",
        "plt.plot(history.history['val_acc'],'--', label = 'valid', color = 'r')\n",
        "plt.xlabel('epochs')\n",
        "plt.ylabel('Accuracy')\n",
        "plt.title(\"Training & Validation accuracy\")\n",
        "plt.legend()\n",
        "plt.show()\n",
        "\n",
        "plt.figure(figsize = (8,6))\n",
        "plt.plot(history.history['loss'],'-', label = \"train\", color = 'g')\n",
        "plt.plot(history.history['val_loss'],'--', label = \"valid\", color = 'r')\n",
        "plt.xlabel('epochs')\n",
        "plt.ylabel('Loss')\n",
        "plt.title(\"Training & Validation loss\")\n",
        "plt.legend()\n",
        "plt.show()"
      ],
      "execution_count": 27,
      "outputs": [
        {
          "output_type": "display_data",
          "data": {
            "image/png": "[encoded data removed]",
            "text/plain": [
              "<Figure size 576x432 with 1 Axes>"
            ]
          },
          "metadata": {
            "tags": []
          }
        },
        {
          "output_type": "display_data",
          "data": {
            "image/png": "[encoded data removed]",
            "text/plain": [
              "<Figure size 576x432 with 1 Axes>"
            ]
          },
          "metadata": {
            "tags": []
          }
        }
      ]
    },
    {
      "cell_type": "code",
      "metadata": {
        "id": "wwepgAmJF5fH",
        "colab_type": "code",
        "colab": {}
      },
      "source": [
        ""
      ],
      "execution_count": 0,
      "outputs": []
    }
  ]
}