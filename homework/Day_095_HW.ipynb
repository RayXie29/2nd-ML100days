{
  "nbformat": 4,
  "nbformat_minor": 0,
  "metadata": {
    "colab": {
      "name": "Untitled1.ipynb",
      "version": "0.3.2",
      "provenance": []
    },
    "kernelspec": {
      "name": "python3",
      "display_name": "Python 3"
    }
  },
  "cells": [
    {
      "cell_type": "markdown",
      "metadata": {
        "id": "avgC7DcCdAhz",
        "colab_type": "text"
      },
      "source": [
        "# 教學目標:\n",
        "了解 Padding 的作法 <br />\n",
        "<br />\n",
        "了解 Pooling 的作法 <br />\n",
        "\n",
        "# 範例說明:\n",
        "(1)zero_pad - feature map 跟原圖的比對 <br />\n",
        "<br />\n",
        "(2)pool_forward - 前行網路的 pooling layer<br />"
      ]
    },
    {
      "cell_type": "code",
      "metadata": {
        "id": "LE5fQOFu8UWS",
        "colab_type": "code",
        "colab": {
          "base_uri": "https://localhost:8080/",
          "height": 72
        },
        "outputId": "8671a293-09bc-441f-cb4d-ad888a26da86"
      },
      "source": [
        "import numpy as np\n",
        "import h5py\n",
        "import matplotlib.pyplot as plt\n",
        "\n",
        "%matplotlib inline\n",
        "\n",
        "plt.rcParams['figure.figsize'] = (5.0, 4.0)\n",
        "plt.rcParams['image.interpolation'] = 'nearest'\n",
        "plt.rcParams['image.cmap'] = 'gray'\n",
        "\n",
        "%load_ext autoreload\n",
        "%autoreload 2\n",
        "np.random.seed(2)"
      ],
      "execution_count": 8,
      "outputs": [
        {
          "output_type": "stream",
          "text": [
            "The autoreload extension is already loaded. To reload it, use:\n",
            "  %reload_ext autoreload\n"
          ],
          "name": "stdout"
        }
      ]
    },
    {
      "cell_type": "code",
      "metadata": {
        "id": "9tgD3AtPWJTA",
        "colab_type": "code",
        "colab": {}
      },
      "source": [
        "def zero_pad(x, pad):\n",
        "  \n",
        "  '''\n",
        "  \n",
        "  do the zero-padding on image\n",
        "  x : numpy array, dimension would be (m, n_H, n_W, n_C) \n",
        "  m is the number of image in a batch, n_H is the height of image, n_W is the width of image, n_C is the channel of image\n",
        "  \n",
        "  pad : integer, how many padding we will add\n",
        "  \n",
        "  x_pad - the result image after padding   \n",
        "  '''\n",
        "  \n",
        "  x_pad = np.pad(x, ( (0,0), (pad,pad), (pad,pad), (0,0)), 'constant', constant_values = (0,0))\n",
        "  return x_pad"
      ],
      "execution_count": 0,
      "outputs": []
    },
    {
      "cell_type": "code",
      "metadata": {
        "id": "QIU9uXVCYZct",
        "colab_type": "code",
        "colab": {
          "base_uri": "https://localhost:8080/",
          "height": 422
        },
        "outputId": "c6bba8a5-92ea-4a4b-c41c-58256f3e9eb7"
      },
      "source": [
        "x = np.random.randn(4,3,3,1)\n",
        "x_pad = zero_pad(x, 2)\n",
        "print(f' x shape : {x.shape}')\n",
        "print(f' x_pad shape : {x_pad.shape}')\n",
        "print(f' x[1,1] : {x[1,1]}')\n",
        "print(f' x_pad[1,1] : {x_pad[1,1]}')\n",
        "\n",
        "plt.subplot(1,2,1)\n",
        "plt.title('x')\n",
        "plt.imshow(x[0,:,:,0])\n",
        "plt.subplot(1,2,2)\n",
        "plt.title('x_pad')\n",
        "plt.imshow(x_pad[0,:,:,0])\n",
        "plt.show()"
      ],
      "execution_count": 10,
      "outputs": [
        {
          "output_type": "stream",
          "text": [
            " x shape : (4, 3, 3, 1)\n",
            " x_pad shape : (4, 7, 7, 1)\n",
            " x[1,1] : [[ 0.04153939]\n",
            " [-1.11792545]\n",
            " [ 0.53905832]]\n",
            " x_pad[1,1] : [[0.]\n",
            " [0.]\n",
            " [0.]\n",
            " [0.]\n",
            " [0.]\n",
            " [0.]\n",
            " [0.]]\n"
          ],
          "name": "stdout"
        },
        {
          "output_type": "display_data",
          "data": {
            "image/png": "[encoded data removed]",
            "text/plain": [
              "<Figure size 360x288 with 2 Axes>"
            ]
          },
          "metadata": {
            "tags": []
          }
        }
      ]
    },
    {
      "cell_type": "code",
      "metadata": {
        "id": "5UORxGbdZCMY",
        "colab_type": "code",
        "colab": {}
      },
      "source": [
        "def pool_forward(A_prev, hparameters, mode = 'max'):\n",
        "  '''\n",
        "  design a forward netwok maxpool layer\n",
        "  \n",
        "  A_prev : input numpy array, dimension : (m, n_H_prev, n_W_prev, n_C_prev)\n",
        "  hparameters : dict of \"f\" and \"stride\" \n",
        "  mode : mode of maxpooling , \"max\" or \"average\"\n",
        "  \n",
        "  return:\n",
        "  A : output of maxpooling\n",
        "  cache : the data can be used on backward pass pooling layer which include input and hparameters\n",
        " \n",
        "  '''\n",
        "  \n",
        "  (m,h,w,c) = A_prev.shape\n",
        "  \n",
        "  f = hparameters[\"f\"]\n",
        "  stride = hparameters[\"stride\"]\n",
        "  \n",
        "  out_h = int( (h - f)/stride + 1 )\n",
        "  out_w = int( (w - f)/stride + 1 )\n",
        "  out_c = c\n",
        "  \n",
        "  A = np.zeros((m,out_h, out_w, c))\n",
        "  \n",
        "  \n",
        "  for i in range(m):\n",
        "    for j in range(out_h):\n",
        "      for k in range(out_w):\n",
        "        for l in range(out_c):\n",
        "          \n",
        "          vert_start = j * stride\n",
        "          vert_end = vert_start + f\n",
        "          horiz_start = k * stride\n",
        "          horiz_end = horiz_start + f\n",
        "          \n",
        "          part_mat = A_prev[i,vert_start : vert_end, horiz_start : horiz_end, l]\n",
        "          \n",
        "          if mode == 'max':\n",
        "              A[i,j,k,l] = np.max(part_mat)\n",
        "          else:\n",
        "              A[i,j,k,l] = np.mean(part_mat)\n",
        "\n",
        "  cache = (A_prev, hparameters)\n",
        "  assert(A.shape == (m,out_h,out_w,c))\n",
        "  return A, cache\n",
        "  "
      ],
      "execution_count": 0,
      "outputs": []
    },
    {
      "cell_type": "code",
      "metadata": {
        "id": "CzYJJO5qcA7u",
        "colab_type": "code",
        "colab": {
          "base_uri": "https://localhost:8080/",
          "height": 252
        },
        "outputId": "0a889a0f-2621-4120-d4b0-dd94442bbd1b"
      },
      "source": [
        "A_prev = np.random.randn(2,4,4,3)\n",
        "hparameters = {\"stride\":2, \"f\":3}\n",
        "A,cache = pool_forward(A_prev, hparameters)\n",
        "print(\"mode = max\")\n",
        "print(f\"A = {A}\")\n",
        "print()\n",
        "A,cacje = pool_forward(A_prev, hparameters, mode = 'average')\n",
        "print(\"mode = average\")\n",
        "print(f\"A = {A}\")"
      ],
      "execution_count": 27,
      "outputs": [
        {
          "output_type": "stream",
          "text": [
            "mode = max\n",
            "A = [[[[1.0858064  1.90437591 0.54894656]]]\n",
            "\n",
            "\n",
            " [[[1.04547799 1.93315697 1.0281849 ]]]]\n",
            "\n",
            "mode = average\n",
            "A = [[[[-0.0834588   0.14211836 -0.46910401]]]\n",
            "\n",
            "\n",
            " [[[-0.4873067   0.86568792 -0.26576876]]]]\n"
          ],
          "name": "stdout"
        }
      ]
    },
    {
      "cell_type": "markdown",
      "metadata": {
        "id": "wM_DfaNGdnn9",
        "colab_type": "text"
      },
      "source": [
        "# 作業目標:\n",
        "了解 Padding 的作法 <br />\n",
        "<br />\n",
        "了解 Pooling 的作法<br />\n",
        "\n",
        "# 作業重點:\n",
        "(1) 調整Padding 的設定, 看 Pad 後的結果<br />\n",
        "<br />\n",
        "(2) 調整Pooling 的設定, 看 Poolin 後的結果<br />"
      ]
    },
    {
      "cell_type": "code",
      "metadata": {
        "id": "5AlLsbvzc4Nh",
        "colab_type": "code",
        "colab": {
          "base_uri": "https://localhost:8080/",
          "height": 307
        },
        "outputId": "57a5a325-4729-49d4-f30d-e0812858d6f9"
      },
      "source": [
        "import keras\n",
        "\n",
        "(train_x, train_y), (test_x, test_y) = keras.datasets.mnist.load_data()\n",
        "image = train_x[0]\n",
        "print(f' image shape : {image.shape}')\n",
        "plt.imshow(image)\n",
        "plt.show()"
      ],
      "execution_count": 28,
      "outputs": [
        {
          "output_type": "stream",
          "text": [
            " image shape : (28, 28)\n"
          ],
          "name": "stdout"
        },
        {
          "output_type": "display_data",
          "data": {
            "image/png": "[encoded data removed]",
            "text/plain": [
              "<Figure size 360x288 with 1 Axes>"
            ]
          },
          "metadata": {
            "tags": []
          }
        }
      ]
    },
    {
      "cell_type": "code",
      "metadata": {
        "id": "mOEU5EChd9ci",
        "colab_type": "code",
        "colab": {
          "base_uri": "https://localhost:8080/",
          "height": 219
        },
        "outputId": "9aec193c-ea0d-4c25-8b5f-75da9a083fa3"
      },
      "source": [
        "image = image.reshape(1,image.shape[0],image.shape[1],1)\n",
        "\n",
        "pad_image = zero_pad(image, 5)\n",
        "\n",
        "plt.subplot(1,2,1)\n",
        "plt.imshow(image.reshape(image.shape[1],image.shape[2]))\n",
        "plt.subplot(1,2,2)\n",
        "plt.imshow(pad_image.reshape(pad_image.shape[1],pad_image.shape[2]))\n",
        "plt.show()"
      ],
      "execution_count": 29,
      "outputs": [
        {
          "output_type": "display_data",
          "data": {
            "image/png": "[encoded data removed]",
            "text/plain": [
              "<Figure size 360x288 with 2 Axes>"
            ]
          },
          "metadata": {
            "tags": []
          }
        }
      ]
    },
    {
      "cell_type": "code",
      "metadata": {
        "id": "RURSPPg3emBM",
        "colab_type": "code",
        "colab": {
          "base_uri": "https://localhost:8080/",
          "height": 198
        },
        "outputId": "1e457aef-0a31-4840-c644-51f612e3ccbc"
      },
      "source": [
        "\n",
        "hparameters = {\"stride\":2 , \"f\" : 3}\n",
        "maxpool_image, cache = pool_forward(image, hparameters)\n",
        "plt.subplot(1,2,1)\n",
        "plt.imshow(image.reshape(image.shape[1],image.shape[2]))\n",
        "plt.subplot(1,2,2)\n",
        "plt.imshow(maxpool_image.reshape(maxpool_image.shape[1],maxpool_image.shape[2]))\n",
        "plt.show()"
      ],
      "execution_count": 30,
      "outputs": [
        {
          "output_type": "display_data",
          "data": {
            "image/png": "[encoded data removed]",
            "text/plain": [
              "<Figure size 360x288 with 2 Axes>"
            ]
          },
          "metadata": {
            "tags": []
          }
        }
      ]
    },
    {
      "cell_type": "code",
      "metadata": {
        "id": "liEOiCAhfCfL",
        "colab_type": "code",
        "colab": {
          "base_uri": "https://localhost:8080/",
          "height": 219
        },
        "outputId": "b35de6c9-c972-4b5b-a6f5-7350d1fadbdc"
      },
      "source": [
        "\n",
        "hparameters = {\"stride\":2 , \"f\" : 3}\n",
        "maxpool_image, cache = pool_forward(image, hparameters, mode = 'average')\n",
        "plt.subplot(1,2,1)\n",
        "plt.imshow(image.reshape(image.shape[1],image.shape[2]))\n",
        "plt.subplot(1,2,2)\n",
        "plt.imshow(maxpool_image.reshape(maxpool_image.shape[1],maxpool_image.shape[2]))\n",
        "plt.show()"
      ],
      "execution_count": 31,
      "outputs": [
        {
          "output_type": "display_data",
          "data": {
            "image/png": "[encoded data removed]",
            "text/plain": [
              "<Figure size 360x288 with 2 Axes>"
            ]
          },
          "metadata": {
            "tags": []
          }
        }
      ]
    },
    {
      "cell_type": "code",
      "metadata": {
        "id": "ZGz4HlFRfpvJ",
        "colab_type": "code",
        "colab": {}
      },
      "source": [
        ""
      ],
      "execution_count": 0,
      "outputs": []
    }
  ]
}