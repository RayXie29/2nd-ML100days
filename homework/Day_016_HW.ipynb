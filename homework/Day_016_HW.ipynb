{
 "cells": [
  {
   "cell_type": "markdown",
   "metadata": {},
   "source": [
    "**[教學目標]** <br />\n",
    "綜合到目前為止所教的內容, 提交一次作答結果吧!! <br />\n",
    "**[範例重點]** <br />\n",
    "資料清理  <br />\n",
    "前處理 : MinMaxScaler, Imputer <br />\n",
    "Heatmap 的進階用法 : 散佈圖, KDE, 密度圖 <br />\n",
    "輸出值的紀錄 <br />"
   ]
  },
  {
   "cell_type": "code",
   "execution_count": 53,
   "metadata": {},
   "outputs": [],
   "source": [
    "#import the modules we need\n",
    "import os\n",
    "import numpy as np\n",
    "import pandas as pd\n",
    "import matplotlib.pyplot as plt\n",
    "import warnings\n",
    "\n",
    "warnings.filterwarnings('ignore')\n",
    "\n",
    "data_dir = './data/'"
   ]
  },
  {
   "cell_type": "code",
   "execution_count": 54,
   "metadata": {},
   "outputs": [],
   "source": [
    "f_app_train = os.path.join(data_dir,'application_train.csv')\n",
    "f_app_test = os.path.join(data_dir,'application_test.csv')\n",
    "\n",
    "df_train = pd.read_csv(f_app_train)\n",
    "df_test = pd.read_csv(f_app_test)"
   ]
  },
  {
   "cell_type": "code",
   "execution_count": 55,
   "metadata": {},
   "outputs": [
    {
     "name": "stdout",
     "output_type": "stream",
     "text": [
      "NAs in SK_ID_CURR : 0\n",
      "NAs in TARGET : 0\n",
      "NAs in NAME_CONTRACT_TYPE : 0\n",
      "NAs in CODE_GENDER : 0\n",
      "NAs in FLAG_OWN_CAR : 0\n",
      "NAs in FLAG_OWN_REALTY : 0\n",
      "NAs in CNT_CHILDREN : 0\n",
      "NAs in AMT_INCOME_TOTAL : 0\n",
      "NAs in AMT_CREDIT : 0\n",
      "NAs in AMT_ANNUITY : 12\n",
      "NAs in AMT_GOODS_PRICE : 278\n",
      "NAs in NAME_TYPE_SUITE : 1292\n",
      "NAs in NAME_INCOME_TYPE : 0\n",
      "NAs in NAME_EDUCATION_TYPE : 0\n",
      "NAs in NAME_FAMILY_STATUS : 0\n",
      "NAs in NAME_HOUSING_TYPE : 0\n",
      "NAs in REGION_POPULATION_RELATIVE : 0\n",
      "NAs in DAYS_BIRTH : 0\n",
      "NAs in DAYS_EMPLOYED : 0\n",
      "NAs in DAYS_REGISTRATION : 0\n",
      "NAs in DAYS_ID_PUBLISH : 0\n",
      "NAs in OWN_CAR_AGE : 202929\n",
      "NAs in FLAG_MOBIL : 0\n",
      "NAs in FLAG_EMP_PHONE : 0\n",
      "NAs in FLAG_WORK_PHONE : 0\n",
      "NAs in FLAG_CONT_MOBILE : 0\n",
      "NAs in FLAG_PHONE : 0\n",
      "NAs in FLAG_EMAIL : 0\n",
      "NAs in OCCUPATION_TYPE : 96391\n",
      "NAs in CNT_FAM_MEMBERS : 2\n",
      "NAs in REGION_RATING_CLIENT : 0\n",
      "NAs in REGION_RATING_CLIENT_W_CITY : 0\n",
      "NAs in WEEKDAY_APPR_PROCESS_START : 0\n",
      "NAs in HOUR_APPR_PROCESS_START : 0\n",
      "NAs in REG_REGION_NOT_LIVE_REGION : 0\n",
      "NAs in REG_REGION_NOT_WORK_REGION : 0\n",
      "NAs in LIVE_REGION_NOT_WORK_REGION : 0\n",
      "NAs in REG_CITY_NOT_LIVE_CITY : 0\n",
      "NAs in REG_CITY_NOT_WORK_CITY : 0\n",
      "NAs in LIVE_CITY_NOT_WORK_CITY : 0\n",
      "NAs in ORGANIZATION_TYPE : 0\n",
      "NAs in EXT_SOURCE_1 : 173378\n",
      "NAs in EXT_SOURCE_2 : 660\n",
      "NAs in EXT_SOURCE_3 : 60965\n",
      "NAs in APARTMENTS_AVG : 156061\n",
      "NAs in BASEMENTAREA_AVG : 179943\n",
      "NAs in YEARS_BEGINEXPLUATATION_AVG : 150007\n",
      "NAs in YEARS_BUILD_AVG : 204488\n",
      "NAs in COMMONAREA_AVG : 214865\n",
      "NAs in ELEVATORS_AVG : 163891\n",
      "NAs in ENTRANCES_AVG : 154828\n",
      "NAs in FLOORSMAX_AVG : 153020\n",
      "NAs in FLOORSMIN_AVG : 208642\n",
      "NAs in LANDAREA_AVG : 182590\n",
      "NAs in LIVINGAPARTMENTS_AVG : 210199\n",
      "NAs in LIVINGAREA_AVG : 154350\n",
      "NAs in NONLIVINGAPARTMENTS_AVG : 213514\n",
      "NAs in NONLIVINGAREA_AVG : 169682\n",
      "NAs in APARTMENTS_MODE : 156061\n",
      "NAs in BASEMENTAREA_MODE : 179943\n",
      "NAs in YEARS_BEGINEXPLUATATION_MODE : 150007\n",
      "NAs in YEARS_BUILD_MODE : 204488\n",
      "NAs in COMMONAREA_MODE : 214865\n",
      "NAs in ELEVATORS_MODE : 163891\n",
      "NAs in ENTRANCES_MODE : 154828\n",
      "NAs in FLOORSMAX_MODE : 153020\n",
      "NAs in FLOORSMIN_MODE : 208642\n",
      "NAs in LANDAREA_MODE : 182590\n",
      "NAs in LIVINGAPARTMENTS_MODE : 210199\n",
      "NAs in LIVINGAREA_MODE : 154350\n",
      "NAs in NONLIVINGAPARTMENTS_MODE : 213514\n",
      "NAs in NONLIVINGAREA_MODE : 169682\n",
      "NAs in APARTMENTS_MEDI : 156061\n",
      "NAs in BASEMENTAREA_MEDI : 179943\n",
      "NAs in YEARS_BEGINEXPLUATATION_MEDI : 150007\n",
      "NAs in YEARS_BUILD_MEDI : 204488\n",
      "NAs in COMMONAREA_MEDI : 214865\n",
      "NAs in ELEVATORS_MEDI : 163891\n",
      "NAs in ENTRANCES_MEDI : 154828\n",
      "NAs in FLOORSMAX_MEDI : 153020\n",
      "NAs in FLOORSMIN_MEDI : 208642\n",
      "NAs in LANDAREA_MEDI : 182590\n",
      "NAs in LIVINGAPARTMENTS_MEDI : 210199\n",
      "NAs in LIVINGAREA_MEDI : 154350\n",
      "NAs in NONLIVINGAPARTMENTS_MEDI : 213514\n",
      "NAs in NONLIVINGAREA_MEDI : 169682\n",
      "NAs in FONDKAPREMONT_MODE : 210295\n",
      "NAs in HOUSETYPE_MODE : 154297\n",
      "NAs in TOTALAREA_MODE : 148431\n",
      "NAs in WALLSMATERIAL_MODE : 156341\n",
      "NAs in EMERGENCYSTATE_MODE : 145755\n",
      "NAs in OBS_30_CNT_SOCIAL_CIRCLE : 1021\n",
      "NAs in DEF_30_CNT_SOCIAL_CIRCLE : 1021\n",
      "NAs in OBS_60_CNT_SOCIAL_CIRCLE : 1021\n",
      "NAs in DEF_60_CNT_SOCIAL_CIRCLE : 1021\n",
      "NAs in DAYS_LAST_PHONE_CHANGE : 1\n",
      "NAs in FLAG_DOCUMENT_2 : 0\n",
      "NAs in FLAG_DOCUMENT_3 : 0\n",
      "NAs in FLAG_DOCUMENT_4 : 0\n",
      "NAs in FLAG_DOCUMENT_5 : 0\n",
      "NAs in FLAG_DOCUMENT_6 : 0\n",
      "NAs in FLAG_DOCUMENT_7 : 0\n",
      "NAs in FLAG_DOCUMENT_8 : 0\n",
      "NAs in FLAG_DOCUMENT_9 : 0\n",
      "NAs in FLAG_DOCUMENT_10 : 0\n",
      "NAs in FLAG_DOCUMENT_11 : 0\n",
      "NAs in FLAG_DOCUMENT_12 : 0\n",
      "NAs in FLAG_DOCUMENT_13 : 0\n",
      "NAs in FLAG_DOCUMENT_14 : 0\n",
      "NAs in FLAG_DOCUMENT_15 : 0\n",
      "NAs in FLAG_DOCUMENT_16 : 0\n",
      "NAs in FLAG_DOCUMENT_17 : 0\n",
      "NAs in FLAG_DOCUMENT_18 : 0\n",
      "NAs in FLAG_DOCUMENT_19 : 0\n",
      "NAs in FLAG_DOCUMENT_20 : 0\n",
      "NAs in FLAG_DOCUMENT_21 : 0\n",
      "NAs in AMT_REQ_CREDIT_BUREAU_HOUR : 41519\n",
      "NAs in AMT_REQ_CREDIT_BUREAU_DAY : 41519\n",
      "NAs in AMT_REQ_CREDIT_BUREAU_WEEK : 41519\n",
      "NAs in AMT_REQ_CREDIT_BUREAU_MON : 41519\n",
      "NAs in AMT_REQ_CREDIT_BUREAU_QRT : 41519\n",
      "NAs in AMT_REQ_CREDIT_BUREAU_YEAR : 41519\n"
     ]
    }
   ],
   "source": [
    "#checking the NAs in train data\n",
    "for col in df_train.columns:\n",
    "    print('NAs in %s :' %col, np.sum(df_train[col].isnull()) )"
   ]
  },
  {
   "cell_type": "code",
   "execution_count": 56,
   "metadata": {},
   "outputs": [
    {
     "name": "stdout",
     "output_type": "stream",
     "text": [
      "NAs in SK_ID_CURR : 0\n",
      "NAs in NAME_CONTRACT_TYPE : 0\n",
      "NAs in CODE_GENDER : 0\n",
      "NAs in FLAG_OWN_CAR : 0\n",
      "NAs in FLAG_OWN_REALTY : 0\n",
      "NAs in CNT_CHILDREN : 0\n",
      "NAs in AMT_INCOME_TOTAL : 0\n",
      "NAs in AMT_CREDIT : 0\n",
      "NAs in AMT_ANNUITY : 24\n",
      "NAs in AMT_GOODS_PRICE : 0\n",
      "NAs in NAME_TYPE_SUITE : 911\n",
      "NAs in NAME_INCOME_TYPE : 0\n",
      "NAs in NAME_EDUCATION_TYPE : 0\n",
      "NAs in NAME_FAMILY_STATUS : 0\n",
      "NAs in NAME_HOUSING_TYPE : 0\n",
      "NAs in REGION_POPULATION_RELATIVE : 0\n",
      "NAs in DAYS_BIRTH : 0\n",
      "NAs in DAYS_EMPLOYED : 0\n",
      "NAs in DAYS_REGISTRATION : 0\n",
      "NAs in DAYS_ID_PUBLISH : 0\n",
      "NAs in OWN_CAR_AGE : 32312\n",
      "NAs in FLAG_MOBIL : 0\n",
      "NAs in FLAG_EMP_PHONE : 0\n",
      "NAs in FLAG_WORK_PHONE : 0\n",
      "NAs in FLAG_CONT_MOBILE : 0\n",
      "NAs in FLAG_PHONE : 0\n",
      "NAs in FLAG_EMAIL : 0\n",
      "NAs in OCCUPATION_TYPE : 15605\n",
      "NAs in CNT_FAM_MEMBERS : 0\n",
      "NAs in REGION_RATING_CLIENT : 0\n",
      "NAs in REGION_RATING_CLIENT_W_CITY : 0\n",
      "NAs in WEEKDAY_APPR_PROCESS_START : 0\n",
      "NAs in HOUR_APPR_PROCESS_START : 0\n",
      "NAs in REG_REGION_NOT_LIVE_REGION : 0\n",
      "NAs in REG_REGION_NOT_WORK_REGION : 0\n",
      "NAs in LIVE_REGION_NOT_WORK_REGION : 0\n",
      "NAs in REG_CITY_NOT_LIVE_CITY : 0\n",
      "NAs in REG_CITY_NOT_WORK_CITY : 0\n",
      "NAs in LIVE_CITY_NOT_WORK_CITY : 0\n",
      "NAs in ORGANIZATION_TYPE : 0\n",
      "NAs in EXT_SOURCE_1 : 20532\n",
      "NAs in EXT_SOURCE_2 : 8\n",
      "NAs in EXT_SOURCE_3 : 8668\n",
      "NAs in APARTMENTS_AVG : 23887\n",
      "NAs in BASEMENTAREA_AVG : 27641\n",
      "NAs in YEARS_BEGINEXPLUATATION_AVG : 22856\n",
      "NAs in YEARS_BUILD_AVG : 31818\n",
      "NAs in COMMONAREA_AVG : 33495\n",
      "NAs in ELEVATORS_AVG : 25189\n",
      "NAs in ENTRANCES_AVG : 23579\n",
      "NAs in FLOORSMAX_AVG : 23321\n",
      "NAs in FLOORSMIN_AVG : 32466\n",
      "NAs in LANDAREA_AVG : 28254\n",
      "NAs in LIVINGAPARTMENTS_AVG : 32780\n",
      "NAs in LIVINGAREA_AVG : 23552\n",
      "NAs in NONLIVINGAPARTMENTS_AVG : 33347\n",
      "NAs in NONLIVINGAREA_AVG : 26084\n",
      "NAs in APARTMENTS_MODE : 23887\n",
      "NAs in BASEMENTAREA_MODE : 27641\n",
      "NAs in YEARS_BEGINEXPLUATATION_MODE : 22856\n",
      "NAs in YEARS_BUILD_MODE : 31818\n",
      "NAs in COMMONAREA_MODE : 33495\n",
      "NAs in ELEVATORS_MODE : 25189\n",
      "NAs in ENTRANCES_MODE : 23579\n",
      "NAs in FLOORSMAX_MODE : 23321\n",
      "NAs in FLOORSMIN_MODE : 32466\n",
      "NAs in LANDAREA_MODE : 28254\n",
      "NAs in LIVINGAPARTMENTS_MODE : 32780\n",
      "NAs in LIVINGAREA_MODE : 23552\n",
      "NAs in NONLIVINGAPARTMENTS_MODE : 33347\n",
      "NAs in NONLIVINGAREA_MODE : 26084\n",
      "NAs in APARTMENTS_MEDI : 23887\n",
      "NAs in BASEMENTAREA_MEDI : 27641\n",
      "NAs in YEARS_BEGINEXPLUATATION_MEDI : 22856\n",
      "NAs in YEARS_BUILD_MEDI : 31818\n",
      "NAs in COMMONAREA_MEDI : 33495\n",
      "NAs in ELEVATORS_MEDI : 25189\n",
      "NAs in ENTRANCES_MEDI : 23579\n",
      "NAs in FLOORSMAX_MEDI : 23321\n",
      "NAs in FLOORSMIN_MEDI : 32466\n",
      "NAs in LANDAREA_MEDI : 28254\n",
      "NAs in LIVINGAPARTMENTS_MEDI : 32780\n",
      "NAs in LIVINGAREA_MEDI : 23552\n",
      "NAs in NONLIVINGAPARTMENTS_MEDI : 33347\n",
      "NAs in NONLIVINGAREA_MEDI : 26084\n",
      "NAs in FONDKAPREMONT_MODE : 32797\n",
      "NAs in HOUSETYPE_MODE : 23619\n",
      "NAs in TOTALAREA_MODE : 22624\n",
      "NAs in WALLSMATERIAL_MODE : 23893\n",
      "NAs in EMERGENCYSTATE_MODE : 22209\n",
      "NAs in OBS_30_CNT_SOCIAL_CIRCLE : 29\n",
      "NAs in DEF_30_CNT_SOCIAL_CIRCLE : 29\n",
      "NAs in OBS_60_CNT_SOCIAL_CIRCLE : 29\n",
      "NAs in DEF_60_CNT_SOCIAL_CIRCLE : 29\n",
      "NAs in DAYS_LAST_PHONE_CHANGE : 0\n",
      "NAs in FLAG_DOCUMENT_2 : 0\n",
      "NAs in FLAG_DOCUMENT_3 : 0\n",
      "NAs in FLAG_DOCUMENT_4 : 0\n",
      "NAs in FLAG_DOCUMENT_5 : 0\n",
      "NAs in FLAG_DOCUMENT_6 : 0\n",
      "NAs in FLAG_DOCUMENT_7 : 0\n",
      "NAs in FLAG_DOCUMENT_8 : 0\n",
      "NAs in FLAG_DOCUMENT_9 : 0\n",
      "NAs in FLAG_DOCUMENT_10 : 0\n",
      "NAs in FLAG_DOCUMENT_11 : 0\n",
      "NAs in FLAG_DOCUMENT_12 : 0\n",
      "NAs in FLAG_DOCUMENT_13 : 0\n",
      "NAs in FLAG_DOCUMENT_14 : 0\n",
      "NAs in FLAG_DOCUMENT_15 : 0\n",
      "NAs in FLAG_DOCUMENT_16 : 0\n",
      "NAs in FLAG_DOCUMENT_17 : 0\n",
      "NAs in FLAG_DOCUMENT_18 : 0\n",
      "NAs in FLAG_DOCUMENT_19 : 0\n",
      "NAs in FLAG_DOCUMENT_20 : 0\n",
      "NAs in FLAG_DOCUMENT_21 : 0\n",
      "NAs in AMT_REQ_CREDIT_BUREAU_HOUR : 6049\n",
      "NAs in AMT_REQ_CREDIT_BUREAU_DAY : 6049\n",
      "NAs in AMT_REQ_CREDIT_BUREAU_WEEK : 6049\n",
      "NAs in AMT_REQ_CREDIT_BUREAU_MON : 6049\n",
      "NAs in AMT_REQ_CREDIT_BUREAU_QRT : 6049\n",
      "NAs in AMT_REQ_CREDIT_BUREAU_YEAR : 6049\n"
     ]
    }
   ],
   "source": [
    "#checking the NAs in test data\n",
    "for col in df_test.columns:\n",
    "    print('NAs in %s :' %col, np.sum(df_test[col].isnull()))"
   ]
  },
  {
   "cell_type": "code",
   "execution_count": 57,
   "metadata": {},
   "outputs": [],
   "source": [
    "#Checking correlation of data with target in train_data\n",
    "correlation_train = df_train.corr()['TARGET'].sort_values(ascending=False)"
   ]
  },
  {
   "cell_type": "code",
   "execution_count": 58,
   "metadata": {
    "scrolled": true
   },
   "outputs": [
    {
     "name": "stdout",
     "output_type": "stream",
     "text": [
      "TARGET                         1.000000\n",
      "DAYS_BIRTH                     0.078239\n",
      "REGION_RATING_CLIENT_W_CITY    0.060893\n",
      "REGION_RATING_CLIENT           0.058899\n",
      "DAYS_LAST_PHONE_CHANGE         0.055218\n",
      "DAYS_ID_PUBLISH                0.051457\n",
      "REG_CITY_NOT_WORK_CITY         0.050994\n",
      "FLAG_EMP_PHONE                 0.045982\n",
      "REG_CITY_NOT_LIVE_CITY         0.044395\n",
      "FLAG_DOCUMENT_3                0.044346\n",
      "DAYS_REGISTRATION              0.041975\n",
      "OWN_CAR_AGE                    0.037612\n",
      "LIVE_CITY_NOT_WORK_CITY        0.032518\n",
      "DEF_30_CNT_SOCIAL_CIRCLE       0.032248\n",
      "DEF_60_CNT_SOCIAL_CIRCLE       0.031276\n",
      "Name: TARGET, dtype: float64\n",
      "LIVINGAREA_MEDI              -0.032739\n",
      "LIVINGAREA_AVG               -0.032997\n",
      "FLOORSMIN_MEDI               -0.033394\n",
      "FLOORSMIN_AVG                -0.033614\n",
      "ELEVATORS_MEDI               -0.033863\n",
      "ELEVATORS_AVG                -0.034199\n",
      "REGION_POPULATION_RELATIVE   -0.037227\n",
      "AMT_GOODS_PRICE              -0.039645\n",
      "FLOORSMAX_MODE               -0.043226\n",
      "FLOORSMAX_MEDI               -0.043768\n",
      "FLOORSMAX_AVG                -0.044003\n",
      "DAYS_EMPLOYED                -0.044932\n",
      "EXT_SOURCE_1                 -0.155317\n",
      "EXT_SOURCE_2                 -0.160472\n",
      "EXT_SOURCE_3                 -0.178919\n",
      "Name: TARGET, dtype: float64\n"
     ]
    }
   ],
   "source": [
    "print(correlation_train.head(15))\n",
    "print(correlation_train.tail(15))"
   ]
  },
  {
   "cell_type": "code",
   "execution_count": 59,
   "metadata": {},
   "outputs": [],
   "source": [
    "def preprocessing(data):\n",
    "    data.DAYS_BIRTH = abs(data.DAYS_BIRTH)\n",
    "    data['YEARS_BIRTH'] = data.DAYS_BIRTH / 365\n",
    "    data['YEARS_BIRTH_GROUP'] = pd.qcut(data.YEARS_BIRTH,5)\n",
    "    \n",
    "    data['DAYS_EMPLOYED_WEIRD'] = data.DAYS_EMPLOYED == 365243\n",
    "    data.DAYS_EMPLOYED.replace(to_replace = 365243, value = np.nan, inplace = True)\n",
    "    data.DAYS_EMPLOYED = abs(data.DAYS_EMPLOYED)\n",
    "    data['YEARS_EMPLOYED'] = data.DAYS_EMPLOYED / 365\n",
    "    data['YEARS_EMPLOYED_GROUP'] = pd.qcut(data.YEARS_EMPLOYED,5)\n",
    "    \n",
    "    data.CODE_GENDER.replace(to_replace = 'XNA', value = 'M',inplace = True)\n",
    "    \n",
    "    data.DAYS_LAST_PHONE_CHANGE = abs(data.DAYS_LAST_PHONE_CHANGE)\n",
    "    data['YEARS_LAST_PHONE_CHANGE'] = data.DAYS_LAST_PHONE_CHANGE / 365\n",
    "    data['YEARS_LAST_PHONE_CHANGE_GROUP'] = pd.qcut(data['YEARS_LAST_PHONE_CHANGE'],4)\n",
    "    \n",
    "    data['OWN_CAR_AGE_WEIRD'] = data.OWN_CAR_AGE == 65\n",
    "    data.OWN_CAR_AGE.replace(to_replace = 65,value = np.nan, inplace = True)\n",
    "    \n",
    "    data.DAYS_ID_PUBLISH = abs(data.DAYS_ID_PUBLISH)\n",
    "    data['YEARS_ID_PUBLISH'] =  data.DAYS_ID_PUBLISH/365\n",
    "    \n",
    "    data.DAYS_REGISTRATION = abs(data.DAYS_REGISTRATION)\n",
    "    data['YEARS_REGISTRATION'] = data.DAYS_REGISTRATION / 365\n",
    "    data['YEARS_REGISTRATION_GROUP'] = pd.qcut(data['YEARS_REGISTRATION'],4)\n",
    "    \n",
    "    return data"
   ]
  },
  {
   "cell_type": "code",
   "execution_count": 60,
   "metadata": {},
   "outputs": [],
   "source": [
    "df_train = preprocessing(df_train)\n",
    "df_test = preprocessing(df_test)"
   ]
  },
  {
   "cell_type": "code",
   "execution_count": 61,
   "metadata": {},
   "outputs": [],
   "source": [
    "train = df_train.loc[:,df_train.columns != 'SK_ID_CURR' ]\n",
    "test = df_test.loc[:,df_test.columns != 'SK_ID_CURR']"
   ]
  },
  {
   "cell_type": "code",
   "execution_count": 62,
   "metadata": {},
   "outputs": [],
   "source": [
    "from sklearn.preprocessing import LabelEncoder\n",
    "le = LabelEncoder()\n",
    "\n",
    "for col in train.columns:\n",
    "    if train[col].dtype == 'object':\n",
    "        if len(train[col].unique()) <= 2:\n",
    "            train[col] = le.fit_transform(train[col])\n",
    "            test[col] = le.fit_transform(test[col])\n",
    "            \n",
    "train = pd.get_dummies(train)\n",
    "test = pd.get_dummies(test)"
   ]
  },
  {
   "cell_type": "code",
   "execution_count": 63,
   "metadata": {},
   "outputs": [
    {
     "name": "stdout",
     "output_type": "stream",
     "text": [
      "number of dataset in train data before align : 265\n",
      "number of dataset in test data before align :262\n"
     ]
    }
   ],
   "source": [
    "print('number of dataset in train data before align : %d' %len(train.columns))\n",
    "print('number of dataset in test data before align :%d' %len(test.columns))"
   ]
  },
  {
   "cell_type": "code",
   "execution_count": 64,
   "metadata": {},
   "outputs": [
    {
     "name": "stdout",
     "output_type": "stream",
     "text": [
      "number of dataset in train data after align : 244\n",
      "number of dataset in test data after align : 244\n"
     ]
    }
   ],
   "source": [
    "train_labels = df_train.TARGET\n",
    "\n",
    "#From above, we can see that the number of dataset in train and test data is different\n",
    "#So we need to remove the dataset that train data have but test data\n",
    "train,test = train.align(test, join = 'inner', axis = 1)\n",
    "print('number of dataset in train data after align : %d' %len(train.columns))\n",
    "print('number of dataset in test data after align : %d' %len(test.columns))"
   ]
  },
  {
   "cell_type": "code",
   "execution_count": 65,
   "metadata": {},
   "outputs": [
    {
     "name": "stdout",
     "output_type": "stream",
     "text": [
      "Training data shape:  (307511, 244)\n",
      "Testing data shape:  (48744, 244)\n"
     ]
    }
   ],
   "source": [
    "from sklearn.preprocessing import MinMaxScaler, Imputer\n",
    "\n",
    "training = train\n",
    "testing = test.copy()\n",
    "feature = train.columns\n",
    "\n",
    "#Imputer will fill the NAs in data of what you decide(in the case below is using median value in dataset)\n",
    "imputer = Imputer(strategy = 'median')\n",
    "#MinMaxScaler will normalize the dataset into specific range(in the case below is 0 to 1)\n",
    "scaler = MinMaxScaler(feature_range = (0,1 ))\n",
    "\n",
    "imputer.fit(training)\n",
    "training = imputer.transform(training)\n",
    "testing = imputer.transform(testing)\n",
    "\n",
    "scaler.fit(training)\n",
    "training = scaler.transform(training)\n",
    "testing = scaler.transform(testing)\n",
    "\n",
    "print('Training data shape: ', training.shape)\n",
    "print('Testing data shape: ', testing.shape)"
   ]
  },
  {
   "cell_type": "code",
   "execution_count": 67,
   "metadata": {},
   "outputs": [],
   "source": [
    "from sklearn.model_selection import GridSearchCV\n",
    "def tuneParams(classifier, params,traindata,trainlabel):\n",
    "    md = GridSearchCV(classifier,params,cv = 3, scoring = 'accuracy')\n",
    "    md.fit(traindata,trainlabel)\n",
    "    best_params, best_score = md.best_params_, np.round(md.best_score_*100,2)\n",
    "    \n",
    "    return best_params, best_score"
   ]
  },
  {
   "cell_type": "code",
   "execution_count": 68,
   "metadata": {},
   "outputs": [
    {
     "name": "stdout",
     "output_type": "stream",
     "text": [
      "LR:  {'C': 0.0001, 'penalty': 'l1'} 91.93\n"
     ]
    }
   ],
   "source": [
    "from sklearn.linear_model import LogisticRegression\n",
    "\n",
    "LRParams = {'penalty' : ['l1','l2'], 'C': [0.0001, 0.0005, 0.001, 0.01, 1] }\n",
    "LR_best_Params, LR_best_score = tuneParams(LogisticRegression(),LRParams,training,train_labels)\n",
    "print('LR: ',LR_best_Params, LR_best_score)"
   ]
  },
  {
   "cell_type": "code",
   "execution_count": 73,
   "metadata": {},
   "outputs": [
    {
     "data": {
      "text/plain": [
       "LogisticRegression(C=0.0001, class_weight=None, dual=False,\n",
       "          fit_intercept=True, intercept_scaling=1, max_iter=100,\n",
       "          multi_class='warn', n_jobs=None, penalty='l2', random_state=None,\n",
       "          solver='warn', tol=0.0001, verbose=0, warm_start=False)"
      ]
     },
     "execution_count": 73,
     "metadata": {},
     "output_type": "execute_result"
    }
   ],
   "source": [
    "LR = LogisticRegression(penalty = 'l2', C = 0.0001 )\n",
    "LR.fit(training, train_labels)"
   ]
  },
  {
   "cell_type": "code",
   "execution_count": 74,
   "metadata": {},
   "outputs": [],
   "source": [
    "prediction = LR.predict_proba(testing)[:,1]"
   ]
  },
  {
   "cell_type": "code",
   "execution_count": 75,
   "metadata": {},
   "outputs": [
    {
     "data": {
      "text/html": [
       "<div>\n",
       "<style scoped>\n",
       "    .dataframe tbody tr th:only-of-type {\n",
       "        vertical-align: middle;\n",
       "    }\n",
       "\n",
       "    .dataframe tbody tr th {\n",
       "        vertical-align: top;\n",
       "    }\n",
       "\n",
       "    .dataframe thead th {\n",
       "        text-align: right;\n",
       "    }\n",
       "</style>\n",
       "<table border=\"1\" class=\"dataframe\">\n",
       "  <thead>\n",
       "    <tr style=\"text-align: right;\">\n",
       "      <th></th>\n",
       "      <th>SK_ID_CURR</th>\n",
       "      <th>TARGET</th>\n",
       "    </tr>\n",
       "  </thead>\n",
       "  <tbody>\n",
       "    <tr>\n",
       "      <th>0</th>\n",
       "      <td>100001</td>\n",
       "      <td>0.064967</td>\n",
       "    </tr>\n",
       "    <tr>\n",
       "      <th>1</th>\n",
       "      <td>100005</td>\n",
       "      <td>0.115717</td>\n",
       "    </tr>\n",
       "    <tr>\n",
       "      <th>2</th>\n",
       "      <td>100013</td>\n",
       "      <td>0.072346</td>\n",
       "    </tr>\n",
       "    <tr>\n",
       "      <th>3</th>\n",
       "      <td>100028</td>\n",
       "      <td>0.059056</td>\n",
       "    </tr>\n",
       "    <tr>\n",
       "      <th>4</th>\n",
       "      <td>100038</td>\n",
       "      <td>0.116379</td>\n",
       "    </tr>\n",
       "  </tbody>\n",
       "</table>\n",
       "</div>"
      ],
      "text/plain": [
       "   SK_ID_CURR    TARGET\n",
       "0      100001  0.064967\n",
       "1      100005  0.115717\n",
       "2      100013  0.072346\n",
       "3      100028  0.059056\n",
       "4      100038  0.116379"
      ]
     },
     "execution_count": 75,
     "metadata": {},
     "output_type": "execute_result"
    }
   ],
   "source": [
    "submit = df_test[['SK_ID_CURR']]\n",
    "submit['TARGET'] = prediction\n",
    "\n",
    "submit.head()"
   ]
  },
  {
   "cell_type": "code",
   "execution_count": 76,
   "metadata": {},
   "outputs": [],
   "source": [
    "submit.to_csv(data_dir + 'submission.csv', index = False)"
   ]
  },
  {
   "cell_type": "code",
   "execution_count": null,
   "metadata": {},
   "outputs": [],
   "source": []
  }
 ],
 "metadata": {
  "kernelspec": {
   "display_name": "Python 3",
   "language": "python",
   "name": "python3"
  },
  "language_info": {
   "codemirror_mode": {
    "name": "ipython",
    "version": 3
   },
   "file_extension": ".py",
   "mimetype": "text/x-python",
   "name": "python",
   "nbconvert_exporter": "python",
   "pygments_lexer": "ipython3",
   "version": "3.7.3"
  }
 },
 "nbformat": 4,
 "nbformat_minor": 2
}
