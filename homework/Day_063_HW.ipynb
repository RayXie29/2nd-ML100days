{
 "cells": [
  {
   "cell_type": "markdown",
   "metadata": {},
   "source": [
    "# 作業\n",
    "在精簡深度學習的方式上 : 卷積類神經 (CNN) 採用像素遠近，而遞歸類神經 (RNN) 採用著則是時間遠近\n",
    "那麼，既然有著類似的設計精神，兩者是否有可能互換應用呢?"
   ]
  },
  {
   "cell_type": "markdown",
   "metadata": {},
   "source": [
    "YES, We can use RNN to replace CNN to do some application. Like image classification problem, we can treat each row of image as a sequence of pixels. For example, if we use the RNN on Mnist dataset, then each of image will have 28 sequences of 28 timesteps. But still, in most of cases, the RNN wont work better than CNN on image(or said spatial important data).  Since RNN were designed to use the same weight at every timestep in a single filter set, so we can not capture the information on image with suitable levels. However, there are still some problems can use RNN on image dataset, like video type of data. Since Video type of data are time sequences importantly, so RNN will have its own advantage. But normally, we will combine both CNN and RNN on video type of data. "
   ]
  },
  {
   "cell_type": "markdown",
   "metadata": {},
   "source": [
    "Also we can use CNN on time sequences data, like NLP problem. We can use 1D convolutional nerual networks on NLP problem to extract some interesting features when the features in such segments has less corrleation. But still, most of words has its sequence trending. So if we use CNN on these type of data, we can not learn the correlation between sequence of words, which is not so promising for NLP problem."
   ]
  },
  {
   "cell_type": "code",
   "execution_count": null,
   "metadata": {},
   "outputs": [],
   "source": []
  }
 ],
 "metadata": {
  "kernelspec": {
   "display_name": "Python 3",
   "language": "python",
   "name": "python3"
  },
  "language_info": {
   "codemirror_mode": {
    "name": "ipython",
    "version": 3
   },
   "file_extension": ".py",
   "mimetype": "text/x-python",
   "name": "python",
   "nbconvert_exporter": "python",
   "pygments_lexer": "ipython3",
   "version": "3.7.3"
  }
 },
 "nbformat": 4,
 "nbformat_minor": 2
}
