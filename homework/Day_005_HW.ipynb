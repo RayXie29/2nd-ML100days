{
 "cells": [
  {
   "cell_type": "code",
   "execution_count": 30,
   "metadata": {},
   "outputs": [],
   "source": [
    "import os\n",
    "import numpy as np\n",
    "import pandas as pd\n",
    "import matplotlib.pyplot as plt\n",
    "\n",
    "dir_data = './data/'"
   ]
  },
  {
   "cell_type": "code",
   "execution_count": 31,
   "metadata": {},
   "outputs": [],
   "source": [
    "f_app = os.path.join(dir_data,'application_train.csv')\n",
    "df = pd.read_csv(f_app)"
   ]
  },
  {
   "cell_type": "markdown",
   "metadata": {},
   "source": [
    "**練習時間** <br />\n",
    "觀察有興趣的欄位的資料分佈，並嘗試找出有趣的訊息 <br />\n",
    "<br />\n",
    "Eg<br />\n",
    "計算任意欄位的平均數及標準差<br />\n",
    "畫出任意欄位的直方圖<br />\n",
    "Hints:<br />\n",
    "Descriptive Statistics For pandas Dataframe<br />\n",
    "pandas 中的繪圖函數<br />"
   ]
  },
  {
   "cell_type": "code",
   "execution_count": 41,
   "metadata": {},
   "outputs": [
    {
     "name": "stdout",
     "output_type": "stream",
     "text": [
      "count    3.075110e+05\n",
      "mean     1.687979e+05\n",
      "std      2.371231e+05\n",
      "min      2.565000e+04\n",
      "25%      1.125000e+05\n",
      "50%      1.471500e+05\n",
      "75%      2.025000e+05\n",
      "max      1.170000e+08\n",
      "Name: AMT_INCOME_TOTAL, dtype: float64\n"
     ]
    }
   ],
   "source": [
    "sub_df = df['AMT_INCOME_TOTAL']\n",
    "print(sub_df.describe())"
   ]
  },
  {
   "cell_type": "code",
   "execution_count": 42,
   "metadata": {},
   "outputs": [
    {
     "name": "stdout",
     "output_type": "stream",
     "text": [
      "mean of AMT_INCOME_TOTAL:  168797.9192969845\n",
      "std of AMT_INCOME_TOTAL:  237123.14627883647\n"
     ]
    }
   ],
   "source": [
    "print('mean of AMT_INCOME_TOTAL: ', sub_df.mean())\n",
    "print('std of AMT_INCOME_TOTAL: ',sub_df.std())"
   ]
  },
  {
   "cell_type": "code",
   "execution_count": 43,
   "metadata": {},
   "outputs": [
    {
     "data": {
      "image/png": "[encoded data removed]",
      "text/plain": [
       "<Figure size 360x360 with 1 Axes>"
      ]
     },
     "metadata": {
      "needs_background": "light"
     },
     "output_type": "display_data"
    }
   ],
   "source": [
    "plt.figure(figsize=(5,5))\n",
    "plt.subplot(1,1,1)\n",
    "sub_df.hist()\n",
    "plt.title('AMT_INCOME_TOTAL histogram')\n",
    "plt.ylabel('counts')\n",
    "plt.xlabel('total income')\n",
    "plt.show()\n"
   ]
  },
  {
   "cell_type": "code",
   "execution_count": null,
   "metadata": {},
   "outputs": [],
   "source": []
  }
 ],
 "metadata": {
  "kernelspec": {
   "display_name": "Python 3",
   "language": "python",
   "name": "python3"
  }
 },
 "nbformat": 4,
 "nbformat_minor": 2
}
