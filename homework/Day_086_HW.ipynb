{
  "nbformat": 4,
  "nbformat_minor": 0,
  "metadata": {
    "colab": {
      "name": "Day_086_HW",
      "version": "0.3.2",
      "provenance": [],
      "collapsed_sections": []
    },
    "kernelspec": {
      "name": "python3",
      "display_name": "Python 3"
    },
    "accelerator": "GPU"
  },
  "cells": [
    {
      "cell_type": "markdown",
      "metadata": {
        "id": "70d9ux0SnR2K",
        "colab_type": "text"
      },
      "source": [
        "# 範例重點\n",
        "學習如何在 keras 中加入 model checkpoint <br />\n",
        "知道如何設定監控目標 <br />\n",
        "比較使用最佳與非最佳參數時的 performance"
      ]
    },
    {
      "cell_type": "code",
      "metadata": {
        "id": "3eC-Wva3nNwt",
        "colab_type": "code",
        "outputId": "d6ed3f0a-118b-45fe-aa5c-a15afef41baa",
        "colab": {
          "base_uri": "https://localhost:8080/",
          "height": 408
        }
      },
      "source": [
        "import os \n",
        "import keras\n",
        "\n",
        "#os.environ[\"CUDA_VISIBLE_DEVICES\"] = \" \"\n",
        "!nvidia-smi"
      ],
      "execution_count": 0,
      "outputs": [
        {
          "output_type": "stream",
          "text": [
            "Mon Jul 22 12:54:12 2019       \n",
            "+-----------------------------------------------------------------------------+\n",
            "| NVIDIA-SMI 418.67       Driver Version: 410.79       CUDA Version: 10.0     |\n",
            "|-------------------------------+----------------------+----------------------+\n",
            "| GPU  Name        Persistence-M| Bus-Id        Disp.A | Volatile Uncorr. ECC |\n",
            "| Fan  Temp  Perf  Pwr:Usage/Cap|         Memory-Usage | GPU-Util  Compute M. |\n",
            "|===============================+======================+======================|\n",
            "|   0  Tesla T4            Off  | 00000000:00:04.0 Off |                    0 |\n",
            "| N/A   49C    P0    26W /  70W |    357MiB / 15079MiB |      0%      Default |\n",
            "+-------------------------------+----------------------+----------------------+\n",
            "                                                                               \n",
            "+-----------------------------------------------------------------------------+\n",
            "| Processes:                                                       GPU Memory |\n",
            "|  GPU       PID   Type   Process name                             Usage      |\n",
            "|=============================================================================|\n",
            "+-----------------------------------------------------------------------------+\n"
          ],
          "name": "stdout"
        }
      ]
    },
    {
      "cell_type": "code",
      "metadata": {
        "id": "2xTrzY3bnpL2",
        "colab_type": "code",
        "colab": {}
      },
      "source": [
        "(train_x, train_y), (test_x, test_y) = keras.datasets.cifar10.load_data()"
      ],
      "execution_count": 0,
      "outputs": []
    },
    {
      "cell_type": "code",
      "metadata": {
        "id": "f-GmpgUdnxkK",
        "colab_type": "code",
        "colab": {}
      },
      "source": [
        "def preproc_x(x, flatten = True):\n",
        "  x = x/255.0\n",
        "  if flatten:\n",
        "    x = x.reshape((len(x),-1))\n",
        "  return x\n",
        "\n",
        "def preproc_y(y, num_classes = 10):\n",
        "  if y.shape[-1] == 1 :\n",
        "    y = keras.utils.to_categorical(y, num_classes)\n",
        "  return y"
      ],
      "execution_count": 0,
      "outputs": []
    },
    {
      "cell_type": "code",
      "metadata": {
        "id": "M-C-ff2SoEvT",
        "colab_type": "code",
        "colab": {}
      },
      "source": [
        "train_x = preproc_x(train_x)\n",
        "test_x = preproc_x(test_x)\n",
        "train_y = preproc_y(train_y)\n",
        "test_y = preproc_y(test_y)"
      ],
      "execution_count": 0,
      "outputs": []
    },
    {
      "cell_type": "code",
      "metadata": {
        "id": "saKAVlkeoNTh",
        "colab_type": "code",
        "colab": {}
      },
      "source": [
        "def build_mlp(input_shape, output_units = 10, num_neurons = [512, 256, 128]):\n",
        "  \n",
        "  input_layer = keras.layers.Input(input_shape)\n",
        "  \n",
        "  for i, n_units in enumerate(num_neurons):\n",
        "    if i == 0:\n",
        "      x = keras.layers.Dense(units = n_units, name = 'hidden_layer_'+str(i+1))(input_layer)\n",
        "      x = keras.layers.BatchNormalization()(x)\n",
        "      x = keras.layers.Activation('relu')(x)\n",
        "  else:\n",
        "      x = keras.layers.Dense(units = n_units, name = 'hidden_layer_'+str(i+1))(x)\n",
        "      x = keras.layers.BatchNormalization()(x)\n",
        "      x = keras.layers.Activation('relu')(x)\n",
        "      \n",
        "  output_layer = keras.layers.Dense(units = output_units, activation = 'softmax')(x)\n",
        "  model = keras.models.Model(inputs = [input_layer], outputs = [output_layer])\n",
        "  return model"
      ],
      "execution_count": 0,
      "outputs": []
    },
    {
      "cell_type": "code",
      "metadata": {
        "id": "91OX3XKipPRg",
        "colab_type": "code",
        "colab": {}
      },
      "source": [
        "lr = 1e-3\n",
        "momentum = 0.95\n",
        "epochs = 50\n",
        "batch_size = 1024"
      ],
      "execution_count": 0,
      "outputs": []
    },
    {
      "cell_type": "code",
      "metadata": {
        "id": "HIAxnGUfpXks",
        "colab_type": "code",
        "colab": {}
      },
      "source": [
        "checkpoint_path = \"./tmp.h5\"\n",
        "\n",
        "model_ckpt = keras.callbacks.ModelCheckpoint(filepath = checkpoint_path, monitor = 'val_loss', save_best_only = True)"
      ],
      "execution_count": 0,
      "outputs": []
    },
    {
      "cell_type": "code",
      "metadata": {
        "id": "sbzi_In3qnSS",
        "colab_type": "code",
        "outputId": "8b3a968c-f9e1-49aa-89bf-e48f2cea425a",
        "colab": {
          "base_uri": "https://localhost:8080/",
          "height": 1000
        }
      },
      "source": [
        "model = build_mlp(train_x.shape[1:])\n",
        "optimizer = keras.optimizers.SGD(lr = lr, nesterov = True, momentum = momentum)\n",
        "model.compile(optimizer = optimizer, loss = \"categorical_crossentropy\", metrics = ['accuracy'])\n",
        "model.summary()\n",
        "\n",
        "history = model.fit(train_x, train_y, epochs = epochs, batch_size = batch_size, shuffle = True,\n",
        "                                  validation_data = [test_x, test_y], callbacks = [model_ckpt])\n",
        "\n",
        "\n",
        "#Load back\n",
        "model = keras.models.load_model(checkpoint_path)\n",
        "loss_loadback, acc_loadback = model.evaluate(test_x, test_y)"
      ],
      "execution_count": 0,
      "outputs": [
        {
          "output_type": "stream",
          "text": [
            "_________________________________________________________________\n",
            "Layer (type)                 Output Shape              Param #   \n",
            "=================================================================\n",
            "input_6 (InputLayer)         (None, 3072)              0         \n",
            "_________________________________________________________________\n",
            "hidden_layer_1 (Dense)       (None, 512)               1573376   \n",
            "_________________________________________________________________\n",
            "batch_normalization_11 (Batc (None, 512)               2048      \n",
            "_________________________________________________________________\n",
            "activation_11 (Activation)   (None, 512)               0         \n",
            "_________________________________________________________________\n",
            "hidden_layer_3 (Dense)       (None, 128)               65664     \n",
            "_________________________________________________________________\n",
            "batch_normalization_12 (Batc (None, 128)               512       \n",
            "_________________________________________________________________\n",
            "activation_12 (Activation)   (None, 128)               0         \n",
            "_________________________________________________________________\n",
            "dense_6 (Dense)              (None, 10)                1290      \n",
            "=================================================================\n",
            "Total params: 1,642,890\n",
            "Trainable params: 1,641,610\n",
            "Non-trainable params: 1,280\n",
            "_________________________________________________________________\n",
            "Train on 50000 samples, validate on 10000 samples\n",
            "Epoch 1/50\n",
            "50000/50000 [==============================] - 2s 48us/step - loss: 2.1217 - acc: 0.2509 - val_loss: 1.9702 - val_acc: 0.3115\n",
            "Epoch 2/50\n",
            "50000/50000 [==============================] - 1s 27us/step - loss: 1.7859 - acc: 0.3776 - val_loss: 1.8007 - val_acc: 0.3661\n",
            "Epoch 3/50\n",
            "50000/50000 [==============================] - 1s 26us/step - loss: 1.6886 - acc: 0.4118 - val_loss: 1.7429 - val_acc: 0.3828\n",
            "Epoch 4/50\n",
            "50000/50000 [==============================] - 1s 27us/step - loss: 1.6279 - acc: 0.4360 - val_loss: 1.6990 - val_acc: 0.4029\n",
            "Epoch 5/50\n",
            "50000/50000 [==============================] - 1s 26us/step - loss: 1.5819 - acc: 0.4520 - val_loss: 1.6531 - val_acc: 0.4179\n",
            "Epoch 6/50\n",
            "50000/50000 [==============================] - 1s 27us/step - loss: 1.5425 - acc: 0.4675 - val_loss: 1.6103 - val_acc: 0.4393\n",
            "Epoch 7/50\n",
            "50000/50000 [==============================] - 1s 26us/step - loss: 1.5086 - acc: 0.4785 - val_loss: 1.6090 - val_acc: 0.4275\n",
            "Epoch 8/50\n",
            "50000/50000 [==============================] - 1s 26us/step - loss: 1.4777 - acc: 0.4893 - val_loss: 1.5639 - val_acc: 0.4485\n",
            "Epoch 9/50\n",
            "50000/50000 [==============================] - 1s 26us/step - loss: 1.4504 - acc: 0.4989 - val_loss: 1.5359 - val_acc: 0.4569\n",
            "Epoch 10/50\n",
            "50000/50000 [==============================] - 1s 26us/step - loss: 1.4239 - acc: 0.5088 - val_loss: 1.5253 - val_acc: 0.4618\n",
            "Epoch 11/50\n",
            "50000/50000 [==============================] - 1s 26us/step - loss: 1.4001 - acc: 0.5175 - val_loss: 1.5050 - val_acc: 0.4698\n",
            "Epoch 12/50\n",
            "50000/50000 [==============================] - 1s 26us/step - loss: 1.3772 - acc: 0.5261 - val_loss: 1.4938 - val_acc: 0.4729\n",
            "Epoch 13/50\n",
            "50000/50000 [==============================] - 1s 27us/step - loss: 1.3549 - acc: 0.5354 - val_loss: 1.4864 - val_acc: 0.4794\n",
            "Epoch 14/50\n",
            "50000/50000 [==============================] - 1s 26us/step - loss: 1.3349 - acc: 0.5418 - val_loss: 1.4783 - val_acc: 0.4762\n",
            "Epoch 15/50\n",
            "50000/50000 [==============================] - 1s 26us/step - loss: 1.3149 - acc: 0.5481 - val_loss: 1.4530 - val_acc: 0.4840\n",
            "Epoch 16/50\n",
            "50000/50000 [==============================] - 1s 27us/step - loss: 1.2958 - acc: 0.5551 - val_loss: 1.4463 - val_acc: 0.4896\n",
            "Epoch 17/50\n",
            "50000/50000 [==============================] - 1s 26us/step - loss: 1.2771 - acc: 0.5646 - val_loss: 1.4391 - val_acc: 0.4931\n",
            "Epoch 18/50\n",
            "50000/50000 [==============================] - 1s 27us/step - loss: 1.2582 - acc: 0.5707 - val_loss: 1.4305 - val_acc: 0.4961\n",
            "Epoch 19/50\n",
            "50000/50000 [==============================] - 1s 26us/step - loss: 1.2406 - acc: 0.5761 - val_loss: 1.4196 - val_acc: 0.4982\n",
            "Epoch 20/50\n",
            "50000/50000 [==============================] - 1s 27us/step - loss: 1.2226 - acc: 0.5840 - val_loss: 1.4128 - val_acc: 0.5003\n",
            "Epoch 21/50\n",
            "50000/50000 [==============================] - 1s 26us/step - loss: 1.2057 - acc: 0.5903 - val_loss: 1.4031 - val_acc: 0.5006\n",
            "Epoch 22/50\n",
            "50000/50000 [==============================] - 1s 26us/step - loss: 1.1890 - acc: 0.5979 - val_loss: 1.4046 - val_acc: 0.5046\n",
            "Epoch 23/50\n",
            "50000/50000 [==============================] - 1s 27us/step - loss: 1.1729 - acc: 0.6031 - val_loss: 1.3949 - val_acc: 0.5033\n",
            "Epoch 24/50\n",
            "50000/50000 [==============================] - 1s 26us/step - loss: 1.1561 - acc: 0.6094 - val_loss: 1.4105 - val_acc: 0.4976\n",
            "Epoch 25/50\n",
            "50000/50000 [==============================] - 1s 26us/step - loss: 1.1409 - acc: 0.6147 - val_loss: 1.3953 - val_acc: 0.5051\n",
            "Epoch 26/50\n",
            "50000/50000 [==============================] - 1s 26us/step - loss: 1.1248 - acc: 0.6213 - val_loss: 1.3820 - val_acc: 0.5108\n",
            "Epoch 27/50\n",
            "50000/50000 [==============================] - 1s 26us/step - loss: 1.1088 - acc: 0.6270 - val_loss: 1.3816 - val_acc: 0.5128\n",
            "Epoch 28/50\n",
            "50000/50000 [==============================] - 1s 26us/step - loss: 1.0929 - acc: 0.6335 - val_loss: 1.3747 - val_acc: 0.5085\n",
            "Epoch 29/50\n",
            "50000/50000 [==============================] - 1s 26us/step - loss: 1.0774 - acc: 0.6403 - val_loss: 1.3727 - val_acc: 0.5153\n",
            "Epoch 30/50\n",
            "50000/50000 [==============================] - 1s 26us/step - loss: 1.0622 - acc: 0.6459 - val_loss: 1.3701 - val_acc: 0.5160\n",
            "Epoch 31/50\n",
            "50000/50000 [==============================] - 1s 26us/step - loss: 1.0467 - acc: 0.6502 - val_loss: 1.3688 - val_acc: 0.5138\n",
            "Epoch 32/50\n",
            "50000/50000 [==============================] - 1s 26us/step - loss: 1.0321 - acc: 0.6577 - val_loss: 1.3643 - val_acc: 0.5194\n",
            "Epoch 33/50\n",
            "50000/50000 [==============================] - 1s 26us/step - loss: 1.0178 - acc: 0.6635 - val_loss: 1.3724 - val_acc: 0.5117\n",
            "Epoch 34/50\n",
            "50000/50000 [==============================] - 1s 26us/step - loss: 1.0025 - acc: 0.6687 - val_loss: 1.3610 - val_acc: 0.5168\n",
            "Epoch 35/50\n",
            "50000/50000 [==============================] - 1s 26us/step - loss: 0.9873 - acc: 0.6742 - val_loss: 1.3704 - val_acc: 0.5153\n",
            "Epoch 36/50\n",
            "50000/50000 [==============================] - 1s 26us/step - loss: 0.9732 - acc: 0.6795 - val_loss: 1.3752 - val_acc: 0.5181\n",
            "Epoch 37/50\n",
            "50000/50000 [==============================] - 1s 27us/step - loss: 0.9577 - acc: 0.6850 - val_loss: 1.3720 - val_acc: 0.5152\n",
            "Epoch 38/50\n",
            "50000/50000 [==============================] - 1s 26us/step - loss: 0.9440 - acc: 0.6918 - val_loss: 1.3605 - val_acc: 0.5200\n",
            "Epoch 39/50\n",
            "50000/50000 [==============================] - 1s 26us/step - loss: 0.9298 - acc: 0.6972 - val_loss: 1.3794 - val_acc: 0.5115\n",
            "Epoch 40/50\n",
            "50000/50000 [==============================] - 1s 26us/step - loss: 0.9139 - acc: 0.7031 - val_loss: 1.3696 - val_acc: 0.5187\n",
            "Epoch 41/50\n",
            "50000/50000 [==============================] - 1s 26us/step - loss: 0.9007 - acc: 0.7088 - val_loss: 1.3661 - val_acc: 0.5175\n",
            "Epoch 42/50\n",
            "50000/50000 [==============================] - 1s 27us/step - loss: 0.8859 - acc: 0.7148 - val_loss: 1.3695 - val_acc: 0.5148\n",
            "Epoch 43/50\n",
            "50000/50000 [==============================] - 1s 26us/step - loss: 0.8721 - acc: 0.7194 - val_loss: 1.3783 - val_acc: 0.5236\n",
            "Epoch 44/50\n",
            "50000/50000 [==============================] - 1s 26us/step - loss: 0.8573 - acc: 0.7268 - val_loss: 1.3817 - val_acc: 0.5158\n",
            "Epoch 45/50\n",
            "50000/50000 [==============================] - 1s 26us/step - loss: 0.8431 - acc: 0.7321 - val_loss: 1.3672 - val_acc: 0.5238\n",
            "Epoch 46/50\n",
            "50000/50000 [==============================] - 1s 26us/step - loss: 0.8294 - acc: 0.7365 - val_loss: 1.3894 - val_acc: 0.5135\n",
            "Epoch 47/50\n",
            "50000/50000 [==============================] - 1s 27us/step - loss: 0.8151 - acc: 0.7417 - val_loss: 1.3892 - val_acc: 0.5157\n",
            "Epoch 48/50\n",
            "50000/50000 [==============================] - 1s 26us/step - loss: 0.7993 - acc: 0.7495 - val_loss: 1.3955 - val_acc: 0.5189\n",
            "Epoch 49/50\n",
            "50000/50000 [==============================] - 1s 27us/step - loss: 0.7862 - acc: 0.7544 - val_loss: 1.3811 - val_acc: 0.5190\n",
            "Epoch 50/50\n",
            "50000/50000 [==============================] - 1s 26us/step - loss: 0.7721 - acc: 0.7599 - val_loss: 1.3861 - val_acc: 0.5175\n",
            "10000/10000 [==============================] - 1s 89us/step\n"
          ],
          "name": "stdout"
        }
      ]
    },
    {
      "cell_type": "code",
      "metadata": {
        "id": "FpIl_fIFrch3",
        "colab_type": "code",
        "outputId": "a499c0d0-8852-4465-9319-34c973b38428",
        "colab": {
          "base_uri": "https://localhost:8080/",
          "height": 810
        }
      },
      "source": [
        "import matplotlib.pyplot  as plt\n",
        "%matplotlib inline\n",
        "\n",
        "plt.figure(figsize=(8,6))\n",
        "plt.plot(history.history['loss'], '-', label = 'train_loss', color = 'r')\n",
        "plt.plot(history.history['val_loss'], '--', label = 'valid_loss', color = 'g')\n",
        "plt.hlines(y = loss_loadback, xmin = 0, xmax = len(history.history['loss']), label = 'CheckPoint', color = 'b', linestyles = '--')\n",
        "plt.title('Loss')\n",
        "plt.xlabel('Epochs')\n",
        "plt.ylabel('Loss')\n",
        "plt.legend()\n",
        "plt.show()\n",
        "\n",
        "plt.figure(figsize=(8,6))\n",
        "plt.plot(history.history['acc'], '-', label = 'train_acc', color = 'r')\n",
        "plt.plot(history.history['val_acc'], '--', label = 'valid_acc', color = 'g')\n",
        "plt.hlines(y = acc_loadback, xmin = 0, xmax = epochs, label = 'CheckPoint', color = 'b', linestyles = '--')\n",
        "plt.title('Accuracy')\n",
        "plt.xlabel('Epochs')\n",
        "plt.ylabel('Accuracy')\n",
        "plt.legend()\n",
        "plt.show()"
      ],
      "execution_count": 0,
      "outputs": [
        {
          "output_type": "display_data",
          "data": {
            "image/png": "[encoded data removed]",
            "text/plain": [
              "<Figure size 576x432 with 1 Axes>"
            ]
          },
          "metadata": {
            "tags": []
          }
        },
        {
          "output_type": "display_data",
          "data": {
            "image/png": "[encoded data removed]",
            "text/plain": [
              "<Figure size 576x432 with 1 Axes>"
            ]
          },
          "metadata": {
            "tags": []
          }
        }
      ]
    },
    {
      "cell_type": "markdown",
      "metadata": {
        "id": "ayzDGZj9xC1h",
        "colab_type": "text"
      },
      "source": [
        "# Work\n",
        "試比較 save_best_only 與否的差異 <br />\n",
        "請僅存入將 save_weights_only 設定為 True, 並嘗試 reset ipynb 並將模型與權重重新建回並預測 x_test"
      ]
    },
    {
      "cell_type": "code",
      "metadata": {
        "id": "1OFUYGE9xCCK",
        "colab_type": "code",
        "colab": {}
      },
      "source": [
        "check_point2 = keras.callbacks.ModelCheckpoint(filepath = './tmp.h5', monitor = 'val_loss', save_best_only = False)"
      ],
      "execution_count": 0,
      "outputs": []
    },
    {
      "cell_type": "code",
      "metadata": {
        "id": "j8WSNhtyy1ga",
        "colab_type": "code",
        "outputId": "45d15c78-bf04-4467-83cb-592e562ee170",
        "colab": {
          "base_uri": "https://localhost:8080/",
          "height": 1000
        }
      },
      "source": [
        "model = build_mlp(train_x.shape[1:])\n",
        "model.compile(optimizer = optimizer, loss = \"categorical_crossentropy\", metrics = ['accuracy'])\n",
        "model.summary()\n",
        "\n",
        "history2 = model.fit(train_x, train_y, batch_size = batch_size, epochs = epochs, shuffle = True, validation_data = [test_x, test_y], callbacks = [check_point2])\n",
        "\n",
        "model = keras.models.load_model('./tmp.h5')\n",
        "loss_loadback2, acc_loadback2 = model.evaluate(test_x, test_y)"
      ],
      "execution_count": 0,
      "outputs": [
        {
          "output_type": "stream",
          "text": [
            "_________________________________________________________________\n",
            "Layer (type)                 Output Shape              Param #   \n",
            "=================================================================\n",
            "input_8 (InputLayer)         (None, 3072)              0         \n",
            "_________________________________________________________________\n",
            "hidden_layer_1 (Dense)       (None, 512)               1573376   \n",
            "_________________________________________________________________\n",
            "batch_normalization_15 (Batc (None, 512)               2048      \n",
            "_________________________________________________________________\n",
            "activation_15 (Activation)   (None, 512)               0         \n",
            "_________________________________________________________________\n",
            "hidden_layer_3 (Dense)       (None, 128)               65664     \n",
            "_________________________________________________________________\n",
            "batch_normalization_16 (Batc (None, 128)               512       \n",
            "_________________________________________________________________\n",
            "activation_16 (Activation)   (None, 128)               0         \n",
            "_________________________________________________________________\n",
            "dense_8 (Dense)              (None, 10)                1290      \n",
            "=================================================================\n",
            "Total params: 1,642,890\n",
            "Trainable params: 1,641,610\n",
            "Non-trainable params: 1,280\n",
            "_________________________________________________________________\n",
            "Train on 50000 samples, validate on 10000 samples\n",
            "Epoch 1/50\n",
            "50000/50000 [==============================] - 3s 57us/step - loss: 2.1690 - acc: 0.2419 - val_loss: 1.9867 - val_acc: 0.3037\n",
            "Epoch 2/50\n",
            "50000/50000 [==============================] - 1s 27us/step - loss: 1.7928 - acc: 0.3701 - val_loss: 1.7929 - val_acc: 0.3654\n",
            "Epoch 3/50\n",
            "50000/50000 [==============================] - 1s 27us/step - loss: 1.6874 - acc: 0.4118 - val_loss: 1.7078 - val_acc: 0.3937\n",
            "Epoch 4/50\n",
            "50000/50000 [==============================] - 1s 27us/step - loss: 1.6243 - acc: 0.4335 - val_loss: 1.6595 - val_acc: 0.4158\n",
            "Epoch 5/50\n",
            "50000/50000 [==============================] - 1s 27us/step - loss: 1.5760 - acc: 0.4518 - val_loss: 1.6246 - val_acc: 0.4296\n",
            "Epoch 6/50\n",
            "50000/50000 [==============================] - 1s 27us/step - loss: 1.5364 - acc: 0.4670 - val_loss: 1.5985 - val_acc: 0.4381\n",
            "Epoch 7/50\n",
            "50000/50000 [==============================] - 1s 28us/step - loss: 1.5026 - acc: 0.4802 - val_loss: 1.5760 - val_acc: 0.4388\n",
            "Epoch 8/50\n",
            "50000/50000 [==============================] - 1s 27us/step - loss: 1.4712 - acc: 0.4918 - val_loss: 1.5564 - val_acc: 0.4476\n",
            "Epoch 9/50\n",
            "50000/50000 [==============================] - 1s 27us/step - loss: 1.4445 - acc: 0.5025 - val_loss: 1.5386 - val_acc: 0.4517\n",
            "Epoch 10/50\n",
            "50000/50000 [==============================] - 1s 27us/step - loss: 1.4189 - acc: 0.5129 - val_loss: 1.5176 - val_acc: 0.4609\n",
            "Epoch 11/50\n",
            "50000/50000 [==============================] - 1s 27us/step - loss: 1.3951 - acc: 0.5202 - val_loss: 1.5002 - val_acc: 0.4697\n",
            "Epoch 12/50\n",
            "50000/50000 [==============================] - 1s 27us/step - loss: 1.3723 - acc: 0.5292 - val_loss: 1.4897 - val_acc: 0.4737\n",
            "Epoch 13/50\n",
            "50000/50000 [==============================] - 1s 27us/step - loss: 1.3515 - acc: 0.5360 - val_loss: 1.4796 - val_acc: 0.4739\n",
            "Epoch 14/50\n",
            "50000/50000 [==============================] - 1s 27us/step - loss: 1.3318 - acc: 0.5451 - val_loss: 1.4722 - val_acc: 0.4790\n",
            "Epoch 15/50\n",
            "50000/50000 [==============================] - 1s 27us/step - loss: 1.3124 - acc: 0.5514 - val_loss: 1.4579 - val_acc: 0.4781\n",
            "Epoch 16/50\n",
            "50000/50000 [==============================] - 1s 28us/step - loss: 1.2939 - acc: 0.5574 - val_loss: 1.4582 - val_acc: 0.4849\n",
            "Epoch 17/50\n",
            "50000/50000 [==============================] - 1s 27us/step - loss: 1.2753 - acc: 0.5646 - val_loss: 1.4440 - val_acc: 0.4857\n",
            "Epoch 18/50\n",
            "50000/50000 [==============================] - 1s 27us/step - loss: 1.2582 - acc: 0.5693 - val_loss: 1.4374 - val_acc: 0.4875\n",
            "Epoch 19/50\n",
            "50000/50000 [==============================] - 1s 27us/step - loss: 1.2401 - acc: 0.5767 - val_loss: 1.4284 - val_acc: 0.4903\n",
            "Epoch 20/50\n",
            "50000/50000 [==============================] - 1s 27us/step - loss: 1.2235 - acc: 0.5837 - val_loss: 1.4187 - val_acc: 0.4952\n",
            "Epoch 21/50\n",
            "50000/50000 [==============================] - 1s 27us/step - loss: 1.2065 - acc: 0.5885 - val_loss: 1.4206 - val_acc: 0.4924\n",
            "Epoch 22/50\n",
            "50000/50000 [==============================] - 1s 27us/step - loss: 1.1910 - acc: 0.5944 - val_loss: 1.4155 - val_acc: 0.4938\n",
            "Epoch 23/50\n",
            "50000/50000 [==============================] - 1s 27us/step - loss: 1.1752 - acc: 0.6007 - val_loss: 1.4075 - val_acc: 0.5039\n",
            "Epoch 24/50\n",
            "50000/50000 [==============================] - 1s 27us/step - loss: 1.1590 - acc: 0.6063 - val_loss: 1.3998 - val_acc: 0.4989\n",
            "Epoch 25/50\n",
            "50000/50000 [==============================] - 1s 27us/step - loss: 1.1431 - acc: 0.6113 - val_loss: 1.4130 - val_acc: 0.5009\n",
            "Epoch 26/50\n",
            "50000/50000 [==============================] - 1s 27us/step - loss: 1.1277 - acc: 0.6170 - val_loss: 1.3928 - val_acc: 0.5052\n",
            "Epoch 27/50\n",
            "50000/50000 [==============================] - 1s 27us/step - loss: 1.1118 - acc: 0.6232 - val_loss: 1.3996 - val_acc: 0.5063\n",
            "Epoch 28/50\n",
            "50000/50000 [==============================] - 1s 27us/step - loss: 1.0966 - acc: 0.6310 - val_loss: 1.3923 - val_acc: 0.5023\n",
            "Epoch 29/50\n",
            "50000/50000 [==============================] - 1s 27us/step - loss: 1.0813 - acc: 0.6368 - val_loss: 1.3819 - val_acc: 0.5085\n",
            "Epoch 30/50\n",
            "50000/50000 [==============================] - 1s 27us/step - loss: 1.0656 - acc: 0.6444 - val_loss: 1.3896 - val_acc: 0.5076\n",
            "Epoch 31/50\n",
            "50000/50000 [==============================] - 1s 27us/step - loss: 1.0508 - acc: 0.6498 - val_loss: 1.3785 - val_acc: 0.5080\n",
            "Epoch 32/50\n",
            "50000/50000 [==============================] - 1s 27us/step - loss: 1.0366 - acc: 0.6550 - val_loss: 1.3832 - val_acc: 0.5104\n",
            "Epoch 33/50\n",
            "50000/50000 [==============================] - 1s 27us/step - loss: 1.0211 - acc: 0.6613 - val_loss: 1.3784 - val_acc: 0.5094\n",
            "Epoch 34/50\n",
            "50000/50000 [==============================] - 1s 27us/step - loss: 1.0061 - acc: 0.6669 - val_loss: 1.3756 - val_acc: 0.5089\n",
            "Epoch 35/50\n",
            "50000/50000 [==============================] - 1s 27us/step - loss: 0.9921 - acc: 0.6730 - val_loss: 1.3814 - val_acc: 0.5152\n",
            "Epoch 36/50\n",
            "50000/50000 [==============================] - 1s 27us/step - loss: 0.9763 - acc: 0.6793 - val_loss: 1.3823 - val_acc: 0.5120\n",
            "Epoch 37/50\n",
            "50000/50000 [==============================] - 1s 27us/step - loss: 0.9619 - acc: 0.6854 - val_loss: 1.3776 - val_acc: 0.5104\n",
            "Epoch 38/50\n",
            "50000/50000 [==============================] - 1s 27us/step - loss: 0.9458 - acc: 0.6899 - val_loss: 1.3747 - val_acc: 0.5091\n",
            "Epoch 39/50\n",
            "50000/50000 [==============================] - 1s 27us/step - loss: 0.9324 - acc: 0.6961 - val_loss: 1.3739 - val_acc: 0.5148\n",
            "Epoch 40/50\n",
            "50000/50000 [==============================] - 1s 27us/step - loss: 0.9175 - acc: 0.7025 - val_loss: 1.3830 - val_acc: 0.5083\n",
            "Epoch 41/50\n",
            "50000/50000 [==============================] - 1s 27us/step - loss: 0.9030 - acc: 0.7075 - val_loss: 1.3887 - val_acc: 0.5133\n",
            "Epoch 42/50\n",
            "50000/50000 [==============================] - 1s 27us/step - loss: 0.8886 - acc: 0.7137 - val_loss: 1.3782 - val_acc: 0.5182\n",
            "Epoch 43/50\n",
            "50000/50000 [==============================] - 1s 27us/step - loss: 0.8743 - acc: 0.7194 - val_loss: 1.3851 - val_acc: 0.5128\n",
            "Epoch 44/50\n",
            "50000/50000 [==============================] - 1s 27us/step - loss: 0.8604 - acc: 0.7250 - val_loss: 1.3850 - val_acc: 0.5160\n",
            "Epoch 45/50\n",
            "50000/50000 [==============================] - 1s 27us/step - loss: 0.8448 - acc: 0.7301 - val_loss: 1.3814 - val_acc: 0.5153\n",
            "Epoch 46/50\n",
            "50000/50000 [==============================] - 1s 27us/step - loss: 0.8323 - acc: 0.7355 - val_loss: 1.3969 - val_acc: 0.5074\n",
            "Epoch 47/50\n",
            "50000/50000 [==============================] - 1s 27us/step - loss: 0.8179 - acc: 0.7412 - val_loss: 1.3975 - val_acc: 0.5165\n",
            "Epoch 48/50\n",
            "50000/50000 [==============================] - 1s 27us/step - loss: 0.8032 - acc: 0.7474 - val_loss: 1.3849 - val_acc: 0.5182\n",
            "Epoch 49/50\n",
            "50000/50000 [==============================] - 1s 27us/step - loss: 0.7900 - acc: 0.7513 - val_loss: 1.4132 - val_acc: 0.5133\n",
            "Epoch 50/50\n",
            "50000/50000 [==============================] - 1s 28us/step - loss: 0.7758 - acc: 0.7575 - val_loss: 1.4059 - val_acc: 0.5116\n",
            "10000/10000 [==============================] - 1s 102us/step\n"
          ],
          "name": "stdout"
        }
      ]
    },
    {
      "cell_type": "code",
      "metadata": {
        "id": "nP6JgkVny_ob",
        "colab_type": "code",
        "outputId": "7cb64bfe-9baa-4e90-a0d3-7849639069e9",
        "colab": {
          "base_uri": "https://localhost:8080/",
          "height": 810
        }
      },
      "source": [
        "plt.figure(figsize=(8,6))\n",
        "plt.plot(history2.history['loss'], '-', label = 'train_loss2', color = 'r')\n",
        "plt.plot(history2.history['val_loss'], '-', label = 'valid_loss2', color = 'r')\n",
        "plt.plot(history.history['loss'],'--',label = 'train_loss1', color = 'g')\n",
        "plt.plot(history.history['val_loss'],'--',label = 'valid_loss1', color = 'g')\n",
        "plt.hlines(y = loss_loadback2, xmin = 0, xmax = epochs, label = 'CheckPoint2', color = 'b', linestyles = '--')\n",
        "plt.hlines(y = loss_loadback, xmin = 0, xmax = epochs, label = 'CheckPoint1', color = 'black', linestyles = '--')\n",
        "plt.title('Loss')\n",
        "plt.xlabel('Epochs')\n",
        "plt.ylabel('Loss')\n",
        "plt.legend()\n",
        "plt.show()\n",
        "\n",
        "plt.figure(figsize=(8,6))\n",
        "plt.plot(history2.history['acc'], '-', label = 'train_acc2', color = 'r')\n",
        "plt.plot(history2.history['val_acc'], '--', label = 'valid_acc2', color = 'r')\n",
        "plt.plot(history.history['acc'],'--',label = 'train_acc1', color = 'g')\n",
        "plt.plot(history.history['val_acc'],'--',label = 'valid_acc1', color = 'g')\n",
        "plt.hlines(y = acc_loadback2, xmin = 0, xmax = epochs, label = 'CheckPoint2', color = 'b', linestyles = '--')\n",
        "plt.hlines(y = acc_loadback, xmin = 0, xmax = epochs, label = 'CheckPoint1', color = 'black', linestyles = '--')\n",
        "plt.title('Accuracy')\n",
        "plt.xlabel('Epochs')\n",
        "plt.ylabel('Accuracy')\n",
        "plt.legend()\n",
        "plt.show()"
      ],
      "execution_count": 0,
      "outputs": [
        {
          "output_type": "display_data",
          "data": {
            "image/png": "[encoded data removed]",
            "text/plain": [
              "<Figure size 576x432 with 1 Axes>"
            ]
          },
          "metadata": {
            "tags": []
          }
        },
        {
          "output_type": "display_data",
          "data": {
            "image/png": "[encoded data removed]",
            "text/plain": [
              "<Figure size 576x432 with 1 Axes>"
            ]
          },
          "metadata": {
            "tags": []
          }
        }
      ]
    },
    {
      "cell_type": "code",
      "metadata": {
        "id": "Lo6ZmQGf0_cR",
        "colab_type": "code",
        "outputId": "cb1276ed-2f46-44fb-e8d3-8e632da1501c",
        "colab": {
          "base_uri": "https://localhost:8080/",
          "height": 1000
        }
      },
      "source": [
        "model = build_mlp(train_x.shape[1:])\n",
        "optimizer = keras.optimizers.SGD(lr = lr, nesterov = True, momentum = momentum)\n",
        "model.compile(optimizer = optimizer, loss = \"categorical_crossentropy\", metrics = ['accuracy'])\n",
        "model.summary()\n",
        "\n",
        "history = model.fit(train_x, train_y, epochs = epochs, batch_size = batch_size, shuffle = True,\n",
        "                                  validation_data = [test_x, test_y], callbacks = [model_ckpt])"
      ],
      "execution_count": 0,
      "outputs": [
        {
          "output_type": "stream",
          "text": [
            "_________________________________________________________________\n",
            "Layer (type)                 Output Shape              Param #   \n",
            "=================================================================\n",
            "input_9 (InputLayer)         (None, 3072)              0         \n",
            "_________________________________________________________________\n",
            "hidden_layer_1 (Dense)       (None, 512)               1573376   \n",
            "_________________________________________________________________\n",
            "batch_normalization_17 (Batc (None, 512)               2048      \n",
            "_________________________________________________________________\n",
            "activation_17 (Activation)   (None, 512)               0         \n",
            "_________________________________________________________________\n",
            "hidden_layer_3 (Dense)       (None, 128)               65664     \n",
            "_________________________________________________________________\n",
            "batch_normalization_18 (Batc (None, 128)               512       \n",
            "_________________________________________________________________\n",
            "activation_18 (Activation)   (None, 128)               0         \n",
            "_________________________________________________________________\n",
            "dense_9 (Dense)              (None, 10)                1290      \n",
            "=================================================================\n",
            "Total params: 1,642,890\n",
            "Trainable params: 1,641,610\n",
            "Non-trainable params: 1,280\n",
            "_________________________________________________________________\n",
            "Train on 50000 samples, validate on 10000 samples\n",
            "Epoch 1/50\n",
            "50000/50000 [==============================] - 3s 59us/step - loss: 2.1782 - acc: 0.2347 - val_loss: 2.0708 - val_acc: 0.2804\n",
            "Epoch 2/50\n",
            "50000/50000 [==============================] - 1s 27us/step - loss: 1.7817 - acc: 0.3731 - val_loss: 1.7839 - val_acc: 0.3660\n",
            "Epoch 3/50\n",
            "50000/50000 [==============================] - 1s 27us/step - loss: 1.6735 - acc: 0.4139 - val_loss: 1.6991 - val_acc: 0.4034\n",
            "Epoch 4/50\n",
            "50000/50000 [==============================] - 1s 27us/step - loss: 1.6093 - acc: 0.4370 - val_loss: 1.6523 - val_acc: 0.4204\n",
            "Epoch 5/50\n",
            "50000/50000 [==============================] - 1s 27us/step - loss: 1.5610 - acc: 0.4571 - val_loss: 1.6348 - val_acc: 0.4237\n",
            "Epoch 6/50\n",
            "50000/50000 [==============================] - 1s 27us/step - loss: 1.5221 - acc: 0.4694 - val_loss: 1.5945 - val_acc: 0.4374\n",
            "Epoch 7/50\n",
            "50000/50000 [==============================] - 1s 27us/step - loss: 1.4886 - acc: 0.4815 - val_loss: 1.5694 - val_acc: 0.4495\n",
            "Epoch 8/50\n",
            "50000/50000 [==============================] - 1s 27us/step - loss: 1.4581 - acc: 0.4934 - val_loss: 1.5486 - val_acc: 0.4542\n",
            "Epoch 9/50\n",
            "50000/50000 [==============================] - 1s 27us/step - loss: 1.4321 - acc: 0.5029 - val_loss: 1.5302 - val_acc: 0.4607\n",
            "Epoch 10/50\n",
            "50000/50000 [==============================] - 1s 27us/step - loss: 1.4071 - acc: 0.5113 - val_loss: 1.5150 - val_acc: 0.4642\n",
            "Epoch 11/50\n",
            "50000/50000 [==============================] - 1s 27us/step - loss: 1.3831 - acc: 0.5216 - val_loss: 1.4958 - val_acc: 0.4692\n",
            "Epoch 12/50\n",
            "50000/50000 [==============================] - 1s 27us/step - loss: 1.3604 - acc: 0.5300 - val_loss: 1.4817 - val_acc: 0.4789\n",
            "Epoch 13/50\n",
            "50000/50000 [==============================] - 1s 27us/step - loss: 1.3393 - acc: 0.5375 - val_loss: 1.4734 - val_acc: 0.4780\n",
            "Epoch 14/50\n",
            "50000/50000 [==============================] - 1s 26us/step - loss: 1.3193 - acc: 0.5446 - val_loss: 1.4608 - val_acc: 0.4859\n",
            "Epoch 15/50\n",
            "50000/50000 [==============================] - 1s 27us/step - loss: 1.2999 - acc: 0.5523 - val_loss: 1.4506 - val_acc: 0.4896\n",
            "Epoch 16/50\n",
            "50000/50000 [==============================] - 1s 27us/step - loss: 1.2806 - acc: 0.5587 - val_loss: 1.4458 - val_acc: 0.4913\n",
            "Epoch 17/50\n",
            "50000/50000 [==============================] - 1s 27us/step - loss: 1.2625 - acc: 0.5656 - val_loss: 1.4364 - val_acc: 0.4980\n",
            "Epoch 18/50\n",
            "50000/50000 [==============================] - 1s 27us/step - loss: 1.2448 - acc: 0.5736 - val_loss: 1.4302 - val_acc: 0.4944\n",
            "Epoch 19/50\n",
            "50000/50000 [==============================] - 1s 27us/step - loss: 1.2269 - acc: 0.5793 - val_loss: 1.4288 - val_acc: 0.4975\n",
            "Epoch 20/50\n",
            "50000/50000 [==============================] - 1s 27us/step - loss: 1.2100 - acc: 0.5859 - val_loss: 1.4173 - val_acc: 0.5018\n",
            "Epoch 21/50\n",
            "50000/50000 [==============================] - 1s 27us/step - loss: 1.1945 - acc: 0.5921 - val_loss: 1.4187 - val_acc: 0.5035\n",
            "Epoch 22/50\n",
            "50000/50000 [==============================] - 1s 27us/step - loss: 1.1769 - acc: 0.5984 - val_loss: 1.4136 - val_acc: 0.5037\n",
            "Epoch 23/50\n",
            "50000/50000 [==============================] - 1s 27us/step - loss: 1.1609 - acc: 0.6041 - val_loss: 1.4024 - val_acc: 0.5070\n",
            "Epoch 24/50\n",
            "50000/50000 [==============================] - 1s 27us/step - loss: 1.1452 - acc: 0.6107 - val_loss: 1.3995 - val_acc: 0.5047\n",
            "Epoch 25/50\n",
            "50000/50000 [==============================] - 1s 27us/step - loss: 1.1291 - acc: 0.6170 - val_loss: 1.3965 - val_acc: 0.5108\n",
            "Epoch 26/50\n",
            "50000/50000 [==============================] - 1s 27us/step - loss: 1.1139 - acc: 0.6228 - val_loss: 1.3981 - val_acc: 0.5097\n",
            "Epoch 27/50\n",
            "50000/50000 [==============================] - 1s 27us/step - loss: 1.0981 - acc: 0.6291 - val_loss: 1.3902 - val_acc: 0.5097\n",
            "Epoch 28/50\n",
            "50000/50000 [==============================] - 1s 27us/step - loss: 1.0837 - acc: 0.6361 - val_loss: 1.3894 - val_acc: 0.5082\n",
            "Epoch 29/50\n",
            "50000/50000 [==============================] - 1s 27us/step - loss: 1.0688 - acc: 0.6406 - val_loss: 1.3841 - val_acc: 0.5086\n",
            "Epoch 30/50\n",
            "50000/50000 [==============================] - 1s 27us/step - loss: 1.0531 - acc: 0.6460 - val_loss: 1.3869 - val_acc: 0.5123\n",
            "Epoch 31/50\n",
            "50000/50000 [==============================] - 1s 27us/step - loss: 1.0389 - acc: 0.6534 - val_loss: 1.3759 - val_acc: 0.5174\n",
            "Epoch 32/50\n",
            "50000/50000 [==============================] - 1s 27us/step - loss: 1.0241 - acc: 0.6576 - val_loss: 1.3791 - val_acc: 0.5172\n",
            "Epoch 33/50\n",
            "50000/50000 [==============================] - 1s 27us/step - loss: 1.0092 - acc: 0.6654 - val_loss: 1.3773 - val_acc: 0.5166\n",
            "Epoch 34/50\n",
            "50000/50000 [==============================] - 1s 27us/step - loss: 0.9955 - acc: 0.6702 - val_loss: 1.3829 - val_acc: 0.5145\n",
            "Epoch 35/50\n",
            "50000/50000 [==============================] - 1s 27us/step - loss: 0.9799 - acc: 0.6773 - val_loss: 1.3802 - val_acc: 0.5112\n",
            "Epoch 36/50\n",
            "50000/50000 [==============================] - 1s 28us/step - loss: 0.9658 - acc: 0.6812 - val_loss: 1.3890 - val_acc: 0.5109\n",
            "Epoch 37/50\n",
            "50000/50000 [==============================] - 1s 27us/step - loss: 0.9512 - acc: 0.6876 - val_loss: 1.3836 - val_acc: 0.5127\n",
            "Epoch 38/50\n",
            "50000/50000 [==============================] - 1s 28us/step - loss: 0.9377 - acc: 0.6932 - val_loss: 1.3861 - val_acc: 0.5150\n",
            "Epoch 39/50\n",
            "50000/50000 [==============================] - 1s 27us/step - loss: 0.9225 - acc: 0.6985 - val_loss: 1.3721 - val_acc: 0.5172\n",
            "Epoch 40/50\n",
            "50000/50000 [==============================] - 1s 27us/step - loss: 0.9089 - acc: 0.7034 - val_loss: 1.3820 - val_acc: 0.5141\n",
            "Epoch 41/50\n",
            "50000/50000 [==============================] - 1s 27us/step - loss: 0.8936 - acc: 0.7098 - val_loss: 1.4005 - val_acc: 0.5119\n",
            "Epoch 42/50\n",
            "50000/50000 [==============================] - 1s 27us/step - loss: 0.8797 - acc: 0.7155 - val_loss: 1.3814 - val_acc: 0.5172\n",
            "Epoch 43/50\n",
            "50000/50000 [==============================] - 1s 27us/step - loss: 0.8657 - acc: 0.7201 - val_loss: 1.3781 - val_acc: 0.5190\n",
            "Epoch 44/50\n",
            "50000/50000 [==============================] - 1s 27us/step - loss: 0.8517 - acc: 0.7268 - val_loss: 1.4115 - val_acc: 0.5059\n",
            "Epoch 45/50\n",
            "50000/50000 [==============================] - 1s 27us/step - loss: 0.8374 - acc: 0.7338 - val_loss: 1.3925 - val_acc: 0.5186\n",
            "Epoch 46/50\n",
            "50000/50000 [==============================] - 1s 27us/step - loss: 0.8245 - acc: 0.7383 - val_loss: 1.3973 - val_acc: 0.5170\n",
            "Epoch 47/50\n",
            "50000/50000 [==============================] - 1s 27us/step - loss: 0.8094 - acc: 0.7447 - val_loss: 1.4031 - val_acc: 0.5142\n",
            "Epoch 48/50\n",
            "50000/50000 [==============================] - 1s 27us/step - loss: 0.7964 - acc: 0.7493 - val_loss: 1.4074 - val_acc: 0.5113\n",
            "Epoch 49/50\n",
            "50000/50000 [==============================] - 1s 27us/step - loss: 0.7826 - acc: 0.7555 - val_loss: 1.4092 - val_acc: 0.5106\n",
            "Epoch 50/50\n",
            "50000/50000 [==============================] - 1s 27us/step - loss: 0.7684 - acc: 0.7605 - val_loss: 1.4053 - val_acc: 0.5170\n"
          ],
          "name": "stdout"
        }
      ]
    },
    {
      "cell_type": "markdown",
      "metadata": {
        "id": "YKp36Yx-2sJS",
        "colab_type": "text"
      },
      "source": [
        "# Reset the ipynb"
      ]
    },
    {
      "cell_type": "code",
      "metadata": {
        "id": "mgPJQKy-2osv",
        "colab_type": "code",
        "colab": {
          "base_uri": "https://localhost:8080/",
          "height": 156
        },
        "outputId": "59a1ce35-970e-4243-b43f-13b08769af82"
      },
      "source": [
        "#Load back\n",
        "model = keras.models.load_model('./tmp.h5')\n",
        "loss_loadback, acc_loadback = model.evaluate(test_x, test_y)"
      ],
      "execution_count": 44,
      "outputs": [
        {
          "output_type": "stream",
          "text": [
            "10000/10000 [==============================] - 1s 107us/step\n"
          ],
          "name": "stdout"
        }
      ]
    },
    {
      "cell_type": "code",
      "metadata": {
        "id": "M08dG_YZ3Jd0",
        "colab_type": "code",
        "colab": {
          "base_uri": "https://localhost:8080/",
          "height": 76
        },
        "outputId": "8722ca57-9f16-4cfb-fbe0-d0ae089f921c"
      },
      "source": [
        "print(f\"validation loss : {loss_loadback}, validation accuracy : {acc_loadback}\")"
      ],
      "execution_count": 47,
      "outputs": [
        {
          "output_type": "stream",
          "text": [
            "validation loss : 1.4058805702209474, validation accuracy : 0.5116\n"
          ],
          "name": "stdout"
        }
      ]
    }
  ]
}