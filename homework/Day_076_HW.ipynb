{
 "cells": [
  {
   "cell_type": "markdown",
   "metadata": {},
   "source": [
    "# Day76-Optimizer_example"
   ]
  },
  {
   "cell_type": "code",
   "execution_count": 45,
   "metadata": {},
   "outputs": [],
   "source": [
    "import keras\n",
    "from keras.datasets import mnist\n",
    "from keras.preprocessing.image import ImageDataGenerator\n",
    "from keras.models import Sequential, load_model\n",
    "from keras.layers import Dense, Dropout, Activation, Flatten\n",
    "from keras.layers import Conv2D, MaxPooling2D\n",
    "from keras import optimizers\n",
    "from keras.callbacks import EarlyStopping, ModelCheckpoint\n",
    "import numpy as np"
   ]
  },
  {
   "cell_type": "code",
   "execution_count": 2,
   "metadata": {},
   "outputs": [
    {
     "name": "stdout",
     "output_type": "stream",
     "text": [
      "WARNING:tensorflow:From /Users/xiejialun/anaconda3/lib/python3.7/site-packages/tensorflow/python/framework/op_def_library.py:263: colocate_with (from tensorflow.python.framework.ops) is deprecated and will be removed in a future version.\n",
      "Instructions for updating:\n",
      "Colocations handled automatically by placer.\n",
      "_________________________________________________________________\n",
      "Layer (type)                 Output Shape              Param #   \n",
      "=================================================================\n",
      "dense_1 (Dense)              (None, 500)               392500    \n",
      "_________________________________________________________________\n",
      "activation_1 (Activation)    (None, 500)               0         \n",
      "_________________________________________________________________\n",
      "dense_2 (Dense)              (None, 500)               250500    \n",
      "_________________________________________________________________\n",
      "activation_2 (Activation)    (None, 500)               0         \n",
      "_________________________________________________________________\n",
      "dense_3 (Dense)              (None, 500)               250500    \n",
      "_________________________________________________________________\n",
      "activation_3 (Activation)    (None, 500)               0         \n",
      "_________________________________________________________________\n",
      "dense_4 (Dense)              (None, 500)               250500    \n",
      "_________________________________________________________________\n",
      "activation_4 (Activation)    (None, 500)               0         \n",
      "_________________________________________________________________\n",
      "dense_5 (Dense)              (None, 10)                5010      \n",
      "_________________________________________________________________\n",
      "activation_5 (Activation)    (None, 10)                0         \n",
      "=================================================================\n",
      "Total params: 1,149,010\n",
      "Trainable params: 1,149,010\n",
      "Non-trainable params: 0\n",
      "_________________________________________________________________\n"
     ]
    }
   ],
   "source": [
    "model = Sequential()\n",
    "model.add(Dense(500,input_shape = (784,)))\n",
    "model.add(Activation('relu'))\n",
    "model.add(Dense(500))\n",
    "model.add(Activation('relu'))\n",
    "model.add(Dense(500))\n",
    "model.add(Activation('relu'))\n",
    "model.add(Dense(500))\n",
    "model.add(Activation('relu'))\n",
    "model.add(Dense(10))\n",
    "model.add(Activation('softmax'))\n",
    "model.summary()"
   ]
  },
  {
   "cell_type": "code",
   "execution_count": 10,
   "metadata": {},
   "outputs": [],
   "source": [
    "model.compile(optimizer = 'adam', loss = 'binary_crossentropy', metrics = ['accuracy'])"
   ]
  },
  {
   "cell_type": "code",
   "execution_count": 28,
   "metadata": {},
   "outputs": [],
   "source": [
    "from keras.utils import to_categorical\n",
    "(x_train, y_train), (x_test, y_test) = mnist.load_data()\n",
    "\n",
    "x_train = x_train.reshape(-1,784)\n",
    "x_test = x_test.reshape(-1,784)\n",
    "\n",
    "x_train = x_train/255.0\n",
    "x_test = x_test/255.0\n",
    "\n",
    "y_train_onehot = to_categorical(y_train,10)\n",
    "y_test_onehot = to_categorical(y_test,10)"
   ]
  },
  {
   "cell_type": "code",
   "execution_count": 29,
   "metadata": {},
   "outputs": [
    {
     "name": "stdout",
     "output_type": "stream",
     "text": [
      "(60000, 784)\n",
      "(60000, 10)\n",
      "(10000, 784)\n",
      "(10000, 10)\n"
     ]
    }
   ],
   "source": [
    "print(x_train.shape)\n",
    "print(y_train_onehot.shape)\n",
    "print(x_test.shape)\n",
    "print(y_test_onehot.shape)"
   ]
  },
  {
   "cell_type": "code",
   "execution_count": 13,
   "metadata": {},
   "outputs": [
    {
     "name": "stdout",
     "output_type": "stream",
     "text": [
      "Train on 42000 samples, validate on 18000 samples\n",
      "Epoch 1/10\n",
      " - 10s - loss: 0.0626 - acc: 0.9792 - val_loss: 0.0280 - val_acc: 0.9905\n",
      "Epoch 2/10\n",
      " - 9s - loss: 0.0191 - acc: 0.9935 - val_loss: 0.0235 - val_acc: 0.9927\n",
      "Epoch 3/10\n",
      " - 9s - loss: 0.0135 - acc: 0.9954 - val_loss: 0.0206 - val_acc: 0.9936\n",
      "Epoch 4/10\n",
      " - 9s - loss: 0.0097 - acc: 0.9969 - val_loss: 0.0205 - val_acc: 0.9944\n",
      "Epoch 5/10\n",
      " - 9s - loss: 0.0082 - acc: 0.9974 - val_loss: 0.0181 - val_acc: 0.9945\n",
      "Epoch 6/10\n",
      " - 9s - loss: 0.0061 - acc: 0.9980 - val_loss: 0.0204 - val_acc: 0.9943\n",
      "Epoch 7/10\n",
      " - 9s - loss: 0.0057 - acc: 0.9981 - val_loss: 0.0187 - val_acc: 0.9952\n",
      "Epoch 8/10\n",
      " - 10s - loss: 0.0050 - acc: 0.9983 - val_loss: 0.0197 - val_acc: 0.9948\n",
      "Epoch 9/10\n",
      " - 9s - loss: 0.0051 - acc: 0.9983 - val_loss: 0.0175 - val_acc: 0.9950\n",
      "Epoch 10/10\n",
      " - 9s - loss: 0.0042 - acc: 0.9986 - val_loss: 0.0209 - val_acc: 0.9949\n"
     ]
    }
   ],
   "source": [
    "import tensorflow as tf\n",
    "\n",
    "gpu_options = tf.GPUOptions(per_process_gpu_memory_fraction = 0.333)\n",
    "sess = tf.Session(config = tf.ConfigProto(gpu_options = gpu_options))\n",
    "\n",
    "history = model.fit(x_train,y_train_onehot,batch_size = 128, epochs = 10,shuffle = True, verbose = 2, validation_split = 0.3)"
   ]
  },
  {
   "cell_type": "code",
   "execution_count": 15,
   "metadata": {},
   "outputs": [
    {
     "name": "stdout",
     "output_type": "stream",
     "text": [
      "test_set\n",
      "The test score is [0.016899831856680977, 0.995660001039505]\n",
      "The accuracy of the model 0.9782\n"
     ]
    }
   ],
   "source": [
    "print( \"test_set\")\n",
    "scores = model.evaluate(x_test,y_test_onehot, batch_size = 200, verbose = 0)\n",
    "print(f'The test score is {scores}')\n",
    "result = model.predict(x_test, batch_size = 200, verbose = 0)\n",
    "\n",
    "result_max = np.argmax(result, axis = 1)\n",
    "test_max = np.argmax(y_test_onehot, axis = 1)\n",
    "\n",
    "result_bool = np.equal(result_max, test_max)\n",
    "true_num = np.sum(result_bool)\n",
    "\n",
    "print(f'The accuracy of the model {true_num/len(result_bool)}')"
   ]
  },
  {
   "cell_type": "code",
   "execution_count": 17,
   "metadata": {},
   "outputs": [
    {
     "data": {
      "image/png": "[encoded data removed]",
      "text/plain": [
       "<Figure size 432x288 with 1 Axes>"
      ]
     },
     "metadata": {
      "needs_background": "light"
     },
     "output_type": "display_data"
    },
    {
     "data": {
      "image/png": "[encoded data removed]",
      "text/plain": [
       "<Figure size 432x288 with 1 Axes>"
      ]
     },
     "metadata": {
      "needs_background": "light"
     },
     "output_type": "display_data"
    }
   ],
   "source": [
    "import matplotlib.pyplot as plt\n",
    "%matplotlib inline\n",
    "\n",
    "plt.plot(history.history['acc'])\n",
    "plt.plot(history.history['val_acc'])\n",
    "plt.title('model accuracy')\n",
    "plt.ylabel('accuracy')\n",
    "plt.xlabel('epochs')\n",
    "plt.legend(['Train','Test'], loc = 'upper left')\n",
    "plt.show()\n",
    "\n",
    "plt.plot(history.history['loss'])\n",
    "plt.plot(history.history['val_loss'])\n",
    "plt.title('model loss')\n",
    "plt.ylabel('loss')\n",
    "plt.xlabel('epochs')\n",
    "plt.legend(['Train','Test'], loc = 'upper left')\n",
    "plt.show()"
   ]
  },
  {
   "cell_type": "markdown",
   "metadata": {},
   "source": [
    "# Day76-Optimizers_進階"
   ]
  },
  {
   "cell_type": "code",
   "execution_count": 1,
   "metadata": {},
   "outputs": [
    {
     "name": "stdout",
     "output_type": "stream",
     "text": [
      "3.7.3 (default, Mar 27 2019, 16:54:48) \n",
      "[Clang 4.0.1 (tags/RELEASE_401/final)]\n"
     ]
    }
   ],
   "source": [
    "import sys\n",
    "print(sys.version)"
   ]
  },
  {
   "cell_type": "code",
   "execution_count": 2,
   "metadata": {},
   "outputs": [
    {
     "name": "stdout",
     "output_type": "stream",
     "text": [
      "Collecting autograd\n",
      "  Downloading https://files.pythonhosted.org/packages/08/7a/1ccee2a929d806ba3dbe632a196ad6a3f1423d6e261ae887e5fef2011420/autograd-1.2.tar.gz\n",
      "Requirement already satisfied: numpy>=1.12 in /Users/xiejialun/anaconda3/lib/python3.7/site-packages (from autograd) (1.16.2)\n",
      "Requirement already satisfied: future>=0.15.2 in /Users/xiejialun/anaconda3/lib/python3.7/site-packages (from autograd) (0.17.1)\n",
      "Building wheels for collected packages: autograd\n",
      "  Building wheel for autograd (setup.py) ... \u001b[?25ldone\n",
      "\u001b[?25h  Stored in directory: /Users/xiejialun/Library/Caches/pip/wheels/72/6f/c2/40f130cca2c91f31d354bf72de282922479c09ce0b7853c4c5\n",
      "Successfully built autograd\n",
      "Installing collected packages: autograd\n",
      "Successfully installed autograd-1.2\n",
      "Collecting mpl_toolkits\n",
      "\u001b[31m  Could not find a version that satisfies the requirement mpl_toolkits (from versions: )\u001b[0m\n",
      "\u001b[31mNo matching distribution found for mpl_toolkits\u001b[0m\n",
      "Collecting collections\n",
      "\u001b[31m  Could not find a version that satisfies the requirement collections (from versions: )\u001b[0m\n",
      "\u001b[31mNo matching distribution found for collections\u001b[0m\n",
      "Collecting itertools\n",
      "\u001b[31m  Could not find a version that satisfies the requirement itertools (from versions: )\u001b[0m\n",
      "\u001b[31mNo matching distribution found for itertools\u001b[0m\n",
      "Requirement already satisfied: IPython in /Users/xiejialun/anaconda3/lib/python3.7/site-packages (7.4.0)\n",
      "Requirement already satisfied: decorator in /Users/xiejialun/anaconda3/lib/python3.7/site-packages (from IPython) (4.4.0)\n",
      "Requirement already satisfied: pexpect; sys_platform != \"win32\" in /Users/xiejialun/anaconda3/lib/python3.7/site-packages (from IPython) (4.6.0)\n",
      "Requirement already satisfied: prompt-toolkit<2.1.0,>=2.0.0 in /Users/xiejialun/anaconda3/lib/python3.7/site-packages (from IPython) (2.0.9)\n",
      "Requirement already satisfied: traitlets>=4.2 in /Users/xiejialun/anaconda3/lib/python3.7/site-packages (from IPython) (4.3.2)\n",
      "Requirement already satisfied: jedi>=0.10 in /Users/xiejialun/anaconda3/lib/python3.7/site-packages (from IPython) (0.13.3)\n",
      "Requirement already satisfied: appnope; sys_platform == \"darwin\" in /Users/xiejialun/anaconda3/lib/python3.7/site-packages (from IPython) (0.1.0)\n",
      "Requirement already satisfied: backcall in /Users/xiejialun/anaconda3/lib/python3.7/site-packages (from IPython) (0.1.0)\n",
      "Requirement already satisfied: setuptools>=18.5 in /Users/xiejialun/anaconda3/lib/python3.7/site-packages (from IPython) (40.8.0)\n",
      "Requirement already satisfied: pygments in /Users/xiejialun/anaconda3/lib/python3.7/site-packages (from IPython) (2.3.1)\n",
      "Requirement already satisfied: pickleshare in /Users/xiejialun/anaconda3/lib/python3.7/site-packages (from IPython) (0.7.5)\n",
      "Requirement already satisfied: ptyprocess>=0.5 in /Users/xiejialun/anaconda3/lib/python3.7/site-packages (from pexpect; sys_platform != \"win32\"->IPython) (0.6.0)\n",
      "Requirement already satisfied: six>=1.9.0 in /Users/xiejialun/anaconda3/lib/python3.7/site-packages (from prompt-toolkit<2.1.0,>=2.0.0->IPython) (1.12.0)\n",
      "Requirement already satisfied: wcwidth in /Users/xiejialun/anaconda3/lib/python3.7/site-packages (from prompt-toolkit<2.1.0,>=2.0.0->IPython) (0.1.7)\n",
      "Requirement already satisfied: ipython-genutils in /Users/xiejialun/anaconda3/lib/python3.7/site-packages (from traitlets>=4.2->IPython) (0.2.0)\n",
      "Requirement already satisfied: parso>=0.3.0 in /Users/xiejialun/anaconda3/lib/python3.7/site-packages (from jedi>=0.10->IPython) (0.3.4)\n"
     ]
    }
   ],
   "source": [
    "!pip install autograd\n",
    "!pip install mpl_toolkits\n",
    "!pip install collections\n",
    "!pip install itertools\n",
    "!pip install IPython"
   ]
  },
  {
   "cell_type": "code",
   "execution_count": 5,
   "metadata": {},
   "outputs": [],
   "source": [
    "import matplotlib.pyplot as plt\n",
    "import autograd.numpy as anp\n",
    "from mpl_toolkits.mplot3d import Axes3D\n",
    "from matplotlib.colors import LogNorm\n",
    "from matplotlib import animation\n",
    "from IPython.display import HTML\n",
    "\n",
    "from autograd import elementwise_grad, value_and_grad, grad\n",
    "from scipy.optimize import minimize\n",
    "from collections import defaultdict\n",
    "from itertools import zip_longest"
   ]
  },
  {
   "cell_type": "markdown",
   "metadata": {},
   "source": [
    "# Objective function : the Beale function"
   ]
  },
  {
   "cell_type": "code",
   "execution_count": 8,
   "metadata": {},
   "outputs": [
    {
     "data": {
      "text/plain": [
       "0.0"
      ]
     },
     "execution_count": 8,
     "metadata": {},
     "output_type": "execute_result"
    }
   ],
   "source": [
    "#The beale function is one of the most often testing function for optimization algorithm.\n",
    "\n",
    "f = lambda x, y : (1.5 - x + x*y)**2 + (2.25 - x + x*y**2)**2 + (2.625 - x + x*y**3)**2\n",
    "\n",
    "xmin, xmax, xstep = -4.5, 4.5, 0.2\n",
    "ymin, ymax, ystep = -4.5,4.5,0.2\n",
    "\n",
    "x,y = np.meshgrid(np.arange(xmin, xmax+xstep, xstep) , np.arange(ymin, ymax+ystep,ystep))\n",
    "z = f(x,y)\n",
    "\n",
    "#the global minima of objective function\n",
    "minima = np.array([3.0,0.5])\n",
    "f(minima[0],minima[1])"
   ]
  },
  {
   "cell_type": "code",
   "execution_count": 9,
   "metadata": {},
   "outputs": [],
   "source": [
    "def target_func(weights):\n",
    "    x,y = weights\n",
    "    return f(x,y)"
   ]
  },
  {
   "cell_type": "markdown",
   "metadata": {},
   "source": [
    "# Adam Optimizer"
   ]
  },
  {
   "cell_type": "code",
   "execution_count": 13,
   "metadata": {},
   "outputs": [],
   "source": [
    "class Adam:\n",
    "    def __init__(self, loss, weights, lr = 0.001, beta1 = 0.9, beta2 = 0.999, epislon = 1e-8):\n",
    "        #loss function\n",
    "        self.loss = loss\n",
    "        self.theta = weights\n",
    "        self.lr = lr\n",
    "        self.beta1 = beta1\n",
    "        self.beta2 = beta2\n",
    "        #epislon is for avoiding divide to 0\n",
    "        self.epislon = epislon\n",
    "        #get the gradient from the target function with input parameters\n",
    "        self.get_gradient = grad(loss)\n",
    "        self.m = 0\n",
    "        self.v = 0\n",
    "        #iteration times\n",
    "        self.t = 0\n",
    "        \n",
    "    #avoid the bias of setting m & v to 0 at first, this member will iterate with adjusting m & v to m_hat & v_hat\n",
    "    def minimize_raw(self):\n",
    "        #one more iteration \n",
    "        self.t += 1\n",
    "        #get gradient with current weights\n",
    "        g = self.get_gradient(self.theta)\n",
    "        self.m = self.beta1 * self.m + ( 1 - self.beta1 ) * g\n",
    "        self.v = self.beta2 * self.v + ( 1 - self.beta2 ) * g * g\n",
    "        self.m_hat = self.m / ( 1 - self.beta1**self.t )\n",
    "        self.v_hat = self.v / ( 1 - self.beta2**self.t)\n",
    "        \n",
    "        self.theta = self.theta - self.lr * self.m_hat / (self.v_hat**0.5 + self.epislon)\n",
    "    \n",
    "    #Same as above, just take the step of m_hat & v_hat calculation out to update the learning rate first\n",
    "    def minimize(self):\n",
    "        self.t += 1\n",
    "        g = self.get_gradient(self.theta)\n",
    "        lr = self.lr * (1 - self.beta2 ** self.t) ** 0.5 / (1 - self.beta1 ** self.t)\n",
    "        self.m = self.beta1 * self.m + ( 1 - self.beta1 ) * g\n",
    "        self.v = self.beta2 * self.v + ( 1 - self.beta2 ) * g * g\n",
    "        self.theta = self.theta - self.lr * self.m / (self.v ** 0.5 + self.epislon)\n",
    "    \n",
    "    def minimize_trace(self, path = []):\n",
    "        self.t += 1\n",
    "        g = self.get_gradient(self.theta)\n",
    "        lr = self.lr * (1 - self.beta2 ** self.t) ** 0.5 / (1 - self.beta1 ** self.t)\n",
    "        self.m = self.beta1 * self.m + ( 1 - self.beta1 ) * g\n",
    "        self.v = self.beta2 * self.v + ( 1 - self.beta2 ) * g * g\n",
    "        self.theta = self.theta - self.lr * self.m / (self.v ** 0.5 + self.epislon)\n",
    "        path.append(np.copy(self.theta))"
   ]
  },
  {
   "cell_type": "code",
   "execution_count": 15,
   "metadata": {},
   "outputs": [
    {
     "name": "stdout",
     "output_type": "stream",
     "text": [
      " start to opimize epochs : 3000 \n",
      " times : 0, weights : [1.  1.5], loss : 41.25\n",
      " times : 30, weights : [0.49948071 0.45548872], loss : 9.666623647399408\n",
      " times : 60, weights : [1.38438415 0.17799783], loss : 2.5167779393250047\n",
      " times : 90, weights : [1.90538728 0.08816911], loss : 0.7052644281258895\n",
      " times : 120, weights : [2.10828568 0.12429845], loss : 0.42144492938445854\n",
      " times : 150, weights : [2.20781566 0.18645357], loss : 0.2880458984536982\n",
      " times : 180, weights : [2.28513102 0.23614238], loss : 0.20566609831435517\n",
      " times : 210, weights : [2.35268769 0.27225844], loss : 0.15241552107636225\n",
      " times : 240, weights : [2.41100266 0.29996974], loss : 0.11627178813676084\n",
      " times : 270, weights : [2.46129219 0.32229646], loss : 0.09077127786171788\n",
      " times : 300, weights : [2.50512668 0.34073428], loss : 0.0721910831079442\n",
      " times : 330, weights : [2.54374583 0.35623861], loss : 0.05828490579281233\n",
      " times : 360, weights : [2.57807656 0.36948437], loss : 0.04764167941860027\n",
      " times : 390, weights : [2.6088338  0.38094971], loss : 0.03934185911475518\n",
      " times : 420, weights : [2.63657677 0.39098216], loss : 0.032766447732776205\n",
      " times : 450, weights : [2.66174777 0.39984159], loss : 0.027486787424986666\n",
      " times : 480, weights : [2.6847013  0.40772655], loss : 0.023198576593080066\n",
      " times : 510, weights : [2.70572513 0.41479153], loss : 0.019681035193820074\n",
      " times : 540, weights : [2.72505554 0.42115872], loss : 0.016770872085207278\n",
      " times : 570, weights : [2.74288868 0.42692619], loss : 0.014345240444227667\n",
      " times : 600, weights : [2.75938896 0.43217362], loss : 0.012310307717831906\n",
      " times : 630, weights : [2.77469542 0.43696658], loss : 0.010593423819001826\n",
      " times : 660, weights : [2.78892669 0.44135949], loss : 0.009137649495458037\n",
      " times : 690, weights : [2.80218471 0.44539801], loss : 0.00789786572971339\n",
      " times : 720, weights : [2.81455771 0.44912077], loss : 0.006837962720968949\n",
      " times : 750, weights : [2.82612258 0.45256066], loss : 0.005928779037674976\n",
      " times : 780, weights : [2.83694671 0.45574596], loss : 0.005146570445007376\n",
      " times : 810, weights : [2.84708951 0.45870108], loss : 0.004471858250319826\n",
      " times : 840, weights : [2.85660363 0.46144724], loss : 0.003888553275374303\n",
      " times : 870, weights : [2.86553599 0.46400302], loss : 0.0033832825148473753\n",
      " times : 900, weights : [2.87392854 0.46638474], loss : 0.0029448665724690366\n",
      " times : 930, weights : [2.88181901 0.46860682], loss : 0.0025639104667825622\n",
      " times : 960, weights : [2.88924145 0.47068206], loss : 0.002232480531863073\n",
      " times : 990, weights : [2.89622671 0.47262188], loss : 0.0019438473092283515\n",
      " times : 1020, weights : [2.90280287 0.47443648], loss : 0.0016922794615236133\n",
      " times : 1050, weights : [2.90899553 0.47613507], loss : 0.0014728774552644677\n",
      " times : 1080, weights : [2.91482816 0.47772591], loss : 0.0012814384781860866\n",
      " times : 1110, weights : [2.92032233 0.47921652], loss : 0.001114346064051288\n",
      " times : 1140, weights : [2.9254979  0.48061371], loss : 0.0009684793935654664\n",
      " times : 1170, weights : [2.93037326 0.4819237 ], loss : 0.0008411383642442646\n",
      " times : 1200, weights : [2.93496542 0.48315217], loss : 0.0007299813738229576\n",
      " times : 1230, weights : [2.93929023 0.48430432], loss : 0.0006329734120543193\n",
      " times : 1260, weights : [2.94336242 0.48538494], loss : 0.0005483425557615977\n",
      " times : 1290, weights : [2.94719579 0.48639846], loss : 0.0004745433491399096\n",
      " times : 1320, weights : [2.95080323 0.48734895], loss : 0.000410225852968712\n",
      " times : 1350, weights : [2.95419685 0.48824021], loss : 0.00035420938292251935\n",
      " times : 1380, weights : [2.95738802 0.48907575], loss : 0.000305460143701141\n",
      " times : 1410, weights : [2.96038746 0.48985884], loss : 0.0002630721136291331\n",
      " times : 1440, weights : [2.9632053  0.49059254], loss : 0.00022625065230982827\n",
      " times : 1470, weights : [2.96585109 0.4912797 ], loss : 0.00019429839841615215\n",
      " times : 1500, weights : [2.96833387 0.491923  ], loss : 0.00016660310078261688\n",
      " times : 1530, weights : [2.97066223 0.49252495], loss : 0.0001426270874975849\n",
      " times : 1560, weights : [2.97284432 0.49308791], loss : 0.00012189812768253935\n",
      " times : 1590, weights : [2.97488787 0.4936141 ], loss : 0.00010400148141994045\n",
      " times : 1620, weights : [2.97680024 0.49410561], loss : 8.857296668356934e-05\n",
      " times : 1650, weights : [2.97858845 0.49456443], loss : 7.529289957462141e-05\n",
      " times : 1680, weights : [2.98025916 0.49499243], loss : 6.388078681178843e-05\n",
      " times : 1710, weights : [2.98181877 0.49539136], loss : 5.409066816874419e-05\n",
      " times : 1740, weights : [2.98327333 0.49576291], loss : 4.570702212020766e-05\n",
      " times : 1770, weights : [2.98462866 0.49610866], loss : 3.854116092652236e-05\n",
      " times : 1800, weights : [2.98589029 0.49643013], loss : 3.242805222232261e-05\n",
      " times : 1830, weights : [2.98706352 0.49672873], loss : 2.7223513254185504e-05\n",
      " times : 1860, weights : [2.98815339 0.49700583], loss : 2.2801731540241795e-05\n",
      " times : 1890, weights : [2.98916474 0.49726272], loss : 1.9053072150906518e-05\n",
      " times : 1920, weights : [2.99010217 0.49750062], loss : 1.5882137236939272e-05\n",
      " times : 1950, weights : [2.99097008 0.49772069], loss : 1.3206048026791283e-05\n",
      " times : 1980, weights : [2.99177269 0.49792405], loss : 1.0952923416017944e-05\n",
      " times : 2010, weights : [2.99251399 0.49811174], loss : 9.060532591684775e-06\n",
      " times : 2040, weights : [2.99319781 0.49828476], loss : 7.475101967764024e-06\n",
      " times : 2070, weights : [2.9938278  0.49844407], loss : 6.150259131641255e-06\n",
      " times : 2100, weights : [2.99440742 0.49859056], loss : 5.046098582085295e-06\n",
      " times : 2130, weights : [2.99493997 0.49872509], loss : 4.1283558295430285e-06\n",
      " times : 2160, weights : [2.99542861 0.49884846], loss : 3.367677975801025e-06\n",
      " times : 2190, weights : [2.9958763  0.49896145], loss : 2.738980229789159e-06\n",
      " times : 2220, weights : [2.99628589 0.49906478], loss : 2.2208789814973846e-06\n",
      " times : 2250, weights : [2.99666006 0.49915914], loss : 1.7951930732565364e-06\n",
      " times : 2280, weights : [2.99700135 0.49924518], loss : 1.4465057993047572e-06\n",
      " times : 2310, weights : [2.99731216 0.49932351], loss : 1.1617809495625235e-06\n",
      " times : 2340, weights : [2.99759476 0.49939472], loss : 9.300269073728441e-07\n",
      " times : 2370, weights : [2.9978513  0.49945934], loss : 7.420034269906173e-07\n",
      " times : 2400, weights : [2.99808379 0.49951789], loss : 5.899662657420006e-07\n",
      " times : 2430, weights : [2.99829413 0.49957085], loss : 4.674453371721819e-07\n",
      " times : 2460, weights : [2.9984841  0.49961868], loss : 3.6905249298760524e-07\n",
      " times : 2490, weights : [2.99865537 0.49966179], loss : 2.9031543938146223e-07\n",
      " times : 2520, weights : [2.9988095  0.49970058], loss : 2.2753465289859239e-07\n",
      " times : 2550, weights : [2.99894795 0.49973542], loss : 1.7766048666434997e-07\n",
      " times : 2580, weights : [2.99907209 0.49976665], loss : 1.3818795336713003e-07\n",
      " times : 2610, weights : [2.99918318 0.4997946 ], loss : 1.0706693987736672e-07\n",
      " times : 2640, weights : [2.99928241 0.49981956], loss : 8.262585245735426e-08\n",
      " times : 2670, weights : [2.99937085 0.4998418 ], loss : 6.350691336667466e-08\n",
      " times : 2700, weights : [2.99944953 0.49986159], loss : 4.861153119517548e-08\n",
      " times : 2730, weights : [2.99951938 0.49987916], loss : 3.705435009365419e-08\n",
      " times : 2760, weights : [2.99958127 0.49989472], loss : 2.812474868411258e-08\n",
      " times : 2790, weights : [2.99963597 0.49990848], loss : 2.1254709098119334e-08\n",
      " times : 2820, weights : [2.99968423 0.49992061], loss : 1.5992111500951697e-08\n",
      " times : 2850, weights : [2.9997267  0.49993129], loss : 1.1978630681040207e-08\n",
      " times : 2880, weights : [2.99976401 0.49994067], loss : 8.931519847427032e-09\n",
      " loss : 8.931519847427032e-09 is than precision : 1e-08, finish \n",
      "\n",
      " final weights : [2.99976401 0.49994067], loss 8.931519847427032e-09\n"
     ]
    }
   ],
   "source": [
    "epochs = 3000\n",
    "show_steps = 100\n",
    "precision = 1e-8\n",
    "#initial weights\n",
    "weights = np.array([1.0, 1.5])\n",
    "path_trace = [np.copy(weights)]\n",
    "adam = Adam(target_func, weights, lr = 0.01)\n",
    "print(f' start to opimize epochs : {epochs} ')\n",
    "progress_step = epochs // show_steps\n",
    "\n",
    "for i in range(epochs):\n",
    "    if i % progress_step == 0:\n",
    "        #get the current loss (which is put the parameters in objective function and see the output value)\n",
    "        loss_val = adam.loss(adam.theta)\n",
    "        print(f' times : {i}, weights : {adam.theta}, loss : {loss_val}')\n",
    "        if loss_val < precision:\n",
    "            print(f' loss : {loss_val} is than precision : {precision}, finish ')\n",
    "            break\n",
    "    adam.minimize_trace(path_trace)\n",
    "print(f'\\n final weights : {adam.theta}, loss {adam.loss(adam.theta)}')"
   ]
  },
  {
   "cell_type": "markdown",
   "metadata": {},
   "source": [
    "# 作業:\n",
    "(1)以, Adam, 為例, 調整 batch_size, epoch , 觀察accurancy, loss 的變化\n",
    "\n",
    "(2)以同一模型, 分別驗證 SGD, Adam, Rmsprop 的 accurancy"
   ]
  },
  {
   "cell_type": "code",
   "execution_count": 26,
   "metadata": {},
   "outputs": [],
   "source": [
    "def build_model(opt):\n",
    "    model = Sequential()\n",
    "    model.add(Dense(500, input_shape=(784,)))\n",
    "    model.add(Activation('relu'))\n",
    "    model.add(Dense(500))\n",
    "    model.add(Activation('relu'))\n",
    "    model.add(Dense(500))\n",
    "    model.add(Activation('relu'))\n",
    "    model.add(Dense(500))\n",
    "    model.add(Activation('relu'))\n",
    "    model.add(Dense(10))\n",
    "    model.add(Activation('softmax'))\n",
    "    model.compile(optimizer = opt, loss = 'binary_crossentropy', metrics = ['accuracy'])\n",
    "    \n",
    "    return model"
   ]
  },
  {
   "cell_type": "code",
   "execution_count": 46,
   "metadata": {},
   "outputs": [],
   "source": [
    "sgd = optimizers.SGD(lr = 0.01, momentum = 0.95, decay = 5e-5, nesterov = False)\n",
    "rmsprop = optimizers.RMSprop(lr = 0.1, rho = 0.95)\n",
    "adam = optimizers.adam(lr = 0.1, beta_1 = 0.95, beta_2 = 0.999)\n",
    "\n",
    "opts = [sgd, rmsprop, adam]\n",
    "_optimizers = ['SGD', 'RMSprop', 'Adam']"
   ]
  },
  {
   "cell_type": "code",
   "execution_count": 27,
   "metadata": {},
   "outputs": [],
   "source": [
    "batch_size = [32,64,128]\n",
    "epochs = [1,5,10]"
   ]
  },
  {
   "cell_type": "code",
   "execution_count": 30,
   "metadata": {},
   "outputs": [],
   "source": [
    "from keras.utils import to_categorical\n",
    "(x_train, y_train), (x_test, y_test) = mnist.load_data()\n",
    "\n",
    "x_train = x_train.reshape(-1,784)\n",
    "x_test = x_test.reshape(-1,784)\n",
    "\n",
    "x_train = x_train/255.0\n",
    "x_test = x_test/255.0\n",
    "\n",
    "y_train_onehot = to_categorical(y_train,10)\n",
    "y_test_onehot = to_categorical(y_test,10)"
   ]
  },
  {
   "cell_type": "code",
   "execution_count": 33,
   "metadata": {},
   "outputs": [
    {
     "name": "stdout",
     "output_type": "stream",
     "text": [
      " Adam optimizer with batch size : 32, epochs : 1\n",
      "-----validation loss : 0.06474949359297752,validation accuracy : 0.9783299934387207--------\n",
      " Adam optimizer with batch size : 32, epochs : 5\n",
      "-----validation loss : 2.8937783004760744,validation accuracy : 0.8194801155090332--------\n",
      " Adam optimizer with batch size : 32, epochs : 10\n",
      "-----validation loss : 2.8937783004760744,validation accuracy : 0.8194801155090332--------\n",
      " Adam optimizer with batch size : 64, epochs : 1\n",
      "-----validation loss : 2.8825571426391603,validation accuracy : 0.8201801162719726--------\n",
      " Adam optimizer with batch size : 64, epochs : 5\n",
      "-----validation loss : 2.87518324508667,validation accuracy : 0.8206401172637939--------\n",
      " Adam optimizer with batch size : 64, epochs : 10\n",
      "-----validation loss : 2.8937783004760744,validation accuracy : 0.8194801155090332--------\n",
      " Adam optimizer with batch size : 128, epochs : 1\n",
      "-----validation loss : 2.87518324508667,validation accuracy : 0.8206401172637939--------\n",
      " Adam optimizer with batch size : 128, epochs : 5\n",
      "-----validation loss : 2.920067897796631,validation accuracy : 0.8178401180267334--------\n",
      " Adam optimizer with batch size : 128, epochs : 10\n",
      "-----validation loss : 2.8822365379333497,validation accuracy : 0.8202001117706299--------\n"
     ]
    }
   ],
   "source": [
    "for b in batch_size:\n",
    "    for e in epochs:\n",
    "        model = build_model(adam)\n",
    "        print(f' Adam optimizer with batch size : {b}, epochs : {e}')\n",
    "        history = model.fit(x_train, y_train_onehot, batch_size = b, epochs = e, validation_split = 0.2, verbose = 0, shuffle = True)\n",
    "        loss, acc = model.evaluate(x_test,y_test_onehot, batch_size = 128, verbose = 0)\n",
    "        print(f'-----validation loss : {loss},validation accuracy : {acc}--------')\n",
    "        "
   ]
  },
  {
   "cell_type": "code",
   "execution_count": 47,
   "metadata": {
    "scrolled": true
   },
   "outputs": [
    {
     "name": "stdout",
     "output_type": "stream",
     "text": [
      " Current Optimizer : SGD\n"
     ]
    },
    {
     "data": {
      "image/png": "[encoded data removed]",
      "text/plain": [
       "<Figure size 432x288 with 2 Axes>"
      ]
     },
     "metadata": {
      "needs_background": "light"
     },
     "output_type": "display_data"
    },
    {
     "name": "stdout",
     "output_type": "stream",
     "text": [
      " Current Optimizer : RMSprop\n"
     ]
    },
    {
     "data": {
      "image/png": "[encoded data removed]",
      "text/plain": [
       "<Figure size 432x288 with 2 Axes>"
      ]
     },
     "metadata": {
      "needs_background": "light"
     },
     "output_type": "display_data"
    },
    {
     "name": "stdout",
     "output_type": "stream",
     "text": [
      " Current Optimizer : Adam\n"
     ]
    },
    {
     "data": {
      "image/png": "[encoded data removed]",
      "text/plain": [
       "<Figure size 432x288 with 2 Axes>"
      ]
     },
     "metadata": {
      "needs_background": "light"
     },
     "output_type": "display_data"
    }
   ],
   "source": [
    "plot_num = 1\n",
    "for opt in opts:\n",
    "    model = build_model(opt)\n",
    "    print(f' Current Optimizer : {_optimizers[plot_num-1]}')\n",
    "    history = model.fit(x_train, y_train_onehot, batch_size = 128, epochs = 5, validation_split = 0.2, verbose = 0, shuffle = True)\n",
    "    plt.subplot(3,2,plot_num*2 -1)\n",
    "    plt.plot(history.history['acc'])\n",
    "    plt.plot(history.history['val_acc'])\n",
    "    plt.title('accuracy')\n",
    "    plt.xlabel('epochs')\n",
    "    plt.ylabel('accuracy')\n",
    "    plt.legend(['train','test'], loc = 'upper left')\n",
    "    \n",
    "    plt.subplot(3,2,plot_num*2)\n",
    "    plt.plot(history.history['loss'])\n",
    "    plt.plot(history.history['val_loss'])\n",
    "    plt.title('loss')\n",
    "    plt.xlabel('epochs')\n",
    "    plt.ylabel('loss')\n",
    "    plt.legend(['train','test'], loc = 'upper left')\n",
    "    \n",
    "    plt.show()\n",
    "    plot_num += 1"
   ]
  },
  {
   "cell_type": "code",
   "execution_count": null,
   "metadata": {},
   "outputs": [],
   "source": []
  }
 ],
 "metadata": {
  "kernelspec": {
   "display_name": "Python 3",
   "language": "python",
   "name": "python3"
  },
  "language_info": {
   "codemirror_mode": {
    "name": "ipython",
    "version": 3
   },
   "file_extension": ".py",
   "mimetype": "text/x-python",
   "name": "python",
   "nbconvert_exporter": "python",
   "pygments_lexer": "ipython3",
   "version": "3.7.3"
  }
 },
 "nbformat": 4,
 "nbformat_minor": 2
}
