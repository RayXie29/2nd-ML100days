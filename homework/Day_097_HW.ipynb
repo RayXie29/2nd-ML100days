{
 "cells": [
  {
   "cell_type": "code",
   "execution_count": 0,
   "metadata": {
    "colab": {
     "base_uri": "https://localhost:8080/",
     "height": 286
    },
    "colab_type": "code",
    "id": "_KWWOQhgxOd2",
    "outputId": "6811eaaf-ba49-405d-82d6-053cc618d5ad"
   },
   "outputs": [
    {
     "name": "stdout",
     "output_type": "stream",
     "text": [
      "Fri Aug  2 05:48:37 2019       \n",
      "+-----------------------------------------------------------------------------+\n",
      "| NVIDIA-SMI 418.67       Driver Version: 410.79       CUDA Version: 10.0     |\n",
      "|-------------------------------+----------------------+----------------------+\n",
      "| GPU  Name        Persistence-M| Bus-Id        Disp.A | Volatile Uncorr. ECC |\n",
      "| Fan  Temp  Perf  Pwr:Usage/Cap|         Memory-Usage | GPU-Util  Compute M. |\n",
      "|===============================+======================+======================|\n",
      "|   0  Tesla T4            Off  | 00000000:00:04.0 Off |                    0 |\n",
      "| N/A   61C    P0    28W /  70W |   2387MiB / 15079MiB |      0%      Default |\n",
      "+-------------------------------+----------------------+----------------------+\n",
      "                                                                               \n",
      "+-----------------------------------------------------------------------------+\n",
      "| Processes:                                                       GPU Memory |\n",
      "|  GPU       PID   Type   Process name                             Usage      |\n",
      "|=============================================================================|\n",
      "+-----------------------------------------------------------------------------+\n"
     ]
    }
   ],
   "source": [
    "import keras\n",
    "from keras.datasets import cifar10\n",
    "from keras.preprocessing.image import ImageDataGenerator\n",
    "from keras.models import Sequential\n",
    "from keras.layers import Dense, Dropout, Activation, Flatten\n",
    "from keras.layers import Conv2D, MaxPooling2D, BatchNormalization\n",
    "from keras.optimizers import Adam, RMSprop\n",
    "import os\n",
    "\n",
    "!nvidia-smi"
   ]
  },
  {
   "cell_type": "code",
   "execution_count": 0,
   "metadata": {
    "colab": {
     "base_uri": "https://localhost:8080/",
     "height": 84
    },
    "colab_type": "code",
    "id": "x2D7rszlzZEv",
    "outputId": "ad7b808e-d456-41fc-805d-d02f2e8050b1"
   },
   "outputs": [
    {
     "name": "stdout",
     "output_type": "stream",
     "text": [
      " x_train shape : (50000, 3072)\n",
      " train_y shape : (50000, 10)\n",
      " x_test shape : (10000, 3072)\n",
      " test_y shape : (10000, 10)\n"
     ]
    }
   ],
   "source": [
    "(train_x, train_y) , (test_x, test_y) = cifar10.load_data()\n",
    "\n",
    "def preproc_x(x, flatten = True):\n",
    "  x = x / 255.0\n",
    "  if flatten:\n",
    "    x = x.reshape((len(x),-1))\n",
    "  return x\n",
    "\n",
    "def preproc_y(y, num_classes = 10):\n",
    "  if y.shape[-1] == 1:\n",
    "    y = keras.utils.to_categorical(y,num_classes)\n",
    "    \n",
    "  return y\n",
    "\n",
    "\n",
    "x_train = preproc_x(train_x)\n",
    "x_test = preproc_x(test_x)\n",
    "train_y = preproc_y(train_y)\n",
    "test_y = preproc_y(test_y)\n",
    "\n",
    "\n",
    "print(f' x_train shape : {x_train.shape}')\n",
    "print(f' train_y shape : {train_y.shape}')\n",
    "print(f' x_test shape : {x_test.shape}')\n",
    "print(f' test_y shape : {test_y.shape}')"
   ]
  },
  {
   "cell_type": "code",
   "execution_count": 0,
   "metadata": {
    "colab": {},
    "colab_type": "code",
    "id": "VJHzstvp0UMD"
   },
   "outputs": [],
   "source": [
    "def build_MLP(input_shape, output_units = 10):\n",
    "  \n",
    "  input_layer = keras.layers.Input(input_shape)\n",
    "  x = Dense(units = 512, activation = 'relu')(input_layer)\n",
    "  x = Dropout(0.2)(x)\n",
    "  x = Dense(units = 512, activation = 'relu')(x)\n",
    "  x = Dropout(0.2)(x)\n",
    "  output_layer = Dense(units = output_units, activation = 'softmax')(x)\n",
    "  \n",
    "  model = keras.models.Model( inputs = [input_layer], outputs = [output_layer])\n",
    "  return model"
   ]
  },
  {
   "cell_type": "code",
   "execution_count": 0,
   "metadata": {
    "colab": {},
    "colab_type": "code",
    "id": "ZvJ5hfFi1NpT"
   },
   "outputs": [],
   "source": [
    "batch_size = 128\n",
    "epochs = 10"
   ]
  },
  {
   "cell_type": "code",
   "execution_count": 0,
   "metadata": {
    "colab": {
     "base_uri": "https://localhost:8080/",
     "height": 742
    },
    "colab_type": "code",
    "id": "EJNf4tIN0MU6",
    "outputId": "b0b0a001-7e6b-40a1-cd38-95ae0c3ecfe5"
   },
   "outputs": [
    {
     "name": "stdout",
     "output_type": "stream",
     "text": [
      "_________________________________________________________________\n",
      "Layer (type)                 Output Shape              Param #   \n",
      "=================================================================\n",
      "input_3 (InputLayer)         (None, 3072)              0         \n",
      "_________________________________________________________________\n",
      "dense_7 (Dense)              (None, 512)               1573376   \n",
      "_________________________________________________________________\n",
      "dropout_5 (Dropout)          (None, 512)               0         \n",
      "_________________________________________________________________\n",
      "dense_8 (Dense)              (None, 512)               262656    \n",
      "_________________________________________________________________\n",
      "dropout_6 (Dropout)          (None, 512)               0         \n",
      "_________________________________________________________________\n",
      "dense_9 (Dense)              (None, 10)                5130      \n",
      "=================================================================\n",
      "Total params: 1,841,162\n",
      "Trainable params: 1,841,162\n",
      "Non-trainable params: 0\n",
      "_________________________________________________________________\n",
      "Train on 50000 samples, validate on 10000 samples\n",
      "Epoch 1/10\n",
      "50000/50000 [==============================] - 3s 60us/step - loss: 2.2541 - acc: 0.2466 - val_loss: 1.8275 - val_acc: 0.3319\n",
      "Epoch 2/10\n",
      "50000/50000 [==============================] - 3s 53us/step - loss: 1.8545 - acc: 0.3299 - val_loss: 1.7505 - val_acc: 0.3682\n",
      "Epoch 3/10\n",
      "50000/50000 [==============================] - 3s 53us/step - loss: 1.7770 - acc: 0.3612 - val_loss: 1.7104 - val_acc: 0.3947\n",
      "Epoch 4/10\n",
      "50000/50000 [==============================] - 3s 53us/step - loss: 1.7344 - acc: 0.3801 - val_loss: 1.6711 - val_acc: 0.4169\n",
      "Epoch 5/10\n",
      "50000/50000 [==============================] - 3s 53us/step - loss: 1.6971 - acc: 0.3891 - val_loss: 1.6563 - val_acc: 0.4054\n",
      "Epoch 6/10\n",
      "50000/50000 [==============================] - 3s 53us/step - loss: 1.6724 - acc: 0.4014 - val_loss: 1.6511 - val_acc: 0.4092\n",
      "Epoch 7/10\n",
      "50000/50000 [==============================] - 3s 53us/step - loss: 1.6508 - acc: 0.4093 - val_loss: 1.5790 - val_acc: 0.4450\n",
      "Epoch 8/10\n",
      "50000/50000 [==============================] - 3s 52us/step - loss: 1.6371 - acc: 0.4137 - val_loss: 1.6327 - val_acc: 0.4207\n",
      "Epoch 9/10\n",
      "50000/50000 [==============================] - 3s 53us/step - loss: 1.6202 - acc: 0.4192 - val_loss: 1.5834 - val_acc: 0.4338\n",
      "Epoch 10/10\n",
      "50000/50000 [==============================] - 3s 53us/step - loss: 1.6120 - acc: 0.4257 - val_loss: 1.5792 - val_acc: 0.4519\n",
      " Test loss : 1.579194370651245\n",
      " Test accuracy : 0.4519\n"
     ]
    }
   ],
   "source": [
    "mlp = build_MLP(x_train.shape[1:])\n",
    "mlp.compile(loss = 'categorical_crossentropy', metrics = ['accuracy'], optimizer = RMSprop())\n",
    "\n",
    "mlp.summary()\n",
    "\n",
    "history = mlp.fit(x_train, train_y, batch_size = batch_size, epochs = epochs, shuffle = True, validation_data = (x_test, test_y), verbose = 1)\n",
    "score = mlp.evaluate(x_test, test_y, verbose = 0)\n",
    "print(f' Test loss : {score[0]}')\n",
    "print(f' Test accuracy : {score[1]}')"
   ]
  },
  {
   "cell_type": "code",
   "execution_count": 0,
   "metadata": {
    "colab": {
     "base_uri": "https://localhost:8080/",
     "height": 84
    },
    "colab_type": "code",
    "id": "6Izcepy310nH",
    "outputId": "eb441bc6-809f-4cf7-8aca-24d2f81cd9e8"
   },
   "outputs": [
    {
     "name": "stdout",
     "output_type": "stream",
     "text": [
      " train_x shape : (50000, 3072)\n",
      " train_y shape : (50000, 10)\n",
      " test_x shape : (10000, 32, 32, 3)\n",
      " test_y shape : (10000, 10)\n"
     ]
    }
   ],
   "source": [
    "train_x = preproc_x(train_x, False)\n",
    "test_x = preproc_x(test_x, False)\n",
    "\n",
    "print(f' train_x shape : {x_train.shape}')\n",
    "print(f' train_y shape : {train_y.shape}')\n",
    "print(f' test_x shape : {test_x.shape}')\n",
    "print(f' test_y shape : {test_y.shape}')"
   ]
  },
  {
   "cell_type": "code",
   "execution_count": 0,
   "metadata": {
    "colab": {},
    "colab_type": "code",
    "id": "_c1AxTUQGvGs"
   },
   "outputs": [],
   "source": [
    "def build_CNN(input_shape, output_units = 10):\n",
    "  \n",
    "  \n",
    "  input_layer = keras.layers.Input(input_shape)\n",
    "  \n",
    "  x = Conv2D(filters = 64, kernel_size = (3,3), padding = 'same')(input_layer)\n",
    "  x = BatchNormalization()(x)\n",
    "  x = Activation('relu')(x)\n",
    "  x = Conv2D(filters = 64, kernel_size = (3,3), padding = 'same')(x)\n",
    "  x = BatchNormalization()(x)\n",
    "  x = Activation('relu')(x)\n",
    "  x = MaxPooling2D(pool_size = (2,2))(x)\n",
    "  x = Dropout(0.25)(x)\n",
    "  x = Conv2D(filters = 32, kernel_size = (3,3), padding = 'same')(x)\n",
    "  x = BatchNormalization()(x)\n",
    "  x = Activation('relu')(x)\n",
    "  x = Conv2D(filters = 32, kernel_size = (3,3), padding = 'same')(x)\n",
    "  x = BatchNormalization()(x)\n",
    "  x = Activation('relu')(x)\n",
    "  x = MaxPooling2D(pool_size = (2,2))(x)\n",
    "  x = Dropout(0.25)(x)\n",
    "  x = Flatten()(x)\n",
    "  x = Dense(units = 512)(x)\n",
    "  x = BatchNormalization()(x)\n",
    "  x = Activation('relu')(x)\n",
    "  x = Dropout(0.25)(x)\n",
    "  x = Dense(units = 256)(x)\n",
    "  x = BatchNormalization()(x)\n",
    "  x = Activation('relu')(x)\n",
    "  x = Dropout(0.25)(x)\n",
    "  x = Dense(units = 128)(x)\n",
    "  x = BatchNormalization()(x)\n",
    "  x = Activation('relu')(x)\n",
    "  x = Dropout(0.25)(x)\n",
    "  \n",
    "  output_layer = Dense(units = output_units, activation = 'softmax')(x)\n",
    "  \n",
    "  model = keras.models.Model( inputs = [input_layer], outputs = [output_layer])\n",
    "  return model"
   ]
  },
  {
   "cell_type": "code",
   "execution_count": 0,
   "metadata": {
    "colab": {},
    "colab_type": "code",
    "id": "_2Uu7srqJM0j"
   },
   "outputs": [],
   "source": [
    "dataGenerator = ImageDataGenerator( rotation_range = 10,\n",
    "                                    width_shift_range = 0.1,\n",
    "                                    height_shift_range = 0.1,\n",
    "                                    zoom_range = 0.1 )\n",
    "\n",
    "\n",
    "dataGenerator.fit(train_x)"
   ]
  },
  {
   "cell_type": "code",
   "execution_count": 0,
   "metadata": {
    "colab": {
     "base_uri": "https://localhost:8080/",
     "height": 1000
    },
    "colab_type": "code",
    "id": "Wz1z9gd1Jo6L",
    "outputId": "307655e4-3802-482e-85eb-49c5a253a442"
   },
   "outputs": [
    {
     "name": "stdout",
     "output_type": "stream",
     "text": [
      "_________________________________________________________________\n",
      "Layer (type)                 Output Shape              Param #   \n",
      "=================================================================\n",
      "input_8 (InputLayer)         (None, 32, 32, 3)         0         \n",
      "_________________________________________________________________\n",
      "conv2d_17 (Conv2D)           (None, 32, 32, 64)        1792      \n",
      "_________________________________________________________________\n",
      "batch_normalization_29 (Batc (None, 32, 32, 64)        256       \n",
      "_________________________________________________________________\n",
      "activation_29 (Activation)   (None, 32, 32, 64)        0         \n",
      "_________________________________________________________________\n",
      "conv2d_18 (Conv2D)           (None, 32, 32, 64)        36928     \n",
      "_________________________________________________________________\n",
      "batch_normalization_30 (Batc (None, 32, 32, 64)        256       \n",
      "_________________________________________________________________\n",
      "activation_30 (Activation)   (None, 32, 32, 64)        0         \n",
      "_________________________________________________________________\n",
      "max_pooling2d_9 (MaxPooling2 (None, 16, 16, 64)        0         \n",
      "_________________________________________________________________\n",
      "dropout_27 (Dropout)         (None, 16, 16, 64)        0         \n",
      "_________________________________________________________________\n",
      "conv2d_19 (Conv2D)           (None, 16, 16, 32)        18464     \n",
      "_________________________________________________________________\n",
      "batch_normalization_31 (Batc (None, 16, 16, 32)        128       \n",
      "_________________________________________________________________\n",
      "activation_31 (Activation)   (None, 16, 16, 32)        0         \n",
      "_________________________________________________________________\n",
      "conv2d_20 (Conv2D)           (None, 16, 16, 32)        9248      \n",
      "_________________________________________________________________\n",
      "batch_normalization_32 (Batc (None, 16, 16, 32)        128       \n",
      "_________________________________________________________________\n",
      "activation_32 (Activation)   (None, 16, 16, 32)        0         \n",
      "_________________________________________________________________\n",
      "max_pooling2d_10 (MaxPooling (None, 8, 8, 32)          0         \n",
      "_________________________________________________________________\n",
      "dropout_28 (Dropout)         (None, 8, 8, 32)          0         \n",
      "_________________________________________________________________\n",
      "flatten_5 (Flatten)          (None, 2048)              0         \n",
      "_________________________________________________________________\n",
      "dense_26 (Dense)             (None, 512)               1049088   \n",
      "_________________________________________________________________\n",
      "batch_normalization_33 (Batc (None, 512)               2048      \n",
      "_________________________________________________________________\n",
      "activation_33 (Activation)   (None, 512)               0         \n",
      "_________________________________________________________________\n",
      "dropout_29 (Dropout)         (None, 512)               0         \n",
      "_________________________________________________________________\n",
      "dense_27 (Dense)             (None, 256)               131328    \n",
      "_________________________________________________________________\n",
      "batch_normalization_34 (Batc (None, 256)               1024      \n",
      "_________________________________________________________________\n",
      "activation_34 (Activation)   (None, 256)               0         \n",
      "_________________________________________________________________\n",
      "dropout_30 (Dropout)         (None, 256)               0         \n",
      "_________________________________________________________________\n",
      "dense_28 (Dense)             (None, 128)               32896     \n",
      "_________________________________________________________________\n",
      "batch_normalization_35 (Batc (None, 128)               512       \n",
      "_________________________________________________________________\n",
      "activation_35 (Activation)   (None, 128)               0         \n",
      "_________________________________________________________________\n",
      "dropout_31 (Dropout)         (None, 128)               0         \n",
      "_________________________________________________________________\n",
      "dense_29 (Dense)             (None, 10)                1290      \n",
      "=================================================================\n",
      "Total params: 1,285,386\n",
      "Trainable params: 1,283,210\n",
      "Non-trainable params: 2,176\n",
      "_________________________________________________________________\n"
     ]
    }
   ],
   "source": [
    "cnn_model = build_CNN(train_x.shape[1:])\n",
    "sgd = keras.optimizers.SGD(lr = 0.001, momentum = 0.95, nesterov = True)\n",
    "adam = keras.optimizers.Adam(lr = 0.001)\n",
    "cnn_model.compile(loss = 'categorical_crossentropy', metrics = ['accuracy'], optimizer = adam)\n",
    "cnn_model.summary()\n",
    "\n",
    "\n",
    "reduce_lr = keras.callbacks.ReduceLROnPlateau(monitor = 'val_loss', factor = 0.5, min_lr = 1e-6)"
   ]
  },
  {
   "cell_type": "code",
   "execution_count": 0,
   "metadata": {
    "colab": {
     "base_uri": "https://localhost:8080/",
     "height": 1000
    },
    "colab_type": "code",
    "id": "4oAFxT2gT3jB",
    "outputId": "b49b578c-8744-471d-d6a6-1a843eb12554"
   },
   "outputs": [
    {
     "name": "stdout",
     "output_type": "stream",
     "text": [
      "Epoch 1/100\n",
      "391/390 [==============================] - 29s 74ms/step - loss: 1.6457 - acc: 0.4042 - val_loss: 1.8936 - val_acc: 0.3573\n",
      "Epoch 2/100\n",
      "391/390 [==============================] - 26s 66ms/step - loss: 1.2687 - acc: 0.5422 - val_loss: 1.3630 - val_acc: 0.5240\n",
      "Epoch 3/100\n",
      "391/390 [==============================] - 25s 65ms/step - loss: 1.0906 - acc: 0.6102 - val_loss: 1.2351 - val_acc: 0.5727\n",
      "Epoch 4/100\n",
      "391/390 [==============================] - 26s 65ms/step - loss: 0.9842 - acc: 0.6538 - val_loss: 1.1517 - val_acc: 0.5912\n",
      "Epoch 5/100\n",
      "391/390 [==============================] - 25s 64ms/step - loss: 0.9164 - acc: 0.6779 - val_loss: 0.9507 - val_acc: 0.6684\n",
      "Epoch 6/100\n",
      "391/390 [==============================] - 25s 64ms/step - loss: 0.8605 - acc: 0.6996 - val_loss: 0.7849 - val_acc: 0.7348\n",
      "Epoch 7/100\n",
      "391/390 [==============================] - 25s 64ms/step - loss: 0.8289 - acc: 0.7106 - val_loss: 0.8433 - val_acc: 0.7094\n",
      "Epoch 8/100\n",
      "391/390 [==============================] - 25s 63ms/step - loss: 0.7901 - acc: 0.7251 - val_loss: 1.0701 - val_acc: 0.6676\n",
      "Epoch 9/100\n",
      "391/390 [==============================] - 25s 63ms/step - loss: 0.7561 - acc: 0.7378 - val_loss: 0.9010 - val_acc: 0.6905\n",
      "Epoch 10/100\n",
      "391/390 [==============================] - 25s 64ms/step - loss: 0.7339 - acc: 0.7426 - val_loss: 0.7360 - val_acc: 0.7445\n",
      "Epoch 11/100\n",
      "391/390 [==============================] - 25s 63ms/step - loss: 0.7107 - acc: 0.7530 - val_loss: 0.7098 - val_acc: 0.7527\n",
      "Epoch 12/100\n",
      "391/390 [==============================] - 24s 62ms/step - loss: 0.6874 - acc: 0.7599 - val_loss: 0.8988 - val_acc: 0.7103\n",
      "Epoch 13/100\n",
      "391/390 [==============================] - 25s 63ms/step - loss: 0.6727 - acc: 0.7658 - val_loss: 0.7923 - val_acc: 0.7286\n",
      "Epoch 14/100\n",
      "391/390 [==============================] - 24s 62ms/step - loss: 0.6542 - acc: 0.7741 - val_loss: 0.7455 - val_acc: 0.7440\n",
      "Epoch 15/100\n",
      "391/390 [==============================] - 24s 62ms/step - loss: 0.6314 - acc: 0.7806 - val_loss: 0.6432 - val_acc: 0.7761\n",
      "Epoch 16/100\n",
      "391/390 [==============================] - 24s 62ms/step - loss: 0.6212 - acc: 0.7852 - val_loss: 0.9455 - val_acc: 0.7036\n",
      "Epoch 17/100\n",
      "391/390 [==============================] - 24s 63ms/step - loss: 0.6078 - acc: 0.7892 - val_loss: 0.7420 - val_acc: 0.7514\n",
      "Epoch 18/100\n",
      "391/390 [==============================] - 24s 62ms/step - loss: 0.5950 - acc: 0.7922 - val_loss: 0.7421 - val_acc: 0.7558\n",
      "Epoch 19/100\n",
      "391/390 [==============================] - 24s 61ms/step - loss: 0.5839 - acc: 0.7980 - val_loss: 0.6554 - val_acc: 0.7763\n",
      "Epoch 20/100\n",
      "391/390 [==============================] - 24s 62ms/step - loss: 0.5759 - acc: 0.8009 - val_loss: 0.6579 - val_acc: 0.7769\n",
      "Epoch 21/100\n",
      "391/390 [==============================] - 24s 61ms/step - loss: 0.5566 - acc: 0.8080 - val_loss: 0.6880 - val_acc: 0.7698\n",
      "Epoch 22/100\n",
      "391/390 [==============================] - 24s 61ms/step - loss: 0.5509 - acc: 0.8076 - val_loss: 0.6079 - val_acc: 0.7950\n",
      "Epoch 23/100\n",
      "391/390 [==============================] - 24s 61ms/step - loss: 0.5418 - acc: 0.8133 - val_loss: 0.9362 - val_acc: 0.7233\n",
      "Epoch 24/100\n",
      "391/390 [==============================] - 24s 61ms/step - loss: 0.5366 - acc: 0.8149 - val_loss: 0.8773 - val_acc: 0.7266\n",
      "Epoch 25/100\n",
      "391/390 [==============================] - 24s 61ms/step - loss: 0.5328 - acc: 0.8163 - val_loss: 0.6102 - val_acc: 0.7903\n",
      "Epoch 26/100\n",
      "391/390 [==============================] - 24s 62ms/step - loss: 0.5127 - acc: 0.8224 - val_loss: 0.6105 - val_acc: 0.7968\n",
      "Epoch 27/100\n",
      "391/390 [==============================] - 24s 62ms/step - loss: 0.5103 - acc: 0.8246 - val_loss: 0.7062 - val_acc: 0.7759\n",
      "Epoch 28/100\n",
      "391/390 [==============================] - 24s 61ms/step - loss: 0.5026 - acc: 0.8264 - val_loss: 0.5104 - val_acc: 0.8276\n",
      "Epoch 29/100\n",
      "391/390 [==============================] - 24s 62ms/step - loss: 0.4929 - acc: 0.8299 - val_loss: 0.5164 - val_acc: 0.8277\n",
      "Epoch 30/100\n",
      "391/390 [==============================] - 24s 62ms/step - loss: 0.4927 - acc: 0.8285 - val_loss: 0.5458 - val_acc: 0.8192\n",
      "Epoch 31/100\n",
      "391/390 [==============================] - 24s 62ms/step - loss: 0.4785 - acc: 0.8342 - val_loss: 0.5628 - val_acc: 0.8119\n",
      "Epoch 32/100\n",
      "391/390 [==============================] - 24s 61ms/step - loss: 0.4783 - acc: 0.8340 - val_loss: 0.6863 - val_acc: 0.7837\n",
      "Epoch 33/100\n",
      "391/390 [==============================] - 24s 62ms/step - loss: 0.4654 - acc: 0.8386 - val_loss: 0.5506 - val_acc: 0.8129\n",
      "Epoch 34/100\n",
      "391/390 [==============================] - 24s 62ms/step - loss: 0.4674 - acc: 0.8373 - val_loss: 0.6180 - val_acc: 0.7990\n",
      "Epoch 35/100\n",
      "391/390 [==============================] - 24s 61ms/step - loss: 0.4552 - acc: 0.8412 - val_loss: 0.5638 - val_acc: 0.8128\n",
      "Epoch 36/100\n",
      "391/390 [==============================] - 24s 61ms/step - loss: 0.4555 - acc: 0.8426 - val_loss: 0.5308 - val_acc: 0.8281\n",
      "Epoch 37/100\n",
      "391/390 [==============================] - 24s 62ms/step - loss: 0.4453 - acc: 0.8453 - val_loss: 0.5504 - val_acc: 0.8202\n",
      "Epoch 38/100\n",
      "391/390 [==============================] - 24s 61ms/step - loss: 0.4441 - acc: 0.8457 - val_loss: 0.6528 - val_acc: 0.7908\n",
      "Epoch 39/100\n",
      "391/390 [==============================] - 25s 63ms/step - loss: 0.4420 - acc: 0.8466 - val_loss: 0.5208 - val_acc: 0.8307\n",
      "Epoch 40/100\n",
      "391/390 [==============================] - 24s 62ms/step - loss: 0.4344 - acc: 0.8486 - val_loss: 0.6691 - val_acc: 0.7943\n",
      "Epoch 41/100\n",
      "391/390 [==============================] - 24s 61ms/step - loss: 0.4335 - acc: 0.8488 - val_loss: 0.5980 - val_acc: 0.8099\n",
      "Epoch 42/100\n",
      "391/390 [==============================] - 24s 61ms/step - loss: 0.4237 - acc: 0.8533 - val_loss: 0.5231 - val_acc: 0.8255\n",
      "Epoch 43/100\n",
      "391/390 [==============================] - 24s 61ms/step - loss: 0.4214 - acc: 0.8538 - val_loss: 0.5376 - val_acc: 0.8293\n",
      "Epoch 44/100\n",
      "391/390 [==============================] - 24s 61ms/step - loss: 0.4153 - acc: 0.8535 - val_loss: 0.5052 - val_acc: 0.8348\n",
      "Epoch 45/100\n",
      "391/390 [==============================] - 24s 61ms/step - loss: 0.4201 - acc: 0.8556 - val_loss: 0.6053 - val_acc: 0.8084\n",
      "Epoch 46/100\n",
      "391/390 [==============================] - 24s 61ms/step - loss: 0.4121 - acc: 0.8549 - val_loss: 0.5255 - val_acc: 0.8255\n",
      "Epoch 47/100\n",
      "391/390 [==============================] - 24s 61ms/step - loss: 0.4087 - acc: 0.8605 - val_loss: 0.4883 - val_acc: 0.8373\n",
      "Epoch 48/100\n",
      "391/390 [==============================] - 24s 61ms/step - loss: 0.4026 - acc: 0.8590 - val_loss: 0.5643 - val_acc: 0.8226\n",
      "Epoch 49/100\n",
      "391/390 [==============================] - 24s 61ms/step - loss: 0.4033 - acc: 0.8599 - val_loss: 0.5117 - val_acc: 0.8331\n",
      "Epoch 50/100\n",
      "391/390 [==============================] - 24s 61ms/step - loss: 0.4011 - acc: 0.8618 - val_loss: 0.4709 - val_acc: 0.8463\n",
      "Epoch 51/100\n",
      "391/390 [==============================] - 24s 61ms/step - loss: 0.3968 - acc: 0.8619 - val_loss: 0.5713 - val_acc: 0.8178\n",
      "Epoch 52/100\n",
      "391/390 [==============================] - 24s 62ms/step - loss: 0.3937 - acc: 0.8627 - val_loss: 0.4743 - val_acc: 0.8481\n",
      "Epoch 53/100\n",
      "391/390 [==============================] - 24s 61ms/step - loss: 0.3868 - acc: 0.8653 - val_loss: 0.5812 - val_acc: 0.8214\n",
      "Epoch 54/100\n",
      "391/390 [==============================] - 24s 61ms/step - loss: 0.3871 - acc: 0.8649 - val_loss: 0.5719 - val_acc: 0.8207\n",
      "Epoch 55/100\n",
      "391/390 [==============================] - 24s 61ms/step - loss: 0.3854 - acc: 0.8660 - val_loss: 0.5848 - val_acc: 0.8153\n",
      "Epoch 56/100\n",
      "391/390 [==============================] - 24s 61ms/step - loss: 0.3831 - acc: 0.8651 - val_loss: 0.4901 - val_acc: 0.8355\n",
      "Epoch 57/100\n",
      "391/390 [==============================] - 24s 61ms/step - loss: 0.3780 - acc: 0.8686 - val_loss: 0.5152 - val_acc: 0.8306\n",
      "Epoch 58/100\n",
      "391/390 [==============================] - 24s 61ms/step - loss: 0.3793 - acc: 0.8671 - val_loss: 0.5180 - val_acc: 0.8347\n",
      "Epoch 59/100\n",
      "391/390 [==============================] - 24s 61ms/step - loss: 0.3811 - acc: 0.8684 - val_loss: 0.5407 - val_acc: 0.8247\n",
      "Epoch 60/100\n",
      "391/390 [==============================] - 24s 61ms/step - loss: 0.3727 - acc: 0.8706 - val_loss: 0.5181 - val_acc: 0.8378\n",
      "Epoch 61/100\n",
      "391/390 [==============================] - 24s 61ms/step - loss: 0.3710 - acc: 0.8704 - val_loss: 0.5560 - val_acc: 0.8222\n",
      "Epoch 62/100\n",
      "391/390 [==============================] - 24s 61ms/step - loss: 0.3729 - acc: 0.8704 - val_loss: 0.5582 - val_acc: 0.8283\n",
      "Epoch 63/100\n",
      "391/390 [==============================] - 24s 61ms/step - loss: 0.3662 - acc: 0.8734 - val_loss: 0.5122 - val_acc: 0.8344\n",
      "Epoch 64/100\n",
      "391/390 [==============================] - 24s 62ms/step - loss: 0.3671 - acc: 0.8710 - val_loss: 0.5020 - val_acc: 0.8393\n",
      "Epoch 65/100\n",
      "391/390 [==============================] - 24s 62ms/step - loss: 0.3544 - acc: 0.8753 - val_loss: 0.6315 - val_acc: 0.8109\n",
      "Epoch 66/100\n",
      "391/390 [==============================] - 24s 61ms/step - loss: 0.3583 - acc: 0.8756 - val_loss: 0.5983 - val_acc: 0.8175\n",
      "Epoch 67/100\n",
      "391/390 [==============================] - 24s 61ms/step - loss: 0.3579 - acc: 0.8765 - val_loss: 0.5653 - val_acc: 0.8232\n",
      "Epoch 68/100\n",
      "391/390 [==============================] - 24s 61ms/step - loss: 0.3554 - acc: 0.8756 - val_loss: 0.5231 - val_acc: 0.8342\n",
      "Epoch 69/100\n",
      "391/390 [==============================] - 24s 61ms/step - loss: 0.3537 - acc: 0.8777 - val_loss: 0.5350 - val_acc: 0.8303\n",
      "Epoch 70/100\n",
      "391/390 [==============================] - 24s 61ms/step - loss: 0.3532 - acc: 0.8762 - val_loss: 0.5505 - val_acc: 0.8259\n",
      "Epoch 71/100\n",
      "391/390 [==============================] - 24s 61ms/step - loss: 0.3493 - acc: 0.8780 - val_loss: 0.5330 - val_acc: 0.8357\n",
      "Epoch 72/100\n",
      "391/390 [==============================] - 24s 61ms/step - loss: 0.3497 - acc: 0.8774 - val_loss: 0.5406 - val_acc: 0.8296\n",
      "Epoch 73/100\n",
      "391/390 [==============================] - 24s 61ms/step - loss: 0.3443 - acc: 0.8802 - val_loss: 0.6036 - val_acc: 0.8149\n",
      "Epoch 74/100\n",
      "391/390 [==============================] - 24s 61ms/step - loss: 0.3364 - acc: 0.8824 - val_loss: 0.6413 - val_acc: 0.8051\n",
      "Epoch 75/100\n",
      "391/390 [==============================] - 24s 61ms/step - loss: 0.3471 - acc: 0.8803 - val_loss: 0.6051 - val_acc: 0.8162\n",
      "Epoch 76/100\n",
      "391/390 [==============================] - 24s 61ms/step - loss: 0.3432 - acc: 0.8797 - val_loss: 0.5413 - val_acc: 0.8319\n",
      "Epoch 77/100\n",
      "391/390 [==============================] - 24s 61ms/step - loss: 0.3320 - acc: 0.8835 - val_loss: 0.5318 - val_acc: 0.8396\n",
      "Epoch 78/100\n",
      "391/390 [==============================] - 24s 62ms/step - loss: 0.3383 - acc: 0.8838 - val_loss: 0.5494 - val_acc: 0.8286\n",
      "Epoch 79/100\n",
      "391/390 [==============================] - 24s 61ms/step - loss: 0.3361 - acc: 0.8836 - val_loss: 0.5579 - val_acc: 0.8275\n",
      "Epoch 80/100\n",
      "391/390 [==============================] - 24s 61ms/step - loss: 0.3327 - acc: 0.8838 - val_loss: 0.6010 - val_acc: 0.8170\n",
      "Epoch 81/100\n",
      "391/390 [==============================] - 24s 61ms/step - loss: 0.3327 - acc: 0.8840 - val_loss: 0.6140 - val_acc: 0.8133\n",
      "Epoch 82/100\n",
      "391/390 [==============================] - 24s 61ms/step - loss: 0.3292 - acc: 0.8845 - val_loss: 0.5225 - val_acc: 0.8365\n",
      "Epoch 83/100\n",
      "391/390 [==============================] - 24s 61ms/step - loss: 0.3321 - acc: 0.8852 - val_loss: 0.5947 - val_acc: 0.8192\n",
      "Epoch 84/100\n",
      "391/390 [==============================] - 24s 61ms/step - loss: 0.3224 - acc: 0.8858 - val_loss: 0.5660 - val_acc: 0.8287\n",
      "Epoch 85/100\n",
      "391/390 [==============================] - 24s 61ms/step - loss: 0.3307 - acc: 0.8848 - val_loss: 0.4988 - val_acc: 0.8414\n",
      "Epoch 86/100\n",
      "391/390 [==============================] - 24s 61ms/step - loss: 0.3204 - acc: 0.8888 - val_loss: 0.4920 - val_acc: 0.8439\n",
      "Epoch 87/100\n",
      "391/390 [==============================] - 24s 61ms/step - loss: 0.3243 - acc: 0.8886 - val_loss: 0.7718 - val_acc: 0.7830\n",
      "Epoch 88/100\n",
      "391/390 [==============================] - 24s 61ms/step - loss: 0.3160 - acc: 0.8884 - val_loss: 0.6034 - val_acc: 0.8205\n",
      "Epoch 89/100\n",
      "391/390 [==============================] - 24s 61ms/step - loss: 0.3151 - acc: 0.8893 - val_loss: 0.6789 - val_acc: 0.8064\n",
      "Epoch 90/100\n",
      "391/390 [==============================] - 24s 61ms/step - loss: 0.3175 - acc: 0.8896 - val_loss: 0.5381 - val_acc: 0.8376\n",
      "Epoch 91/100\n",
      "391/390 [==============================] - 24s 62ms/step - loss: 0.3159 - acc: 0.8906 - val_loss: 0.5788 - val_acc: 0.8227\n",
      "Epoch 92/100\n",
      "391/390 [==============================] - 24s 61ms/step - loss: 0.3157 - acc: 0.8891 - val_loss: 0.5559 - val_acc: 0.8303\n",
      "Epoch 93/100\n",
      "391/390 [==============================] - 24s 61ms/step - loss: 0.3135 - acc: 0.8904 - val_loss: 0.6096 - val_acc: 0.8157\n",
      "Epoch 94/100\n",
      "391/390 [==============================] - 24s 61ms/step - loss: 0.3099 - acc: 0.8912 - val_loss: 0.5398 - val_acc: 0.8344\n",
      "Epoch 95/100\n",
      "391/390 [==============================] - 24s 61ms/step - loss: 0.3144 - acc: 0.8910 - val_loss: 0.6708 - val_acc: 0.8054\n",
      "Epoch 96/100\n",
      "391/390 [==============================] - 24s 61ms/step - loss: 0.3102 - acc: 0.8913 - val_loss: 0.5805 - val_acc: 0.8248\n",
      "Epoch 97/100\n",
      "391/390 [==============================] - 24s 61ms/step - loss: 0.3094 - acc: 0.8919 - val_loss: 0.4815 - val_acc: 0.8458\n",
      "Epoch 98/100\n",
      "391/390 [==============================] - 24s 61ms/step - loss: 0.3099 - acc: 0.8915 - val_loss: 0.5750 - val_acc: 0.8280\n",
      "Epoch 99/100\n",
      "391/390 [==============================] - 24s 61ms/step - loss: 0.3090 - acc: 0.8927 - val_loss: 0.4618 - val_acc: 0.8538\n",
      "Epoch 100/100\n",
      "391/390 [==============================] - 24s 61ms/step - loss: 0.3036 - acc: 0.8947 - val_loss: 0.6221 - val_acc: 0.8150\n"
     ]
    }
   ],
   "source": [
    "history = cnn_model.fit_generator(dataGenerator.flow(train_x, train_y, batch_size), epochs = 100, shuffle = True, validation_data = (test_x, test_y), steps_per_epoch=train_x.shape[0] / batch_size )"
   ]
  },
  {
   "cell_type": "code",
   "execution_count": 0,
   "metadata": {
    "colab": {
     "base_uri": "https://localhost:8080/",
     "height": 346
    },
    "colab_type": "code",
    "id": "e9E2LMiBVZNG",
    "outputId": "4397e573-b3d6-4713-982f-f966e059abf0"
   },
   "outputs": [
    {
     "name": "stdout",
     "output_type": "stream",
     "text": [
      "10000/10000 [==============================] - 1s 146us/step\n",
      "cnn loss : 0.6221367831468582\n",
      "cnn acc : 0.815\n"
     ]
    },
    {
     "data": {
      "image/png": "[encoded data removed]",
      "text/plain": [
       "<Figure size 432x288 with 2 Axes>"
      ]
     },
     "metadata": {
      "tags": []
     },
     "output_type": "display_data"
    }
   ],
   "source": [
    "import matplotlib.pyplot as plt\n",
    "score = cnn_model.evaluate(test_x,test_y)\n",
    "print(f'cnn loss : {score[0]}')\n",
    "print(f'cnn acc : {score[1]}')\n",
    "\n",
    "plt.subplot(1,2,1)\n",
    "plt.plot(history.history['acc'], '-', label = 'train_acc', color = 'g')\n",
    "plt.plot(history.history['val_acc'],'--', label = 'valid_acc', color = 'r')\n",
    "plt.title('accuracy')\n",
    "plt.xlabel('epochs')\n",
    "plt.ylabel('accuracy')\n",
    "\n",
    "\n",
    "plt.subplot(1,2,2)\n",
    "plt.plot(history.history['loss'], '-', label = 'train_loss', color = 'g')\n",
    "plt.plot(history.history['val_loss'],'--', label = 'valid_loss', color = 'r')\n",
    "plt.title('loss')\n",
    "plt.xlabel('epochs')\n",
    "plt.ylabel('loss')\n",
    "plt.show()"
   ]
  },
  {
   "cell_type": "markdown",
   "metadata": {
    "colab_type": "text",
    "id": "r_g_70nRJBb0"
   },
   "source": [
    "# 同樣運算 10 個 epochs，但 CNN 在 test data 的準確率顯著優於 DNN!\n",
    "# 作業\n",
    "1.請試著調整各個超參數，並說明那些超參數對於結果有明顯的影響? <br />\n",
    "2.CNN 與 DNN 哪個模型的參數數量比較多? 造成參數的數量不同的原因在哪<br />"
   ]
  },
  {
   "cell_type": "markdown",
   "metadata": {
    "colab_type": "text",
    "id": "FQxxTmClJWxb"
   },
   "source": [
    "1. BatchSize : small batch size might will have much stable training process and it will have large chane to convergence. But the minimal you found might would have large chane that it is local minimal. In contrast, big batch size will make the training unstable, since your weight was updated everytime after a large amount of data. So we need to find a good batch size for our training which wont make our training drop into local minimal too esay and the weight updating will be much stabler.\n",
    "\n",
    "2. Learning rate : Large learning rate might make our training have hard time to converge, small learning rate might need to spend lots of time on training, and it will easy to drop into local minimal.\n",
    "\n",
    "3. filter number in Conv2D: More filters means more weights(parameters) in our NN, it might make the training time longer and the model more complex. But this means our model can learn more detail of our data, but the generalization ability will be worse.\n",
    "\n",
    "4. Kernel size in Conv2D : Bigger kernel size means our model is learning on larger feature in image, which might make us lost some detail. But the generalization ability will become better.\n",
    "\n",
    "5. Number of hidden layers: At the first few times of training, it might be good idea we can add the hidden as much as we can until the testing loss or testing accuracy is not improving. But the training effort(time) will be big.\n",
    "\n",
    "6. Dropout : Normally, 0.5 will be a good start to setting our dropout rate. Dropout can make our model has better generalizatiob ability. But too big dropout rate might resut in underfitting, since most of the parameters didnt have much chance to be updated."
   ]
  },
  {
   "cell_type": "markdown",
   "metadata": {
    "colab_type": "text",
    "id": "-2ex-zuJXqkj"
   },
   "source": [
    "DNN will have much more parameters, since every pixel in the the image will have one weight in one neuron. If our image size is 32*32*3 and the dense unit is 512. Then the total parameters would be 1572864(weights) +  512(bias)."
   ]
  },
  {
   "cell_type": "code",
   "execution_count": 0,
   "metadata": {
    "colab": {},
    "colab_type": "code",
    "id": "iUADKo7KdbbA"
   },
   "outputs": [],
   "source": []
  }
 ],
 "metadata": {
  "accelerator": "GPU",
  "colab": {
   "collapsed_sections": [],
   "name": "Day_097_HW",
   "provenance": [],
   "version": "0.3.2"
  },
  "kernelspec": {
   "display_name": "Python 3",
   "language": "python",
   "name": "python3"
  },
  "language_info": {
   "codemirror_mode": {
    "name": "ipython",
    "version": 3
   },
   "file_extension": ".py",
   "mimetype": "text/x-python",
   "name": "python",
   "nbconvert_exporter": "python",
   "pygments_lexer": "ipython3",
   "version": "3.7.3"
  }
 },
 "nbformat": 4,
 "nbformat_minor": 1
}
