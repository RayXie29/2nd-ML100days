{
 "cells": [
  {
   "cell_type": "markdown",
   "metadata": {},
   "source": [
    "# [範例重點]\n",
    "了解機器學習建模的步驟、資料型態以及評估結果等流程"
   ]
  },
  {
   "cell_type": "code",
   "execution_count": 1,
   "metadata": {},
   "outputs": [],
   "source": [
    "from sklearn import metrics, datasets\n",
    "\n",
    "from sklearn.tree import DecisionTreeClassifier, DecisionTreeRegressor\n",
    "from sklearn.model_selection import train_test_split"
   ]
  },
  {
   "cell_type": "markdown",
   "metadata": {},
   "source": [
    "# 建立模型四步驟\n",
    "在 Scikit-learn 中，建立一個機器學習的模型其實非常簡單，流程大略是以下四個步驟<br />\n",
    "<br />\n",
    "1.讀進資料，並檢查資料的 shape (有多少 samples (rows), 多少 features (columns)，label 的型態是什麼？)<br />\n",
    "讀取資料的方法：<br />\n",
    "使用 pandas 讀取 .csv 檔：pd.read_csv<br />\n",
    "使用 numpy 讀取 .txt 檔：np.loadtxt<br />\n",
    "使用 Scikit-learn 內建的資料集：sklearn.datasets.load_xxx<br />\n",
    "檢查資料數量：data.shape (data should be np.array or dataframe)<br />\n",
    "<br />\n",
    "2.將資料切為訓練 (train) / 測試 (test)<br />\n",
    "train_test_split(data)<br />\n",
    "<br />\n",
    "3.建立模型，將資料 fit 進模型開始訓練<br />\n",
    "clf = DecisionTreeClassifier()<br />\n",
    "clf.fit(x_train, y_train)<br />\n",
    "<br />\n",
    "4.將測試資料 (features) 放進訓練好的模型中，得到 prediction，與測試資料的 label (y_test) 做評估<br />\n",
    "clf.predict(x_test)<br />\n",
    "accuracy_score(y_test, y_pred)<br />\n",
    "f1_score(y_test, y_pred)<br />"
   ]
  },
  {
   "cell_type": "code",
   "execution_count": 2,
   "metadata": {},
   "outputs": [
    {
     "name": "stdout",
     "output_type": "stream",
     "text": [
      " Accuracy : 0.9736842105263158 \n"
     ]
    }
   ],
   "source": [
    "iris = datasets.load_iris()\n",
    "\n",
    "#split train and test data for model validation\n",
    "x_train, x_test, y_train, y_test = train_test_split(iris.data,iris.target, test_size = 0.25 , random_state = 2019)\n",
    "\n",
    "#build the classifier model\n",
    "clf = DecisionTreeClassifier()\n",
    "\n",
    "#train the classifier\n",
    "clf.fit(x_train,y_train)\n",
    "\n",
    "#predict the result\n",
    "pred = clf.predict(x_test)\n",
    "\n",
    "#measure the score\n",
    "acc = metrics.accuracy_score(pred,y_test)\n",
    "print(f' Accuracy : {acc} ')"
   ]
  },
  {
   "cell_type": "code",
   "execution_count": 3,
   "metadata": {},
   "outputs": [
    {
     "name": "stdout",
     "output_type": "stream",
     "text": [
      "['sepal length (cm)', 'sepal width (cm)', 'petal length (cm)', 'petal width (cm)']\n"
     ]
    }
   ],
   "source": [
    "#Check out the features in dataset\n",
    "print(iris.feature_names)"
   ]
  },
  {
   "cell_type": "code",
   "execution_count": 4,
   "metadata": {},
   "outputs": [
    {
     "name": "stdout",
     "output_type": "stream",
     "text": [
      " Feature imortance : [0.01347125 0.         0.05241164 0.93411711] \n"
     ]
    }
   ],
   "source": [
    "#Check out the importance of features\n",
    "print(f' Feature imortance : {clf.feature_importances_} ')"
   ]
  },
  {
   "cell_type": "markdown",
   "metadata": {},
   "source": [
    "# [作業重點]\n",
    "目前你應該已經要很清楚資料集中，資料的型態是什麼樣子囉！包含特徵 (features) 與標籤 (labels)。因此要記得未來不管什麼專案，必須要把資料清理成相同的格式，才能送進模型訓練。 今天的作業開始踏入決策樹這個非常重要的模型，請務必確保你理解模型中每個超參數的意思，並試著調整看看，對最終預測結果的影響為何 <br />\n",
    "<br /> \n",
    "# 作業\n",
    "1.試著調整 DecisionTreeClassifier(...) 中的參數，並觀察是否會改變結果？<br />\n",
    "2.改用其他資料集 (boston, wine)，並與回歸模型的結果進行比較<br />"
   ]
  },
  {
   "cell_type": "code",
   "execution_count": 15,
   "metadata": {},
   "outputs": [
    {
     "name": "stdout",
     "output_type": "stream",
     "text": [
      " Accuracy : 0.9736842105263158 \n"
     ]
    }
   ],
   "source": [
    "clf.set_params(criterion = \"entropy\", max_depth = 2, min_samples_split = 2, min_samples_leaf = 1)\n",
    "clf.fit(x_train,y_train)\n",
    "pred = clf.predict(x_test)\n",
    "#measure the score after adjust the parameters\n",
    "acc = metrics.accuracy_score(pred,y_test)\n",
    "print(f' Accuracy : {acc} ')"
   ]
  },
  {
   "cell_type": "markdown",
   "metadata": {},
   "source": [
    "**The iris dataset is quite simple, even I modify the max_depth to 2, the score still great.**"
   ]
  },
  {
   "cell_type": "code",
   "execution_count": 8,
   "metadata": {},
   "outputs": [
    {
     "name": "stdout",
     "output_type": "stream",
     "text": [
      "[24.  21.6 34.7 33.4 36.2 28.7 22.9 27.1 16.5 18.9]\n",
      "(506, 13)\n"
     ]
    }
   ],
   "source": [
    "boston = datasets.load_boston()\n",
    "\n",
    "#check the data label type\n",
    "print(boston.target[:10])\n",
    "\n",
    "#check the shape of data\n",
    "print(boston.data.shape)"
   ]
  },
  {
   "cell_type": "code",
   "execution_count": 27,
   "metadata": {},
   "outputs": [
    {
     "name": "stdout",
     "output_type": "stream",
     "text": [
      " MSE : 19.899946301091774 \n"
     ]
    }
   ],
   "source": [
    "train_x, test_x, train_y, test_y = train_test_split(boston.data, boston.target, test_size = 0.2, random_state = 2019)\n",
    "\n",
    "regr = DecisionTreeRegressor(max_depth = 5, min_samples_split = 2 , min_samples_leaf = 1)\n",
    "regr.fit(train_x,train_y)\n",
    "pred = regr.predict(test_x)\n",
    "\n",
    "print(f' MSE : {metrics.mean_squared_error(pred,test_y)} ')"
   ]
  },
  {
   "cell_type": "code",
   "execution_count": 20,
   "metadata": {},
   "outputs": [
    {
     "name": "stdout",
     "output_type": "stream",
     "text": [
      " MSE: 26.202748180423757 \n"
     ]
    }
   ],
   "source": [
    "from sklearn.linear_model import LinearRegression\n",
    "\n",
    "LR = LinearRegression()\n",
    "LR.fit(train_x,train_y)\n",
    "pred = LR.predict(test_x)\n",
    "\n",
    "print(f' MSE: {metrics.mean_squared_error(pred,test_y)} ')"
   ]
  },
  {
   "cell_type": "code",
   "execution_count": null,
   "metadata": {},
   "outputs": [],
   "source": []
  }
 ],
 "metadata": {
  "kernelspec": {
   "display_name": "Python 3",
   "language": "python",
   "name": "python3"
  },
  "language_info": {
   "codemirror_mode": {
    "name": "ipython",
    "version": 3
   },
   "file_extension": ".py",
   "mimetype": "text/x-python",
   "name": "python",
   "nbconvert_exporter": "python",
   "pygments_lexer": "ipython3",
   "version": "3.7.3"
  }
 },
 "nbformat": 4,
 "nbformat_minor": 2
}
