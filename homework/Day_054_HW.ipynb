{
 "cells": [
  {
   "cell_type": "markdown",
   "metadata": {},
   "source": [
    "# 作業\n",
    "試著想想看, 非監督學習是否有可能使用評價函數 (Metric) 來鑑別好壞呢? <br />\n",
    "(Hint : 可以分為 \"有目標值\" 與 \"無目標值\" 兩個方向思考)"
   ]
  },
  {
   "cell_type": "markdown",
   "metadata": {},
   "source": [
    "for no target value case : <br />\n",
    "    We can evaluate the training result by observing how well the distribution of interest. Like clustering, how can measure the average ratio of the cluster diameter compared to the distance between clusters. <br />\n",
    "\n",
    "for target value case: <br />\n",
    "    If we already had the lable, we can use unsupervised learning to train without label. Then use the labels we already knew to evaluate the training result."
   ]
  },
  {
   "cell_type": "code",
   "execution_count": null,
   "metadata": {},
   "outputs": [],
   "source": []
  }
 ],
 "metadata": {
  "kernelspec": {
   "display_name": "Python 3",
   "language": "python",
   "name": "python3"
  },
  "language_info": {
   "codemirror_mode": {
    "name": "ipython",
    "version": 3
   },
   "file_extension": ".py",
   "mimetype": "text/x-python",
   "name": "python",
   "nbconvert_exporter": "python",
   "pygments_lexer": "ipython3",
   "version": "3.7.3"
  }
 },
 "nbformat": 4,
 "nbformat_minor": 2
}
