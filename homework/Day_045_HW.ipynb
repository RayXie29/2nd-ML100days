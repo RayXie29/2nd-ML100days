{
 "cells": [
  {
   "cell_type": "markdown",
   "metadata": {},
   "source": [
    "Sample Code & 作業內容<br />\n",
    "<br />\n",
    "<br />\n",
    "你可能聽過 XGBoost/Light-GBM，這些都是資料科學競賽中最常用的機器學習模型，但其實這些演算法背後原理都是基於 Gradient-boosting 進而優化，強烈建議您對本日的課程與補充教材多花點時間閱讀與理解。 ",
    "核心概念就是透過計算梯度，來讓下一棵生成的樹能夠根據梯度方向，試圖讓 Loss 變得更小！<br />\n",
    "<br />\n",
    "<br />\n",
    "<br />\n",
    " ",
    "本日作業請完整閱讀以下任一文獻即可：<br />\n",
    "<br />\n",
    "Kaggle 大師帶你了解梯度提升機原理 - 英文<br />\n",
    "http://blog.kaggle.com/2017/01/23/a-kaggle-master-explains-gradient-boosting/<br />\n",
    "完整的 Ensemble 概念 by 李宏毅教授<br />\n",
    "https://www.youtube.com/watch?v=tH9FH1DH5n0<br />\n",
    "深入了解 Gradient-boosting - 英文<br />\n",
    "https://explained.ai/gradient-boosting/index.html<br />"
   ]
  },
  {
   "cell_type": "code",
   "execution_count": null,
   "metadata": {},
   "outputs": [],
   "source": []
  }
 ],
 "metadata": {
  "kernelspec": {
   "display_name": "Python 3",
   "language": "python",
   "name": "python3"
  },
  "language_info": {
   "codemirror_mode": {
    "name": "ipython",
    "version": 3
   },
   "file_extension": ".py",
   "mimetype": "text/x-python",
   "name": "python",
   "nbconvert_exporter": "python",
   "pygments_lexer": "ipython3",
   "version": "3.7.3"
  }
 },
 "nbformat": 4,
 "nbformat_minor": 2
}
