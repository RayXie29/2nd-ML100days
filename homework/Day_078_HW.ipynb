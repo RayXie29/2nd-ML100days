{
 "cells": [
  {
   "cell_type": "markdown",
   "metadata": {},
   "source": [
    "# 範例重點\n",
    "## 學習在模型開始前檢查各個環節\n",
    "1.是否有 GPU 資源 <br />\n",
    "2.將前處理轉為函式，統一處理訓練、驗證與測試集<br />\n",
    "3.將超參數變數化，易於重複使用函式、模型等<br />"
   ]
  },
  {
   "cell_type": "code",
   "execution_count": 1,
   "metadata": {},
   "outputs": [
    {
     "name": "stdout",
     "output_type": "stream",
     "text": [
      "/bin/sh: nvidia-smi: command not found\r\n"
     ]
    }
   ],
   "source": [
    "!nvidia-smi"
   ]
  },
  {
   "cell_type": "code",
   "execution_count": 2,
   "metadata": {},
   "outputs": [
    {
     "name": "stderr",
     "output_type": "stream",
     "text": [
      "Using TensorFlow backend.\n"
     ]
    }
   ],
   "source": [
    "import os\n",
    "import keras\n",
    "\n",
    "os.environ[\"CUDA_VISIBLE_DEVICES\"] = \"\""
   ]
  },
  {
   "cell_type": "code",
   "execution_count": 4,
   "metadata": {},
   "outputs": [],
   "source": [
    "(x_train, y_train) , (x_test, y_test) = keras.datasets.cifar10.load_data()"
   ]
  },
  {
   "cell_type": "code",
   "execution_count": 6,
   "metadata": {},
   "outputs": [],
   "source": [
    "#data preprocessing\n",
    "def preproc_x(x, flatten = True):\n",
    "    x = x/255.0\n",
    "    if flatten:\n",
    "        x = x.reshape((len(x),-1))\n",
    "    return x\n",
    "\n",
    "def preproc_y(y, num_classes = 10):\n",
    "    if y.shape[-1] == 1:\n",
    "        y = keras.utils.to_categorical(y, num_classes)\n",
    "    return y"
   ]
  },
  {
   "cell_type": "code",
   "execution_count": 7,
   "metadata": {},
   "outputs": [],
   "source": [
    "x_train = preproc_x(x_train)\n",
    "x_test = preproc_x(x_test)\n",
    "y_train = preproc_y(y_train)\n",
    "y_test = preproc_y(y_test)\n"
   ]
  },
  {
   "cell_type": "code",
   "execution_count": 11,
   "metadata": {},
   "outputs": [],
   "source": [
    "def build_mlp(input_shape, output_units = 10, num_neurons = [512, 256, 128]):\n",
    "    \n",
    "    input_layer = keras.layers.Input(input_shape)\n",
    "    \n",
    "    for i, n_units in enumerate(num_neurons):\n",
    "        if i == 0:\n",
    "            x = keras.layers.Dense(units = n_units, activation = 'relu', name = \"hidden_layer\"+str(i+1))(input_layer)\n",
    "        else:\n",
    "            x = keras.layers.Dense(units = n_units, activation = 'relu', name = \"hidden_layer\"+str(i+1))(x)\n",
    "        \n",
    "    output_layer = keras.layers.Dense(units = output_units, activation = 'softmax', name = \"output\")(x)\n",
    "    model = keras.models.Model(inputs = [input_layer], outputs = [output_layer])\n",
    "    \n",
    "    return model"
   ]
  },
  {
   "cell_type": "code",
   "execution_count": 12,
   "metadata": {},
   "outputs": [
    {
     "name": "stdout",
     "output_type": "stream",
     "text": [
      "_________________________________________________________________\n",
      "Layer (type)                 Output Shape              Param #   \n",
      "=================================================================\n",
      "input_2 (InputLayer)         (None, 3072)              0         \n",
      "_________________________________________________________________\n",
      "hidden_layer1 (Dense)        (None, 512)               1573376   \n",
      "_________________________________________________________________\n",
      "hidden_layer2 (Dense)        (None, 256)               131328    \n",
      "_________________________________________________________________\n",
      "hidden_layer3 (Dense)        (None, 128)               32896     \n",
      "_________________________________________________________________\n",
      "output (Dense)               (None, 10)                1290      \n",
      "=================================================================\n",
      "Total params: 1,738,890\n",
      "Trainable params: 1,738,890\n",
      "Non-trainable params: 0\n",
      "_________________________________________________________________\n"
     ]
    }
   ],
   "source": [
    "model = build_mlp(input_shape = x_train.shape[1:])\n",
    "model.summary()"
   ]
  },
  {
   "cell_type": "code",
   "execution_count": 13,
   "metadata": {},
   "outputs": [],
   "source": [
    "#hyper-parameter setting\n",
    "lr = 0.001\n",
    "epochs = 20\n",
    "batch_size = 256"
   ]
  },
  {
   "cell_type": "code",
   "execution_count": 14,
   "metadata": {},
   "outputs": [],
   "source": [
    "optimizer = keras.optimizers.Adam(lr = lr)\n",
    "model.compile(optimizer = optimizer , loss = \"categorical_crossentropy\", metrics = ['accuracy'])"
   ]
  },
  {
   "cell_type": "code",
   "execution_count": 15,
   "metadata": {},
   "outputs": [
    {
     "name": "stdout",
     "output_type": "stream",
     "text": [
      "WARNING:tensorflow:From /Users/xiejialun/anaconda3/lib/python3.7/site-packages/tensorflow/python/ops/math_ops.py:3066: to_int32 (from tensorflow.python.ops.math_ops) is deprecated and will be removed in a future version.\n",
      "Instructions for updating:\n",
      "Use tf.cast instead.\n",
      "Train on 50000 samples, validate on 10000 samples\n",
      "Epoch 1/20\n",
      "50000/50000 [==============================] - 14s 279us/step - loss: 1.9342 - acc: 0.3034 - val_loss: 1.7533 - val_acc: 0.3787\n",
      "Epoch 2/20\n",
      "50000/50000 [==============================] - 13s 256us/step - loss: 1.7056 - acc: 0.3919 - val_loss: 1.6620 - val_acc: 0.4098\n",
      "Epoch 3/20\n",
      "50000/50000 [==============================] - 12s 241us/step - loss: 1.6102 - acc: 0.4246 - val_loss: 1.5695 - val_acc: 0.4457\n",
      "Epoch 4/20\n",
      "50000/50000 [==============================] - 12s 236us/step - loss: 1.5513 - acc: 0.4472 - val_loss: 1.5689 - val_acc: 0.4451\n",
      "Epoch 5/20\n",
      "50000/50000 [==============================] - 12s 249us/step - loss: 1.5061 - acc: 0.4654 - val_loss: 1.4898 - val_acc: 0.4728\n",
      "Epoch 6/20\n",
      "50000/50000 [==============================] - 12s 243us/step - loss: 1.4655 - acc: 0.4775 - val_loss: 1.5593 - val_acc: 0.4359\n",
      "Epoch 7/20\n",
      "50000/50000 [==============================] - 12s 245us/step - loss: 1.4449 - acc: 0.4855 - val_loss: 1.4645 - val_acc: 0.4786\n",
      "Epoch 8/20\n",
      "50000/50000 [==============================] - 12s 247us/step - loss: 1.4064 - acc: 0.4977 - val_loss: 1.4388 - val_acc: 0.4852\n",
      "Epoch 9/20\n",
      "50000/50000 [==============================] - 13s 252us/step - loss: 1.3743 - acc: 0.5114 - val_loss: 1.4648 - val_acc: 0.4827\n",
      "Epoch 10/20\n",
      "50000/50000 [==============================] - 13s 250us/step - loss: 1.3514 - acc: 0.5202 - val_loss: 1.4122 - val_acc: 0.4963\n",
      "Epoch 11/20\n",
      "50000/50000 [==============================] - 12s 247us/step - loss: 1.3183 - acc: 0.5309 - val_loss: 1.4195 - val_acc: 0.4919\n",
      "Epoch 12/20\n",
      "50000/50000 [==============================] - 13s 255us/step - loss: 1.3081 - acc: 0.5352 - val_loss: 1.4162 - val_acc: 0.4933\n",
      "Epoch 13/20\n",
      "50000/50000 [==============================] - 13s 254us/step - loss: 1.2852 - acc: 0.5436 - val_loss: 1.4032 - val_acc: 0.5025\n",
      "Epoch 14/20\n",
      "50000/50000 [==============================] - 13s 257us/step - loss: 1.2600 - acc: 0.5525 - val_loss: 1.4126 - val_acc: 0.5055\n",
      "Epoch 15/20\n",
      "50000/50000 [==============================] - 13s 257us/step - loss: 1.2353 - acc: 0.5605 - val_loss: 1.4141 - val_acc: 0.5020\n",
      "Epoch 16/20\n",
      "50000/50000 [==============================] - 13s 258us/step - loss: 1.2148 - acc: 0.5672 - val_loss: 1.3785 - val_acc: 0.5120\n",
      "Epoch 17/20\n",
      "50000/50000 [==============================] - 12s 248us/step - loss: 1.1994 - acc: 0.5746 - val_loss: 1.3753 - val_acc: 0.5159\n",
      "Epoch 18/20\n",
      "50000/50000 [==============================] - 15s 302us/step - loss: 1.1892 - acc: 0.5755 - val_loss: 1.3706 - val_acc: 0.5165\n",
      "Epoch 19/20\n",
      "50000/50000 [==============================] - 13s 263us/step - loss: 1.1573 - acc: 0.5886 - val_loss: 1.3931 - val_acc: 0.5126\n",
      "Epoch 20/20\n",
      "50000/50000 [==============================] - 13s 265us/step - loss: 1.1496 - acc: 0.5921 - val_loss: 1.4284 - val_acc: 0.5068\n"
     ]
    }
   ],
   "source": [
    "history = model.fit(x_train, y_train, epochs = epochs, batch_size = batch_size, validation_data = (x_test, y_test), shuffle = True)"
   ]
  },
  {
   "cell_type": "code",
   "execution_count": 17,
   "metadata": {},
   "outputs": [
    {
     "data": {
      "image/png": "[encoded data removed]",
      "text/plain": [
       "<Figure size 432x288 with 1 Axes>"
      ]
     },
     "metadata": {
      "needs_background": "light"
     },
     "output_type": "display_data"
    },
    {
     "data": {
      "image/png": "[encoded data removed]",
      "text/plain": [
       "<Figure size 432x288 with 1 Axes>"
      ]
     },
     "metadata": {
      "needs_background": "light"
     },
     "output_type": "display_data"
    }
   ],
   "source": [
    "import matplotlib.pyplot as plt\n",
    "\n",
    "plt.plot(history.history['acc'], label = 'train_acc')\n",
    "plt.plot(history.history['val_acc'], label = 'validation_acc')\n",
    "plt.xlabel('epochs')\n",
    "plt.ylabel('accuracy')\n",
    "plt.legend()\n",
    "plt.title('accuracy')\n",
    "plt.show()\n",
    "\n",
    "plt.plot(history.history['loss'], label = 'train_loss')\n",
    "plt.plot(history.history['val_loss'], label = 'validation_loss')\n",
    "plt.xlabel('epochs')\n",
    "plt.ylabel('loss')\n",
    "plt.legend()\n",
    "plt.title('Loss')\n",
    "plt.show()"
   ]
  },
  {
   "cell_type": "markdown",
   "metadata": {},
   "source": [
    "# Work\n",
    "請嘗試將 preproc_x 替換成以每筆資料的 min/max 進行標準化至 -1 ~ 1 間，再進行訓練 <br />\n",
    "請嘗試將 mlp 疊更深 (e.g 5~10 層)，進行訓練後觀察 learning curve 的走勢<br />\n",
    "(optional) 請改用 GPU 進行訓練 (如果你有 GPU 的話)，比較使用 CPU 與 GPU 的訓練速度 <br />"
   ]
  },
  {
   "cell_type": "code",
   "execution_count": 26,
   "metadata": {},
   "outputs": [
    {
     "name": "stdout",
     "output_type": "stream",
     "text": [
      "/bin/sh: nvidia-smi: command not found\r\n"
     ]
    }
   ],
   "source": [
    "from sklearn.preprocessing import StandardScaler\n",
    "import numpy as np\n",
    "#Not using NVIDA gpu\n",
    "!nvidia-smi"
   ]
  },
  {
   "cell_type": "code",
   "execution_count": 19,
   "metadata": {},
   "outputs": [],
   "source": [
    "os.environ[\"CUDA_VISIBLE_DEVICES\"] = \"\""
   ]
  },
  {
   "cell_type": "code",
   "execution_count": 49,
   "metadata": {},
   "outputs": [],
   "source": [
    "(x_train, y_train), (x_test, y_test) = keras.datasets.cifar10.load_data()"
   ]
  },
  {
   "cell_type": "code",
   "execution_count": 50,
   "metadata": {},
   "outputs": [],
   "source": [
    "def preproc_x(x, flatten = True):\n",
    "    if flatten == True:\n",
    "        x = x.reshape((len(x), -1))\n",
    "    #normalize to -1 & 1\n",
    "    xmin = np.min(x)\n",
    "    xmax = np.max(x)\n",
    "    x = -1 + 2.0 * (x - xmin) / (xmax - xmin)\n",
    "    return x\n",
    "\n",
    "def preproc_y(y,num_classes = 10):\n",
    "    y = keras.utils.to_categorical(y,num_classes)\n",
    "    return y"
   ]
  },
  {
   "cell_type": "code",
   "execution_count": 51,
   "metadata": {},
   "outputs": [],
   "source": [
    "x_train = preproc_x(x_train)\n",
    "x_test = preproc_x(x_test)\n",
    "\n",
    "y_train = preproc_y(y_train)\n",
    "y_test = preproc_y(y_test)"
   ]
  },
  {
   "cell_type": "code",
   "execution_count": 55,
   "metadata": {},
   "outputs": [],
   "source": [
    "def build_mlp2(input_shape, output_units = 10, num_neurons = [512,512,256,256,128,128]):\n",
    "    \n",
    "    input_layer = keras.layers.Input(input_shape)\n",
    "    for i,n_units in enumerate(num_neurons):\n",
    "        \n",
    "        if i == 0:\n",
    "            x = keras.layers.Dense(units = n_units, activation = 'relu')(input_layer)\n",
    "        else:\n",
    "            x = keras.layers.Dense(units = n_units, activation = 'relu')(x)\n",
    "    \n",
    "    output_layer = keras.layers.Dense(units = output_units, activation = 'softmax')(x)\n",
    "    model = keras.models.Model(inputs = [input_layer], outputs = [output_layer])\n",
    "    \n",
    "    return model"
   ]
  },
  {
   "cell_type": "code",
   "execution_count": 56,
   "metadata": {},
   "outputs": [
    {
     "name": "stdout",
     "output_type": "stream",
     "text": [
      "_________________________________________________________________\n",
      "Layer (type)                 Output Shape              Param #   \n",
      "=================================================================\n",
      "input_4 (InputLayer)         (None, 3072)              0         \n",
      "_________________________________________________________________\n",
      "dense_8 (Dense)              (None, 512)               1573376   \n",
      "_________________________________________________________________\n",
      "dense_9 (Dense)              (None, 512)               262656    \n",
      "_________________________________________________________________\n",
      "dense_10 (Dense)             (None, 256)               131328    \n",
      "_________________________________________________________________\n",
      "dense_11 (Dense)             (None, 256)               65792     \n",
      "_________________________________________________________________\n",
      "dense_12 (Dense)             (None, 128)               32896     \n",
      "_________________________________________________________________\n",
      "dense_13 (Dense)             (None, 128)               16512     \n",
      "_________________________________________________________________\n",
      "dense_14 (Dense)             (None, 10)                1290      \n",
      "=================================================================\n",
      "Total params: 2,083,850\n",
      "Trainable params: 2,083,850\n",
      "Non-trainable params: 0\n",
      "_________________________________________________________________\n"
     ]
    }
   ],
   "source": [
    "model = build_mlp2(x_train.shape[1:])\n",
    "model.summary()"
   ]
  },
  {
   "cell_type": "code",
   "execution_count": 57,
   "metadata": {},
   "outputs": [],
   "source": [
    "lr = 0.001\n",
    "epochs = 20\n",
    "batch_size = 128"
   ]
  },
  {
   "cell_type": "code",
   "execution_count": 59,
   "metadata": {},
   "outputs": [],
   "source": [
    "optimizer = keras.optimizers.Adam(lr = lr)\n",
    "model.compile(optimizer = optimizer , loss = \"categorical_crossentropy\", metrics = ['accuracy'])"
   ]
  },
  {
   "cell_type": "code",
   "execution_count": 60,
   "metadata": {},
   "outputs": [
    {
     "name": "stdout",
     "output_type": "stream",
     "text": [
      "Train on 50000 samples, validate on 10000 samples\n",
      "Epoch 1/20\n",
      "50000/50000 [==============================] - 21s 423us/step - loss: 1.7028 - acc: 0.3913 - val_loss: 1.5475 - val_acc: 0.4443\n",
      "Epoch 2/20\n",
      "50000/50000 [==============================] - 22s 431us/step - loss: 1.4756 - acc: 0.4774 - val_loss: 1.4442 - val_acc: 0.4953\n",
      "Epoch 3/20\n",
      "50000/50000 [==============================] - 22s 448us/step - loss: 1.3536 - acc: 0.5205 - val_loss: 1.3895 - val_acc: 0.5170\n",
      "Epoch 4/20\n",
      "50000/50000 [==============================] - 23s 452us/step - loss: 1.2615 - acc: 0.5531 - val_loss: 1.3564 - val_acc: 0.5234\n",
      "Epoch 5/20\n",
      "50000/50000 [==============================] - 24s 472us/step - loss: 1.1754 - acc: 0.5841 - val_loss: 1.4131 - val_acc: 0.5215\n",
      "Epoch 6/20\n",
      "50000/50000 [==============================] - 23s 460us/step - loss: 1.0961 - acc: 0.6133 - val_loss: 1.3838 - val_acc: 0.5254\n",
      "Epoch 7/20\n",
      "50000/50000 [==============================] - 25s 503us/step - loss: 1.0143 - acc: 0.6391 - val_loss: 1.3740 - val_acc: 0.5319\n",
      "Epoch 8/20\n",
      "50000/50000 [==============================] - 25s 501us/step - loss: 0.9336 - acc: 0.6681 - val_loss: 1.4216 - val_acc: 0.5361\n",
      "Epoch 9/20\n",
      "50000/50000 [==============================] - 27s 535us/step - loss: 0.8667 - acc: 0.6912 - val_loss: 1.4891 - val_acc: 0.5394\n",
      "Epoch 10/20\n",
      "50000/50000 [==============================] - 30s 595us/step - loss: 0.7860 - acc: 0.7194 - val_loss: 1.5384 - val_acc: 0.5307\n",
      "Epoch 11/20\n",
      "50000/50000 [==============================] - 24s 483us/step - loss: 0.7199 - acc: 0.7437 - val_loss: 1.5465 - val_acc: 0.5367\n",
      "Epoch 12/20\n",
      "50000/50000 [==============================] - 23s 466us/step - loss: 0.6546 - acc: 0.7664 - val_loss: 1.6150 - val_acc: 0.5351\n",
      "Epoch 13/20\n",
      "50000/50000 [==============================] - 23s 461us/step - loss: 0.5964 - acc: 0.7882 - val_loss: 1.6791 - val_acc: 0.5434\n",
      "Epoch 14/20\n",
      "50000/50000 [==============================] - 23s 465us/step - loss: 0.5400 - acc: 0.8083 - val_loss: 1.7889 - val_acc: 0.5364\n",
      "Epoch 15/20\n",
      "50000/50000 [==============================] - 24s 475us/step - loss: 0.4982 - acc: 0.8224 - val_loss: 1.7903 - val_acc: 0.5320\n",
      "Epoch 16/20\n",
      "50000/50000 [==============================] - 24s 476us/step - loss: 0.4568 - acc: 0.8382 - val_loss: 1.9755 - val_acc: 0.5319\n",
      "Epoch 17/20\n",
      "50000/50000 [==============================] - 24s 478us/step - loss: 0.4115 - acc: 0.8538 - val_loss: 2.0098 - val_acc: 0.5363\n",
      "Epoch 18/20\n",
      "50000/50000 [==============================] - 24s 479us/step - loss: 0.3837 - acc: 0.8656 - val_loss: 2.1402 - val_acc: 0.5318\n",
      "Epoch 19/20\n",
      "50000/50000 [==============================] - 24s 485us/step - loss: 0.3425 - acc: 0.8784 - val_loss: 2.2747 - val_acc: 0.5309\n",
      "Epoch 20/20\n",
      "50000/50000 [==============================] - 24s 485us/step - loss: 0.3225 - acc: 0.8876 - val_loss: 2.3984 - val_acc: 0.5340\n"
     ]
    }
   ],
   "source": [
    "history = model.fit(x_train, y_train, epochs = epochs, batch_size = 128, validation_data = (x_test,y_test), shuffle = True)"
   ]
  },
  {
   "cell_type": "code",
   "execution_count": 61,
   "metadata": {},
   "outputs": [
    {
     "data": {
      "image/png": "[encoded data removed]",
      "text/plain": [
       "<Figure size 432x288 with 1 Axes>"
      ]
     },
     "metadata": {
      "needs_background": "light"
     },
     "output_type": "display_data"
    },
    {
     "data": {
      "image/png": "[encoded data removed]",
      "text/plain": [
       "<Figure size 432x288 with 1 Axes>"
      ]
     },
     "metadata": {
      "needs_background": "light"
     },
     "output_type": "display_data"
    }
   ],
   "source": [
    "plt.plot(history.history['acc'], label = 'train_acc')\n",
    "plt.plot(history.history['val_acc'], label = 'validation_acc')\n",
    "plt.xlabel('epochs')\n",
    "plt.ylabel('accuracy')\n",
    "plt.title('accuracy')\n",
    "plt.legend()\n",
    "plt.show()\n",
    "\n",
    "plt.plot(history.history['loss'], label = 'train_loss')\n",
    "plt.plot(history.history['val_loss'], label = 'validation_loss')\n",
    "plt.xlabel('epochs')\n",
    "plt.ylabel('loss')\n",
    "plt.title('loss')\n",
    "plt.legend()\n",
    "plt.show()"
   ]
  },
  {
   "cell_type": "code",
   "execution_count": null,
   "metadata": {},
   "outputs": [],
   "source": []
  }
 ],
 "metadata": {
  "kernelspec": {
   "display_name": "Python 3",
   "language": "python",
   "name": "python3"
  },
  "language_info": {
   "codemirror_mode": {
    "name": "ipython",
    "version": 3
   },
   "file_extension": ".py",
   "mimetype": "text/x-python",
   "name": "python",
   "nbconvert_exporter": "python",
   "pygments_lexer": "ipython3",
   "version": "3.7.3"
  }
 },
 "nbformat": 4,
 "nbformat_minor": 2
}
