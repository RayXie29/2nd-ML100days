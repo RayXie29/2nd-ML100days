{
 "cells": [
  {
   "cell_type": "markdown",
   "metadata": {},
   "source": [
    "**讀取 txt 檔**\n",
    "請讀取 text file\n",
    "懶人複製連結: https://raw.githubusercontent.com/vashineyu/slides_and_others/master/tutorial/examples/imagenet_urls_examples.txt\n",
    "Hints: 使用 Request 抓取資料\n",
    "Hints: 字串分割\n",
    "Hints: 例外處理: Try-Except"
   ]
  },
  {
   "cell_type": "markdown",
   "metadata": {},
   "source": [
    "**Here I choose to use opencv to process my image** <br />\n",
    "**So I import cv2 module**"
   ]
  },
  {
   "cell_type": "code",
   "execution_count": 3,
   "metadata": {},
   "outputs": [],
   "source": [
    "import numpy as np\n",
    "import requests\n",
    "import pandas as pd\n",
    "from io import BytesIO\n",
    "import cv2"
   ]
  },
  {
   "cell_type": "markdown",
   "metadata": {},
   "source": [
    "**將 txt 轉成 pandas dataframe**"
   ]
  },
  {
   "cell_type": "markdown",
   "metadata": {},
   "source": [
    "I first read the example txt files into an numpy array\n",
    "Then I load the numpy array into Pandas DataFrame, because it is much easiler to process the string in dataframe\n",
    "In the end, I split the original string into PictureName and PictureUrl columns"
   ]
  },
  {
   "cell_type": "code",
   "execution_count": 4,
   "metadata": {},
   "outputs": [
    {
     "name": "stdout",
     "output_type": "stream",
     "text": [
      "     PictureName                                         PictureUrl\n",
      "0  n00015388_157  http://farm1.static.flickr.com/145/430300483_2...\n",
      "1  n00015388_238  http://farm2.static.flickr.com/1005/3352960681...\n",
      "2  n00015388_304  http://farm1.static.flickr.com/27/51009336_a96...\n",
      "3  n00015388_327  http://farm4.static.flickr.com/3025/2444687979...\n",
      "4  n00015388_355  http://img100.imageshack.us/img100/3253/forres...\n",
      "5  n00015388_373  http://img172.imageshack.us/img172/4606/napo03...\n",
      "6  n00015388_379  http://fotootjesvanannelies.web-log.nl/olifant...\n",
      "7  n00015388_388  http://www.deweekkrant.nl/images/library/pictu...\n",
      "8  n00015388_442  http://www.porschemania.it/discus/messages/815...\n",
      "9  n00015388_474  http://farm1.static.flickr.com/72/225029238_80...\n"
     ]
    }
   ],
   "source": [
    "target_url = \"https://raw.githubusercontent.com/vashineyu/slides_and_others/master/tutorial/examples/imagenet_urls_examples.txt\"\n",
    "\n",
    "response = requests.get(target_url)\n",
    "data = response.text\n",
    "\n",
    "split_tag = \"\\n\"\n",
    "data = np.array(data.split(split_tag))\n",
    "df = pd.DataFrame(data,columns=['PictureName'])\n",
    "df['PictureUrl'] = df.PictureName.str.split('\\t').str[1]\n",
    "df['PictureName'] = df.PictureName.str.split('\\t').str[0]\n",
    "print(df.head(10))"
   ]
  },
  {
   "cell_type": "markdown",
   "metadata": {},
   "source": [
    "**讀取圖片，請讀取上面 data frame 中的前 5 張圖片**"
   ]
  },
  {
   "cell_type": "markdown",
   "metadata": {},
   "source": [
    "**Like I said above, I was using opencv module to process my image. <br />\n",
    "Here a note, there are many urls in example txt file useless(cant read or non image type)  <br />\n",
    "So first I using status_code of request response to check the url status  <br />\n",
    "Then I use np.shape(image) to check wether the data is image or not  <br />\n",
    "And l keep requesting the urls until I got 5 images** "
   ]
  },
  {
   "cell_type": "code",
   "execution_count": 5,
   "metadata": {},
   "outputs": [],
   "source": [
    "def img2arr_fromURLs(urls,resize = False,startIdx=0,endIdx=5):\n",
    "    imgs = []\n",
    "    while len(imgs) != endIdx:\n",
    "        image_res = requests.get(urls[startIdx])\n",
    "        if image_res.status_code != 404:\n",
    "            image = np.asarray(bytearray(image_res.content), dtype=\"uint8\")\n",
    "            image = cv2.imdecode(image, cv2.IMREAD_COLOR)\n",
    "            if np.shape(image) != () :\n",
    "                imgs.append(image)\n",
    "\n",
    "        startIdx = startIdx + 1\n",
    "\n",
    "\n",
    "    return imgs"
   ]
  },
  {
   "cell_type": "code",
   "execution_count": 6,
   "metadata": {},
   "outputs": [
    {
     "name": "stdout",
     "output_type": "stream",
     "text": [
      "Total image that we got: 5 \n"
     ]
    }
   ],
   "source": [
    "result = img2arr_fromURLs(df.PictureUrl.values)\n",
    "\n",
    "print(\"Total image that we got: %i \" % len(result))\n",
    "\n",
    "for i,img in enumerate(result):\n",
    "    cv2.imshow('Image '+str(i+1),img)\n",
    "    cv2.waitKey(0)\n",
    "    cv2.destroyAllWindows()"
   ]
  },
  {
   "cell_type": "code",
   "execution_count": null,
   "metadata": {},
   "outputs": [],
   "source": []
  }
 ],
 "metadata": {
  "kernelspec": {
   "display_name": "Python 3",
   "language": "python",
   "name": "python3"
  },
  "language_info": {
   "codemirror_mode": {
    "name": "ipython",
    "version": 3
   },
   "file_extension": ".py",
   "mimetype": "text/x-python",
   "name": "python",
   "nbconvert_exporter": "python",
   "pygments_lexer": "ipython3",
   "version": "3.7.3"
  }
 },
 "nbformat": 4,
 "nbformat_minor": 2
}
