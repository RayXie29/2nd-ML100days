{
  "nbformat": 4,
  "nbformat_minor": 0,
  "metadata": {
    "colab": {
      "name": "Day_091_HW",
      "version": "0.3.2",
      "provenance": []
    },
    "kernelspec": {
      "name": "python3",
      "display_name": "Python 3"
    },
    "accelerator": "GPU"
  },
  "cells": [
    {
      "cell_type": "code",
      "metadata": {
        "id": "pN6YJb6d0iwW",
        "colab_type": "code",
        "colab": {
          "base_uri": "https://localhost:8080/",
          "height": 96
        },
        "outputId": "4e11b0a2-a9e1-4739-81ca-c0f04b1a40a9"
      },
      "source": [
        "import os\n",
        "import keras\n",
        "\n",
        "import numpy as np\n",
        "import cv2\n",
        "import math\n",
        "import matplotlib.pyplot as plt"
      ],
      "execution_count": 1,
      "outputs": [
        {
          "output_type": "stream",
          "text": [
            "Using TensorFlow backend.\n"
          ],
          "name": "stderr"
        }
      ]
    },
    {
      "cell_type": "code",
      "metadata": {
        "id": "r5iHyrem0_eq",
        "colab_type": "code",
        "colab": {
          "base_uri": "https://localhost:8080/",
          "height": 336
        },
        "outputId": "61066ad1-3aef-4168-d2b4-e77461719dc3"
      },
      "source": [
        "(train_x, train_y) , (test_x, test_y) = keras.datasets.cifar10.load_data()"
      ],
      "execution_count": 2,
      "outputs": [
        {
          "output_type": "stream",
          "text": [
            "Downloading data from https://www.cs.toronto.edu/~kriz/cifar-10-python.tar.gz\n",
            "170500096/170498071 [==============================] - 6s 0us/step\n"
          ],
          "name": "stdout"
        }
      ]
    },
    {
      "cell_type": "code",
      "metadata": {
        "id": "JeCzA60p1ImK",
        "colab_type": "code",
        "colab": {}
      },
      "source": [
        "x_train_histogram = []\n",
        "x_test_histogram = []\n",
        "\n",
        "for i in range(len(train_x)):\n",
        "  \n",
        "  chans = cv2.split(train_x[i])\n",
        "  \n",
        "  hist_feature = []\n",
        "  for chan in chans:\n",
        "    \n",
        "    hist = cv2.calcHist(chan, [0], None, [16], [0,256] )\n",
        "    hist_feature.extend(hist.flatten())\n",
        "  \n",
        "  x_train_histogram.append(hist_feature)\n",
        "\n",
        "for i in range(len(test_x)):\n",
        "  \n",
        "  chans = cv2.split(test_x[i])\n",
        "  hist_feature = []\n",
        "  for chan in chans:\n",
        "    \n",
        "    hist = cv2.calcHist(chan, [0] , None, [16], [0,256])\n",
        "    hist_feature.extend(hist.flatten())\n",
        "  x_test_histogram.append(hist_feature)\n",
        "  \n",
        "  \n",
        "x_train_histogram = np.asarray(x_train_histogram) \n",
        "x_test_histogram = np.asarray(x_test_histogram)\n"
      ],
      "execution_count": 0,
      "outputs": []
    },
    {
      "cell_type": "code",
      "metadata": {
        "id": "KXB-9TPh19HH",
        "colab_type": "code",
        "colab": {}
      },
      "source": [
        "class Hog_Extractor():\n",
        "\n",
        "    def __init__(self, img, cell_size = 8 , bin_size = 9, gamma = 0.5):\n",
        "\n",
        "        self.img = img\n",
        "\n",
        "        if np.ndim(self.img) == 3:\n",
        "            self.img = cv2.cvtColor(self.img,cv2.COLOR_BGR2GRAY)\n",
        "\n",
        "        self.cell_size = cell_size\n",
        "        self.bin_size = bin_size\n",
        "\n",
        "\n",
        "        self.img = ((img * 1.0) / float(np.max(img))) ** gamma\n",
        "        self.img = self.img * 255.0\n",
        "\n",
        "        self.angle_unit = 360 / self.bin_size\n",
        "\n",
        "        assert type(self.bin_size) == int, \"bin size should be integer\"\n",
        "        assert type(self.cell_size) == int, \"cell size should be integer\"\n",
        "        assert 360 % self.bin_size == 0, \"bin_size should be divisible by 360\"\n",
        "\n",
        "    def extract(self):\n",
        "\n",
        "        height, width = self.img.shape[0],self.img.shape[1]\n",
        "\n",
        "        gradient_mag, gradient_ang = self._get_x_y_gradients()\n",
        "        gradient_mag = abs(gradient_mag)\n",
        "\n",
        "\n",
        "        cell_gradient_hists = np.zeros((int(height / self.cell_size), int(width / self.cell_size), self.bin_size))\n",
        "        for i in range(cell_gradient_hists.shape[0]):\n",
        "            for j in range(cell_gradient_hists.shape[1]):\n",
        "\n",
        "                cell_mag = gradient_mag[ (i*self.cell_size) : ((i+1)*self.cell_size) , (j*self.cell_size) : ((j+1)*self.cell_size) ]\n",
        "                cell_ang = gradient_ang[ (i*self.cell_size) : ((i+1)*self.cell_size) , (j*self.cell_size) : ((j+1)*self.cell_size) ]\n",
        "\n",
        "                cell_gradient_hists[i,j] = self._get_hist(cell_mag, cell_ang)\n",
        "\n",
        "        hog_vec = []\n",
        "        for i in range(cell_gradient_hists.shape[0]-1):\n",
        "            for j in range(cell_gradient_hists.shape[1]-1):\n",
        "\n",
        "                block_vec = []\n",
        "                block_vec.extend(cell_gradient_hists[i,j])\n",
        "                block_vec.extend(cell_gradient_hists[i,j+1])\n",
        "                block_vec.extend(cell_gradient_hists[i+1,j])\n",
        "                block_vec.extend(cell_gradient_hists[i+1,j+1])\n",
        "\n",
        "                l2 = lambda vec : math.sqrt(sum(m ** 2 for m in vec))\n",
        "                l2_mag = l2(block_vec) + 1e-5\n",
        "\n",
        "                if l2_mag != 0:\n",
        "                    normalize = lambda block_vec, l2_mag : [ element / l2_mag for element in block_vec]\n",
        "                    block_vec = normalize(block_vec, l2_mag)\n",
        "\n",
        "                hog_vec.append(block_vec)\n",
        "\n",
        "        return np.asarray(hog_vec)\n",
        "\n",
        "    def _get_x_y_gradients(self):\n",
        "\n",
        "        gx = cv2.Sobel(self.img, cv2.CV_64FC1, 1, 0)\n",
        "        gy = cv2.Sobel(self.img, cv2.CV_64FC1, 0, 1)\n",
        "\n",
        "        mag, ang = cv2.cartToPolar(gx,gy,angleInDegrees=True)\n",
        "\n",
        "        return mag, ang\n",
        "\n",
        "    def _get_hist(self, cell_mag, cell_ang):\n",
        "\n",
        "        hist_vec = np.zeros(self.bin_size)\n",
        "\n",
        "        for i in range(cell_mag.shape[0]):\n",
        "            for j in range(cell_mag.shape[1]):\n",
        "\n",
        "                mag = cell_mag[i,j]\n",
        "                ang = cell_ang[i,j]\n",
        "\n",
        "                lower_ang, upper_ang, weight = self._gradient_interpolation(ang)\n",
        "\n",
        "                hist_vec[lower_ang] += ( mag * (1-weight) )\n",
        "                hist_vec[upper_ang] += ( mag * weight )\n",
        "\n",
        "        return hist_vec\n",
        "\n",
        "\n",
        "    def _gradient_interpolation(self, angle):\n",
        "\n",
        "        idx = angle / self.angle_unit\n",
        "        mod = angle - (self.angle_unit * idx)\n",
        "\n",
        "        return int(idx % self.bin_size), int((idx+1) % self.bin_size), mod % self.angle_unit\n"
      ],
      "execution_count": 0,
      "outputs": []
    },
    {
      "cell_type": "code",
      "metadata": {
        "id": "Y0z-CJz12Qil",
        "colab_type": "code",
        "colab": {}
      },
      "source": [
        "bin_n = 9\n",
        "\n",
        "def hog(img):\n",
        "  img = cv2.cvtColor(img, cv2.COLOR_BGR2GRAY)\n",
        "  return Hog_Extractor(img).extract()\n",
        "x_train_hog = np.asarray([hog(img) for img in train_x])\n",
        "x_test_hog = np.asarray([hog(img) for img in test_x])"
      ],
      "execution_count": 0,
      "outputs": []
    },
    {
      "cell_type": "code",
      "metadata": {
        "id": "ZaJHjrOQ4MMp",
        "colab_type": "code",
        "colab": {}
      },
      "source": [
        "train_y = train_y.astype(int)\n",
        "test_y = test_y.astype(int)"
      ],
      "execution_count": 0,
      "outputs": []
    },
    {
      "cell_type": "code",
      "metadata": {
        "id": "riZ6i96W5ash",
        "colab_type": "code",
        "colab": {}
      },
      "source": [
        "x_train_hog = np.asarray(x_train_hog, dtype = np.float32)\n",
        "x_test_hog = np.asarray(x_test_hog, dtype = np.float32)\n",
        "\n",
        "x_train_hog = x_train_hog.reshape(x_train_hog.shape[0], x_train_hog.shape[1] * x_train_hog.shape[2])\n",
        "x_test_hog = x_test_hog.reshape(x_test_hog.shape[0], x_test_hog.shape[1] * x_test_hog.shape[2])\n"
      ],
      "execution_count": 0,
      "outputs": []
    },
    {
      "cell_type": "code",
      "metadata": {
        "id": "ZfnNK9dd3Bm1",
        "colab_type": "code",
        "colab": {}
      },
      "source": [
        "SVM_hist = cv2.ml.SVM_create()\n",
        "SVM_hist.setKernel(cv2.ml.SVM_LINEAR)\n",
        "SVM_hist.setGamma(5.383)\n",
        "SVM_hist.setType(cv2.ml.SVM_C_SVC)\n",
        "SVM_hist.setC(2.67)\n",
        "\n",
        "#training \n",
        "SVM_hist.train(x_train_histogram, cv2.ml.ROW_SAMPLE, train_y)\n",
        "\n",
        "_, y_hist_train = SVM_hist.predict(x_train_histogram)\n",
        "_, y_hist_test = SVM_hist.predict(x_test_histogram)"
      ],
      "execution_count": 0,
      "outputs": []
    },
    {
      "cell_type": "code",
      "metadata": {
        "id": "BQhuigrf34DH",
        "colab_type": "code",
        "colab": {}
      },
      "source": [
        "SVM_hog = cv2.ml.SVM_create()\n",
        "SVM_hog.setKernel(cv2.ml.SVM_LINEAR)\n",
        "SVM_hog.setGamma(5.383)\n",
        "SVM_hog.setType(cv2.ml.SVM_C_SVC)\n",
        "SVM_hog.setC(2.67)\n",
        "\n",
        "SVM_hog.train(x_train_hog, cv2.ml.ROW_SAMPLE, train_y)\n",
        "\n",
        "_,y_hog_train = SVM_hog.predict(x_train_hog)\n",
        "_,y_hog_test = SVM_hog.predict(x_test_hog)"
      ],
      "execution_count": 0,
      "outputs": []
    },
    {
      "cell_type": "code",
      "metadata": {
        "id": "srI7QhIt5sWb",
        "colab_type": "code",
        "colab": {
          "base_uri": "https://localhost:8080/",
          "height": 92
        },
        "outputId": "aef79484-c72f-41d5-b27f-45076f47feed"
      },
      "source": [
        "from sklearn.metrics import accuracy_score\n",
        "\n",
        "train_hist_acc = accuracy_score(train_y, y_hist_train)\n",
        "test_hist_acc = accuracy_score(test_y, y_hist_test)\n",
        "\n",
        "print(f' hist train acc : {train_hist_acc*100}%')\n",
        "print(f' hist test acc : {test_hist_acc*100}%')"
      ],
      "execution_count": 41,
      "outputs": [
        {
          "output_type": "stream",
          "text": [
            " hist train acc : 9.388%\n",
            " hist test acc : 9.55%\n"
          ],
          "name": "stdout"
        }
      ]
    },
    {
      "cell_type": "code",
      "metadata": {
        "id": "LJZ6M78F7B-6",
        "colab_type": "code",
        "colab": {
          "base_uri": "https://localhost:8080/",
          "height": 92
        },
        "outputId": "55569c29-f6b0-4568-c088-cd4a24582654"
      },
      "source": [
        "train_hog_acc = accuracy_score(train_y, y_hog_train)\n",
        "test_hog_acc = accuracy_score(test_y, y_hog_test)\n",
        "\n",
        "print(f' hog train acc : {train_hog_acc*100}%')\n",
        "print(f' hog test acc : {test_hog_acc*100}%')"
      ],
      "execution_count": 42,
      "outputs": [
        {
          "output_type": "stream",
          "text": [
            " hog train acc : 22.664%\n",
            " hog test acc : 22.63%\n"
          ],
          "name": "stdout"
        }
      ]
    },
    {
      "cell_type": "code",
      "metadata": {
        "id": "8lqqu-TY8TTP",
        "colab_type": "code",
        "colab": {}
      },
      "source": [
        ""
      ],
      "execution_count": 0,
      "outputs": []
    }
  ]
}