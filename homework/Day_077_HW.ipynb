{
 "cells": [
  {
   "cell_type": "markdown",
   "metadata": {},
   "source": [
    "# 範例重點\n",
    "學會從 Keras 內建函式取得資料 <br />\n",
    "能夠建立簡易的深度學習模型<br />\n",
    "觀察並了解 Overfit 現象<br />"
   ]
  },
  {
   "cell_type": "code",
   "execution_count": 3,
   "metadata": {},
   "outputs": [
    {
     "name": "stderr",
     "output_type": "stream",
     "text": [
      "Using TensorFlow backend.\n"
     ]
    }
   ],
   "source": [
    "import os\n",
    "import keras\n",
    "\n",
    "os.environ[\"CUD_VISIBLE_DEVICES\"] = \"\""
   ]
  },
  {
   "cell_type": "code",
   "execution_count": 5,
   "metadata": {},
   "outputs": [],
   "source": [
    "train, test = keras.datasets.cifar10.load_data()"
   ]
  },
  {
   "cell_type": "code",
   "execution_count": 6,
   "metadata": {},
   "outputs": [
    {
     "name": "stdout",
     "output_type": "stream",
     "text": [
      "(50000, 32, 32, 3)\n",
      "(10000, 32, 32, 3)\n",
      "(50000, 3072)\n",
      "(10000, 3072)\n"
     ]
    }
   ],
   "source": [
    "x_train, y_train = train\n",
    "x_test, y_test = test\n",
    "\n",
    "x_train = x_train/255.0\n",
    "x_test = x_test/255.0\n",
    "\n",
    "print(x_train.shape)\n",
    "print(x_test.shape)\n",
    "\n",
    "x_train = x_train.reshape((len(x_train), -1))\n",
    "x_test = x_test.reshape((len(x_test), -1))\n",
    "\n",
    "print(x_train.shape)\n",
    "print(x_test.shape)\n",
    "\n",
    "y_train = keras.utils.to_categorical(y_train,10)\n",
    "y_test = keras.utils.to_categorical(y_test,10)"
   ]
  },
  {
   "cell_type": "code",
   "execution_count": 5,
   "metadata": {},
   "outputs": [],
   "source": [
    "def build_mlp():\n",
    "    input_layer = keras.layers.Input([x_train.shape[-1]])\n",
    "    x = keras.layers.Dense(units = 512, activation = 'relu')(input_layer)\n",
    "    x = keras.layers.Dense(units = 256, activation = 'relu')(x)\n",
    "    x = keras.layers.Dense(units = 128, activation = 'relu')(x)\n",
    "    out = keras.layers.Dense(units = 10, activation = 'softmax')(x)\n",
    "    \n",
    "    model = keras.models.Model(inputs = [input_layer], outputs = [out])\n",
    "    return model"
   ]
  },
  {
   "cell_type": "code",
   "execution_count": 6,
   "metadata": {},
   "outputs": [
    {
     "name": "stdout",
     "output_type": "stream",
     "text": [
      "WARNING:tensorflow:From /Users/xiejialun/anaconda3/lib/python3.7/site-packages/tensorflow/python/framework/op_def_library.py:263: colocate_with (from tensorflow.python.framework.ops) is deprecated and will be removed in a future version.\n",
      "Instructions for updating:\n",
      "Colocations handled automatically by placer.\n",
      "_________________________________________________________________\n",
      "Layer (type)                 Output Shape              Param #   \n",
      "=================================================================\n",
      "input_1 (InputLayer)         (None, 3072)              0         \n",
      "_________________________________________________________________\n",
      "dense_1 (Dense)              (None, 512)               1573376   \n",
      "_________________________________________________________________\n",
      "dense_2 (Dense)              (None, 256)               131328    \n",
      "_________________________________________________________________\n",
      "dense_3 (Dense)              (None, 128)               32896     \n",
      "_________________________________________________________________\n",
      "dense_4 (Dense)              (None, 10)                1290      \n",
      "=================================================================\n",
      "Total params: 1,738,890\n",
      "Trainable params: 1,738,890\n",
      "Non-trainable params: 0\n",
      "_________________________________________________________________\n",
      "None\n"
     ]
    }
   ],
   "source": [
    "model = build_mlp()\n",
    "print(model.summary())\n",
    "\n",
    "optimizer = keras.optimizers.Adam(lr = 0.001)\n",
    "model.compile(optimizer = optimizer, loss = 'categorical_crossentropy', metrics = ['accuracy'])"
   ]
  },
  {
   "cell_type": "code",
   "execution_count": 7,
   "metadata": {},
   "outputs": [
    {
     "name": "stdout",
     "output_type": "stream",
     "text": [
      "WARNING:tensorflow:From /Users/xiejialun/anaconda3/lib/python3.7/site-packages/tensorflow/python/ops/math_ops.py:3066: to_int32 (from tensorflow.python.ops.math_ops) is deprecated and will be removed in a future version.\n",
      "Instructions for updating:\n",
      "Use tf.cast instead.\n",
      "Train on 50000 samples, validate on 10000 samples\n",
      "Epoch 1/100\n",
      "50000/50000 [==============================] - 13s 268us/step - loss: 1.9123 - acc: 0.3092 - val_loss: 1.7260 - val_acc: 0.3786\n",
      "Epoch 2/100\n",
      "50000/50000 [==============================] - 11s 229us/step - loss: 1.7051 - acc: 0.3877 - val_loss: 1.6975 - val_acc: 0.3912\n",
      "Epoch 3/100\n",
      "50000/50000 [==============================] - 12s 231us/step - loss: 1.6104 - acc: 0.4234 - val_loss: 1.5614 - val_acc: 0.4466\n",
      "Epoch 4/100\n",
      "50000/50000 [==============================] - 11s 227us/step - loss: 1.5457 - acc: 0.4475 - val_loss: 1.5278 - val_acc: 0.4547\n",
      "Epoch 5/100\n",
      "50000/50000 [==============================] - 12s 238us/step - loss: 1.5006 - acc: 0.4631 - val_loss: 1.5439 - val_acc: 0.4479\n",
      "Epoch 6/100\n",
      "50000/50000 [==============================] - 12s 246us/step - loss: 1.4653 - acc: 0.4766 - val_loss: 1.4993 - val_acc: 0.4714\n",
      "Epoch 7/100\n",
      "50000/50000 [==============================] - 12s 248us/step - loss: 1.4240 - acc: 0.4924 - val_loss: 1.4395 - val_acc: 0.4799\n",
      "Epoch 8/100\n",
      "50000/50000 [==============================] - 12s 249us/step - loss: 1.3879 - acc: 0.5049 - val_loss: 1.4326 - val_acc: 0.4896\n",
      "Epoch 9/100\n",
      "50000/50000 [==============================] - 13s 251us/step - loss: 1.3691 - acc: 0.5111 - val_loss: 1.4240 - val_acc: 0.4882\n",
      "Epoch 10/100\n",
      "50000/50000 [==============================] - 13s 259us/step - loss: 1.3438 - acc: 0.5219 - val_loss: 1.4101 - val_acc: 0.4971\n",
      "Epoch 11/100\n",
      "50000/50000 [==============================] - 13s 255us/step - loss: 1.3116 - acc: 0.5320 - val_loss: 1.4187 - val_acc: 0.4988\n",
      "Epoch 12/100\n",
      "50000/50000 [==============================] - 13s 253us/step - loss: 1.2856 - acc: 0.5449 - val_loss: 1.4395 - val_acc: 0.4984\n",
      "Epoch 13/100\n",
      "50000/50000 [==============================] - 13s 252us/step - loss: 1.2663 - acc: 0.5472 - val_loss: 1.3870 - val_acc: 0.5112\n",
      "Epoch 14/100\n",
      "50000/50000 [==============================] - 13s 255us/step - loss: 1.2370 - acc: 0.5609 - val_loss: 1.3774 - val_acc: 0.5120\n",
      "Epoch 15/100\n",
      "50000/50000 [==============================] - 13s 254us/step - loss: 1.2145 - acc: 0.5681 - val_loss: 1.3724 - val_acc: 0.5216\n",
      "Epoch 16/100\n",
      "50000/50000 [==============================] - 13s 266us/step - loss: 1.1971 - acc: 0.5731 - val_loss: 1.3748 - val_acc: 0.5160\n",
      "Epoch 17/100\n",
      "50000/50000 [==============================] - 13s 267us/step - loss: 1.1682 - acc: 0.5822 - val_loss: 1.3942 - val_acc: 0.5093\n",
      "Epoch 18/100\n",
      "50000/50000 [==============================] - 12s 247us/step - loss: 1.1579 - acc: 0.5887 - val_loss: 1.3598 - val_acc: 0.5179\n",
      "Epoch 19/100\n",
      "50000/50000 [==============================] - 12s 246us/step - loss: 1.1270 - acc: 0.5981 - val_loss: 1.3918 - val_acc: 0.5137\n",
      "Epoch 20/100\n",
      "50000/50000 [==============================] - 12s 246us/step - loss: 1.1051 - acc: 0.6075 - val_loss: 1.3853 - val_acc: 0.5148\n",
      "Epoch 21/100\n",
      "50000/50000 [==============================] - 12s 243us/step - loss: 1.0831 - acc: 0.6141 - val_loss: 1.3701 - val_acc: 0.5273\n",
      "Epoch 22/100\n",
      "50000/50000 [==============================] - 13s 252us/step - loss: 1.0742 - acc: 0.6162 - val_loss: 1.3939 - val_acc: 0.5233\n",
      "Epoch 23/100\n",
      "50000/50000 [==============================] - 12s 244us/step - loss: 1.0552 - acc: 0.6245 - val_loss: 1.4034 - val_acc: 0.5129\n",
      "Epoch 24/100\n",
      "50000/50000 [==============================] - 12s 244us/step - loss: 1.0354 - acc: 0.6300 - val_loss: 1.3925 - val_acc: 0.5145\n",
      "Epoch 25/100\n",
      "50000/50000 [==============================] - 12s 244us/step - loss: 1.0173 - acc: 0.6371 - val_loss: 1.3962 - val_acc: 0.5197\n",
      "Epoch 26/100\n",
      "50000/50000 [==============================] - 12s 245us/step - loss: 1.0080 - acc: 0.6402 - val_loss: 1.3971 - val_acc: 0.5292\n",
      "Epoch 27/100\n",
      "50000/50000 [==============================] - 12s 244us/step - loss: 0.9728 - acc: 0.6555 - val_loss: 1.4291 - val_acc: 0.5260\n",
      "Epoch 28/100\n",
      "50000/50000 [==============================] - 14s 274us/step - loss: 0.9581 - acc: 0.6578 - val_loss: 1.4250 - val_acc: 0.5177\n",
      "Epoch 29/100\n",
      "50000/50000 [==============================] - 13s 254us/step - loss: 0.9345 - acc: 0.6680 - val_loss: 1.4428 - val_acc: 0.5287\n",
      "Epoch 30/100\n",
      "50000/50000 [==============================] - 13s 252us/step - loss: 0.9183 - acc: 0.6726 - val_loss: 1.4352 - val_acc: 0.5266\n",
      "Epoch 31/100\n",
      "50000/50000 [==============================] - 13s 251us/step - loss: 0.9028 - acc: 0.6778 - val_loss: 1.4444 - val_acc: 0.5255\n",
      "Epoch 32/100\n",
      "50000/50000 [==============================] - 13s 259us/step - loss: 0.8792 - acc: 0.6855 - val_loss: 1.4994 - val_acc: 0.5136\n",
      "Epoch 33/100\n",
      "50000/50000 [==============================] - 17s 349us/step - loss: 0.8693 - acc: 0.6872 - val_loss: 1.4714 - val_acc: 0.5317\n",
      "Epoch 34/100\n",
      "50000/50000 [==============================] - 13s 255us/step - loss: 0.8477 - acc: 0.6973 - val_loss: 1.5417 - val_acc: 0.5186\n",
      "Epoch 35/100\n",
      "50000/50000 [==============================] - 12s 250us/step - loss: 0.8244 - acc: 0.7085 - val_loss: 1.5088 - val_acc: 0.5255\n",
      "Epoch 36/100\n",
      "50000/50000 [==============================] - 12s 246us/step - loss: 0.8112 - acc: 0.7104 - val_loss: 1.5616 - val_acc: 0.5188\n",
      "Epoch 37/100\n",
      "50000/50000 [==============================] - 13s 251us/step - loss: 0.8014 - acc: 0.7138 - val_loss: 1.5441 - val_acc: 0.5154\n",
      "Epoch 38/100\n",
      "50000/50000 [==============================] - 13s 262us/step - loss: 0.7696 - acc: 0.7261 - val_loss: 1.5652 - val_acc: 0.5277\n",
      "Epoch 39/100\n",
      "50000/50000 [==============================] - 13s 257us/step - loss: 0.7611 - acc: 0.7299 - val_loss: 1.6154 - val_acc: 0.5156\n",
      "Epoch 40/100\n",
      "50000/50000 [==============================] - 14s 279us/step - loss: 0.7434 - acc: 0.7344 - val_loss: 1.5794 - val_acc: 0.5258\n",
      "Epoch 41/100\n",
      "50000/50000 [==============================] - 14s 280us/step - loss: 0.7228 - acc: 0.7423 - val_loss: 1.6477 - val_acc: 0.5111\n",
      "Epoch 42/100\n",
      "50000/50000 [==============================] - 13s 254us/step - loss: 0.7195 - acc: 0.7423 - val_loss: 1.6817 - val_acc: 0.5129\n",
      "Epoch 43/100\n",
      "50000/50000 [==============================] - 13s 250us/step - loss: 0.7025 - acc: 0.7516 - val_loss: 1.6493 - val_acc: 0.5148\n",
      "Epoch 44/100\n",
      "50000/50000 [==============================] - 12s 248us/step - loss: 0.6837 - acc: 0.7563 - val_loss: 1.6973 - val_acc: 0.5166\n",
      "Epoch 45/100\n",
      "50000/50000 [==============================] - 12s 245us/step - loss: 0.6673 - acc: 0.7622 - val_loss: 1.7377 - val_acc: 0.5183\n",
      "Epoch 46/100\n",
      "50000/50000 [==============================] - 12s 234us/step - loss: 0.6635 - acc: 0.7594 - val_loss: 1.7227 - val_acc: 0.5210\n",
      "Epoch 47/100\n",
      "50000/50000 [==============================] - 12s 244us/step - loss: 0.6387 - acc: 0.7723 - val_loss: 1.7881 - val_acc: 0.5175\n",
      "Epoch 48/100\n",
      "50000/50000 [==============================] - 12s 244us/step - loss: 0.6268 - acc: 0.7771 - val_loss: 1.7810 - val_acc: 0.5206\n",
      "Epoch 49/100\n",
      "50000/50000 [==============================] - 12s 245us/step - loss: 0.6004 - acc: 0.7857 - val_loss: 1.7852 - val_acc: 0.5196\n",
      "Epoch 50/100\n",
      "50000/50000 [==============================] - 12s 236us/step - loss: 0.6119 - acc: 0.7816 - val_loss: 1.8335 - val_acc: 0.5151\n",
      "Epoch 51/100\n",
      "50000/50000 [==============================] - 12s 238us/step - loss: 0.5803 - acc: 0.7945 - val_loss: 1.9012 - val_acc: 0.5133\n",
      "Epoch 52/100\n",
      "50000/50000 [==============================] - 12s 236us/step - loss: 0.5843 - acc: 0.7931 - val_loss: 1.8666 - val_acc: 0.5200\n",
      "Epoch 53/100\n",
      "50000/50000 [==============================] - 12s 234us/step - loss: 0.5603 - acc: 0.8005 - val_loss: 1.9496 - val_acc: 0.5149\n",
      "Epoch 54/100\n",
      "50000/50000 [==============================] - 12s 235us/step - loss: 0.5637 - acc: 0.7984 - val_loss: 1.8966 - val_acc: 0.5121\n",
      "Epoch 55/100\n",
      "50000/50000 [==============================] - 12s 231us/step - loss: 0.5345 - acc: 0.8096 - val_loss: 1.9774 - val_acc: 0.5159\n",
      "Epoch 56/100\n",
      "50000/50000 [==============================] - 12s 231us/step - loss: 0.5252 - acc: 0.8127 - val_loss: 2.0359 - val_acc: 0.5156\n"
     ]
    },
    {
     "name": "stdout",
     "output_type": "stream",
     "text": [
      "Epoch 57/100\n",
      "50000/50000 [==============================] - 11s 215us/step - loss: 0.5245 - acc: 0.8132 - val_loss: 2.0135 - val_acc: 0.5149\n",
      "Epoch 58/100\n",
      "50000/50000 [==============================] - 11s 217us/step - loss: 0.5051 - acc: 0.8213 - val_loss: 2.0330 - val_acc: 0.5112\n",
      "Epoch 59/100\n",
      "50000/50000 [==============================] - 11s 217us/step - loss: 0.5007 - acc: 0.8211 - val_loss: 2.0679 - val_acc: 0.5122\n",
      "Epoch 60/100\n",
      "50000/50000 [==============================] - 11s 220us/step - loss: 0.4900 - acc: 0.8242 - val_loss: 2.0501 - val_acc: 0.5151\n",
      "Epoch 61/100\n",
      "50000/50000 [==============================] - 11s 224us/step - loss: 0.4736 - acc: 0.8307 - val_loss: 2.1398 - val_acc: 0.5042\n",
      "Epoch 62/100\n",
      "50000/50000 [==============================] - 11s 219us/step - loss: 0.4752 - acc: 0.8325 - val_loss: 2.1674 - val_acc: 0.5172\n",
      "Epoch 63/100\n",
      "50000/50000 [==============================] - 11s 225us/step - loss: 0.4696 - acc: 0.8332 - val_loss: 2.1698 - val_acc: 0.5097\n",
      "Epoch 64/100\n",
      "50000/50000 [==============================] - 11s 223us/step - loss: 0.4425 - acc: 0.8413 - val_loss: 2.1741 - val_acc: 0.5106\n",
      "Epoch 65/100\n",
      "50000/50000 [==============================] - 11s 230us/step - loss: 0.4319 - acc: 0.8464 - val_loss: 2.3180 - val_acc: 0.5111\n",
      "Epoch 66/100\n",
      "50000/50000 [==============================] - 11s 225us/step - loss: 0.4348 - acc: 0.8438 - val_loss: 2.3195 - val_acc: 0.5168\n",
      "Epoch 67/100\n",
      "50000/50000 [==============================] - 11s 227us/step - loss: 0.4227 - acc: 0.8495 - val_loss: 2.3303 - val_acc: 0.5157\n",
      "Epoch 68/100\n",
      "50000/50000 [==============================] - 11s 228us/step - loss: 0.4230 - acc: 0.8481 - val_loss: 2.3178 - val_acc: 0.5129\n",
      "Epoch 69/100\n",
      "50000/50000 [==============================] - 11s 228us/step - loss: 0.4130 - acc: 0.8523 - val_loss: 2.3067 - val_acc: 0.5097\n",
      "Epoch 70/100\n",
      "50000/50000 [==============================] - 11s 230us/step - loss: 0.4004 - acc: 0.8552 - val_loss: 2.4278 - val_acc: 0.5093\n",
      "Epoch 71/100\n",
      "50000/50000 [==============================] - 12s 235us/step - loss: 0.3877 - acc: 0.8625 - val_loss: 2.4618 - val_acc: 0.5046\n",
      "Epoch 72/100\n",
      "50000/50000 [==============================] - 12s 240us/step - loss: 0.3976 - acc: 0.8576 - val_loss: 2.4740 - val_acc: 0.5007\n",
      "Epoch 73/100\n",
      "50000/50000 [==============================] - 12s 231us/step - loss: 0.3895 - acc: 0.8602 - val_loss: 2.5259 - val_acc: 0.5070\n",
      "Epoch 74/100\n",
      "50000/50000 [==============================] - 12s 237us/step - loss: 0.3506 - acc: 0.8758 - val_loss: 2.5229 - val_acc: 0.5126\n",
      "Epoch 75/100\n",
      "50000/50000 [==============================] - 12s 248us/step - loss: 0.3619 - acc: 0.8728 - val_loss: 2.6386 - val_acc: 0.4972\n",
      "Epoch 76/100\n",
      "50000/50000 [==============================] - 12s 233us/step - loss: 0.3766 - acc: 0.8645 - val_loss: 2.6284 - val_acc: 0.5038\n",
      "Epoch 77/100\n",
      "50000/50000 [==============================] - 12s 248us/step - loss: 0.3781 - acc: 0.8632 - val_loss: 2.6172 - val_acc: 0.5075\n",
      "Epoch 78/100\n",
      "50000/50000 [==============================] - 12s 235us/step - loss: 0.3556 - acc: 0.8719 - val_loss: 2.6177 - val_acc: 0.5129\n",
      "Epoch 79/100\n",
      "50000/50000 [==============================] - 12s 234us/step - loss: 0.3405 - acc: 0.8795 - val_loss: 2.6397 - val_acc: 0.5109\n",
      "Epoch 80/100\n",
      "50000/50000 [==============================] - 12s 232us/step - loss: 0.3380 - acc: 0.8796 - val_loss: 2.6632 - val_acc: 0.5090\n",
      "Epoch 81/100\n",
      "50000/50000 [==============================] - 12s 237us/step - loss: 0.3335 - acc: 0.8801 - val_loss: 2.7146 - val_acc: 0.5100\n",
      "Epoch 82/100\n",
      "50000/50000 [==============================] - 12s 237us/step - loss: 0.3301 - acc: 0.8830 - val_loss: 2.8337 - val_acc: 0.5061\n",
      "Epoch 83/100\n",
      "50000/50000 [==============================] - 12s 232us/step - loss: 0.3309 - acc: 0.8823 - val_loss: 2.7478 - val_acc: 0.5091\n",
      "Epoch 84/100\n",
      "50000/50000 [==============================] - 12s 238us/step - loss: 0.3434 - acc: 0.8767 - val_loss: 2.7744 - val_acc: 0.5036\n",
      "Epoch 85/100\n",
      "50000/50000 [==============================] - 11s 229us/step - loss: 0.3336 - acc: 0.8811 - val_loss: 2.7678 - val_acc: 0.5007\n",
      "Epoch 86/100\n",
      "50000/50000 [==============================] - 12s 233us/step - loss: 0.3209 - acc: 0.8840 - val_loss: 2.8652 - val_acc: 0.4973\n",
      "Epoch 87/100\n",
      "50000/50000 [==============================] - 12s 235us/step - loss: 0.3002 - acc: 0.8923 - val_loss: 2.8564 - val_acc: 0.5039\n",
      "Epoch 88/100\n",
      "50000/50000 [==============================] - 12s 236us/step - loss: 0.3037 - acc: 0.8927 - val_loss: 2.8898 - val_acc: 0.5049\n",
      "Epoch 89/100\n",
      "50000/50000 [==============================] - 12s 233us/step - loss: 0.2938 - acc: 0.8940 - val_loss: 2.9271 - val_acc: 0.5000\n",
      "Epoch 90/100\n",
      "50000/50000 [==============================] - 12s 239us/step - loss: 0.3096 - acc: 0.8886 - val_loss: 3.0258 - val_acc: 0.5030\n",
      "Epoch 91/100\n",
      "50000/50000 [==============================] - 12s 232us/step - loss: 0.2815 - acc: 0.9004 - val_loss: 2.9078 - val_acc: 0.5111\n",
      "Epoch 92/100\n",
      "50000/50000 [==============================] - 12s 233us/step - loss: 0.2641 - acc: 0.9065 - val_loss: 3.0396 - val_acc: 0.5074\n",
      "Epoch 93/100\n",
      "50000/50000 [==============================] - 12s 242us/step - loss: 0.2858 - acc: 0.8975 - val_loss: 3.0499 - val_acc: 0.4998\n",
      "Epoch 94/100\n",
      "50000/50000 [==============================] - 12s 233us/step - loss: 0.3003 - acc: 0.8910 - val_loss: 2.9957 - val_acc: 0.5092\n",
      "Epoch 95/100\n",
      "50000/50000 [==============================] - 12s 235us/step - loss: 0.2970 - acc: 0.8932 - val_loss: 3.0205 - val_acc: 0.5044\n",
      "Epoch 96/100\n",
      "50000/50000 [==============================] - 12s 232us/step - loss: 0.2817 - acc: 0.8989 - val_loss: 3.0595 - val_acc: 0.5028\n",
      "Epoch 97/100\n",
      "50000/50000 [==============================] - 12s 232us/step - loss: 0.2738 - acc: 0.9021 - val_loss: 3.2360 - val_acc: 0.5046\n",
      "Epoch 98/100\n",
      "50000/50000 [==============================] - 12s 240us/step - loss: 0.2766 - acc: 0.9020 - val_loss: 3.0748 - val_acc: 0.5047\n",
      "Epoch 99/100\n",
      "50000/50000 [==============================] - 12s 237us/step - loss: 0.2672 - acc: 0.9040 - val_loss: 3.0728 - val_acc: 0.5058\n",
      "Epoch 100/100\n",
      "50000/50000 [==============================] - 12s 234us/step - loss: 0.2888 - acc: 0.8973 - val_loss: 3.1712 - val_acc: 0.4990\n"
     ]
    }
   ],
   "source": [
    "history = model.fit(x_train,y_train, epochs = 100,\n",
    "                             batch_size = 256,\n",
    "                             validation_data = (x_test, y_test),\n",
    "                             shuffle = True)"
   ]
  },
  {
   "cell_type": "code",
   "execution_count": 9,
   "metadata": {
    "scrolled": true
   },
   "outputs": [
    {
     "data": {
      "image/png": "[encoded data removed]",
      "text/plain": [
       "<Figure size 432x288 with 1 Axes>"
      ]
     },
     "metadata": {
      "needs_background": "light"
     },
     "output_type": "display_data"
    },
    {
     "data": {
      "image/png": "[encoded data removed]",
      "text/plain": [
       "<Figure size 432x288 with 1 Axes>"
      ]
     },
     "metadata": {
      "needs_background": "light"
     },
     "output_type": "display_data"
    }
   ],
   "source": [
    "import matplotlib.pyplot as plt\n",
    "plt.plot(history.history['loss'], label = 'train_loss')\n",
    "plt.plot(history.history['val_loss'], label = 'val_loss')\n",
    "plt.xlabel('epochs')\n",
    "plt.ylabel('loss')\n",
    "plt.legend()\n",
    "plt.title('loss')\n",
    "plt.show()\n",
    "\n",
    "plt.plot(history.history['acc'], label = 'train_acc')\n",
    "plt.plot(history.history['val_acc'], label = 'val_acc')\n",
    "plt.xlabel('epochs')\n",
    "plt.ylabel('accuracy')\n",
    "plt.legend()\n",
    "plt.title('accuracy')\n",
    "plt.show()"
   ]
  },
  {
   "cell_type": "markdown",
   "metadata": {},
   "source": [
    "# Homework\n",
    "請將 Epoch 加到 500 個，並觀察 learning curve 的走勢 <br />\n",
    "請將 Optimizer 換成 SGD，並觀察 learning curve 的走勢 <br />"
   ]
  },
  {
   "cell_type": "code",
   "execution_count": 8,
   "metadata": {},
   "outputs": [
    {
     "name": "stdout",
     "output_type": "stream",
     "text": [
      "(50000, 32, 32, 3)\n",
      "(10000, 32, 32, 3)\n"
     ]
    }
   ],
   "source": [
    "train, test = keras.datasets.cifar10.load_data()\n",
    "x_train, y_train = train\n",
    "x_test, y_test = test\n",
    "\n",
    "x_train = x_train/255.0\n",
    "x_test = x_test/255.0\n",
    "\n",
    "print(x_train.shape)\n",
    "print(x_test.shape)\n",
    "\n",
    "y_train = keras.utils.to_categorical(y_train,10)\n",
    "y_test = keras.utils.to_categorical(y_test,10)"
   ]
  },
  {
   "cell_type": "code",
   "execution_count": 13,
   "metadata": {},
   "outputs": [],
   "source": [
    "def build_model():\n",
    "    input_layer = keras.layers.Input([32,32,3])\n",
    "    x = keras.layers.Conv2D(filters = 64, kernel_size = (3,3), padding = 'same', activation = 'relu')(input_layer)\n",
    "    x = keras.layers.MaxPooling2D(pool_size=(2,2))(x)\n",
    "    x = keras.layers.BatchNormalization()(x)\n",
    "    x = keras.layers.Flatten()(x)\n",
    "    x = keras.layers.Dense(units = 64, activation = 'relu')(x)\n",
    "    x = keras.layers.BatchNormalization()(x)\n",
    "    output_layer = keras.layers.Dense(units = 10, activation = 'softmax')(x)\n",
    "    \n",
    "    model = keras.models.Model(inputs = [input_layer], outputs = [output_layer])\n",
    "    return model"
   ]
  },
  {
   "cell_type": "code",
   "execution_count": 16,
   "metadata": {},
   "outputs": [
    {
     "name": "stdout",
     "output_type": "stream",
     "text": [
      "_________________________________________________________________\n",
      "Layer (type)                 Output Shape              Param #   \n",
      "=================================================================\n",
      "input_6 (InputLayer)         (None, 32, 32, 3)         0         \n",
      "_________________________________________________________________\n",
      "conv2d_6 (Conv2D)            (None, 32, 32, 64)        1792      \n",
      "_________________________________________________________________\n",
      "max_pooling2d_5 (MaxPooling2 (None, 16, 16, 64)        0         \n",
      "_________________________________________________________________\n",
      "batch_normalization_9 (Batch (None, 16, 16, 64)        256       \n",
      "_________________________________________________________________\n",
      "flatten_5 (Flatten)          (None, 16384)             0         \n",
      "_________________________________________________________________\n",
      "dense_8 (Dense)              (None, 64)                1048640   \n",
      "_________________________________________________________________\n",
      "batch_normalization_10 (Batc (None, 64)                256       \n",
      "_________________________________________________________________\n",
      "dense_9 (Dense)              (None, 10)                650       \n",
      "=================================================================\n",
      "Total params: 1,051,594\n",
      "Trainable params: 1,051,338\n",
      "Non-trainable params: 256\n",
      "_________________________________________________________________\n",
      "None\n"
     ]
    }
   ],
   "source": [
    "model = build_model()\n",
    "model.compile(optimizer = 'SGD', loss = 'categorical_crossentropy', metrics = ['accuracy'])\n",
    "print(model.summary())"
   ]
  },
  {
   "cell_type": "code",
   "execution_count": 17,
   "metadata": {},
   "outputs": [
    {
     "name": "stdout",
     "output_type": "stream",
     "text": [
      "WARNING:tensorflow:From /Users/xiejialun/anaconda3/lib/python3.7/site-packages/tensorflow/python/ops/math_ops.py:3066: to_int32 (from tensorflow.python.ops.math_ops) is deprecated and will be removed in a future version.\n",
      "Instructions for updating:\n",
      "Use tf.cast instead.\n",
      "Train on 50000 samples, validate on 10000 samples\n",
      "Epoch 1/200\n",
      " 6912/50000 [===>..........................] - ETA: 1:20 - loss: 2.0206 - acc: 0.3071"
     ]
    },
    {
     "ename": "KeyboardInterrupt",
     "evalue": "",
     "output_type": "error",
     "traceback": [
      "\u001b[0;31m---------------------------------------------------------------------------\u001b[0m",
      "\u001b[0;31mKeyboardInterrupt\u001b[0m                         Traceback (most recent call last)",
      "\u001b[0;32m<ipython-input-17-02c5c0e4d677>\u001b[0m in \u001b[0;36m<module>\u001b[0;34m\u001b[0m\n\u001b[1;32m      1\u001b[0m \u001b[0;31m#My notebook cant handle 500 epochs, so I just do 200 times\u001b[0m\u001b[0;34m\u001b[0m\u001b[0;34m\u001b[0m\u001b[0;34m\u001b[0m\u001b[0m\n\u001b[0;32m----> 2\u001b[0;31m \u001b[0mhistory\u001b[0m \u001b[0;34m=\u001b[0m \u001b[0mmodel\u001b[0m\u001b[0;34m.\u001b[0m\u001b[0mfit\u001b[0m\u001b[0;34m(\u001b[0m\u001b[0mx_train\u001b[0m\u001b[0;34m,\u001b[0m \u001b[0my_train\u001b[0m\u001b[0;34m,\u001b[0m \u001b[0mepochs\u001b[0m \u001b[0;34m=\u001b[0m \u001b[0;36m200\u001b[0m\u001b[0;34m,\u001b[0m \u001b[0mbatch_size\u001b[0m \u001b[0;34m=\u001b[0m \u001b[0;36m256\u001b[0m\u001b[0;34m,\u001b[0m \u001b[0mvalidation_data\u001b[0m \u001b[0;34m=\u001b[0m \u001b[0;34m(\u001b[0m\u001b[0mx_test\u001b[0m\u001b[0;34m,\u001b[0m \u001b[0my_test\u001b[0m\u001b[0;34m)\u001b[0m\u001b[0;34m,\u001b[0m \u001b[0mshuffle\u001b[0m \u001b[0;34m=\u001b[0m \u001b[0;32mTrue\u001b[0m\u001b[0;34m)\u001b[0m\u001b[0;34m\u001b[0m\u001b[0;34m\u001b[0m\u001b[0m\n\u001b[0m",
      "\u001b[0;32m~/anaconda3/lib/python3.7/site-packages/keras/engine/training.py\u001b[0m in \u001b[0;36mfit\u001b[0;34m(self, x, y, batch_size, epochs, verbose, callbacks, validation_split, validation_data, shuffle, class_weight, sample_weight, initial_epoch, steps_per_epoch, validation_steps, **kwargs)\u001b[0m\n\u001b[1;32m   1037\u001b[0m                                         \u001b[0minitial_epoch\u001b[0m\u001b[0;34m=\u001b[0m\u001b[0minitial_epoch\u001b[0m\u001b[0;34m,\u001b[0m\u001b[0;34m\u001b[0m\u001b[0;34m\u001b[0m\u001b[0m\n\u001b[1;32m   1038\u001b[0m                                         \u001b[0msteps_per_epoch\u001b[0m\u001b[0;34m=\u001b[0m\u001b[0msteps_per_epoch\u001b[0m\u001b[0;34m,\u001b[0m\u001b[0;34m\u001b[0m\u001b[0;34m\u001b[0m\u001b[0m\n\u001b[0;32m-> 1039\u001b[0;31m                                         validation_steps=validation_steps)\n\u001b[0m\u001b[1;32m   1040\u001b[0m \u001b[0;34m\u001b[0m\u001b[0m\n\u001b[1;32m   1041\u001b[0m     def evaluate(self, x=None, y=None,\n",
      "\u001b[0;32m~/anaconda3/lib/python3.7/site-packages/keras/engine/training_arrays.py\u001b[0m in \u001b[0;36mfit_loop\u001b[0;34m(model, f, ins, out_labels, batch_size, epochs, verbose, callbacks, val_f, val_ins, shuffle, callback_metrics, initial_epoch, steps_per_epoch, validation_steps)\u001b[0m\n\u001b[1;32m    197\u001b[0m                     \u001b[0mins_batch\u001b[0m\u001b[0;34m[\u001b[0m\u001b[0mi\u001b[0m\u001b[0;34m]\u001b[0m \u001b[0;34m=\u001b[0m \u001b[0mins_batch\u001b[0m\u001b[0;34m[\u001b[0m\u001b[0mi\u001b[0m\u001b[0;34m]\u001b[0m\u001b[0;34m.\u001b[0m\u001b[0mtoarray\u001b[0m\u001b[0;34m(\u001b[0m\u001b[0;34m)\u001b[0m\u001b[0;34m\u001b[0m\u001b[0;34m\u001b[0m\u001b[0m\n\u001b[1;32m    198\u001b[0m \u001b[0;34m\u001b[0m\u001b[0m\n\u001b[0;32m--> 199\u001b[0;31m                 \u001b[0mouts\u001b[0m \u001b[0;34m=\u001b[0m \u001b[0mf\u001b[0m\u001b[0;34m(\u001b[0m\u001b[0mins_batch\u001b[0m\u001b[0;34m)\u001b[0m\u001b[0;34m\u001b[0m\u001b[0;34m\u001b[0m\u001b[0m\n\u001b[0m\u001b[1;32m    200\u001b[0m                 \u001b[0mouts\u001b[0m \u001b[0;34m=\u001b[0m \u001b[0mto_list\u001b[0m\u001b[0;34m(\u001b[0m\u001b[0mouts\u001b[0m\u001b[0;34m)\u001b[0m\u001b[0;34m\u001b[0m\u001b[0;34m\u001b[0m\u001b[0m\n\u001b[1;32m    201\u001b[0m                 \u001b[0;32mfor\u001b[0m \u001b[0ml\u001b[0m\u001b[0;34m,\u001b[0m \u001b[0mo\u001b[0m \u001b[0;32min\u001b[0m \u001b[0mzip\u001b[0m\u001b[0;34m(\u001b[0m\u001b[0mout_labels\u001b[0m\u001b[0;34m,\u001b[0m \u001b[0mouts\u001b[0m\u001b[0;34m)\u001b[0m\u001b[0;34m:\u001b[0m\u001b[0;34m\u001b[0m\u001b[0;34m\u001b[0m\u001b[0m\n",
      "\u001b[0;32m~/anaconda3/lib/python3.7/site-packages/keras/backend/tensorflow_backend.py\u001b[0m in \u001b[0;36m__call__\u001b[0;34m(self, inputs)\u001b[0m\n\u001b[1;32m   2713\u001b[0m                 \u001b[0;32mreturn\u001b[0m \u001b[0mself\u001b[0m\u001b[0;34m.\u001b[0m\u001b[0m_legacy_call\u001b[0m\u001b[0;34m(\u001b[0m\u001b[0minputs\u001b[0m\u001b[0;34m)\u001b[0m\u001b[0;34m\u001b[0m\u001b[0;34m\u001b[0m\u001b[0m\n\u001b[1;32m   2714\u001b[0m \u001b[0;34m\u001b[0m\u001b[0m\n\u001b[0;32m-> 2715\u001b[0;31m             \u001b[0;32mreturn\u001b[0m \u001b[0mself\u001b[0m\u001b[0;34m.\u001b[0m\u001b[0m_call\u001b[0m\u001b[0;34m(\u001b[0m\u001b[0minputs\u001b[0m\u001b[0;34m)\u001b[0m\u001b[0;34m\u001b[0m\u001b[0;34m\u001b[0m\u001b[0m\n\u001b[0m\u001b[1;32m   2716\u001b[0m         \u001b[0;32melse\u001b[0m\u001b[0;34m:\u001b[0m\u001b[0;34m\u001b[0m\u001b[0;34m\u001b[0m\u001b[0m\n\u001b[1;32m   2717\u001b[0m             \u001b[0;32mif\u001b[0m \u001b[0mpy_any\u001b[0m\u001b[0;34m(\u001b[0m\u001b[0mis_tensor\u001b[0m\u001b[0;34m(\u001b[0m\u001b[0mx\u001b[0m\u001b[0;34m)\u001b[0m \u001b[0;32mfor\u001b[0m \u001b[0mx\u001b[0m \u001b[0;32min\u001b[0m \u001b[0minputs\u001b[0m\u001b[0;34m)\u001b[0m\u001b[0;34m:\u001b[0m\u001b[0;34m\u001b[0m\u001b[0;34m\u001b[0m\u001b[0m\n",
      "\u001b[0;32m~/anaconda3/lib/python3.7/site-packages/keras/backend/tensorflow_backend.py\u001b[0m in \u001b[0;36m_call\u001b[0;34m(self, inputs)\u001b[0m\n\u001b[1;32m   2673\u001b[0m             \u001b[0mfetched\u001b[0m \u001b[0;34m=\u001b[0m \u001b[0mself\u001b[0m\u001b[0;34m.\u001b[0m\u001b[0m_callable_fn\u001b[0m\u001b[0;34m(\u001b[0m\u001b[0;34m*\u001b[0m\u001b[0marray_vals\u001b[0m\u001b[0;34m,\u001b[0m \u001b[0mrun_metadata\u001b[0m\u001b[0;34m=\u001b[0m\u001b[0mself\u001b[0m\u001b[0;34m.\u001b[0m\u001b[0mrun_metadata\u001b[0m\u001b[0;34m)\u001b[0m\u001b[0;34m\u001b[0m\u001b[0;34m\u001b[0m\u001b[0m\n\u001b[1;32m   2674\u001b[0m         \u001b[0;32melse\u001b[0m\u001b[0;34m:\u001b[0m\u001b[0;34m\u001b[0m\u001b[0;34m\u001b[0m\u001b[0m\n\u001b[0;32m-> 2675\u001b[0;31m             \u001b[0mfetched\u001b[0m \u001b[0;34m=\u001b[0m \u001b[0mself\u001b[0m\u001b[0;34m.\u001b[0m\u001b[0m_callable_fn\u001b[0m\u001b[0;34m(\u001b[0m\u001b[0;34m*\u001b[0m\u001b[0marray_vals\u001b[0m\u001b[0;34m)\u001b[0m\u001b[0;34m\u001b[0m\u001b[0;34m\u001b[0m\u001b[0m\n\u001b[0m\u001b[1;32m   2676\u001b[0m         \u001b[0;32mreturn\u001b[0m \u001b[0mfetched\u001b[0m\u001b[0;34m[\u001b[0m\u001b[0;34m:\u001b[0m\u001b[0mlen\u001b[0m\u001b[0;34m(\u001b[0m\u001b[0mself\u001b[0m\u001b[0;34m.\u001b[0m\u001b[0moutputs\u001b[0m\u001b[0;34m)\u001b[0m\u001b[0;34m]\u001b[0m\u001b[0;34m\u001b[0m\u001b[0;34m\u001b[0m\u001b[0m\n\u001b[1;32m   2677\u001b[0m \u001b[0;34m\u001b[0m\u001b[0m\n",
      "\u001b[0;32m~/anaconda3/lib/python3.7/site-packages/tensorflow/python/client/session.py\u001b[0m in \u001b[0;36m__call__\u001b[0;34m(self, *args, **kwargs)\u001b[0m\n\u001b[1;32m   1437\u001b[0m           ret = tf_session.TF_SessionRunCallable(\n\u001b[1;32m   1438\u001b[0m               \u001b[0mself\u001b[0m\u001b[0;34m.\u001b[0m\u001b[0m_session\u001b[0m\u001b[0;34m.\u001b[0m\u001b[0m_session\u001b[0m\u001b[0;34m,\u001b[0m \u001b[0mself\u001b[0m\u001b[0;34m.\u001b[0m\u001b[0m_handle\u001b[0m\u001b[0;34m,\u001b[0m \u001b[0margs\u001b[0m\u001b[0;34m,\u001b[0m \u001b[0mstatus\u001b[0m\u001b[0;34m,\u001b[0m\u001b[0;34m\u001b[0m\u001b[0;34m\u001b[0m\u001b[0m\n\u001b[0;32m-> 1439\u001b[0;31m               run_metadata_ptr)\n\u001b[0m\u001b[1;32m   1440\u001b[0m         \u001b[0;32mif\u001b[0m \u001b[0mrun_metadata\u001b[0m\u001b[0;34m:\u001b[0m\u001b[0;34m\u001b[0m\u001b[0;34m\u001b[0m\u001b[0m\n\u001b[1;32m   1441\u001b[0m           \u001b[0mproto_data\u001b[0m \u001b[0;34m=\u001b[0m \u001b[0mtf_session\u001b[0m\u001b[0;34m.\u001b[0m\u001b[0mTF_GetBuffer\u001b[0m\u001b[0;34m(\u001b[0m\u001b[0mrun_metadata_ptr\u001b[0m\u001b[0;34m)\u001b[0m\u001b[0;34m\u001b[0m\u001b[0;34m\u001b[0m\u001b[0m\n",
      "\u001b[0;31mKeyboardInterrupt\u001b[0m: "
     ]
    }
   ],
   "source": [
    "#My notebook cant handle 500 epochs, so I just do 200 times\n",
    "history = model.fit(x_train, y_train, epochs = 200, batch_size = 256, validation_data = (x_test, y_test), shuffle = True)"
   ]
  },
  {
   "cell_type": "code",
   "execution_count": null,
   "metadata": {},
   "outputs": [],
   "source": [
    "\n",
    "plt.plot(history.history['loss'], label = 'train_loss')\n",
    "plt.plot(history.history['val_loss'], label = 'val_loss')\n",
    "plt.xlabel('epochs')\n",
    "plt.ylabel('loss')\n",
    "plt.legend()\n",
    "plt.title('loss')\n",
    "plt.show()\n",
    "\n",
    "plt.plot(history.history['acc'], label = 'train_acc')\n",
    "plt.plot(history.history['val_acc'], label = 'val_acc')\n",
    "plt.xlabel('epochs')\n",
    "plt.ylabel('accuracy')\n",
    "plt.legend()\n",
    "plt.title('accuracy')\n",
    "plt.show()"
   ]
  }
 ],
 "metadata": {
  "kernelspec": {
   "display_name": "Python 3",
   "language": "python",
   "name": "python3"
  },
  "language_info": {
   "codemirror_mode": {
    "name": "ipython",
    "version": 3
   },
   "file_extension": ".py",
   "mimetype": "text/x-python",
   "name": "python",
   "nbconvert_exporter": "python",
   "pygments_lexer": "ipython3",
   "version": "3.7.3"
  }
 },
 "nbformat": 4,
 "nbformat_minor": 2
}
