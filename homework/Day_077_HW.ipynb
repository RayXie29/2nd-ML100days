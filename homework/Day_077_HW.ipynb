{
 "cells": [
  {
   "cell_type": "markdown",
   "metadata": {},
   "source": [
    "# 範例重點\n",
    "學會從 Keras 內建函式取得資料 <br />\n",
    "能夠建立簡易的深度學習模型<br />\n",
    "觀察並了解 Overfit 現象<br />"
   ]
  },
  {
   "cell_type": "code",
   "execution_count": 7,
   "metadata": {},
   "outputs": [],
   "source": [
    "import os\n",
    "import keras\n",
    "\n",
    "os.environ[\"CUD_VISIBLE_DEVICES\"] = \"\""
   ]
  },
  {
   "cell_type": "code",
   "execution_count": 8,
   "metadata": {},
   "outputs": [],
   "source": [
    "train, test = keras.datasets.cifar10.load_data()"
   ]
  },
  {
   "cell_type": "code",
   "execution_count": 9,
   "metadata": {},
   "outputs": [
    {
     "name": "stdout",
     "output_type": "stream",
     "text": [
      "(50000, 32, 32, 3)\n",
      "(10000, 32, 32, 3)\n",
      "(50000, 3072)\n",
      "(10000, 3072)\n"
     ]
    }
   ],
   "source": [
    "x_train, y_train = train\n",
    "x_test, y_test = test\n",
    "\n",
    "x_train = x_train/255.0\n",
    "x_test = x_test/255.0\n",
    "\n",
    "print(x_train.shape)\n",
    "print(x_test.shape)\n",
    "\n",
    "x_train = x_train.reshape((len(x_train), -1))\n",
    "x_test = x_test.reshape((len(x_test), -1))\n",
    "\n",
    "print(x_train.shape)\n",
    "print(x_test.shape)\n",
    "\n",
    "y_train = keras.utils.to_categorical(y_train,10)\n",
    "y_test = keras.utils.to_categorical(y_test,10)"
   ]
  },
  {
   "cell_type": "code",
   "execution_count": 10,
   "metadata": {},
   "outputs": [],
   "source": [
    "def build_mlp():\n",
    "    input_layer = keras.layers.Input([x_train.shape[-1]])\n",
    "    x = keras.layers.Dense(units = 512, activation = 'relu')(input_layer)\n",
    "    x = keras.layers.Dense(units = 256, activation = 'relu')(x)\n",
    "    x = keras.layers.Dense(units = 128, activation = 'relu')(x)\n",
    "    out = keras.layers.Dense(units = 10, activation = 'softmax')(x)\n",
    "    \n",
    "    model = keras.models.Model(inputs = [input_layer], outputs = [out])\n",
    "    return model"
   ]
  },
  {
   "cell_type": "code",
   "execution_count": 11,
   "metadata": {},
   "outputs": [
    {
     "name": "stdout",
     "output_type": "stream",
     "text": [
      "_________________________________________________________________\n",
      "Layer (type)                 Output Shape              Param #   \n",
      "=================================================================\n",
      "input_2 (InputLayer)         (None, 3072)              0         \n",
      "_________________________________________________________________\n",
      "dense_3 (Dense)              (None, 512)               1573376   \n",
      "_________________________________________________________________\n",
      "dense_4 (Dense)              (None, 256)               131328    \n",
      "_________________________________________________________________\n",
      "dense_5 (Dense)              (None, 128)               32896     \n",
      "_________________________________________________________________\n",
      "dense_6 (Dense)              (None, 10)                1290      \n",
      "=================================================================\n",
      "Total params: 1,738,890\n",
      "Trainable params: 1,738,890\n",
      "Non-trainable params: 0\n",
      "_________________________________________________________________\n",
      "None\n"
     ]
    }
   ],
   "source": [
    "model = build_mlp()\n",
    "print(model.summary())\n",
    "\n",
    "optimizer = keras.optimizers.Adam(lr = 0.001)\n",
    "model.compile(optimizer = optimizer, loss = 'categorical_crossentropy', metrics = ['accuracy'])"
   ]
  },
  {
   "cell_type": "code",
   "execution_count": 12,
   "metadata": {},
   "outputs": [
    {
     "name": "stdout",
     "output_type": "stream",
     "text": [
      "WARNING:tensorflow:From /Users/xiejialun/anaconda3/lib/python3.7/site-packages/tensorflow/python/ops/math_ops.py:3066: to_int32 (from tensorflow.python.ops.math_ops) is deprecated and will be removed in a future version.\n",
      "Instructions for updating:\n",
      "Use tf.cast instead.\n",
      "Train on 50000 samples, validate on 10000 samples\n",
      "Epoch 1/10\n",
      "50000/50000 [==============================] - 13s 265us/step - loss: 1.9149 - acc: 0.3105 - val_loss: 1.7489 - val_acc: 0.3747\n",
      "Epoch 2/10\n",
      "50000/50000 [==============================] - 12s 231us/step - loss: 1.6925 - acc: 0.3963 - val_loss: 1.6477 - val_acc: 0.4204\n",
      "Epoch 3/10\n",
      "50000/50000 [==============================] - 11s 226us/step - loss: 1.6086 - acc: 0.4266 - val_loss: 1.5606 - val_acc: 0.4410\n",
      "Epoch 4/10\n",
      "50000/50000 [==============================] - 11s 229us/step - loss: 1.5523 - acc: 0.4452 - val_loss: 1.6232 - val_acc: 0.4187\n",
      "Epoch 5/10\n",
      "50000/50000 [==============================] - 12s 231us/step - loss: 1.5018 - acc: 0.4663 - val_loss: 1.4932 - val_acc: 0.4685\n",
      "Epoch 6/10\n",
      "50000/50000 [==============================] - 11s 227us/step - loss: 1.4666 - acc: 0.4776 - val_loss: 1.5409 - val_acc: 0.4444\n",
      "Epoch 7/10\n",
      "50000/50000 [==============================] - 12s 232us/step - loss: 1.4316 - acc: 0.4899 - val_loss: 1.4784 - val_acc: 0.4754\n",
      "Epoch 8/10\n",
      "50000/50000 [==============================] - 11s 230us/step - loss: 1.4050 - acc: 0.5001 - val_loss: 1.4485 - val_acc: 0.4853\n",
      "Epoch 9/10\n",
      "50000/50000 [==============================] - 12s 231us/step - loss: 1.3714 - acc: 0.5106 - val_loss: 1.4155 - val_acc: 0.4947\n",
      "Epoch 10/10\n",
      "50000/50000 [==============================] - 12s 234us/step - loss: 1.3489 - acc: 0.5208 - val_loss: 1.4043 - val_acc: 0.5002\n"
     ]
    }
   ],
   "source": [
    "history = model.fit(x_train,y_train, epochs = 10,\n",
    "                             batch_size = 256,\n",
    "                             validation_data = (x_test, y_test),\n",
    "                             shuffle = True)"
   ]
  },
  {
   "cell_type": "code",
   "execution_count": 13,
   "metadata": {
    "scrolled": true
   },
   "outputs": [
    {
     "data": {
      "text/plain": [
       "<Figure size 640x480 with 1 Axes>"
      ]
     },
     "metadata": {},
     "output_type": "display_data"
    },
    {
     "data": {
      "text/plain": [
       "<Figure size 640x480 with 1 Axes>"
      ]
     },
     "metadata": {},
     "output_type": "display_data"
    }
   ],
   "source": [
    "import matplotlib.pyplot as plt\n",
    "plt.plot(history.history['loss'], label = 'train_loss')\n",
    "plt.plot(history.history['val_loss'], label = 'val_loss')\n",
    "plt.xlabel('epochs')\n",
    "plt.ylabel('loss')\n",
    "plt.legend()\n",
    "plt.title('loss')\n",
    "plt.show()\n",
    "\n",
    "plt.plot(history.history['acc'], label = 'train_acc')\n",
    "plt.plot(history.history['val_acc'], label = 'val_acc')\n",
    "plt.xlabel('epochs')\n",
    "plt.ylabel('accuracy')\n",
    "plt.legend()\n",
    "plt.title('accuracy')\n",
    "plt.show()"
   ]
  },
  {
   "cell_type": "markdown",
   "metadata": {},
   "source": [
    "# Homework\n",
    "請將 Epoch 加到 500 個，並觀察 learning curve 的走勢 <br />\n",
    "請將 Optimizer 換成 SGD，並觀察 learning curve 的走勢 <br />"
   ]
  },
  {
   "cell_type": "code",
   "execution_count": 14,
   "metadata": {},
   "outputs": [
    {
     "name": "stdout",
     "output_type": "stream",
     "text": [
      "(50000, 32, 32, 3)\n",
      "(10000, 32, 32, 3)\n"
     ]
    }
   ],
   "source": [
    "train, test = keras.datasets.cifar10.load_data()\n",
    "x_train, y_train = train\n",
    "x_test, y_test = test\n",
    "\n",
    "x_train = x_train/255.0\n",
    "x_test = x_test/255.0\n",
    "\n",
    "print(x_train.shape)\n",
    "print(x_test.shape)\n",
    "\n",
    "y_train = keras.utils.to_categorical(y_train,10)\n",
    "y_test = keras.utils.to_categorical(y_test,10)"
   ]
  },
  {
   "cell_type": "code",
   "execution_count": 15,
   "metadata": {},
   "outputs": [],
   "source": [
    "def build_model():\n",
    "    input_layer = keras.layers.Input([32,32,3])\n",
    "    x = keras.layers.Conv2D(filters = 64, kernel_size = (3,3), padding = 'same', activation = 'relu')(input_layer)\n",
    "    x = keras.layers.MaxPooling2D(pool_size=(2,2))(x)\n",
    "    x = keras.layers.BatchNormalization()(x)\n",
    "    x = keras.layers.Flatten()(x)\n",
    "    x = keras.layers.Dense(units = 64, activation = 'relu')(x)\n",
    "    x = keras.layers.BatchNormalization()(x)\n",
    "    output_layer = keras.layers.Dense(units = 10, activation = 'softmax')(x)\n",
    "    \n",
    "    model = keras.models.Model(inputs = [input_layer], outputs = [output_layer])\n",
    "    return model"
   ]
  },
  {
   "cell_type": "code",
   "execution_count": 16,
   "metadata": {},
   "outputs": [
    {
     "name": "stdout",
     "output_type": "stream",
     "text": [
      "_________________________________________________________________\n",
      "Layer (type)                 Output Shape              Param #   \n",
      "=================================================================\n",
      "input_3 (InputLayer)         (None, 32, 32, 3)         0         \n",
      "_________________________________________________________________\n",
      "conv2d_2 (Conv2D)            (None, 32, 32, 64)        1792      \n",
      "_________________________________________________________________\n",
      "max_pooling2d_2 (MaxPooling2 (None, 16, 16, 64)        0         \n",
      "_________________________________________________________________\n",
      "batch_normalization_3 (Batch (None, 16, 16, 64)        256       \n",
      "_________________________________________________________________\n",
      "flatten_2 (Flatten)          (None, 16384)             0         \n",
      "_________________________________________________________________\n",
      "dense_7 (Dense)              (None, 64)                1048640   \n",
      "_________________________________________________________________\n",
      "batch_normalization_4 (Batch (None, 64)                256       \n",
      "_________________________________________________________________\n",
      "dense_8 (Dense)              (None, 10)                650       \n",
      "=================================================================\n",
      "Total params: 1,051,594\n",
      "Trainable params: 1,051,338\n",
      "Non-trainable params: 256\n",
      "_________________________________________________________________\n",
      "None\n"
     ]
    }
   ],
   "source": [
    "model = build_model()\n",
    "model.compile(optimizer = 'SGD', loss = 'categorical_crossentropy', metrics = ['accuracy'])\n",
    "print(model.summary())"
   ]
  },
  {
   "cell_type": "code",
   "execution_count": 17,
   "metadata": {},
   "outputs": [
    {
     "name": "stdout",
     "output_type": "stream",
     "text": [
      "Train on 50000 samples, validate on 10000 samples\n",
      "Epoch 1/20\n",
      "50000/50000 [==============================] - 95s 2ms/step - loss: 1.5950 - acc: 0.4409 - val_loss: 1.5511 - val_acc: 0.4490\n",
      "Epoch 2/20\n",
      "50000/50000 [==============================] - 87s 2ms/step - loss: 1.2862 - acc: 0.5524 - val_loss: 1.3326 - val_acc: 0.5349\n",
      "Epoch 3/20\n",
      "50000/50000 [==============================] - 86s 2ms/step - loss: 1.1556 - acc: 0.6005 - val_loss: 1.5921 - val_acc: 0.4464\n",
      "Epoch 4/20\n",
      "50000/50000 [==============================] - 85s 2ms/step - loss: 1.0644 - acc: 0.6337 - val_loss: 2.5239 - val_acc: 0.3070\n",
      "Epoch 5/20\n",
      "50000/50000 [==============================] - 87s 2ms/step - loss: 0.9898 - acc: 0.6605 - val_loss: 1.2142 - val_acc: 0.5798\n",
      "Epoch 6/20\n",
      "50000/50000 [==============================] - 87s 2ms/step - loss: 0.9333 - acc: 0.6788 - val_loss: 1.5180 - val_acc: 0.4742\n",
      "Epoch 7/20\n",
      "50000/50000 [==============================] - 88s 2ms/step - loss: 0.8786 - acc: 0.6991 - val_loss: 1.4719 - val_acc: 0.5026\n",
      "Epoch 8/20\n",
      "50000/50000 [==============================] - 86s 2ms/step - loss: 0.8340 - acc: 0.7176 - val_loss: 1.7175 - val_acc: 0.4528\n",
      "Epoch 9/20\n",
      "50000/50000 [==============================] - 88s 2ms/step - loss: 0.7901 - acc: 0.7325 - val_loss: 1.4574 - val_acc: 0.5215\n",
      "Epoch 10/20\n",
      "50000/50000 [==============================] - 86s 2ms/step - loss: 0.7495 - acc: 0.7470 - val_loss: 1.7222 - val_acc: 0.4961\n",
      "Epoch 11/20\n",
      "50000/50000 [==============================] - 86s 2ms/step - loss: 0.7074 - acc: 0.7621 - val_loss: 1.2590 - val_acc: 0.5772\n",
      "Epoch 12/20\n",
      "50000/50000 [==============================] - 86s 2ms/step - loss: 0.6709 - acc: 0.7785 - val_loss: 1.1454 - val_acc: 0.6135\n",
      "Epoch 13/20\n",
      "50000/50000 [==============================] - 88s 2ms/step - loss: 0.6382 - acc: 0.7895 - val_loss: 1.4719 - val_acc: 0.5447\n",
      "Epoch 14/20\n",
      "50000/50000 [==============================] - 88s 2ms/step - loss: 0.6036 - acc: 0.8034 - val_loss: 1.2907 - val_acc: 0.5710\n",
      "Epoch 15/20\n",
      "50000/50000 [==============================] - 90s 2ms/step - loss: 0.5707 - acc: 0.8165 - val_loss: 1.4931 - val_acc: 0.5416\n",
      "Epoch 16/20\n",
      "50000/50000 [==============================] - 87s 2ms/step - loss: 0.5368 - acc: 0.8292 - val_loss: 1.1567 - val_acc: 0.6151\n",
      "Epoch 17/20\n",
      "50000/50000 [==============================] - 87s 2ms/step - loss: 0.5032 - acc: 0.8431 - val_loss: 1.2611 - val_acc: 0.5935\n",
      "Epoch 18/20\n",
      "50000/50000 [==============================] - 87s 2ms/step - loss: 0.4755 - acc: 0.8529 - val_loss: 1.1480 - val_acc: 0.6220\n",
      "Epoch 19/20\n",
      "50000/50000 [==============================] - 87s 2ms/step - loss: 0.4436 - acc: 0.8675 - val_loss: 1.5462 - val_acc: 0.5569\n",
      "Epoch 20/20\n",
      "50000/50000 [==============================] - 90s 2ms/step - loss: 0.4151 - acc: 0.8794 - val_loss: 1.3445 - val_acc: 0.5903\n"
     ]
    }
   ],
   "source": [
    "#My notebook cant handle 500 epochs, so I just do 20 times\n",
    "history = model.fit(x_train, y_train, epochs = 20, batch_size = 256, validation_data = (x_test, y_test), shuffle = True)"
   ]
  },
  {
   "cell_type": "code",
   "execution_count": 18,
   "metadata": {},
   "outputs": [
    {
     "data": {
      "image/png": "[encoded data removed]",
      "text/plain": [
       "<Figure size 432x288 with 1 Axes>"
      ]
     },
     "metadata": {
      "needs_background": "light"
     },
     "output_type": "display_data"
    },
    {
     "data": {
      "image/png": "[encoded data removed]",
      "text/plain": [
       "<Figure size 432x288 with 1 Axes>"
      ]
     },
     "metadata": {
      "needs_background": "light"
     },
     "output_type": "display_data"
    }
   ],
   "source": [
    "\n",
    "plt.plot(history.history['loss'], label = 'train_loss')\n",
    "plt.plot(history.history['val_loss'], label = 'val_loss')\n",
    "plt.xlabel('epochs')\n",
    "plt.ylabel('loss')\n",
    "plt.legend()\n",
    "plt.title('loss')\n",
    "plt.show()\n",
    "\n",
    "plt.plot(history.history['acc'], label = 'train_acc')\n",
    "plt.plot(history.history['val_acc'], label = 'val_acc')\n",
    "plt.xlabel('epochs')\n",
    "plt.ylabel('accuracy')\n",
    "plt.legend()\n",
    "plt.title('accuracy')\n",
    "plt.show()"
   ]
  },
  {
   "cell_type": "code",
   "execution_count": null,
   "metadata": {},
   "outputs": [],
   "source": []
  }
 ],
 "metadata": {
  "kernelspec": {
   "display_name": "Python 3",
   "language": "python",
   "name": "python3"
  },
  "language_info": {
   "codemirror_mode": {
    "name": "ipython",
    "version": 3
   },
   "file_extension": ".py",
   "mimetype": "text/x-python",
   "name": "python",
   "nbconvert_exporter": "python",
   "pygments_lexer": "ipython3",
   "version": "3.7.3"
  }
 },
 "nbformat": 4,
 "nbformat_minor": 2
}
