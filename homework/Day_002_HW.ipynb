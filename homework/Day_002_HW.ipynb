{
 "cells": [
  {
   "cell_type": "code",
   "execution_count": 33,
   "metadata": {},
   "outputs": [],
   "source": [
    "import numpy as np\n",
    "import pandas as pd\n",
    "import os\n",
    "import matplotlib.pyplot as plt "
   ]
  },
  {
   "cell_type": "code",
   "execution_count": 34,
   "metadata": {},
   "outputs": [],
   "source": [
    "dir_data = './datas/'"
   ]
  },
  {
   "cell_type": "code",
   "execution_count": 35,
   "metadata": {},
   "outputs": [
    {
     "name": "stdout",
     "output_type": "stream",
     "text": [
      "Path of read in data: ./datas/application_train.csv\n"
     ]
    }
   ],
   "source": [
    "f_app = os.path.join(dir_data,'application_train.csv')\n",
    "print('Path of read in data: %s' % (f_app))\n",
    "\n",
    "df = pd.read_csv(f_app)"
   ]
  },
  {
   "cell_type": "markdown",
   "metadata": {},
   "source": [
    "**Checking some infroamtion of current data**"
   ]
  },
  {
   "cell_type": "code",
   "execution_count": 36,
   "metadata": {
    "scrolled": true
   },
   "outputs": [
    {
     "name": "stdout",
     "output_type": "stream",
     "text": [
      "          SK_ID_CURR         TARGET   CNT_CHILDREN  AMT_INCOME_TOTAL  \\\n",
      "count  307511.000000  307511.000000  307511.000000      3.075110e+05   \n",
      "mean   278180.518577       0.080729       0.417052      1.687979e+05   \n",
      "std    102790.175348       0.272419       0.722121      2.371231e+05   \n",
      "min    100002.000000       0.000000       0.000000      2.565000e+04   \n",
      "25%    189145.500000       0.000000       0.000000      1.125000e+05   \n",
      "50%    278202.000000       0.000000       0.000000      1.471500e+05   \n",
      "75%    367142.500000       0.000000       1.000000      2.025000e+05   \n",
      "max    456255.000000       1.000000      19.000000      1.170000e+08   \n",
      "\n",
      "         AMT_CREDIT    AMT_ANNUITY  AMT_GOODS_PRICE  \\\n",
      "count  3.075110e+05  307499.000000     3.072330e+05   \n",
      "mean   5.990260e+05   27108.573909     5.383962e+05   \n",
      "std    4.024908e+05   14493.737315     3.694465e+05   \n",
      "min    4.500000e+04    1615.500000     4.050000e+04   \n",
      "25%    2.700000e+05   16524.000000     2.385000e+05   \n",
      "50%    5.135310e+05   24903.000000     4.500000e+05   \n",
      "75%    8.086500e+05   34596.000000     6.795000e+05   \n",
      "max    4.050000e+06  258025.500000     4.050000e+06   \n",
      "\n",
      "       REGION_POPULATION_RELATIVE     DAYS_BIRTH  DAYS_EMPLOYED  ...  \\\n",
      "count               307511.000000  307511.000000  307511.000000  ...   \n",
      "mean                     0.020868  -16036.995067   63815.045904  ...   \n",
      "std                      0.013831    4363.988632  141275.766519  ...   \n",
      "min                      0.000290  -25229.000000  -17912.000000  ...   \n",
      "25%                      0.010006  -19682.000000   -2760.000000  ...   \n",
      "50%                      0.018850  -15750.000000   -1213.000000  ...   \n",
      "75%                      0.028663  -12413.000000    -289.000000  ...   \n",
      "max                      0.072508   -7489.000000  365243.000000  ...   \n",
      "\n",
      "       FLAG_DOCUMENT_18  FLAG_DOCUMENT_19  FLAG_DOCUMENT_20  FLAG_DOCUMENT_21  \\\n",
      "count     307511.000000     307511.000000     307511.000000     307511.000000   \n",
      "mean           0.008130          0.000595          0.000507          0.000335   \n",
      "std            0.089798          0.024387          0.022518          0.018299   \n",
      "min            0.000000          0.000000          0.000000          0.000000   \n",
      "25%            0.000000          0.000000          0.000000          0.000000   \n",
      "50%            0.000000          0.000000          0.000000          0.000000   \n",
      "75%            0.000000          0.000000          0.000000          0.000000   \n",
      "max            1.000000          1.000000          1.000000          1.000000   \n",
      "\n",
      "       AMT_REQ_CREDIT_BUREAU_HOUR  AMT_REQ_CREDIT_BUREAU_DAY  \\\n",
      "count               265992.000000              265992.000000   \n",
      "mean                     0.006402                   0.007000   \n",
      "std                      0.083849                   0.110757   \n",
      "min                      0.000000                   0.000000   \n",
      "25%                      0.000000                   0.000000   \n",
      "50%                      0.000000                   0.000000   \n",
      "75%                      0.000000                   0.000000   \n",
      "max                      4.000000                   9.000000   \n",
      "\n",
      "       AMT_REQ_CREDIT_BUREAU_WEEK  AMT_REQ_CREDIT_BUREAU_MON  \\\n",
      "count               265992.000000              265992.000000   \n",
      "mean                     0.034362                   0.267395   \n",
      "std                      0.204685                   0.916002   \n",
      "min                      0.000000                   0.000000   \n",
      "25%                      0.000000                   0.000000   \n",
      "50%                      0.000000                   0.000000   \n",
      "75%                      0.000000                   0.000000   \n",
      "max                      8.000000                  27.000000   \n",
      "\n",
      "       AMT_REQ_CREDIT_BUREAU_QRT  AMT_REQ_CREDIT_BUREAU_YEAR  \n",
      "count              265992.000000               265992.000000  \n",
      "mean                    0.265474                    1.899974  \n",
      "std                     0.794056                    1.869295  \n",
      "min                     0.000000                    0.000000  \n",
      "25%                     0.000000                    0.000000  \n",
      "50%                     0.000000                    1.000000  \n",
      "75%                     0.000000                    3.000000  \n",
      "max                   261.000000                   25.000000  \n",
      "\n",
      "[8 rows x 106 columns]\n"
     ]
    }
   ],
   "source": [
    "print(df.describe())"
   ]
  },
  {
   "cell_type": "markdown",
   "metadata": {},
   "source": [
    "**資料的 row 數以及 column 數**"
   ]
  },
  {
   "cell_type": "code",
   "execution_count": 37,
   "metadata": {},
   "outputs": [
    {
     "name": "stdout",
     "output_type": "stream",
     "text": [
      "data rows:  307511\n",
      "data columns:  122\n"
     ]
    }
   ],
   "source": [
    "data_rows, data_columns = df.shape\n",
    "print('data rows: ',data_rows)\n",
    "print('data columns: ',data_columns)"
   ]
  },
  {
   "cell_type": "markdown",
   "metadata": {},
   "source": [
    "**列出所有欄位**"
   ]
  },
  {
   "cell_type": "code",
   "execution_count": 38,
   "metadata": {},
   "outputs": [
    {
     "name": "stdout",
     "output_type": "stream",
     "text": [
      "Index(['SK_ID_CURR', 'TARGET', 'NAME_CONTRACT_TYPE', 'CODE_GENDER',\n",
      "       'FLAG_OWN_CAR', 'FLAG_OWN_REALTY', 'CNT_CHILDREN', 'AMT_INCOME_TOTAL',\n",
      "       'AMT_CREDIT', 'AMT_ANNUITY',\n",
      "       ...\n",
      "       'FLAG_DOCUMENT_18', 'FLAG_DOCUMENT_19', 'FLAG_DOCUMENT_20',\n",
      "       'FLAG_DOCUMENT_21', 'AMT_REQ_CREDIT_BUREAU_HOUR',\n",
      "       'AMT_REQ_CREDIT_BUREAU_DAY', 'AMT_REQ_CREDIT_BUREAU_WEEK',\n",
      "       'AMT_REQ_CREDIT_BUREAU_MON', 'AMT_REQ_CREDIT_BUREAU_QRT',\n",
      "       'AMT_REQ_CREDIT_BUREAU_YEAR'],\n",
      "      dtype='object', length=122)\n"
     ]
    }
   ],
   "source": [
    "print(df.columns)"
   ]
  },
  {
   "cell_type": "markdown",
   "metadata": {},
   "source": [
    "**截取部分資料**"
   ]
  },
  {
   "cell_type": "code",
   "execution_count": 39,
   "metadata": {},
   "outputs": [
    {
     "name": "stdout",
     "output_type": "stream",
     "text": [
      "   SK_ID_CURR  TARGET NAME_CONTRACT_TYPE CODE_GENDER FLAG_OWN_CAR  \\\n",
      "0      100002       1         Cash loans           M            N   \n",
      "1      100003       0         Cash loans           F            N   \n",
      "2      100004       0    Revolving loans           M            Y   \n",
      "3      100006       0         Cash loans           F            N   \n",
      "4      100007       0         Cash loans           M            N   \n",
      "\n",
      "  FLAG_OWN_REALTY  CNT_CHILDREN  AMT_INCOME_TOTAL  AMT_CREDIT  AMT_ANNUITY  \\\n",
      "0               Y             0          202500.0    406597.5      24700.5   \n",
      "1               N             0          270000.0   1293502.5      35698.5   \n",
      "2               Y             0           67500.0    135000.0       6750.0   \n",
      "3               Y             0          135000.0    312682.5      29686.5   \n",
      "4               Y             0          121500.0    513000.0      21865.5   \n",
      "\n",
      "   ...  FLAG_DOCUMENT_18 FLAG_DOCUMENT_19 FLAG_DOCUMENT_20 FLAG_DOCUMENT_21  \\\n",
      "0  ...                 0                0                0                0   \n",
      "1  ...                 0                0                0                0   \n",
      "2  ...                 0                0                0                0   \n",
      "3  ...                 0                0                0                0   \n",
      "4  ...                 0                0                0                0   \n",
      "\n",
      "  AMT_REQ_CREDIT_BUREAU_HOUR AMT_REQ_CREDIT_BUREAU_DAY  \\\n",
      "0                        0.0                       0.0   \n",
      "1                        0.0                       0.0   \n",
      "2                        0.0                       0.0   \n",
      "3                        NaN                       NaN   \n",
      "4                        0.0                       0.0   \n",
      "\n",
      "   AMT_REQ_CREDIT_BUREAU_WEEK  AMT_REQ_CREDIT_BUREAU_MON  \\\n",
      "0                         0.0                        0.0   \n",
      "1                         0.0                        0.0   \n",
      "2                         0.0                        0.0   \n",
      "3                         NaN                        NaN   \n",
      "4                         0.0                        0.0   \n",
      "\n",
      "   AMT_REQ_CREDIT_BUREAU_QRT  AMT_REQ_CREDIT_BUREAU_YEAR  \n",
      "0                        0.0                         1.0  \n",
      "1                        0.0                         0.0  \n",
      "2                        0.0                         0.0  \n",
      "3                        NaN                         NaN  \n",
      "4                        0.0                         0.0  \n",
      "\n",
      "[5 rows x 122 columns]\n"
     ]
    }
   ],
   "source": [
    "print(df.head(5))"
   ]
  },
  {
   "cell_type": "code",
   "execution_count": 40,
   "metadata": {},
   "outputs": [
    {
     "name": "stdout",
     "output_type": "stream",
     "text": [
      "0         Cash loans\n",
      "1         Cash loans\n",
      "2    Revolving loans\n",
      "3         Cash loans\n",
      "4         Cash loans\n",
      "Name: NAME_CONTRACT_TYPE, dtype: object\n"
     ]
    }
   ],
   "source": [
    "print(df.NAME_CONTRACT_TYPE.head(5))"
   ]
  },
  {
   "cell_type": "code",
   "execution_count": 41,
   "metadata": {},
   "outputs": [],
   "source": [
    "some_columns = df.columns[1:7]\n",
    "tempdf = df[some_columns]\n"
   ]
  },
  {
   "cell_type": "markdown",
   "metadata": {},
   "source": [
    "**Use value count function to check  the data distrubution**"
   ]
  },
  {
   "cell_type": "code",
   "execution_count": 42,
   "metadata": {},
   "outputs": [],
   "source": [
    "def checking_value_counts(data):\n",
    "    keys = data.keys()\n",
    "    for key in keys:\n",
    "        print(\"Key:\",key)\n",
    "        print(data[key].value_counts())\n",
    "        print('-'*100)"
   ]
  },
  {
   "cell_type": "code",
   "execution_count": 23,
   "metadata": {
    "scrolled": false
   },
   "outputs": [
    {
     "name": "stdout",
     "output_type": "stream",
     "text": [
      "Key: TARGET\n",
      "0    282686\n",
      "1     24825\n",
      "Name: TARGET, dtype: int64\n",
      "----------------------------------------------------------------------------------------------------\n",
      "Key: NAME_CONTRACT_TYPE\n",
      "Cash loans         278232\n",
      "Revolving loans     29279\n",
      "Name: NAME_CONTRACT_TYPE, dtype: int64\n",
      "----------------------------------------------------------------------------------------------------\n",
      "Key: CODE_GENDER\n",
      "F      202448\n",
      "M      105059\n",
      "XNA         4\n",
      "Name: CODE_GENDER, dtype: int64\n",
      "----------------------------------------------------------------------------------------------------\n",
      "Key: FLAG_OWN_CAR\n",
      "N    202924\n",
      "Y    104587\n",
      "Name: FLAG_OWN_CAR, dtype: int64\n",
      "----------------------------------------------------------------------------------------------------\n",
      "Key: FLAG_OWN_REALTY\n",
      "Y    213312\n",
      "N     94199\n",
      "Name: FLAG_OWN_REALTY, dtype: int64\n",
      "----------------------------------------------------------------------------------------------------\n",
      "Key: CNT_CHILDREN\n",
      "0     215371\n",
      "1      61119\n",
      "2      26749\n",
      "3       3717\n",
      "4        429\n",
      "5         84\n",
      "6         21\n",
      "7          7\n",
      "14         3\n",
      "19         2\n",
      "12         2\n",
      "10         2\n",
      "9          2\n",
      "8          2\n",
      "11         1\n",
      "Name: CNT_CHILDREN, dtype: int64\n",
      "----------------------------------------------------------------------------------------------------\n"
     ]
    }
   ],
   "source": [
    "checking_value_counts(tempdf)"
   ]
  },
  {
   "cell_type": "markdown",
   "metadata": {},
   "source": [
    "**endcoding some data with numbers**"
   ]
  },
  {
   "cell_type": "code",
   "execution_count": 43,
   "metadata": {},
   "outputs": [],
   "source": [
    "\n",
    "tempdf.NAME_CONTRACT_TYPE.replace(to_replace='Cash loans', value = 0, inplace = True)\n",
    "tempdf.NAME_CONTRACT_TYPE.replace(to_replace='Revolving loans',value = 1, inplace = True)\n",
    "tempdf.CODE_GENDER.replace(to_replace='XNA',value = 'M', inplace = True)\n",
    "tempdf.CODE_GENDER.replace(to_replace='M',value = 0, inplace = True)\n",
    "tempdf.CODE_GENDER.replace(to_replace='F',value = 1, inplace = True)\n",
    "tempdf.FLAG_OWN_CAR.replace(to_replace='N',value = 0, inplace = True)\n",
    "tempdf.FLAG_OWN_CAR.replace(to_replace='Y',value = 1, inplace = True)\n",
    "tempdf.FLAG_OWN_REALTY.replace(to_replace='Y',value = 1, inplace = True)\n",
    "tempdf.FLAG_OWN_REALTY.replace(to_replace='N',value = 0, inplace = True)"
   ]
  },
  {
   "cell_type": "markdown",
   "metadata": {},
   "source": [
    "**Using histogram to visualize some data**"
   ]
  },
  {
   "cell_type": "code",
   "execution_count": 45,
   "metadata": {},
   "outputs": [],
   "source": [
    "def visDataInHist(data,columns,x,y):\n",
    "    plt.figure(figsize=(x,y))\n",
    "    for i, col in enumerate(columns):\n",
    "        plt.subplot(len(columns)/4+1,3,i+1)\n",
    "        data[col].hist()\n",
    "        plt.title(col)\n",
    "    plt.show()"
   ]
  },
  {
   "cell_type": "code",
   "execution_count": 46,
   "metadata": {},
   "outputs": [
    {
     "data": {
      "image/png": "[encoded data removed]",
      "text/plain": [
       "<Figure size 1080x720 with 6 Axes>"
      ]
     },
     "metadata": {
      "needs_background": "light"
     },
     "output_type": "display_data"
    }
   ],
   "source": [
    "visDataInHist(tempdf,tempdf.columns,15,10)"
   ]
  },
  {
   "cell_type": "code",
   "execution_count": null,
   "metadata": {},
   "outputs": [],
   "source": []
  }
 ],
 "metadata": {
  "kernelspec": {
   "display_name": "Python 3",
   "language": "python",
   "name": "python3"
  },
  "language_info": {
   "codemirror_mode": {
    "name": "ipython",
    "version": 3
   },
   "file_extension": ".py",
   "mimetype": "text/x-python",
   "name": "python",
   "nbconvert_exporter": "python",
   "pygments_lexer": "ipython3",
   "version": "3.7.3"
  }
 },
 "nbformat": 4,
 "nbformat_minor": 2
}
