{
 "cells": [
  {
   "cell_type": "markdown",
   "metadata": {},
   "source": [
    "# 課程目標\n",
    "利用Keras 的 CIFAR10 dataset 來驗證損失函數對於模型精確度的影響 <br />\n",
    "<br />\n",
    "# 範例重點:\n",
    "模型架構的層數<br />\n",
    "<br />\n",
    "使用何種LOSS function<br /><br />\n",
    "# 導入必要的libray\n"
   ]
  },
  {
   "cell_type": "code",
   "execution_count": 1,
   "metadata": {},
   "outputs": [
    {
     "name": "stderr",
     "output_type": "stream",
     "text": [
      "Using TensorFlow backend.\n"
     ]
    }
   ],
   "source": [
    "import keras\n",
    "from keras.datasets import cifar10\n",
    "import numpy as np\n",
    "\n",
    "np.random.seed(10)"
   ]
  },
  {
   "cell_type": "markdown",
   "metadata": {},
   "source": [
    "# 資料準備"
   ]
  },
  {
   "cell_type": "code",
   "execution_count": 2,
   "metadata": {},
   "outputs": [],
   "source": [
    "(x_train, y_train), (x_test, y_test) = cifar10.load_data()"
   ]
  },
  {
   "cell_type": "code",
   "execution_count": 3,
   "metadata": {},
   "outputs": [
    {
     "name": "stdout",
     "output_type": "stream",
     "text": [
      " train data : images : (50000, 32, 32, 3) , labels : (50000, 1) \n",
      " test data  : images : (10000, 32, 32, 3)  , labels : (10000, 1)  \n"
     ]
    }
   ],
   "source": [
    "print(f' train data : images : {x_train.shape} , labels : {y_train.shape} ')\n",
    "print(f' test data  : images : {x_test.shape}  , labels : {y_test.shape}  ') "
   ]
  },
  {
   "cell_type": "code",
   "execution_count": 4,
   "metadata": {},
   "outputs": [],
   "source": [
    "x_train_normalized = x_train / 255.0\n",
    "x_test_normalized = x_test / 255.0"
   ]
  },
  {
   "cell_type": "code",
   "execution_count": 5,
   "metadata": {},
   "outputs": [
    {
     "data": {
      "text/plain": [
       "(10000, 10)"
      ]
     },
     "execution_count": 5,
     "metadata": {},
     "output_type": "execute_result"
    }
   ],
   "source": [
    "from keras.utils import to_categorical\n",
    "y_train_onehot = to_categorical(y_train, 10)\n",
    "y_test_onehot = to_categorical(y_test, 10)\n",
    "y_test_onehot.shape"
   ]
  },
  {
   "cell_type": "markdown",
   "metadata": {},
   "source": [
    "# 建立模型"
   ]
  },
  {
   "cell_type": "code",
   "execution_count": 6,
   "metadata": {},
   "outputs": [],
   "source": [
    "from keras.models import Sequential\n",
    "from keras.layers import Dense, Dropout, Activation, Flatten\n",
    "from keras.layers import Conv2D, MaxPooling2D, ZeroPadding2D"
   ]
  },
  {
   "cell_type": "code",
   "execution_count": 9,
   "metadata": {},
   "outputs": [
    {
     "name": "stdout",
     "output_type": "stream",
     "text": [
      "_________________________________________________________________\n",
      "Layer (type)                 Output Shape              Param #   \n",
      "=================================================================\n",
      "conv2d_5 (Conv2D)            (None, 32, 32, 32)        896       \n",
      "_________________________________________________________________\n",
      "max_pooling2d_5 (MaxPooling2 (None, 16, 16, 32)        0         \n",
      "_________________________________________________________________\n",
      "conv2d_6 (Conv2D)            (None, 16, 16, 64)        18496     \n",
      "_________________________________________________________________\n",
      "max_pooling2d_6 (MaxPooling2 (None, 8, 8, 64)          0         \n",
      "_________________________________________________________________\n",
      "conv2d_7 (Conv2D)            (None, 8, 8, 128)         73856     \n",
      "_________________________________________________________________\n",
      "max_pooling2d_7 (MaxPooling2 (None, 4, 4, 128)         0         \n",
      "_________________________________________________________________\n",
      "conv2d_8 (Conv2D)            (None, 4, 4, 256)         295168    \n",
      "_________________________________________________________________\n",
      "max_pooling2d_8 (MaxPooling2 (None, 2, 2, 256)         0         \n",
      "_________________________________________________________________\n",
      "flatten_2 (Flatten)          (None, 1024)              0         \n",
      "_________________________________________________________________\n",
      "dense_4 (Dense)              (None, 512)               524800    \n",
      "_________________________________________________________________\n",
      "dense_5 (Dense)              (None, 512)               262656    \n",
      "_________________________________________________________________\n",
      "dense_6 (Dense)              (None, 10)                5130      \n",
      "=================================================================\n",
      "Total params: 1,181,002\n",
      "Trainable params: 1,181,002\n",
      "Non-trainable params: 0\n",
      "_________________________________________________________________\n"
     ]
    }
   ],
   "source": [
    "model = Sequential()\n",
    "\n",
    "model.add(Conv2D(filters = 32, kernel_size = (3, 3), input_shape = (32, 32, 3), \n",
    "                activation = 'relu', padding = 'same'))\n",
    "model.add(MaxPooling2D(pool_size = (2,2)))\n",
    "\n",
    "model.add(Conv2D(filters = 64, kernel_size = (3,3), activation = 'relu', padding = 'same'))\n",
    "model.add(MaxPooling2D(pool_size = (2,2) ))\n",
    "\n",
    "model.add(Conv2D(filters = 128, kernel_size = (3,3), activation = 'relu', padding = 'same'))\n",
    "model.add(MaxPooling2D(pool_size = (2,2)))\n",
    "\n",
    "model.add(Conv2D(filters = 256, kernel_size = (3,3), activation = 'relu', padding = 'same'))\n",
    "model.add(MaxPooling2D(pool_size = (2,2)))\n",
    "\n",
    "model.add(Flatten())\n",
    "model.add(Dense(512, activation = 'relu'))\n",
    "model.add(Dense(512, activation = 'relu'))\n",
    "model.add(Dense(10, activation = 'softmax'))\n",
    "\n",
    "model.summary()"
   ]
  },
  {
   "cell_type": "markdown",
   "metadata": {},
   "source": [
    "# 載入之前訓練的模型"
   ]
  },
  {
   "cell_type": "code",
   "execution_count": 10,
   "metadata": {},
   "outputs": [
    {
     "name": "stdout",
     "output_type": "stream",
     "text": [
      "loading model failed\n",
      "start train a new model\n"
     ]
    }
   ],
   "source": [
    "try:\n",
    "    model.load_weights(\"SaceModel/cifarCnnModel.h5\")\n",
    "    print(\"loading model succeeded\")\n",
    "except:\n",
    "    print(\"loading model failed\")\n",
    "    print(\"start train a new model\")"
   ]
  },
  {
   "cell_type": "markdown",
   "metadata": {},
   "source": [
    "# 訓練模型"
   ]
  },
  {
   "cell_type": "code",
   "execution_count": 7,
   "metadata": {},
   "outputs": [
    {
     "ename": "NameError",
     "evalue": "name 'model' is not defined",
     "output_type": "error",
     "traceback": [
      "\u001b[0;31m---------------------------------------------------------------------------\u001b[0m",
      "\u001b[0;31mNameError\u001b[0m                                 Traceback (most recent call last)",
      "\u001b[0;32m<ipython-input-7-0d5d1310ec83>\u001b[0m in \u001b[0;36m<module>\u001b[0;34m\u001b[0m\n\u001b[1;32m      1\u001b[0m \u001b[0;31m#Compile the model\u001b[0m\u001b[0;34m\u001b[0m\u001b[0;34m\u001b[0m\u001b[0;34m\u001b[0m\u001b[0m\n\u001b[0;32m----> 2\u001b[0;31m \u001b[0mmodel\u001b[0m\u001b[0;34m.\u001b[0m\u001b[0mcompile\u001b[0m\u001b[0;34m(\u001b[0m\u001b[0mloss\u001b[0m \u001b[0;34m=\u001b[0m \u001b[0;34m'categorical_crossentropy'\u001b[0m\u001b[0;34m,\u001b[0m \u001b[0moptimizer\u001b[0m \u001b[0;34m=\u001b[0m \u001b[0;34m'adam'\u001b[0m\u001b[0;34m,\u001b[0m \u001b[0mmetrics\u001b[0m \u001b[0;34m=\u001b[0m \u001b[0;34m[\u001b[0m\u001b[0;34m'accuracy'\u001b[0m\u001b[0;34m]\u001b[0m\u001b[0;34m)\u001b[0m\u001b[0;34m\u001b[0m\u001b[0;34m\u001b[0m\u001b[0m\n\u001b[0m",
      "\u001b[0;31mNameError\u001b[0m: name 'model' is not defined"
     ]
    }
   ],
   "source": [
    "#Compile the model\n",
    "model.compile(loss = 'categorical_crossentropy', optimizer = 'adam', metrics = ['accuracy'])"
   ]
  },
  {
   "cell_type": "code",
   "execution_count": 14,
   "metadata": {},
   "outputs": [
    {
     "name": "stdout",
     "output_type": "stream",
     "text": [
      "Train on 37500 samples, validate on 12500 samples\n",
      "Epoch 1/12\n",
      "37500/37500 [==============================] - 119s 3ms/step - loss: 1.6605 - acc: 0.3822 - val_loss: 1.3447 - val_acc: 0.5060\n",
      "Epoch 2/12\n",
      "37500/37500 [==============================] - 116s 3ms/step - loss: 1.2319 - acc: 0.5502 - val_loss: 1.1149 - val_acc: 0.6057\n",
      "Epoch 3/12\n",
      "37500/37500 [==============================] - 113s 3ms/step - loss: 1.0241 - acc: 0.6358 - val_loss: 0.9731 - val_acc: 0.6554\n",
      "Epoch 4/12\n",
      "37500/37500 [==============================] - 110s 3ms/step - loss: 0.8854 - acc: 0.6865 - val_loss: 0.8926 - val_acc: 0.6874\n",
      "Epoch 5/12\n",
      "37500/37500 [==============================] - 108s 3ms/step - loss: 0.7582 - acc: 0.7327 - val_loss: 0.8432 - val_acc: 0.7125\n",
      "Epoch 6/12\n",
      "37500/37500 [==============================] - 110s 3ms/step - loss: 0.6631 - acc: 0.7663 - val_loss: 0.8246 - val_acc: 0.7195\n",
      "Epoch 7/12\n",
      "37500/37500 [==============================] - 110s 3ms/step - loss: 0.5782 - acc: 0.7955 - val_loss: 0.8757 - val_acc: 0.7070\n",
      "Epoch 8/12\n",
      "37500/37500 [==============================] - 108s 3ms/step - loss: 0.4987 - acc: 0.8237 - val_loss: 0.8196 - val_acc: 0.7331\n",
      "Epoch 9/12\n",
      "37500/37500 [==============================] - 109s 3ms/step - loss: 0.4137 - acc: 0.8546 - val_loss: 0.8725 - val_acc: 0.7270\n",
      "Epoch 10/12\n",
      "37500/37500 [==============================] - 107s 3ms/step - loss: 0.3472 - acc: 0.8773 - val_loss: 0.8883 - val_acc: 0.7393\n",
      "Epoch 11/12\n",
      "37500/37500 [==============================] - 111s 3ms/step - loss: 0.2877 - acc: 0.8996 - val_loss: 1.0015 - val_acc: 0.7273\n",
      "Epoch 12/12\n",
      "37500/37500 [==============================] - 105s 3ms/step - loss: 0.2416 - acc: 0.9148 - val_loss: 0.9867 - val_acc: 0.7375\n"
     ]
    }
   ],
   "source": [
    "train_history = model.fit( x_train_normalized, y_train_onehot, validation_split = 0.25,\n",
    "                                     epochs = 12, batch_size = 128, verbose = 1)"
   ]
  },
  {
   "cell_type": "code",
   "execution_count": 26,
   "metadata": {},
   "outputs": [],
   "source": [
    "import matplotlib.pyplot as plt\n",
    "\n",
    "def show_train_history(train_history, train, validation):\n",
    "    plt.plot(train_history.history[train])\n",
    "    plt.plot(train_history.history[validation])\n",
    "    plt.title('train history')\n",
    "    plt.ylabel(train)\n",
    "    plt.xlabel('epochs')\n",
    "    plt.legend(['train_acc', 'val_acc'], loc = 'upper left')\n",
    "    plt.show()"
   ]
  },
  {
   "cell_type": "code",
   "execution_count": 27,
   "metadata": {},
   "outputs": [
    {
     "ename": "KeyError",
     "evalue": "'acc'",
     "output_type": "error",
     "traceback": [
      "\u001b[0;31m---------------------------------------------------------------------------\u001b[0m",
      "\u001b[0;31mKeyError\u001b[0m                                  Traceback (most recent call last)",
      "\u001b[0;32m<ipython-input-27-b044674ac52f>\u001b[0m in \u001b[0;36m<module>\u001b[0;34m\u001b[0m\n\u001b[0;32m----> 1\u001b[0;31m \u001b[0mshow_train_history\u001b[0m\u001b[0;34m(\u001b[0m\u001b[0mtrain_history\u001b[0m\u001b[0;34m,\u001b[0m \u001b[0;34m'acc'\u001b[0m\u001b[0;34m,\u001b[0m \u001b[0;34m'val_acc'\u001b[0m\u001b[0;34m)\u001b[0m\u001b[0;34m\u001b[0m\u001b[0;34m\u001b[0m\u001b[0m\n\u001b[0m",
      "\u001b[0;32m<ipython-input-26-a68c144a7547>\u001b[0m in \u001b[0;36mshow_train_history\u001b[0;34m(train_history, train, validation)\u001b[0m\n\u001b[1;32m      2\u001b[0m \u001b[0;34m\u001b[0m\u001b[0m\n\u001b[1;32m      3\u001b[0m \u001b[0;32mdef\u001b[0m \u001b[0mshow_train_history\u001b[0m\u001b[0;34m(\u001b[0m\u001b[0mtrain_history\u001b[0m\u001b[0;34m,\u001b[0m \u001b[0mtrain\u001b[0m\u001b[0;34m,\u001b[0m \u001b[0mvalidation\u001b[0m\u001b[0;34m)\u001b[0m\u001b[0;34m:\u001b[0m\u001b[0;34m\u001b[0m\u001b[0;34m\u001b[0m\u001b[0m\n\u001b[0;32m----> 4\u001b[0;31m     \u001b[0mplt\u001b[0m\u001b[0;34m.\u001b[0m\u001b[0mplot\u001b[0m\u001b[0;34m(\u001b[0m\u001b[0mtrain_history\u001b[0m\u001b[0;34m.\u001b[0m\u001b[0mhistory\u001b[0m\u001b[0;34m[\u001b[0m\u001b[0mtrain\u001b[0m\u001b[0;34m]\u001b[0m\u001b[0;34m)\u001b[0m\u001b[0;34m\u001b[0m\u001b[0;34m\u001b[0m\u001b[0m\n\u001b[0m\u001b[1;32m      5\u001b[0m     \u001b[0mplt\u001b[0m\u001b[0;34m.\u001b[0m\u001b[0mplot\u001b[0m\u001b[0;34m(\u001b[0m\u001b[0mtrain_history\u001b[0m\u001b[0;34m.\u001b[0m\u001b[0mhistory\u001b[0m\u001b[0;34m[\u001b[0m\u001b[0mvalidation\u001b[0m\u001b[0;34m]\u001b[0m\u001b[0;34m)\u001b[0m\u001b[0;34m\u001b[0m\u001b[0;34m\u001b[0m\u001b[0m\n\u001b[1;32m      6\u001b[0m     \u001b[0mplt\u001b[0m\u001b[0;34m.\u001b[0m\u001b[0mtitle\u001b[0m\u001b[0;34m(\u001b[0m\u001b[0;34m'train history'\u001b[0m\u001b[0;34m)\u001b[0m\u001b[0;34m\u001b[0m\u001b[0;34m\u001b[0m\u001b[0m\n",
      "\u001b[0;31mKeyError\u001b[0m: 'acc'"
     ]
    }
   ],
   "source": [
    "show_train_history(train_history, 'acc', 'val_acc')"
   ]
  },
  {
   "cell_type": "code",
   "execution_count": 17,
   "metadata": {},
   "outputs": [
    {
     "data": {
      "image/png": "[encoded data removed]",
      "text/plain": [
       "<Figure size 432x288 with 1 Axes>"
      ]
     },
     "metadata": {
      "needs_background": "light"
     },
     "output_type": "display_data"
    }
   ],
   "source": [
    "show_train_history(train_history, 'loss', 'val_loss')"
   ]
  },
  {
   "cell_type": "markdown",
   "metadata": {},
   "source": [
    "# 作業目標:\n",
    "1. 藉由固定的 dataset, 來驗證不同loss function <br />\n",
    "2. Dataset 的特性跟我們選用的loss function 對accrancy 的影響 <br />\n",
    "# 作業重點:\n",
    "請分別選用 \"MSE\", \"binary _crossentropy\"<br />\n",
    "查看Train/test accurancy and loss rate<br />\n",
    "導入必要的函數<br />"
   ]
  },
  {
   "cell_type": "code",
   "execution_count": 11,
   "metadata": {},
   "outputs": [
    {
     "name": "stdout",
     "output_type": "stream",
     "text": [
      "__________________________________________________________________________________________________\n",
      "Layer (type)                    Output Shape         Param #     Connected to                     \n",
      "==================================================================================================\n",
      "input_4 (InputLayer)            (None, 32, 32, 3)    0                                            \n",
      "__________________________________________________________________________________________________\n",
      "conv2d_10 (Conv2D)              (None, 32, 32, 64)   1792        input_4[0][0]                    \n",
      "__________________________________________________________________________________________________\n",
      "batch_normalization_16 (BatchNo (None, 32, 32, 64)   256         conv2d_10[0][0]                  \n",
      "__________________________________________________________________________________________________\n",
      "max_pooling2d_10 (MaxPooling2D) (None, 16, 16, 64)   0           batch_normalization_16[0][0]     \n",
      "__________________________________________________________________________________________________\n",
      "conv2d_11 (Conv2D)              (None, 16, 16, 64)   36928       max_pooling2d_10[0][0]           \n",
      "__________________________________________________________________________________________________\n",
      "batch_normalization_17 (BatchNo (None, 16, 16, 64)   256         conv2d_11[0][0]                  \n",
      "__________________________________________________________________________________________________\n",
      "max_pooling2d_11 (MaxPooling2D) (None, 8, 8, 64)     0           batch_normalization_17[0][0]     \n",
      "__________________________________________________________________________________________________\n",
      "conv2d_12 (Conv2D)              (None, 8, 8, 32)     18464       max_pooling2d_11[0][0]           \n",
      "__________________________________________________________________________________________________\n",
      "batch_normalization_18 (BatchNo (None, 8, 8, 32)     128         conv2d_12[0][0]                  \n",
      "__________________________________________________________________________________________________\n",
      "dropout_4 (Dropout)             (None, 8, 8, 32)     0           batch_normalization_18[0][0]     \n",
      "__________________________________________________________________________________________________\n",
      "max_pooling2d_12 (MaxPooling2D) (None, 4, 4, 32)     0           dropout_4[0][0]                  \n",
      "__________________________________________________________________________________________________\n",
      "flatten_4 (Flatten)             (None, 512)          0           max_pooling2d_12[0][0]           \n",
      "__________________________________________________________________________________________________\n",
      "dense_12 (Dense)                (None, 128)          65664       flatten_4[0][0]                  \n",
      "__________________________________________________________________________________________________\n",
      "batch_normalization_19 (BatchNo (None, 128)          512         dense_12[0][0]                   \n",
      "__________________________________________________________________________________________________\n",
      "dense_13 (Dense)                (None, 64)           8256        batch_normalization_19[0][0]     \n",
      "__________________________________________________________________________________________________\n",
      "batch_normalization_20 (BatchNo (None, 64)           256         dense_13[0][0]                   \n",
      "__________________________________________________________________________________________________\n",
      "dense_14 (Dense)                (None, 10)           650         batch_normalization_20[0][0]     \n",
      "__________________________________________________________________________________________________\n",
      "dense_15 (Dense)                (None, 10)           650         batch_normalization_20[0][0]     \n",
      "==================================================================================================\n",
      "Total params: 133,812\n",
      "Trainable params: 133,108\n",
      "Non-trainable params: 704\n",
      "__________________________________________________________________________________________________\n"
     ]
    }
   ],
   "source": [
    "from keras.layers import BatchNormalization\n",
    "from keras.models import Model\n",
    "from keras.layers import Input\n",
    "\n",
    "Input = Input(shape = (32,32,3), dtype = 'float32' )\n",
    "x = Conv2D(filters = 64, kernel_size = (3,3), activation = 'relu', padding = 'same')(Input)\n",
    "x = BatchNormalization()(x)\n",
    "x = MaxPooling2D(pool_size = (2,2))(x)\n",
    "x = Conv2D(filters = 64, kernel_size = (3,3), activation = 'relu', padding = 'same')(x)\n",
    "x = BatchNormalization()(x)\n",
    "x = MaxPooling2D(pool_size = (2,2))(x)\n",
    "x = Conv2D(filters = 32, kernel_size = (3,3), activation = 'relu', padding = 'same')(x)\n",
    "x = BatchNormalization()(x)\n",
    "x = Dropout(0.25)(x)\n",
    "x = MaxPooling2D(pool_size = (2,2))(x)\n",
    "x = Flatten()(x)\n",
    "x = Dense(128, activation = 'relu')(x)\n",
    "x = BatchNormalization()(x)\n",
    "x = Dense(64, activation = 'relu')(x)\n",
    "x = BatchNormalization()(x)\n",
    "Output = Dense(10, activation = 'softmax')(x)\n",
    "Output2 = Dense(10,activation = 'sigmoid')(x)\n",
    "model = Model(inputs = [Input] , outputs = [Output, Output, Output2])\n",
    "model.compile(loss = ['categorical_crossentropy','MSE','binary_crossentropy'], optimizer = 'adam', metrics = ['accuracy'])\n",
    "model.summary()"
   ]
  },
  {
   "cell_type": "code",
   "execution_count": 12,
   "metadata": {},
   "outputs": [
    {
     "name": "stdout",
     "output_type": "stream",
     "text": [
      "WARNING:tensorflow:From /Users/xiejialun/anaconda3/lib/python3.7/site-packages/tensorflow/python/ops/math_ops.py:3066: to_int32 (from tensorflow.python.ops.math_ops) is deprecated and will be removed in a future version.\n",
      "Instructions for updating:\n",
      "Use tf.cast instead.\n",
      "Train on 37500 samples, validate on 12500 samples\n",
      "Epoch 1/1\n",
      "37500/37500 [==============================] - 262s 7ms/step - loss: 2.0425 - dense_14_loss: 0.0666 - dense_15_loss: 0.4831 - dense_14_acc: 0.4677 - dense_14_acc_1: 0.4677 - dense_15_acc: 0.7762 - val_loss: 1.7065 - val_dense_14_loss: 0.0628 - val_dense_15_loss: 0.2563 - val_dense_14_acc: 0.5113 - val_dense_14_acc_1: 0.5113 - val_dense_15_acc: 0.9110\n"
     ]
    }
   ],
   "source": [
    "\n",
    "train_history = model.fit(x_train_normalized, [y_train_onehot,y_train_onehot,y_train_onehot]\n",
    "                          , validation_split = 0.25,epochs =1, batch_size = 128, verbose = 1)"
   ]
  },
  {
   "cell_type": "code",
   "execution_count": 24,
   "metadata": {},
   "outputs": [
    {
     "data": {
      "text/plain": [
       "{'val_loss': [1.9273361126708983,\n",
       "  1.2593804764556884,\n",
       "  1.334073669090271,\n",
       "  1.1774132989120483,\n",
       "  1.1979542778396606,\n",
       "  1.2485748373794556],\n",
       " 'val_dense_20_loss': [0.24487450253486634,\n",
       "  0.16660694386959077,\n",
       "  0.1739404784011841,\n",
       "  0.15508914630413057,\n",
       "  0.15897114695072173,\n",
       "  0.16534438311576843],\n",
       " 'val_dense_20_acc': [0.43672000005722045,\n",
       "  0.6299999999427796,\n",
       "  0.6183999999427795,\n",
       "  0.665199999961853,\n",
       "  0.6475200001525879,\n",
       "  0.6502400001525879],\n",
       " 'val_dense_20_acc_1': [0.43672000005722045,\n",
       "  0.6299999999427796,\n",
       "  0.6183999999427795,\n",
       "  0.665199999961853,\n",
       "  0.6475200001525879,\n",
       "  0.6502400001525879],\n",
       " 'val_dense_20_acc_2': [0.90558395986557,\n",
       "  0.9337759716224671,\n",
       "  0.9331679768562317,\n",
       "  0.9397279911804199,\n",
       "  0.9371999884605408,\n",
       "  0.9368799939155579],\n",
       " 'loss': [1.7506346235656738,\n",
       "  1.2702938290659587,\n",
       "  1.0823318678792317,\n",
       "  0.9742753837712606,\n",
       "  0.8877856535085042,\n",
       "  0.8234560880851746],\n",
       " 'dense_20_loss': [0.22349342691898347,\n",
       "  0.16809666134993234,\n",
       "  0.14519189264615376,\n",
       "  0.13164660999933878,\n",
       "  0.12078484813690185,\n",
       "  0.11258541386127471],\n",
       " 'dense_20_acc': [0.47922666668574015,\n",
       "  0.6258666666030884,\n",
       "  0.6856266666221619,\n",
       "  0.7181066667429606,\n",
       "  0.7415466666730245,\n",
       "  0.7604266666730245],\n",
       " 'dense_20_acc_1': [0.47922666668574015,\n",
       "  0.6258666666030884,\n",
       "  0.6856266666221619,\n",
       "  0.7181066667429606,\n",
       "  0.7415466666730245,\n",
       "  0.7604266666730245],\n",
       " 'dense_20_acc_2': [0.9148985950469971,\n",
       "  0.9337146293195089,\n",
       "  0.9425946413739522,\n",
       "  0.9480026529884339,\n",
       "  0.9521093211110433,\n",
       "  0.9554853297360738]}"
      ]
     },
     "execution_count": 24,
     "metadata": {},
     "output_type": "execute_result"
    }
   ],
   "source": [
    "train_history.history"
   ]
  },
  {
   "cell_type": "code",
   "execution_count": 31,
   "metadata": {},
   "outputs": [
    {
     "data": {
      "image/png": "[encoded data removed]",
      "text/plain": [
       "<Figure size 432x288 with 1 Axes>"
      ]
     },
     "metadata": {
      "needs_background": "light"
     },
     "output_type": "display_data"
    },
    {
     "data": {
      "image/png": "[encoded data removed]",
      "text/plain": [
       "<Figure size 432x288 with 1 Axes>"
      ]
     },
     "metadata": {
      "needs_background": "light"
     },
     "output_type": "display_data"
    },
    {
     "data": {
      "image/png": "[encoded data removed]",
      "text/plain": [
       "<Figure size 432x288 with 1 Axes>"
      ]
     },
     "metadata": {
      "needs_background": "light"
     },
     "output_type": "display_data"
    }
   ],
   "source": [
    "show_train_history(train_history,'dense_20_acc','val_dense_20_acc')\n",
    "show_train_history(train_history,'dense_20_acc_1','val_dense_20_acc_1')\n",
    "show_train_history(train_history,'dense_20_acc_2','val_dense_20_acc_2')"
   ]
  }
 ],
 "metadata": {
  "kernelspec": {
   "display_name": "Python 3",
   "language": "python",
   "name": "python3"
  },
  "language_info": {
   "codemirror_mode": {
    "name": "ipython",
    "version": 3
   },
   "file_extension": ".py",
   "mimetype": "text/x-python",
   "name": "python",
   "nbconvert_exporter": "python",
   "pygments_lexer": "ipython3",
   "version": "3.7.3"
  }
 },
 "nbformat": 4,
 "nbformat_minor": 2
}
