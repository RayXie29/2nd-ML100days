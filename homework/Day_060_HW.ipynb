{
 "cells": [
  {
   "cell_type": "markdown",
   "metadata": {},
   "source": [
    "# 使用手寫辨識資料集, 觀察 PCA 算法\n",
    "## [教學目標]\n",
    "以 PCA + 邏輯斯迴歸判斷手寫辨識資料集, 觀察不同 component 下正確率的變化 <br />\n",
    "因為非監督模型的效果, 較難以簡單的範例看出來 <br />\n",
    "所以非監督偶數日提供的範例與作業, 主要目的在於觀察非監督模型的效果, <br />\n",
    "同學只要能感受到模型效果即可, 不用執著於搞懂程式的每一個部分 <br />\n",
    "## [範例重點]\n",
    "以手寫辨識資料集, 觀察 PCA 算法取不同 component 時, PCA 解釋度與分類正確率如何變化 <br />"
   ]
  },
  {
   "cell_type": "code",
   "execution_count": 1,
   "metadata": {},
   "outputs": [],
   "source": [
    "import numpy as np\n",
    "import matplotlib.pyplot as plt\n",
    "import pandas as pd\n",
    "\n",
    "from sklearn import datasets\n",
    "from sklearn.decomposition import PCA\n",
    "from sklearn.linear_model import LogisticRegression, SGDClassifier\n",
    "from sklearn.pipeline import Pipeline\n",
    "from sklearn.model_selection import GridSearchCV\n",
    "import warnings\n",
    "\n",
    "warnings.filterwarnings('ignore')"
   ]
  },
  {
   "cell_type": "code",
   "execution_count": 4,
   "metadata": {},
   "outputs": [],
   "source": [
    "sgd = SGDClassifier(loss = 'log', penalty = 'l2', max_iter = 10000, tol = 1e-5, random_state = 0)\n",
    "pca = PCA()\n",
    "pipe = Pipeline(steps = [ ('pca', pca), ('sgd', sgd)])\n",
    "\n",
    "digits = datasets.load_digits()\n",
    "x = digits.data\n",
    "y = digits.target"
   ]
  },
  {
   "cell_type": "code",
   "execution_count": 8,
   "metadata": {},
   "outputs": [
    {
     "name": "stdout",
     "output_type": "stream",
     "text": [
      " Best params CV score = 0.9170293987672904\n",
      "{'pca__n_components': 40, 'sgd__alpha': 1.0}\n"
     ]
    }
   ],
   "source": [
    "param_grid = {\n",
    "    'pca__n_components' : [4, 10, 20, 30, 40, 50, 64],\n",
    "    'sgd__alpha' : np.logspace(-4,4,5)\n",
    "}\n",
    "\n",
    "search = GridSearchCV(pipe, param_grid, iid = False, cv = 5, return_train_score = False)\n",
    "search.fit(x,y)\n",
    "print(f' Best params CV score = {search.best_score_}')\n",
    "print(search.best_params_)"
   ]
  },
  {
   "cell_type": "code",
   "execution_count": 31,
   "metadata": {},
   "outputs": [
    {
     "data": {
      "image/png": "[encoded data removed]",
      "text/plain": [
       "<Figure size 432x432 with 2 Axes>"
      ]
     },
     "metadata": {
      "needs_background": "light"
     },
     "output_type": "display_data"
    }
   ],
   "source": [
    "pca.fit(x)\n",
    "\n",
    "fig, (ax0, ax1) = plt.subplots(nrows = 2, sharex = True, figsize = (6,6))\n",
    "ax0.plot(pca.explained_variance_ratio_, linewidth = 2)\n",
    "ax0.set_ylabel('PCA explained variance')\n",
    "\n",
    "ax0.axvline(search.best_estimator_.named_steps['pca'].n_components, linestyle = ':', label = 'n_components chosen')\n",
    "ax0.legend(prop = dict(size = 12))\n",
    "\n",
    "results = pd.DataFrame(search.cv_results_)\n",
    "components_col = 'param_pca__n_components'\n",
    "best_clfs = results.groupby(components_col).apply(lambda x: x.nlargest(1, 'mean_test_score'))\n",
    "best_clfs.plot(x = components_col, y = 'mean_test_score', yerr = 'std_test_score', legend = False, ax = ax1)\n",
    "ax1.set_ylabel('Classification accuracy (val)')\n",
    "ax1.set_xlabel('n_components')\n",
    "plt.tight_layout()\n",
    "plt.show()"
   ]
  },
  {
   "cell_type": "markdown",
   "metadata": {},
   "source": [
    "# 作業\n",
    "將參數 penalty 改為 L1, max_iter 改為 100, 觀察 PCA 與羅吉斯迴歸做手寫辨識的效果"
   ]
  },
  {
   "cell_type": "code",
   "execution_count": 32,
   "metadata": {},
   "outputs": [],
   "source": [
    "logistic = SGDClassifier(loss = 'log', penalty = 'l1', max_iter = 100, tol = 1e-5, random_state = 0)\n",
    "pipe = Pipeline(steps = [('pca', pca), ('logistic', logistic)])"
   ]
  },
  {
   "cell_type": "code",
   "execution_count": 33,
   "metadata": {},
   "outputs": [
    {
     "name": "stdout",
     "output_type": "stream",
     "text": [
      "Best Params : {'logistic__alpha': 1e-05, 'pca__n_components': 56}, Best Score : 0.9149089454789865\n"
     ]
    }
   ],
   "source": [
    "params =  {\n",
    "    'pca__n_components' : [4,16,24,32,36,42,56,64],\n",
    "    'logistic__alpha' : np.logspace(-5,2,5)\n",
    "}\n",
    "\n",
    "gs = GridSearchCV(pipe, params, iid = False, cv = 5, return_train_score = False)\n",
    "gs.fit(x,y)\n",
    "print(f'Best Params : {gs.best_params_}, Best Score : {gs.best_score_}')"
   ]
  },
  {
   "cell_type": "code",
   "execution_count": 35,
   "metadata": {},
   "outputs": [
    {
     "data": {
      "text/plain": [
       "Pipeline(memory=None,\n",
       "     steps=[('pca', PCA(copy=True, iterated_power='auto', n_components=56, random_state=None,\n",
       "  svd_solver='auto', tol=0.0, whiten=False)), ('logistic', SGDClassifier(alpha=1e-05, average=False, class_weight=None,\n",
       "       early_stopping=False, epsilon=0.1, eta0=0.0, fit_intercept=True,\n",
       "       l1_ratio=0.1...dom_state=0, shuffle=True, tol=1e-05,\n",
       "       validation_fraction=0.1, verbose=0, warm_start=False))])"
      ]
     },
     "execution_count": 35,
     "metadata": {},
     "output_type": "execute_result"
    }
   ],
   "source": [
    "gs.best_estimator_"
   ]
  },
  {
   "cell_type": "code",
   "execution_count": 40,
   "metadata": {},
   "outputs": [
    {
     "data": {
      "text/html": [
       "<div>\n",
       "<style scoped>\n",
       "    .dataframe tbody tr th:only-of-type {\n",
       "        vertical-align: middle;\n",
       "    }\n",
       "\n",
       "    .dataframe tbody tr th {\n",
       "        vertical-align: top;\n",
       "    }\n",
       "\n",
       "    .dataframe thead th {\n",
       "        text-align: right;\n",
       "    }\n",
       "</style>\n",
       "<table border=\"1\" class=\"dataframe\">\n",
       "  <thead>\n",
       "    <tr style=\"text-align: right;\">\n",
       "      <th></th>\n",
       "      <th>mean_fit_time</th>\n",
       "      <th>std_fit_time</th>\n",
       "      <th>mean_score_time</th>\n",
       "      <th>std_score_time</th>\n",
       "      <th>param_logistic__alpha</th>\n",
       "      <th>param_pca__n_components</th>\n",
       "      <th>params</th>\n",
       "      <th>split0_test_score</th>\n",
       "      <th>split1_test_score</th>\n",
       "      <th>split2_test_score</th>\n",
       "      <th>split3_test_score</th>\n",
       "      <th>split4_test_score</th>\n",
       "      <th>mean_test_score</th>\n",
       "      <th>std_test_score</th>\n",
       "      <th>rank_test_score</th>\n",
       "    </tr>\n",
       "  </thead>\n",
       "  <tbody>\n",
       "    <tr>\n",
       "      <th>0</th>\n",
       "      <td>0.060419</td>\n",
       "      <td>0.008049</td>\n",
       "      <td>0.000706</td>\n",
       "      <td>0.000192</td>\n",
       "      <td>1e-05</td>\n",
       "      <td>4</td>\n",
       "      <td>{'logistic__alpha': 1e-05, 'pca__n_components'...</td>\n",
       "      <td>0.739011</td>\n",
       "      <td>0.596685</td>\n",
       "      <td>0.690808</td>\n",
       "      <td>0.708683</td>\n",
       "      <td>0.721127</td>\n",
       "      <td>0.691263</td>\n",
       "      <td>0.049840</td>\n",
       "      <td>23</td>\n",
       "    </tr>\n",
       "    <tr>\n",
       "      <th>1</th>\n",
       "      <td>0.059144</td>\n",
       "      <td>0.004545</td>\n",
       "      <td>0.000875</td>\n",
       "      <td>0.000411</td>\n",
       "      <td>1e-05</td>\n",
       "      <td>16</td>\n",
       "      <td>{'logistic__alpha': 1e-05, 'pca__n_components'...</td>\n",
       "      <td>0.925824</td>\n",
       "      <td>0.823204</td>\n",
       "      <td>0.913649</td>\n",
       "      <td>0.913165</td>\n",
       "      <td>0.853521</td>\n",
       "      <td>0.885873</td>\n",
       "      <td>0.040216</td>\n",
       "      <td>19</td>\n",
       "    </tr>\n",
       "    <tr>\n",
       "      <th>2</th>\n",
       "      <td>0.077616</td>\n",
       "      <td>0.011028</td>\n",
       "      <td>0.000879</td>\n",
       "      <td>0.000280</td>\n",
       "      <td>1e-05</td>\n",
       "      <td>24</td>\n",
       "      <td>{'logistic__alpha': 1e-05, 'pca__n_components'...</td>\n",
       "      <td>0.936813</td>\n",
       "      <td>0.897790</td>\n",
       "      <td>0.922006</td>\n",
       "      <td>0.938375</td>\n",
       "      <td>0.878873</td>\n",
       "      <td>0.914771</td>\n",
       "      <td>0.023119</td>\n",
       "      <td>2</td>\n",
       "    </tr>\n",
       "    <tr>\n",
       "      <th>3</th>\n",
       "      <td>0.085758</td>\n",
       "      <td>0.009231</td>\n",
       "      <td>0.000837</td>\n",
       "      <td>0.000194</td>\n",
       "      <td>1e-05</td>\n",
       "      <td>32</td>\n",
       "      <td>{'logistic__alpha': 1e-05, 'pca__n_components'...</td>\n",
       "      <td>0.920330</td>\n",
       "      <td>0.842541</td>\n",
       "      <td>0.927577</td>\n",
       "      <td>0.938375</td>\n",
       "      <td>0.895775</td>\n",
       "      <td>0.904920</td>\n",
       "      <td>0.034190</td>\n",
       "      <td>7</td>\n",
       "    </tr>\n",
       "    <tr>\n",
       "      <th>4</th>\n",
       "      <td>0.091221</td>\n",
       "      <td>0.005226</td>\n",
       "      <td>0.000665</td>\n",
       "      <td>0.000031</td>\n",
       "      <td>1e-05</td>\n",
       "      <td>36</td>\n",
       "      <td>{'logistic__alpha': 1e-05, 'pca__n_components'...</td>\n",
       "      <td>0.931319</td>\n",
       "      <td>0.850829</td>\n",
       "      <td>0.894150</td>\n",
       "      <td>0.966387</td>\n",
       "      <td>0.892958</td>\n",
       "      <td>0.907128</td>\n",
       "      <td>0.039078</td>\n",
       "      <td>6</td>\n",
       "    </tr>\n",
       "    <tr>\n",
       "      <th>5</th>\n",
       "      <td>0.097388</td>\n",
       "      <td>0.012589</td>\n",
       "      <td>0.000812</td>\n",
       "      <td>0.000187</td>\n",
       "      <td>1e-05</td>\n",
       "      <td>42</td>\n",
       "      <td>{'logistic__alpha': 1e-05, 'pca__n_components'...</td>\n",
       "      <td>0.917582</td>\n",
       "      <td>0.864641</td>\n",
       "      <td>0.933148</td>\n",
       "      <td>0.949580</td>\n",
       "      <td>0.898592</td>\n",
       "      <td>0.912708</td>\n",
       "      <td>0.029363</td>\n",
       "      <td>3</td>\n",
       "    </tr>\n",
       "    <tr>\n",
       "      <th>6</th>\n",
       "      <td>0.117160</td>\n",
       "      <td>0.006768</td>\n",
       "      <td>0.000661</td>\n",
       "      <td>0.000031</td>\n",
       "      <td>1e-05</td>\n",
       "      <td>56</td>\n",
       "      <td>{'logistic__alpha': 1e-05, 'pca__n_components'...</td>\n",
       "      <td>0.923077</td>\n",
       "      <td>0.864641</td>\n",
       "      <td>0.938719</td>\n",
       "      <td>0.960784</td>\n",
       "      <td>0.887324</td>\n",
       "      <td>0.914909</td>\n",
       "      <td>0.034716</td>\n",
       "      <td>1</td>\n",
       "    </tr>\n",
       "    <tr>\n",
       "      <th>7</th>\n",
       "      <td>0.136330</td>\n",
       "      <td>0.013134</td>\n",
       "      <td>0.000776</td>\n",
       "      <td>0.000099</td>\n",
       "      <td>1e-05</td>\n",
       "      <td>64</td>\n",
       "      <td>{'logistic__alpha': 1e-05, 'pca__n_components'...</td>\n",
       "      <td>0.909341</td>\n",
       "      <td>0.848066</td>\n",
       "      <td>0.938719</td>\n",
       "      <td>0.952381</td>\n",
       "      <td>0.876056</td>\n",
       "      <td>0.904913</td>\n",
       "      <td>0.038678</td>\n",
       "      <td>8</td>\n",
       "    </tr>\n",
       "    <tr>\n",
       "      <th>8</th>\n",
       "      <td>0.067419</td>\n",
       "      <td>0.011050</td>\n",
       "      <td>0.000663</td>\n",
       "      <td>0.000042</td>\n",
       "      <td>0.000562341</td>\n",
       "      <td>4</td>\n",
       "      <td>{'logistic__alpha': 0.0005623413251903491, 'pc...</td>\n",
       "      <td>0.719780</td>\n",
       "      <td>0.577348</td>\n",
       "      <td>0.688022</td>\n",
       "      <td>0.700280</td>\n",
       "      <td>0.670423</td>\n",
       "      <td>0.671171</td>\n",
       "      <td>0.049593</td>\n",
       "      <td>24</td>\n",
       "    </tr>\n",
       "    <tr>\n",
       "      <th>9</th>\n",
       "      <td>0.079780</td>\n",
       "      <td>0.012432</td>\n",
       "      <td>0.000598</td>\n",
       "      <td>0.000036</td>\n",
       "      <td>0.000562341</td>\n",
       "      <td>16</td>\n",
       "      <td>{'logistic__alpha': 0.0005623413251903491, 'pc...</td>\n",
       "      <td>0.934066</td>\n",
       "      <td>0.837017</td>\n",
       "      <td>0.908078</td>\n",
       "      <td>0.935574</td>\n",
       "      <td>0.856338</td>\n",
       "      <td>0.894215</td>\n",
       "      <td>0.040490</td>\n",
       "      <td>17</td>\n",
       "    </tr>\n",
       "  </tbody>\n",
       "</table>\n",
       "</div>"
      ],
      "text/plain": [
       "   mean_fit_time  std_fit_time  mean_score_time  std_score_time  \\\n",
       "0       0.060419      0.008049         0.000706        0.000192   \n",
       "1       0.059144      0.004545         0.000875        0.000411   \n",
       "2       0.077616      0.011028         0.000879        0.000280   \n",
       "3       0.085758      0.009231         0.000837        0.000194   \n",
       "4       0.091221      0.005226         0.000665        0.000031   \n",
       "5       0.097388      0.012589         0.000812        0.000187   \n",
       "6       0.117160      0.006768         0.000661        0.000031   \n",
       "7       0.136330      0.013134         0.000776        0.000099   \n",
       "8       0.067419      0.011050         0.000663        0.000042   \n",
       "9       0.079780      0.012432         0.000598        0.000036   \n",
       "\n",
       "  param_logistic__alpha param_pca__n_components  \\\n",
       "0                 1e-05                       4   \n",
       "1                 1e-05                      16   \n",
       "2                 1e-05                      24   \n",
       "3                 1e-05                      32   \n",
       "4                 1e-05                      36   \n",
       "5                 1e-05                      42   \n",
       "6                 1e-05                      56   \n",
       "7                 1e-05                      64   \n",
       "8           0.000562341                       4   \n",
       "9           0.000562341                      16   \n",
       "\n",
       "                                              params  split0_test_score  \\\n",
       "0  {'logistic__alpha': 1e-05, 'pca__n_components'...           0.739011   \n",
       "1  {'logistic__alpha': 1e-05, 'pca__n_components'...           0.925824   \n",
       "2  {'logistic__alpha': 1e-05, 'pca__n_components'...           0.936813   \n",
       "3  {'logistic__alpha': 1e-05, 'pca__n_components'...           0.920330   \n",
       "4  {'logistic__alpha': 1e-05, 'pca__n_components'...           0.931319   \n",
       "5  {'logistic__alpha': 1e-05, 'pca__n_components'...           0.917582   \n",
       "6  {'logistic__alpha': 1e-05, 'pca__n_components'...           0.923077   \n",
       "7  {'logistic__alpha': 1e-05, 'pca__n_components'...           0.909341   \n",
       "8  {'logistic__alpha': 0.0005623413251903491, 'pc...           0.719780   \n",
       "9  {'logistic__alpha': 0.0005623413251903491, 'pc...           0.934066   \n",
       "\n",
       "   split1_test_score  split2_test_score  split3_test_score  split4_test_score  \\\n",
       "0           0.596685           0.690808           0.708683           0.721127   \n",
       "1           0.823204           0.913649           0.913165           0.853521   \n",
       "2           0.897790           0.922006           0.938375           0.878873   \n",
       "3           0.842541           0.927577           0.938375           0.895775   \n",
       "4           0.850829           0.894150           0.966387           0.892958   \n",
       "5           0.864641           0.933148           0.949580           0.898592   \n",
       "6           0.864641           0.938719           0.960784           0.887324   \n",
       "7           0.848066           0.938719           0.952381           0.876056   \n",
       "8           0.577348           0.688022           0.700280           0.670423   \n",
       "9           0.837017           0.908078           0.935574           0.856338   \n",
       "\n",
       "   mean_test_score  std_test_score  rank_test_score  \n",
       "0         0.691263        0.049840               23  \n",
       "1         0.885873        0.040216               19  \n",
       "2         0.914771        0.023119                2  \n",
       "3         0.904920        0.034190                7  \n",
       "4         0.907128        0.039078                6  \n",
       "5         0.912708        0.029363                3  \n",
       "6         0.914909        0.034716                1  \n",
       "7         0.904913        0.038678                8  \n",
       "8         0.671171        0.049593               24  \n",
       "9         0.894215        0.040490               17  "
      ]
     },
     "execution_count": 40,
     "metadata": {},
     "output_type": "execute_result"
    }
   ],
   "source": [
    "results = pd.DataFrame(gs.cv_results_)\n",
    "results.head(10)"
   ]
  },
  {
   "cell_type": "code",
   "execution_count": 45,
   "metadata": {},
   "outputs": [
    {
     "data": {
      "image/png": "[encoded data removed]",
      "text/plain": [
       "<Figure size 432x432 with 2 Axes>"
      ]
     },
     "metadata": {
      "needs_background": "light"
     },
     "output_type": "display_data"
    }
   ],
   "source": [
    "pca.fit(x)\n",
    "\n",
    "fig, (ax0, ax1) = plt.subplots(nrows = 2, sharex = True, figsize = (6,6))\n",
    "ax0.plot(pca.explained_variance_ratio_, linewidth = 2)\n",
    "ax0.set_ylabel('PCA Explained Variance')\n",
    "\n",
    "ax0.axvline(gs.best_estimator_.named_steps['pca'].n_components, linestyle = ':', label = 'best_n_components')\n",
    "ax0.legend(prop = dict(size=12))\n",
    "\n",
    "best_clfs = results.groupby('param_pca__n_components').apply(lambda x : x.nlargest(1, 'mean_test_score'))\n",
    "best_clfs.plot(x = 'param_pca__n_components', y = 'mean_test_score', yerr = 'std_test_score', legend = False, ax = ax1)\n",
    "ax1.set_xlabel('n_components')\n",
    "ax1.set_ylabel('Accuracy')\n",
    "plt.tight_layout()\n",
    "plt.show()"
   ]
  },
  {
   "cell_type": "code",
   "execution_count": null,
   "metadata": {},
   "outputs": [],
   "source": []
  }
 ],
 "metadata": {
  "kernelspec": {
   "display_name": "Python 3",
   "language": "python",
   "name": "python3"
  },
  "language_info": {
   "codemirror_mode": {
    "name": "ipython",
    "version": 3
   },
   "file_extension": ".py",
   "mimetype": "text/x-python",
   "name": "python",
   "nbconvert_exporter": "python",
   "pygments_lexer": "ipython3",
   "version": "3.7.3"
  }
 },
 "nbformat": 4,
 "nbformat_minor": 2
}
